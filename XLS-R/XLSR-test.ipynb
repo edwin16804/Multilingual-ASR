{
 "cells": [
  {
   "cell_type": "code",
   "execution_count": 1,
   "id": "b90ce0aa",
   "metadata": {},
   "outputs": [
    {
     "name": "stdout",
     "output_type": "stream",
     "text": [
      "Evaluating on 5 samples from preprocessed test dataset...\n"
     ]
    },
    {
     "name": "stderr",
     "output_type": "stream",
     "text": [
      "It is strongly recommended to pass the `sampling_rate` argument to `Wav2Vec2FeatureExtractor()`. Failing to do so can result in silent errors that might be hard to debug.\n",
      "It is strongly recommended to pass the `sampling_rate` argument to `Wav2Vec2FeatureExtractor()`. Failing to do so can result in silent errors that might be hard to debug.\n",
      "It is strongly recommended to pass the `sampling_rate` argument to `Wav2Vec2FeatureExtractor()`. Failing to do so can result in silent errors that might be hard to debug.\n"
     ]
    },
    {
     "name": "stdout",
     "output_type": "stream",
     "text": [
      "REF: जम्मू कश्मीर आतंकवादियों के ठिकानों का भंडाफोड़ विस्फोटक बरामद\n",
      "HYP: जमूकश्मे रातंक्वादियोंग के ठिकानो क बंडाफोड़ विसफोट टक बरामत\n",
      "--------------------------------------------------------------------------------\n",
      "REF: फ्लाइट में चाइल्ड आर्टिस्ट संग भारती सिंह का डांस वीडियो वायरल\n",
      "HYP: फ्लाइिट में चाहिडाय टीश्ट संन भारती सिंह का डामस ्वीडियो वायरल्\n",
      "--------------------------------------------------------------------------------\n"
     ]
    },
    {
     "name": "stderr",
     "output_type": "stream",
     "text": [
      "It is strongly recommended to pass the `sampling_rate` argument to `Wav2Vec2FeatureExtractor()`. Failing to do so can result in silent errors that might be hard to debug.\n"
     ]
    },
    {
     "name": "stdout",
     "output_type": "stream",
     "text": [
      "REF: वे कौनसे रंग के हैं\n",
      "HYP: वेक कोम से रां के है\n",
      "--------------------------------------------------------------------------------\n",
      "REF: उसका कहा हुआ एक शब्द भी सुनने लायक नहीं है\n",
      "HYP: उसका कहा हुआ एक शब्द भी सुनय लायक नही है\n",
      "--------------------------------------------------------------------------------\n"
     ]
    },
    {
     "name": "stderr",
     "output_type": "stream",
     "text": [
      "It is strongly recommended to pass the `sampling_rate` argument to `Wav2Vec2FeatureExtractor()`. Failing to do so can result in silent errors that might be hard to debug.\n"
     ]
    },
    {
     "name": "stdout",
     "output_type": "stream",
     "text": [
      "REF: ऑटो चालकों को केजरीवाल सरकार का तोहफा किराए में बढ़ोतरी को दी मंजूरी\n",
      "HYP: चालकूं को केसरीवास सरकार का तौफा कीराएम में बढ़ोत्तरी को दी मंजूरी\n",
      "--------------------------------------------------------------------------------\n",
      "\n",
      "✅ WER on 5 samples: 0.6042\n"
     ]
    }
   ],
   "source": [
    "import re\n",
    "import torch\n",
    "import evaluate\n",
    "from datasets import load_dataset, Audio\n",
    "from transformers import Wav2Vec2ForCTC, Wav2Vec2Processor\n",
    "import warnings\n",
    "warnings.filterwarnings(\"ignore\", category=UserWarning)\n",
    "\n",
    "# Load model and processor\n",
    "repo_name = \"Ed-168/wav2vec2-large-xls-r-300m-hi/checkpoint-1880\"\n",
    "model = Wav2Vec2ForCTC.from_pretrained(repo_name).to(\"cuda\")\n",
    "processor = Wav2Vec2Processor.from_pretrained(repo_name)\n",
    "\n",
    "# Load datasets (only specified number of samples)\n",
    "common_voice_test = load_dataset(\"mozilla-foundation/common_voice_16_0\", \"hi\", split=\"test\")\n",
    "NUM_TEST_SAMPLES = 750\n",
    "common_voice_test = common_voice_test.select(range(NUM_TEST_SAMPLES))\n",
    "\n",
    "# Remove irrelevant columns\n",
    "common_voice_test = common_voice_test.remove_columns(\n",
    "    [\"accent\", \"age\", \"client_id\", \"down_votes\", \"gender\", \"locale\", \"segment\", \"up_votes\", \"variant\"]\n",
    ")\n",
    "\n",
    "# Cast audio column to correct sampling rate\n",
    "common_voice_test = common_voice_test.cast_column(\"audio\", Audio(sampling_rate=16000))\n",
    "\n",
    "# Define regex to normalize text\n",
    "chars_to_ignore_regex = r\"[\\\"\\'\\(\\)\\[\\]\\{\\}\\<\\>\\—\\–\\-\\—\\—\\–\\—\\.\\,\\?\\!\\:\\;\\।\\d\\@\\#\\$\\%\\^\\&*\\+\\=_\\\\/\\|~`]+\"\n",
    "\n",
    "def normalize_text(batch):\n",
    "    text = batch[\"sentence\"]\n",
    "    text = text.lower()\n",
    "    text = re.sub(chars_to_ignore_regex, \" \", text)\n",
    "    text = re.sub(r\"\\s+\", \" \", text).strip()\n",
    "    batch[\"sentence\"] = text\n",
    "    return batch\n",
    "\n",
    "# Normalize the text in test dataset\n",
    "common_voice_test = common_voice_test.map(normalize_text)\n",
    "\n",
    "# Prepare dataset: preprocess audio and labels\n",
    "def prepare_dataset(batch):\n",
    "    audio = batch[\"audio\"]\n",
    "    batch[\"input_values\"] = processor(audio[\"array\"], sampling_rate=audio[\"sampling_rate\"]).input_values[0]\n",
    "    with processor.as_target_processor():\n",
    "        batch[\"labels\"] = processor(batch[\"sentence\"]).input_ids\n",
    "    return batch\n",
    "\n",
    "common_voice_test = common_voice_test.map(prepare_dataset)\n",
    "\n",
    "# Initialize WER metric\n",
    "wer_metric = evaluate.load(\"wer\")\n",
    "\n",
    "# Evaluate on 5 samples\n",
    "sampled_test = common_voice_test.shuffle(seed=42).select(range(5))\n",
    "\n",
    "preds = []\n",
    "refs = []\n",
    "\n",
    "model.eval()\n",
    "device = torch.device(\"cuda\" if torch.cuda.is_available() else \"cpu\")\n",
    "model.to(device)\n",
    "\n",
    "print(\"Evaluating on 5 samples from preprocessed test dataset...\")\n",
    "\n",
    "for sample in sampled_test:\n",
    "    input_dict = processor(sample[\"input_values\"], return_tensors=\"pt\", padding=True)\n",
    "    with torch.no_grad():\n",
    "        logits = model(input_dict.input_values.to(device)).logits\n",
    "    pred_ids = torch.argmax(logits, dim=-1)[0]\n",
    "    pred = processor.decode(pred_ids, skip_special_tokens=True)\n",
    "    preds.append(pred)\n",
    "    refs.append(sample[\"sentence\"])\n",
    "\n",
    "    print(f\"REF: {sample['sentence']}\\nHYP: {pred}\\n{'-'*80}\")\n",
    "\n",
    "# Compute and print WER\n",
    "wer_score = wer_metric.compute(predictions=preds, references=refs)\n",
    "print(f\"\\n✅ WER on 5 samples: {wer_score:.4f}\")\n"
   ]
  },
  {
   "cell_type": "code",
   "execution_count": 2,
   "id": "22bdb399",
   "metadata": {},
   "outputs": [
    {
     "name": "stdout",
     "output_type": "stream",
     "text": [
      "\n",
      " Transcription:\n",
      "जाने उत्ता प्रदेश में किस किसकी हैं मुस्लिम वोटों पर नजर\n"
     ]
    }
   ],
   "source": [
    "import re\n",
    "import torch\n",
    "import librosa\n",
    "from transformers import Wav2Vec2ForCTC, Wav2Vec2Processor\n",
    "\n",
    "\n",
    "repo_name = \"Ed-168/wav2vec2-large-xls-r-300m-hi/checkpoint-1880\"\n",
    "model = Wav2Vec2ForCTC.from_pretrained(repo_name).to(\"cuda\")\n",
    "processor = Wav2Vec2Processor.from_pretrained(repo_name)\n",
    "\n",
    "\n",
    "def transcribe_audio(audio_path):\n",
    "\n",
    "    speech, sr = librosa.load(audio_path, sr=16000)\n",
    "\n",
    "    # Tokenize input\n",
    "    input_values = processor(speech, sampling_rate=16000, return_tensors=\"pt\", padding=True).input_values.to(\"cuda\")\n",
    "\n",
    "    # Inference\n",
    "    with torch.no_grad():\n",
    "        logits = model(input_values).logits\n",
    "\n",
    "    # Decode\n",
    "    pred_ids = torch.argmax(logits, dim=-1)\n",
    "    transcription = processor.batch_decode(pred_ids, skip_special_tokens=True)[0]\n",
    "    return transcription\n",
    "\n",
    "\n",
    "\n",
    "audio_file = \"test_hindi_clip.wav\"  \n",
    "text = transcribe_audio(audio_file)\n",
    "print(\"\\n Transcription:\")\n",
    "print(text)\n"
   ]
  },
  {
   "cell_type": "code",
   "execution_count": 2,
   "id": "c47d2956",
   "metadata": {},
   "outputs": [
    {
     "data": {
      "text/plain": [
       "Wav2Vec2ForCTC(\n",
       "  (wav2vec2): Wav2Vec2Model(\n",
       "    (feature_extractor): Wav2Vec2FeatureEncoder(\n",
       "      (conv_layers): ModuleList(\n",
       "        (0): Wav2Vec2LayerNormConvLayer(\n",
       "          (conv): Conv1d(1, 512, kernel_size=(10,), stride=(5,))\n",
       "          (layer_norm): LayerNorm((512,), eps=1e-05, elementwise_affine=True)\n",
       "          (activation): GELUActivation()\n",
       "        )\n",
       "        (1-4): 4 x Wav2Vec2LayerNormConvLayer(\n",
       "          (conv): Conv1d(512, 512, kernel_size=(3,), stride=(2,))\n",
       "          (layer_norm): LayerNorm((512,), eps=1e-05, elementwise_affine=True)\n",
       "          (activation): GELUActivation()\n",
       "        )\n",
       "        (5-6): 2 x Wav2Vec2LayerNormConvLayer(\n",
       "          (conv): Conv1d(512, 512, kernel_size=(2,), stride=(2,))\n",
       "          (layer_norm): LayerNorm((512,), eps=1e-05, elementwise_affine=True)\n",
       "          (activation): GELUActivation()\n",
       "        )\n",
       "      )\n",
       "    )\n",
       "    (feature_projection): Wav2Vec2FeatureProjection(\n",
       "      (layer_norm): LayerNorm((512,), eps=1e-05, elementwise_affine=True)\n",
       "      (projection): Linear(in_features=512, out_features=1024, bias=True)\n",
       "      (dropout): Dropout(p=0.0, inplace=False)\n",
       "    )\n",
       "    (encoder): Wav2Vec2EncoderStableLayerNorm(\n",
       "      (pos_conv_embed): Wav2Vec2PositionalConvEmbedding(\n",
       "        (conv): ParametrizedConv1d(\n",
       "          1024, 1024, kernel_size=(128,), stride=(1,), padding=(64,), groups=16\n",
       "          (parametrizations): ModuleDict(\n",
       "            (weight): ParametrizationList(\n",
       "              (0): _WeightNorm()\n",
       "            )\n",
       "          )\n",
       "        )\n",
       "        (padding): Wav2Vec2SamePadLayer()\n",
       "        (activation): GELUActivation()\n",
       "      )\n",
       "      (layer_norm): LayerNorm((1024,), eps=1e-05, elementwise_affine=True)\n",
       "      (dropout): Dropout(p=0.0, inplace=False)\n",
       "      (layers): ModuleList(\n",
       "        (0-23): 24 x Wav2Vec2EncoderLayerStableLayerNorm(\n",
       "          (attention): Wav2Vec2Attention(\n",
       "            (k_proj): Linear(in_features=1024, out_features=1024, bias=True)\n",
       "            (v_proj): Linear(in_features=1024, out_features=1024, bias=True)\n",
       "            (q_proj): Linear(in_features=1024, out_features=1024, bias=True)\n",
       "            (out_proj): Linear(in_features=1024, out_features=1024, bias=True)\n",
       "          )\n",
       "          (dropout): Dropout(p=0.0, inplace=False)\n",
       "          (layer_norm): LayerNorm((1024,), eps=1e-05, elementwise_affine=True)\n",
       "          (feed_forward): Wav2Vec2FeedForward(\n",
       "            (intermediate_dropout): Dropout(p=0.0, inplace=False)\n",
       "            (intermediate_dense): Linear(in_features=1024, out_features=4096, bias=True)\n",
       "            (intermediate_act_fn): GELUActivation()\n",
       "            (output_dense): Linear(in_features=4096, out_features=1024, bias=True)\n",
       "            (output_dropout): Dropout(p=0.0, inplace=False)\n",
       "          )\n",
       "          (final_layer_norm): LayerNorm((1024,), eps=1e-05, elementwise_affine=True)\n",
       "        )\n",
       "      )\n",
       "    )\n",
       "  )\n",
       "  (dropout): Dropout(p=0.0, inplace=False)\n",
       "  (lm_head): Linear(in_features=1024, out_features=75, bias=True)\n",
       ")"
      ]
     },
     "execution_count": 2,
     "metadata": {},
     "output_type": "execute_result"
    }
   ],
   "source": [
    "model.eval()"
   ]
  },
  {
   "cell_type": "code",
   "execution_count": null,
   "id": "da56cc1d",
   "metadata": {},
   "outputs": [],
   "source": []
  }
 ],
 "metadata": {
  "kernelspec": {
   "display_name": ".venv",
   "language": "python",
   "name": "python3"
  },
  "language_info": {
   "codemirror_mode": {
    "name": "ipython",
    "version": 3
   },
   "file_extension": ".py",
   "mimetype": "text/x-python",
   "name": "python",
   "nbconvert_exporter": "python",
   "pygments_lexer": "ipython3",
   "version": "3.10.7"
  }
 },
 "nbformat": 4,
 "nbformat_minor": 5
}
