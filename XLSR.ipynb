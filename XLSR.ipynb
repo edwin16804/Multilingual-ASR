{
 "cells": [
  {
   "cell_type": "code",
   "execution_count": 1,
   "id": "01099233",
   "metadata": {},
   "outputs": [
    {
     "data": {
      "text/plain": [
       "True"
      ]
     },
     "execution_count": 1,
     "metadata": {},
     "output_type": "execute_result"
    }
   ],
   "source": [
    "import torch\n",
    "torch.cuda.is_available()"
   ]
  },
  {
   "cell_type": "code",
   "execution_count": 2,
   "id": "127a3786",
   "metadata": {},
   "outputs": [],
   "source": [
    "import os\n",
    "import re\n",
    "import json\n",
    "import random\n",
    "import string\n",
    "from dataclasses import dataclass\n",
    "from typing import Dict, List, Union, Optional\n",
    "\n",
    "import torch\n",
    "import torchaudio\n",
    "import librosa\n",
    "import evaluate\n",
    "from datasets import load_dataset, Audio, DatasetDict"
   ]
  },
  {
   "cell_type": "code",
   "execution_count": 3,
   "id": "63e93821",
   "metadata": {},
   "outputs": [],
   "source": [
    "# Audio parameters\n",
    "TARGET_SAMPLING_RATE = 16000\n",
    "\n",
    "# Training output dir\n",
    "OUTPUT_DIR = \"XLS-R-hi-ctc-cv16\"\n",
    "\n",
    "# Training hyperparameters (tune for your budget)\n",
    "BATCH_SIZE          = 1      \n",
    "GRAD_ACCUM          = 16     \n",
    "LEARNING_RATE       = 1e-5   # Good starting LR for ASR, tune lower if model is unstable\n",
    "NUM_TRAIN_EPOCHS    = 40\n",
    "EVAL_STRATEGY       = \"steps\"\n",
    "EVAL_STEPS          = 1000   # Evaluate less frequently to save memory\n",
    "SAVE_STEPS          = 1000   # Save less frequently to reduce disk I/O\n",
    "LOGGING_STEPS       = 50\n",
    "WARMUP_RATIO        = 0.05\n",
    "FP16                = torch.cuda.is_available()      # Enable mixed precision\n",
    "\n",
    "\n",
    "# # If you want to push to the Hub, set these:\n",
    "# PUSH_TO_HUB = True\n",
    "# HF_REPO_ID = \"Ed-168/Fine-tuned-wav2vec2-BERT-indian-languages\"  # e.g. \"username/w2vbert-hi-ctc-cv17\"\n"
   ]
  },
  {
   "cell_type": "code",
   "execution_count": 4,
   "id": "c6719a95",
   "metadata": {},
   "outputs": [
    {
     "name": "stdout",
     "output_type": "stream",
     "text": [
      "Dataset({\n",
      "    features: ['client_id', 'path', 'audio', 'sentence', 'up_votes', 'down_votes', 'age', 'gender', 'accent', 'locale', 'segment', 'variant'],\n",
      "    num_rows: 7084\n",
      "})\n",
      "Dataset({\n",
      "    features: ['client_id', 'path', 'audio', 'sentence', 'up_votes', 'down_votes', 'age', 'gender', 'accent', 'locale', 'segment', 'variant'],\n",
      "    num_rows: 3107\n",
      "})\n"
     ]
    }
   ],
   "source": [
    "from datasets import load_dataset\n",
    "\n",
    "common_voice_train = load_dataset(\"mozilla-foundation/common_voice_16_0\", \"hi\", split=\"train+validation\")\n",
    "common_voice_test = load_dataset(\"mozilla-foundation/common_voice_16_0\", \"hi\", split=\"test\")\n",
    "print(common_voice_train)\n",
    "print(common_voice_test)\n"
   ]
  },
  {
   "cell_type": "code",
   "execution_count": 5,
   "id": "efd22d16",
   "metadata": {},
   "outputs": [
    {
     "data": {
      "text/plain": [
       "7084"
      ]
     },
     "execution_count": 5,
     "metadata": {},
     "output_type": "execute_result"
    }
   ],
   "source": [
    "len(common_voice_train)"
   ]
  },
  {
   "cell_type": "code",
   "execution_count": 6,
   "id": "5b8699be",
   "metadata": {},
   "outputs": [],
   "source": [
    "# NUM_TRAIN_SAMPLES = 1000\n",
    "# NUM_TEST_SAMPLES = 500\n",
    "\n",
    "# common_voice_train = common_voice_train.select(range(NUM_TRAIN_SAMPLES))\n",
    "# common_voice_test = common_voice_test.select(range(NUM_TEST_SAMPLES))"
   ]
  },
  {
   "cell_type": "code",
   "execution_count": 7,
   "id": "278d215d",
   "metadata": {},
   "outputs": [],
   "source": [
    "\n",
    "common_voice_train = common_voice_train.remove_columns([\"accent\", \"age\", \"client_id\", \"down_votes\", \"gender\", \"locale\", \"segment\", \"up_votes\" , \"variant\"])\n",
    "common_voice_test = common_voice_test.remove_columns([\"accent\", \"age\", \"client_id\", \"down_votes\", \"gender\", \"locale\", \"segment\", \"up_votes\" , \"variant\"])"
   ]
  },
  {
   "cell_type": "code",
   "execution_count": 8,
   "id": "699c2936",
   "metadata": {},
   "outputs": [
    {
     "name": "stdout",
     "output_type": "stream",
     "text": [
      "1 हमने उसका जन्मदिन मनाया।\n",
      "2 साउथ दिल्ली नगर निगम सख्त, शॉपिंग मॉल के बाहर नहीं दिखेंगे होर्डिंग\n",
      "3 उत्तर कोरिया ने अमेरिका को दी हमले की धमकी\n",
      "4 अगले कमरे में अनेक रोमन मूर्तियाँ हैं।\n",
      "5 तुम ने टॉम को कहाँ भेज दिया?\n",
      "6 सर्दोयों के आने से दिन छोटे होते जाते हैं।\n",
      "7 मुझे और वक़्त दो।\n",
      "8 कंगना के वकील ने कहा, पुलिस ने किसी लैपटॉप की डिमांड नहीं की है\n",
      "9 क्या सवाल है!\n",
      "10 वह अच्छा राजा था।\n"
     ]
    }
   ],
   "source": [
    "def display_samples(data):\n",
    "    for i in range(10):\n",
    "        print(f\"{i+1} {data[i]['sentence']}\")\n",
    "display_samples(common_voice_train)\n"
   ]
  },
  {
   "cell_type": "code",
   "execution_count": 9,
   "id": "ffa15758",
   "metadata": {},
   "outputs": [
    {
     "name": "stdout",
     "output_type": "stream",
     "text": [
      "1 हमने उसका जन्मदिन मनाया\n",
      "2 साउथ दिल्ली नगर निगम सख्त शॉपिंग मॉल के बाहर नहीं दिखेंगे होर्डिंग\n",
      "3 उत्तर कोरिया ने अमेरिका को दी हमले की धमकी\n",
      "4 अगले कमरे में अनेक रोमन मूर्तियाँ हैं\n",
      "5 तुम ने टॉम को कहाँ भेज दिया\n",
      "6 सर्दोयों के आने से दिन छोटे होते जाते हैं\n",
      "7 मुझे और वक़्त दो\n",
      "8 कंगना के वकील ने कहा पुलिस ने किसी लैपटॉप की डिमांड नहीं की है\n",
      "9 क्या सवाल है\n",
      "10 वह अच्छा राजा था\n"
     ]
    }
   ],
   "source": [
    "import re\n",
    "\n",
    "chars_to_ignore_regex = r\"[\\\"\\'\\(\\)\\[\\]\\{\\}\\<\\>\\—\\–\\-\\—\\—\\–\\—\\.\\,\\?\\!\\:\\;\\।\\d\\@\\#\\$\\%\\^\\&\\*\\+\\=\\_\\\\\\/\\|~`]+\"\n",
    "\n",
    "def normalize_text(batch):\n",
    "    text = batch[\"sentence\"]\n",
    "    text = text.lower()\n",
    "    text = re.sub(chars_to_ignore_regex, \" \", text)\n",
    "    text = re.sub(r\"\\s+\", \" \", text).strip()\n",
    "    batch[\"sentence\"] = text\n",
    "    return batch\n",
    "\n",
    "common_voice_train = common_voice_train.map(normalize_text)\n",
    "common_voice_test = common_voice_test.map(normalize_text)\n",
    "display_samples(common_voice_train)"
   ]
  },
  {
   "cell_type": "code",
   "execution_count": 10,
   "id": "39e78fc5",
   "metadata": {},
   "outputs": [
    {
     "data": {
      "application/vnd.jupyter.widget-view+json": {
       "model_id": "733e0783a45c473cabfcc77bf2c97522",
       "version_major": 2,
       "version_minor": 0
      },
      "text/plain": [
       "Map:   0%|          | 0/7084 [00:00<?, ? examples/s]"
      ]
     },
     "metadata": {},
     "output_type": "display_data"
    },
    {
     "name": "stdout",
     "output_type": "stream",
     "text": [
      "Vocab size: 74\n",
      "Sample of vocab keys: ['ँ', 'ं', 'ः', 'अ', 'आ', 'इ', 'ई', 'उ', 'ऊ', 'ऋ', 'ए', 'ऐ', 'ऑ', 'ओ', 'औ', 'क', 'ख', 'ग', 'घ', 'च', 'छ', 'ज', 'झ', 'ञ', 'ट', 'ठ', 'ड', 'ढ', 'ण', 'त', 'थ', 'द', 'ध', 'न', 'प', 'फ', 'ब', 'भ', 'म', 'य', 'र', 'ल', 'व', 'श', 'ष', 'स', 'ह', '़', 'ा', 'ि', 'ी', 'ु', 'ू', 'ृ', 'ॅ', 'े', 'ै', 'ॉ', 'ो', 'ौ']\n",
      "Saved vocab to: XLS-R-hi-ctc-cv16\\vocab.json\n"
     ]
    }
   ],
   "source": [
    "import os\n",
    "import json\n",
    "\n",
    "def extract_all_chars(batch):\n",
    "    all_text = \" \".join(batch[\"sentence\"])\n",
    "    return {\"all_text\": [all_text]}\n",
    "\n",
    "vocabs = common_voice_train.map(\n",
    "    extract_all_chars, batched=True, batch_size=-1, remove_columns=common_voice_train.column_names\n",
    ")\n",
    "all_text = \" \".join(vocabs[\"all_text\"])\n",
    "vocab_list = sorted(list(set(list(all_text))))\n",
    "\n",
    "# Remove the space from the set; we'll add a dedicated word_delimiter_token later.\n",
    "if \" \" in vocab_list:\n",
    "    vocab_list.remove(\" \")\n",
    "\n",
    "# Remove English letters (latin script)\n",
    "vocab_list = [c for c in vocab_list if not (c >= 'a' and c <= 'z') and not (c >= 'A' and c <= 'Z')]\n",
    "\n",
    "# Build vocab dict\n",
    "vocab_dict = {v: k for k, v in enumerate(vocab_list)}\n",
    "vocab_dict[\"|\"] = len(vocab_dict)  # word delimiter\n",
    "vocab_dict[\"[UNK]\"] = len(vocab_dict)\n",
    "vocab_dict[\"[PAD]\"] = len(vocab_dict)\n",
    "\n",
    "print(\"Vocab size:\", len(vocab_dict))\n",
    "print(\"Sample of vocab keys:\", list(vocab_dict.keys())[:60])\n",
    "\n",
    "# Save vocab to disk\n",
    "os.makedirs(OUTPUT_DIR, exist_ok=True)\n",
    "vocab_path = os.path.join(OUTPUT_DIR, \"vocab.json\")\n",
    "with open(vocab_path, \"w\", encoding=\"utf-8\") as f:\n",
    "    json.dump(vocab_dict, f, ensure_ascii=False, indent=2)\n",
    "print(\"Saved vocab to:\", vocab_path)\n"
   ]
  },
  {
   "cell_type": "code",
   "execution_count": 11,
   "id": "dd66d29e",
   "metadata": {},
   "outputs": [],
   "source": [
    "from transformers import Wav2Vec2CTCTokenizer\n",
    "tokenizer = Wav2Vec2CTCTokenizer.from_pretrained(\n",
    "    \"XLS-R-hi-ctc-cv16\",\n",
    "    unk_token=\"[UNK]\",\n",
    "    pad_token=\"[PAD]\",\n",
    "    word_delimiter_token=\"|\"\n",
    ")\n"
   ]
  },
  {
   "cell_type": "code",
   "execution_count": 12,
   "id": "6be92d72",
   "metadata": {},
   "outputs": [],
   "source": [
    "from transformers import Wav2Vec2FeatureExtractor\n",
    "\n",
    "feature_extractor = Wav2Vec2FeatureExtractor(feature_size=1, sampling_rate=16000, padding_value=0.0, do_normalize=True, return_attention_mask=True)\n"
   ]
  },
  {
   "cell_type": "code",
   "execution_count": 13,
   "id": "957605df",
   "metadata": {},
   "outputs": [],
   "source": [
    "from transformers import Wav2Vec2Processor\n",
    "\n",
    "processor = Wav2Vec2Processor(feature_extractor=feature_extractor, tokenizer=tokenizer)\n"
   ]
  },
  {
   "cell_type": "code",
   "execution_count": 14,
   "id": "ecd15333",
   "metadata": {},
   "outputs": [
    {
     "name": "stdout",
     "output_type": "stream",
     "text": [
      "{'path': 'C:\\\\Users\\\\EDWIN\\\\.cache\\\\huggingface\\\\datasets\\\\downloads\\\\extracted\\\\2c6cd998a8800b56f2fb15d7259927dbca1bd0fa2f05133309cf0f10257b5443\\\\hi_train_0/common_voice_hi_26008353.mp3', 'array': array([ 5.98479599e-17,  3.12250226e-17, -1.04083409e-17, ...,\n",
      "       -1.31181878e-07,  2.62807589e-07,  4.76284185e-08]), 'sampling_rate': 16000}\n"
     ]
    }
   ],
   "source": [
    "\n",
    "common_voice_train = common_voice_train.cast_column(\"audio\", Audio(sampling_rate=16_000))\n",
    "common_voice_test = common_voice_test.cast_column(\"audio\", Audio(sampling_rate=16_000))\n",
    "print(common_voice_train[0][\"audio\"])"
   ]
  },
  {
   "cell_type": "code",
   "execution_count": 15,
   "id": "fddec894",
   "metadata": {},
   "outputs": [
    {
     "name": "stdout",
     "output_type": "stream",
     "text": [
      "उसने बेकार में उसको खुश करने की कोशिश की\n"
     ]
    },
    {
     "data": {
      "text/html": [
       "\n",
       "                <audio  controls=\"controls\" autoplay=\"autoplay\">\n",
       "                    <source src=\"data:audio/wav;base64,UklGRiRxAQBXQVZFZm10IBAAAAABAAEAgD4AAAB9AAACABAAZGF0YQBxAQAAAAAAAAAAAAAAAAAAAAAAAAAAAAAAAAAAAAAAAAAAAAAAAAAAAAAAAAAAAAAAAAAAAAAAAAAAAAAAAAAAAAAAAAAAAAAAAAAAAAAAAAAAAAAAAAAAAAAAAAAAAAAAAAAAAAAAAAAAAAAAAAAAAAAAAAAAAAAAAAAAAAAAAAAAAAAAAAAAAAAAAAAAAAAAAAAAAAAAAAAAAAAAAAAAAAAAAAAAAAAAAAAAAAAAAAAAAAAAAAAAAAAAAAAAAAAAAAAAAAAAAAAAAAAAAAAAAAAAAAAAAAAAAAAAAAAAAAAAAAAAAAAAAAAAAAAAAAAAAAAAAAAAAAAAAAAAAAAAAAAAAAAAAAAAAAAAAAAAAAAAAAAAAAAAAAAAAAAAAAAAAAAAAAAAAAAAAAAAAAAAAAAAAAAAAAAAAAAAAAAAAAAAAAAAAAAAAAAAAAAAAAAAAAAAAAAAAAAAAAAAAAAAAAAAAAAAAAAAAAAAAAAAAAAAAAAAAAAAAAAAAAAAAAAAAAAAAAAAAAAAAAAAAAAAAAAAAAAAAAAAAAAAAAAAAAAAAAAAAAAAAAAAAAAAAAAAAAAAAAAAAAAAAAAAAAAAAAAAAAAAAAAAAAAAAAAAAAAAAAAAAAAAAAAAAAAAAAAAAAAAAAAAAAAAAAAAAAAAAAAAAAAAAAAAAAAAAAAAAAAAAAAAAAAAAAAAAAAAAAAAAAAAAAAAAAAAAAAAAAAAAAAAAAAAAAAAAAAAAAAAAAAAAAAAAAAAAAAAAAAAAAAAAAAAAAAAAAAAAAAAAAAAAAAAAAAAAAAAAAAAAAAAAAAAAAAAAAAAAAAAAAAAAAAAAAAAAAAAAAAAAAAAAAAAAAAAAAAAAAAAAAAAAAAAAAAAAAAAAAAAAAAAAAAAAAAAAAAAAAAAAAAAAAAAAAAAAAAAAAAAAAAAAAAAAAAAAAAAAAAAAAAAAAAAAAAAAAAAAAAAAAAAAAAAAAAAAAAAAAAAAAAAAAAAAAAAAAAAAAAAAAAAAAAAAAAAAAAAAAAAAAAAAAAAAAAAAAAAAAAAAAAAAAAAAAAAAAAAAAAAAAAAAAAAAAAAAAAAAAAAAAAAAAAAAAAAAAAAAAAAAAAAAAAAAAAAAAAAAAAAAAAAAAAAAAAAAAAAAAAAAAAAAAAAAAAAAAAAAAAAAAAAAAAAAAAAAAAAAAAAAAAAAAAAAAAAAAAAAAAAAAAAAAAAAAAAAAAAAAAAAAAAAAAAAAAAAAAAAAAAAAAAAAAAAAAAAAAAAAAAAAAAAAAAAAAAAAAAAAAAAAAAAAAAAAAAAAAAAAAAAAAAAAAAAAAAAAAAAAAAAAAAAAAAAAAAAAAAAAAAAAAAAAAAAAAAAAAAAAAAAAAAAAAAAAAAAAAAAAAAAAAAAAAAAAAAAAAAAAAAAAAAAAAAAAAAAAAAAAAAAAAAAAAAAAAAAAAAAAAAAAAAAAAAAAAAAAAAAAAAAAAAAAAAAAAAAAAAAAAAAAAAAAAAAAAAAAAAAAAAAAAAAAAAAAAAAAAAAAAAAAAAAAAAAAAAAAAAAAAAAAAAAAAAAAAAAAAAAAAAAAAAAAAAAAAAAAAAAAAAAAAAAAAAAAAAAAAAAAAAAAAAAAAAAAAAAAAAAAAAAAAAAAAAAAAAAAAAAAAAAAAAAAAAAAAAAAAAAAAAAAAAAAAAAAAAAAAAAAAAAAAAAAAAAAAAAAAAAAAAAAAAAAAAAAAAAAAAAAAAAAAAAAAAAAAAAAAAAAAAAAAAAAAAAAAAAAAAAAAAAAAAAAAAAAAAAAAAAAAAAAAAAAAAAAAAAAAAAAAAAAAAAAAAAAAAAAAAAAAAAAAAAAAAAAAAAAAAAAAAAAAAAAAAAAAAAAAAAAAAAAAAAAAAAAAAAAAAAAAAAAAAAAAAAAAAAAAAAAAAAAAAAAAAAAAAAAAAAAAAAAAAAAAAAAAAAAAAAAAAAAAAAAAAAAAAAAAAAAAAAAAAAAAAAAAAAAAAAAAAAAAAAAAAAAAAAAAAAAAAAAAAAAAAAAAAAAAAAAAAAAAAAAAAAAAAAAAAAAAAAAAAAAAAAAAAAAAAAAAAAAAAAAAAAAAAAAAAAAAAAAAAAAAAAAAAAAAAAAAAAAAAAAAAAAAAAAAAAAAAAAAAAAAAAAAAAAAAAAAAAAAAAAAAAAAAAAAAAAAAAAAAAAAAAAAAAAAAAAAAAAAAAAAAAAAAAAAAAAAAAAAAAAAAAAAAAAAAAAAAAAAAAAAAAAAAAAAAAAAAAAAAAAAAAAAAAAAAAAAAAAAAAAAAAAAAAAAAAAAAAAAAAAAAAAAAAAAAAAAAAAAAAAAAAAAAAAAAAAAAAAAAAAAAAAAAAAAAAAAAAAAAAAAAAAAAAAAAAAAAAAAAAAAAAAAAAAAAAAAAAAAAAAAAAAAAAAAAAAAAAAAAAAAAAAAAAAAAAAAAAAAAAAAAAAAAAAAAAAAAAAAAAAAAAAAAAAAAAAAAAAAAAAAAAAAAAAAAAAAAAAAAAAAAAAAAAAAAAAAAAAAAAAAAAAAAAAAAAAAAAAAAAAAAAAAAAAAAAAAAAAAAAAAAAAAAAAAAAAAAAAAAAAAAAAAAAAAAAAAAAAAAAAAAAAAAAAAAAAAAAAAAAAAAAAAAAAAAAAAAAAAAAAAAAAAAAAAAAAAAAAAAAAAAAAAAAAAAAAAAAAAAAAAAAAAAAAAAAAAAAAAAAAAAAAAAAAAAAAAAAAAAAAAAAAAAAAAAAAAAAAAAAAAAAAAAAAAAAAAAAAAAAAAAAAAAAAAAAAAAAAAAAAAAAAAAAAAAAAAAAAAAAAAAAAAAAAAAAAAAAAAAAAAAAAAAAAAAAAAAAAAAAAAAAAAAAAAAAAAAAAAAAAAAAAAAAAAAAAAAAAAAAAAAAAAAAAAAAAAAAAAAAAAAAAAAAAAAAAAAAAAAAAAAAAAAAAAAAAAAAAAAAAAAAAAAAAAAAAAAAAAAAAAAAAAAAAAAAAAAAAAAAAAAAAAAAAAAAAAAAAAAAAAAAAAAAAAAAAAAAAAAAAAAAAAAAAAAAAAAAAAAAAAAAAAAAAAAAAAAAAAAAAAAAAAAAAAAAAAAAAAAAAAAAAAAAAAAAAAAAAAAAAAAAAAAAAAAAAAAAAAAAAAAAAAAAAAAAAAAAAAAAAAAAAAAAAAAAAAAAAAAAAAAAAAAAAAAAAAAAAAAAAAAAAAAAAAAAAAAAAAAAAAAAAAAAAAAAAAAAAAAAAAAAAAAAAAAAAAAAAAAAAAAAAAAAAAAAAAAAAAAAAAAAAAAAAAAAAAAAAAAAAAAAAAAAAAAAAAAAAAAAAAAAAAAAAAAAAAAAAAAAAAAAAAAAAAAAAAAAAAAAAAAAAAAAAAAAAAAAAAAAAAAAAAAAAAAAAAAAAAAAAAAAAAAAAAAAAAAAAAAAAAAAAAAAAAAAAAAAAAAAAAAAAAAAAAAAAAAAAAAAAAAAAAAAAAAAAAAAAAAAAAAAAAAAAAAAAAAAAAAAAAAAAAAAAAAAAAAAAAAAAAAAAAAAAAAAAAAAAAAAAAAAAAAAAAAAAAAAAAAAAAAAAAAAAAAAAAAAAAAAAAAAAAAAAAAAAAAAAAAAAAAAAAAAAAAAAAAAAAAAAAAAAAAAAAAAAAAAAAAAAAAAAAAAAAAAAAAAAAAAAAAAAAAAAAAAAAAAAAAAAAAAAAAAAAAAAAAAAAAAAAAAAAAAAAAAAAAAAAAAAAAAAAAAAAAAAAAAAAAAAAAAAAAAAAAAAAAAAAAAAAAAAAAAAAAAAAAAAAAAAAAAAAAAAAAAAAAAAAAAAAAAAAAAAAAAAAAAAAAAAAAAAAAAAAAAAAAAAAAAAAAAAAAAAAAAAAAAAAAAAAAAAAAAAAAAAAAAAAAAAAAAAAAAAAAAAAAAAAAAAAAAAAAAAAAAAAAAAAAAAAAAAAAAAAAAAAAAAAAAAAAAAAAAAAAAAAAAAAAAAAAAAAAAAAAAAAAAAAAAAAAAAAAAAAAAAAAAAAAAAAAAAAAAAAAAAAAAAAAAAAAAAAAAAAAAAAAAAAAAAAAAAAAAAAAAAAAAAAAAAAAAAAAAAAAAAAAAAAAAAAAAAAAAAAAAAAAAAAAAAAAAAAAAAAAAAAAAAAAAAAAAAAAAAAAAAAAAAAAAAAAAAAAAAAAAAAAAAAAAAAAAAAAAAAAAAAAAAAAAAAAAAAAAAAAAAAAAAAAAAAAAAAAAAAAAAAAAAAAAAAAAAAAAAAAAAAAAAAAAAAAAAAAAAAAAAAAAAAAAAAAAAAAAAAAAAAAAAAAAAAAAAAAAAAAAAAAAAAAAAAAAAAAAAAAAAAAAAAAAAAAAAAAAAAAAAAAAAAAAAAAAAAAAAAAAAAAAAAAAAAAAAAAAAAAAAAAAAAAAAAAAAAAAAAAAAAAAAAAAAAAAAAAAAAAAAAAAAAAAAAAAAAAAAAAAAAAAAAAAAAAAAAAAAAAAAAAAAAAAAAAAAAAAAAAAAAAAAAAAAAAAAAAAAAAAAAAAAAAAAAAAAAAAAAAAAAAAAAAAAAAAAAAAAAAAAAAAAAAAAAAAAAAAAAAAAAAAAAAAAAAAAAAAAAAAAAAAAAAAAAAAAAAAAAAAAAAAAAAAAAAAAAAAAAAAAAAAAAAAAAAAAAAAAAAAAAAAAAAAAAAAAAAAAAAAAAAAAAAAAAAAAAAAAAAAAAAAAAAAAAAAAAAAAAAAAAAAAAAAAAAAAAAAAAAAAAAAAAAAAAAAAAAAAAAAAAAAAAAAAAAAAAAAAAAAAAAAAAAAAAAAAAAAAAAAAAAAAAAAAAAAAAAAAAAAAAAAAAAAAAAAAAAAAAAAAAAAAAAAAAAAAAAAAAAAAAAAAAAAAAAAAAAAAAAAAAAAAAAAAAAAAAAAAAAAAAAAAAAAAAAAAAAAAAAAAAAAAAAAAAAAAAAAAAAAAAAAAAAAAAAAAAAAAAAAAAAAAAAAAAAAAAAAAAAAAAAAAAAAAAAAAAAAAAAAAAAAAAAAAAAAAAAAAAAAAAAAAAAAAAAAAAAAAAAAAAAAAAAAAAAAAAAAAAAAAAAAAAAAAAAAAAAAAAAAAAAAAAAAAAAAAAAAAAAAAAAAAAAAAAAAAAAAAAAAAAAAAAAAAAAAAAAAAAAAAAAAAAAAAAAAAAAAAAAAAAAAAAAAAAAAAAAAAAAAAAAAAAAAAAAAAAAAAAAAAAAAAAAAAAAAAAAAAAAAAAAAAAAAAAAAAAAAAAAAAAAAAAAAAAAAAAAAAAAAAAAAAAAAAAAAAAAAAAAAAAAAAAAAAAAAAAAAAAAAAAAAAAAAAAAAAAAAAAAAAAAAAAAAAAAAAAAAAAAAAAAAAAAAAAAAAAAAAAAAAAAAAAAAAAAAAAAAAAAAAAAAAAAAAAAAAAAAAAAAAAAAAAAAAAAAAAAAAAAAAAAAAAAAAAAAAAAAAAAAAAAAAAAAAAAAAAAAAAAAAAAAAAAAAAAAAAAAAAAAAAAAAAAAAAAAAAAAAAAAAAAAAAAAAAAAAAAAAAAAAAAAAAAAAAAAAAAAAAAAAAAAAAAAAAAAAAAAAAAAAAAAAAAAAAAAAAAAAAAAAAAAAAAAAAAAAAAAAAAAAAAAAAAAAAAAAAAAAAAAAAAAAAAAAAAAAAAAAAAAAAAAAAAAAAAAAAAAAAAAAAAAAAAAAAAAAAAAAAAAAAAAAAAAAAAAAAAAAAAAAAAAAAAAAAAAAAAAAAAAAAAAAAAAAAAAAAAAAAAAAAAAAAAAAAAAAAAAAAAAAAAAAAAAAAAAAAAAAAAAAAAAAAAAAAAAAAAAAAAAAAAAAAAAAAAAAAAAAAAAAAAAAAAAAAAAAAAAAAAAAAAAAAAAAAAAAAAAAAAAAAAAAAAAAAAAAAAAAAAAAAAAAAAAAAAAAAAAAAAAAAAAAAAAAAAAAAAAAAAAAAAAAAAAAAAAAAAAAAAAAAAAAAAAAAAAAAAAAAAAAAAAAAAAAAAAAAAAAAAAAAAAAAAAAAAAAAAAAAAAAAAAAAAAAAAAAAAAAAAAAAAAAAAAAAAAAAAAAAAAAAAAAAAAAAAAAAAAAAAAAAAAAAAAAAAAAAAAAAAAAAAAAAAAAAAAAAAAAAAAAAAAAAAAAAAAAAAAAAAAAAAAAAAAAAAAAAAAAAAAAAAAAAAAAAAAAAAAAAAAAAAAAAAAAAAAAAAAAAAAAAAAAAAAAAAAAAAAAAAAAAAAAAAAAAAAAAAAAAAAAAAAAAAAAAAAAAAAAAAAAAAAAAAAAAAAAAAAAAAAAAAAAAAAAAAAAAAAAAAAAAAAAAAAAAAAAAAAAAAAAAAAAAAAAAAAAAAAAAAAAAAAAAAAAAAAAAAAAAAAAAAAAAAAAAAAAAAAAAAAAAAAAAAAAAAAAAAAAAAAAAAAAAAAAAAAAAAAAAAAAAAAAAAAAAAAAAAAAAAAAAAAAAAAAAAAAAAAAAAAAAAAAAAAAAAAAAAAAAAAAAAAAAAAAAAAAAAAAAAAAAAAAAAAAAAAAAAAAAAAAAAAAAAAAAAAAAAAAAAAAAAAAAAAAAAAAAAAAAAAAAAAAAAAAAAAAAAAAAAAAAAAAAAAAAAAAAAAAAAAAAAAAAAAAAAAAAAAAAAAAAAAAAAAAAAAAAAAAAAAAAAAAAAAAAAAAAAAAAAAAAAAAAAAAAAAAAAAAAAAAAAAAAAAAAAAAAAAAAAAAAAAAAAAAAAAAAAAAAAAAAAAAAAAAAAAAAAAAAAAAAAAAAAAAAAAAAAAAAAAAAAAAAAAAAAAAAAAAAAAAAAAAAAAAAAAAAAAAAAAAAAAAAAAAAAAAAAAAAAAAAAAAAAAAAAAAAAAAAAAAAAAAAAAAAAAAAAAAAAAAAAAAAAAAAAAAAAAAAAAAAAAAAAAAAAAAAAAAAAAAAAAAAAAAAAAAAAAAAAAAAAAAAAAAAAAAAAAAAAAAAAAAAAAAAAAAAAAAAAAAAAAAAAAAAAAAAAAAAAAAAAAAAAAAAAAAAAAAAAAAAAAAAAAAAAAAAAAAAAAAAAAAAAAAAAAAAAAAAAAAAAAAAAAAAAAAAAAAAAAAAAAAAAAAAAAAAAAAAAAAAAAAAAAAAAAAAAAAAAAAAAAAAAAAAAAAAAAAAAAAAAAAAAAAAAAAAAAAAAAAAAAAAAAAAAAAAAAAAAAAAAAAAAAAAAAAAAAAAAAAAAAAAAAAAAAAAAAAAAAAAAAAAAAAAAAAAAAAAAAAAAAAAAAAAAAAAAAAAAAAAAAAAAAAAAAAAAAAAAAAAAAAAAAAAAAAAAAAAAAAAAAAAAAAAAAAAAAAAAAAAAAAAAAAAAAAAAAAAAAAAAAAAAAAAAAAAAAAAAAAAAAAAAAAAAAAAAAAAAAAAAAAAAAAAAAAAAAAAAAAAAAAAAAAAAAAAAAAAAAAAAAAAAAAAAAAAAAAAAAAAAAAAAAAAAAAAAAAAAAAAAAAAAAAAAAAAAAAAAAAAAAAAAAAAAAAAAAAAAAAAAAAAAAAAAAAAAAAAAAAAAAAAAAAAAAAAAAAAAAAAAAAAAAAAAAAAAAAAAAAAAAAAAAAAAAAAAAAAAAAAAAAAAAAAAAAAAAAAAAAAAAAAAAAAAAAAAAAAAAAAAAAAAAAAAAAAAAAAAAAAAAAAAAAAAAAAAAAAAAAAAAAAAAAAAAAAAAAAAAAAAAAAAAAAAAAAAAAAAAAAAAAAAAAAAAAAAAAAAAAAAAAAAAAAAAAAAAAAAAAAAAAAAAAAAAAAAAAAAAAAAAAAAAAAAAAAAAAAAAAAAAAAAAAAAAAAAAAAAAAAAAAAAAAAAAAAAAAAAAAAAAAAAAAAAAAAAAAAAAAAAAAAAAAAAAAAAAAAAAAAAAAAAAAAAAAAAAAAAAAAAAAAAAAAAAAAAAAAAAAAAAAAAAAAAAAAAAAAAAAAAAAAAAAAAAAAAAAAAAAAAAAAAAAAAAAAAAAAAAAAAAAAAAAAAAAAAAAAAAAAAAAAAAAAAAAAAAAAAAAAAAAAAAAAAAAAAAAAAAAAAAAAAAAAAAAAAAAAAAAAAAAAAAAAAAAAAAAAAAAAAAAAAAAAAAAAAAAAAAAAAAAAAAAAAAAAAAAAAAAAAAAAAAAAAAAAAAAAAAAAAAAAAAAAAAAAAAAAAAAAAAAAAAAAAAAAAAAAAAAAAAAAAAAAAAAAAAAAAAAAAAAAAAAAAAAAAAAAAAAAAAAAAAAAAAAAAAAAAAAAAAAAAAAAAAAAAAAAAAAAAAAAAAAAAAAAAAAAAAAAAAAAAAAAAAAAAAAAAAAAAAAAAAAAAAAAAAAAAAAAAAAAAAAAAAAAAAAAAAAAAAAAAAAAAAAAAAAAAAAAAAAAAAAAAAAAAAAAAAAAAAAAAAAAAAAAAAAAAAAAAAAAAAAAAAAAAAAAAAAAAAAAAAAAAAAAAAAAAAAAAAAAAAAAAAAAAAAAAAAAAAAAAAAAAAAAAAAAAAAAAAAAAAAAAAAAAAAAAAAAAAAAAAAAAAAAAAAAAAAAAAAAAAAAAAAAAAAAAAAAAAAAAAAAAAAAAAAAAAAAAAAAAAAAAAAAAAAAAAAAAAAAAAAAAAAAAAAAAAAAAAAAAAAAAAAAAAAAAAAAAAAAAAAAAAAAAAAAAAAAAAAAAAAAAAAAAAAAAAAAAAAAAAAAAAAAAAAAAAAAAAAAAAAAAAAAAAAAAAAAAAAAAAAAAAAAAAAAAAAAAAAAAAAAAAAAAAAAAAAAAAAAAAAAAAAAAAAAAAAAAAP//AAAAAAAAAAAAAAAAAAAAAAAAAAAAAAAA/////wAAAAAAAAAAAAD///////8AAAAAAAABAAAAAAAAAAAAAQAAAAAAAAD/////AAAAAAEAAAAAAAAAAAAAAAAAAAABAAAAAAABAAAA///9//7/AAAAAAAAAQD9/wAAAQD//////P////7//v8BAP//AAAAAAAA/P8AAAAAAgADAAAABgABAAEAAAAAAP//AAACAAAA//8BAAIA//8AAP//AQD//wAAAAAAAP//+/8BAAEAAAD//wIAAgACAAEA/v/9/wIAAQD9/wsABAAJAAMAAQAGAAQAAAD//w4ABgAGAAUABgAGAAsADAANABQACwABAAcADgAEAP///v8AAAAA///2/wgACAAOAAAA/v8FAA0A+v/y//7////8/+3/4f/Z/+T/3//k/9f/7f/o//7/7f8TAP3/EAAAAAsA+f8NAB0AHgAbABgAIAALADUA9v8mANr/NwCO/7UA4ftO9wH51vi3+b75J/pY+gT7VvuK+8b79Ptl/JL8qfzM/Cb9Zf2V/cj9+f3z/eH9tf3Q/dH96/34/fb95/3i/cT9nP1y/Vj9T/1c/Xb9gP2X/Zr9sv29/aj9sv2l/Z/9nv2O/Y/9kP2H/V/9bP1q/YP9qv2t/b79sP28/b/9m/2i/cT92f0H/gD+6v3M/a390v3S/dD9wv2y/cT9x/2t/ZD9j/13/YD9l/2n/b79q/20/cT9xP3A/bH9t/3M/b79ov2q/Zb9gP18/V39Rf0//Qv9K/1V/U/9Z/1p/Zn9g/1t/Wv9Zf2A/X79jv2b/Yv9jP2X/Yn9m/2r/Y79gf1n/ZL9vf2p/ZX9jv2V/Wz9av1z/XT9hf2Y/Zb9lv1+/Zn9gv0q/QH97vz6/PH8Bv1A/U39CP3G/NP89Pzx/Pr8uvyE/J78yvzS/L78qvzu/OT8f/x+/Hr8aPxo/EH8fvx1/B38FPww/Hz8Qfwm/AL8GPxM/HT8XfxV/HT8afx0/E78Nvwv/Ff8Zvx3/HT8HPzY+9v7zPvJ+7L7n/u5+8b7qvt/+4X7xfvW+7v7yPvJ+9n71Pvw+xD8C/ze+8H73vsK/AT8zvu2+5n7nfuV+5r7l/uY+4n7Yvsw+xn7TftL+zT7GPv6+uz67frX+uH6Fvsh+xX7Ffsp+0/7avt5+3P7b/t1+1H7VftI+zP7IPsa+yz7N/tg+2T7TPsn+0H7SvtE+2X7Zvtb+0r7NPsm+1j7dPtU+1D7Pfs6+0f7H/sG+/f6DPsZ+wr7FfsA+wn7Cvvs+t363PrR+uT66vrx+vb6xvq1+r760frZ+sL6mvqS+lr6dfq1+uL6F/ss+//6wfr9+hr76vrv+hn7J/sl+wT7BvsL+/j6A/v6+vL6H/sN+yn7Tvth+z77H/tA+y77IvsG+/j66vrp+uT6z/qv+qz6kvp1+nX6dPpz+lr6V/pl+oL6jvqh+rL6yPr8+uf68/oh+0T7ZftF+xz7FPsR+wv75/r2+h37D/sk+xn7Gfv9+uT6IPtC+yj7G/si+yX7KPso+yT7LvsZ+w77KPsv+zr7M/s7+0D7O/s5+x77CPsK+xT7Nvs1+zv7R/tP+z77Ifsg+xz7Lfs1+zz7N/su+wj7Bvsd+x77EvsO+yb7Mfsx+/367voT+xz7K/sS+/T64/re+tf66voh+x37GvsD+/T6Hfsd+wj7Avv8+v363PrI+rf6y/rf+sT6q/qn+rP6qvqf+pP6tPrG+qL6e/qO+qz67PrX+qb6ifqG+qP6rPqj+lj6T/oo+hj6RPpX+nH6ufqN+jH6E/oO+hr6JPpZ+k76IvoZ+gP6IPol+t/53fnp+Rf6Jfod+hH6/fn6+R36R/p0+nn6X/qU+o/6lPqG+ln6U/pA+gT64vm0+ZH5j/lu+U75R/ll+XX5fflZ+UH5PPk8+U35fPmM+Wr5cPl0+Xr5jvmV+XT5Xvlc+VT5W/lD+Tb5QvlC+T75NPki+Rz5GvkO+RH5FfkF+Qz5GvkH+fH45fj1+On46Pjk+PL4A/kF+QP54fjg+PT4Jfkn+Rf5Cfn++P/4+/jw+Oz4APkS+S/5Rvk7+Tv5Sfkn+RP5Fvkn+Sj5Mfkc+Q75B/n7+Bv5FPnv+PD4+/j5+Af5BvkS+Q/5E/kL+Sb5JPkS+SX5KPkf+Q35CvkB+dv4wfjD+Mf4v/h5+Jn4xvjd+PL4CPno+O34VPlU+Wn5k/mO+W75Mvna+AH5aPlV+Un5P/lS+VT5H/kF+RX5E/n2+BD5IvkU+fz47PjP+A/5Vvk8+Rz5LflW+Xf5h/mN+Zn5nvl7+XX5l/m3+dj5xfmq+aX5sPmy+cL5tfnB+ar5v/nb+eX5zvmD+ZD5rPmR+Wz5e/md+br5pPmb+Zf5y/nj+Qb6GfoU+hD6Bfos+h/6KPou+iv6JPob+kX6a/pk+ln6NfoQ+vz5GPos+jL6EPoD+iL6GPoM+gf6/fn6+Sf6Pfo6+jj6KPrt+fn59vnu+Qf6H/pI+kH6Rfpl+qH6uPrD+rX6o/qz+rn6ufqY+oH6ZvpJ+lr6V/pa+lv6S/o8+gn65vnq+en56/n1+ff54/nT+er5D/oT+hT6C/oI+gb6Avry+fn58PkK+lD6BfoZ+lj6cfqS+l769fnX+Rv6J/r2+dT58Ple+m/66/mj+bz5wPnL+bX5F/pq+tv5ofnK+Sz6BvrS+eD51/kw+jj6/Pnn+d357Pnk+dX50PnS+ej56PnZ+dT5pPmh+V/56vgC+SX5I/kh+TH5EPn3+PX4+Pjo+LD4lvif+Jv4SfgR+An45/fi99P3uffM9+/39/cY+B74GfgP+OL34vfZ99733ffv9xP4Gfj69//3APgK+Af47/f699n32PfX99j36Pf09+/37Pf39xr4GPjh97/3rPeq96r3g/d593z3kPem9633nPdb91b3TPdU91L3UvdL91T3ZPde92r3a/df91j3avd592v3Z/ed97T3sfeq95j3ffd/9333fveN9533wffM9+L36vfV98H3rve49473bvdm91/3b/d490T3CPc39z73Pvdj90D38PYy9373iveh99r3/vfq98X3kPf19y/4Rvg2+Cr4Lvji96j3pvfa9733+fc9+Dj4L/gc+Aj45ffm9w74C/j+9y34RPhN+Fj4TfhG+Cj44/fZ9+L38ff/9w/4B/gb+Cz4+/cB+CP4M/he+Gr4Xvhn+D74Nvhj+IX4dfhh+E/4Xvhv+G34jPiT+KD4vfjN+KX4ivh3+If4xfjv+AX5AvnQ+JH4kPh8+JP4tPiv+Kv4tfjU+PD49/js+AP5Jvk8+Sv5Rfk5+Sf5QPlA+T75P/lN+Sj5CfkG+Rb5MPkn+TT5PvlU+Tb5Gvk1+TH5UPkm+Qz5Hfkq+SH5Bfnm+N743fir+KX4p/ip+Kr4n/ig+J74ePhg+Ef4T/hb+E/4OvhQ+IT4jfiK+Hj4nvib+Kj4oPiU+KD4/vgi+d74qfif+K74mviF+A74O/g/+Of35Pcv+C34WviJ+On3uffE99H37/fr9xz4HfjD9673CPgf+Kz3f/eN9673rPfh97f3Sfct90H3YPdv96H3mveG94v3ufes95D3ZPc99z33Ivfq9sT22/ax9n/2XPZZ9ln2WvZf9kP2SPZT9kj2OPY89iD2K/YZ9g/2LfYm9ib2J/Y59iL2FPYX9hX2Dfb09fX1A/YS9g72HPYa9hX2GPbt9fb16PX49QP2//Uf9jP2MPY49k/2PfZb9nD2Y/Zn9oH2ePZ49nP2efZl9kv2D/b39en1yPXB9YT1qvWd9YH1YPVQ9VP1Q/Vm9X31kfWq9Zf1kfWZ9ZT1s/XD9dL1z/Xn9fH11vWz9bb1wvXZ9fP1wvWq9YD1g/Vz9XD1ivWY9bH1r/Ws9b71vfVi9Xv1yfUx9oj2pvZb9jH2svaT9mz2xvbe9sT2v/Z09jL2l/bx9gz3+/YO9/T2m/bO9hv3Nff19tH2yva/9p72f/aE9nP2qPa69rj2qPad9qz2lvaZ9qT2pPai9o/2ifa99tb29/YG9/32Ffcn90D3KvdN9033PfdW9233W/dW96T3uvfS99H3wPev98D3n/eR95H3m/e696b3rfeL94n3nvet96X3ofd991r3aPd294H3sffp9/D34ffF98X3wffR9wX4LPgH+OH3zPe296D3fvej97/39/cb+BH4EPj/9xX4MvhB+EL4S/hq+Hn4eviM+GP4VPhz+EH4Hfj/99j3vPew9633mPeo96H3iveX9633rvfK9+/37/fa96/3ofec96z3vPes96H3rfe99833yfet95f3jveR95X3ePee9yb4Nvgk+A74C/gG+N33hfdn9/730fdA9zH3LvcX93/3V/eP9p72lPZy9mv2ifbV9qn2lfbr9nX3YfcZ90P3Vvdo95b3qPd49z33QPdN9z/3Uvdi9233Xvdd91n3Ivfj9sT2rPZ69mH2UvYq9hD27/Xb9dj14/UG9uz1y/X79Q72u/WK9YX1jvWX9Yz1dPV09Yv1ifWa9ZD1fPWI9Zj1rPWt9cP14/X89f716vW49a71v/XP9eT1zPXe9d/10fWg9Yz1pPWg9ab1jPWg9a/1m/Wd9Xn1dfVl9UT1GvUF9QX1HPVb9XH1pvWY9X71avVV9S71IfUq9Sz1ZfVm9V71S/Ul9R31LPUV9Q71EfX89Cr1RvVG9Tn1MPU/9T31QfU59UH1VvVu9ZP1nfVV9S/1G/UM9RL1/vTc9O/0CvUo9eL0kvTY9BD1M/U19fz0k/T59DL1DfU39X/1cPVk9Ur1MvWj9eb13/XC9aP1efWh9Xr1lvW09Wv1k/Xw9er1vfWH9XL1XvU19Wf1gfV79WX1Q/Uj9Rj1DfUL9Qn1EPUh9ST1HvUV9SL1U/V49Y31lvWl9eX1FPYk9kv2kPai9nz2evbN9ub20PbB9pr2r/aA9kv2PfYs9jr2MvZH9k32QfZn9o32kvaB9nP2d/af9tr26Pb89hn3Gfce9yD3OfdL90T3Mvcr9zP3Wvei96/3svfE9/b3CPjP9633e/da91T3TPdF92L3bfds95f3iveA92b3Zvd994v3q/ej96H3nveg96j3n/eP92L3Uvdv92v3bPd194/3dvdt92v3W/dp90v3Zfdk94L3nPeb9573oPe/97H3ufel95j3j/eu99T3MvhP+N/3g/c/90j3Wfdc9/32Hff09r/2z/b39gr39vZe93P3mfcH95X2jfaa9uv22vaV9jr2mPbd9oP2U/ZU9pL2pfbV9rj2efaG9r32z/ar9qT2f/aO9pf2pPZz9ir22fWm9Yf1W/UV9dT0ofRW9ED0JvQ59Gb0avQx9EH0hvSx9Kj0wvQJ9e/07fTR9Kz01vTq9Pz0AvX49Of05vTR9NT03PS19M/0y/TL9Nj04fTl9OL0x/S49Kj0qPSv9Jv0pvSp9If0SPQ49Af04/Oj84TzbvNQ813zN/Nm82vzh/OG84/ztfOL847zoPPL887z7PMO9BH0C/Tp8+Dz8fP28/vzGvQa9Cb0M/RV9Gz0k/S59LX0sPSP9H/0bfSK9H/0a/Rf9HX0cPRk9Hj0S/Q79Dr0KPQV9Bv0CvQP9DD0UvQP9AP0VPSY9Mr0xvQ+9Av01PS69Gf01vQe9QP1yPTB9HH0e/TZ9O30/fQp9UT18fT99IL1V/Xv9Cv1TvVL9R71+fT+9Br1QvU19Tb1SPVV9Wb1j/Wp9Z71nfWI9Zz1tPW59en14PXY9b/1xPXR9aP1a/Wo9eT1w/Wq9cv1DfYH9gz2OfZT9lj2kPah9q72gvY09lD2jfa49rj2fvZE9in2TvZ79nb2bPZi9oP2fPZ89nj2fPaR9qb2jPZ89o/2qfa99r/23fbC9r72sPaP9oD2gfa29s/23vbl9sD2uvaV9oL2a/Zc9mb2XPZ79oH2UfYy9lD2UPZh9mT2Ivb+9RX2K/YX9hr2C/YS9kr2PvYf9hH2I/Y99j72OvZH9kL2RvZo9nf2cvZn9mT2U/ZA9jb2O/Y99mL2h/aP9pb2VPaj9vL2ovaA9jP2VPaE9rz2Zva19c71kPUM9Qr1gvWV9d31J/bp9aT1P/X19M30HfWm9YT1QvUx9Xb1ZfUC9RD1+fQh9Qj1tPSr9M/0NfVa9Tn1G/UE9SP1NPVe9aP1ifVG9fT02PTU9O304fSz9Lf0vfSt9Jf0uvQD9RP1yvRz9Hb0lfRc9G/0mvRo9HL0avR39Jv0fPRj9Fj0ePRn9Ff0OPQ79Cj0DPQK9Nnz8/MK9E30YPRw9Hn0gPSo9Kr0xPTK9P70PfVP9TP1I/US9QL13PSk9In0j/Sw9Jz0jPR29E/0RfQ/9Ff0dvSF9Jj0dPSS9LT0t/TF9LD0tfS89N70z/TQ9Lj0jPSX9JX0pvSz9OT07PT29Pv04vTM9NT0/PT79An1GPU09Vr1ZvVf9U/1LfUi9UX1afVH9Tv1GfUO9fr0pPTC9O70IPU19QL1p/TH9G31iPWv9f71D/bM9cb1wfWE9b/1rfXT9eP1AfbE9VL1iPW89ZD1ifXl9f/1Cfbg9dj1GvYF9un1HvYv9mf2aPZD9if2Ffb/9cL1p/XJ9Qj2UfZW9kD2UfZ09rf2tvaz9sT21/YC9yb3+vb39gn3C/dM92z3Zfef98L38Pfm96z3qveq99b35ffv9+P33fei9573yvfB99P3xfe298z30/ft9/D3vffI99H3uPe597L3xfcj+Ff4ZPgi+Pf3GPgu+Eb4gfie+H/4gvhw+Gj4YfhR+ET4LPgU+Bj4+Pf/9xT4D/g1+Cf4DfgA+Dj4YPhN+GH4Zfhv+Gb4SfhV+Ez4Uvhq+GL4jfil+I/4nvin+MX4pPiW+Jn4dPhV+Dz4MPj79x34Nfhc+IH4kfiU+Hj43vj++Nr4n/h/+NL47/iY+JX3JvdN95z3Nvc+95T3o/d8+Kz3DPe+9tz2OPcH94H3jPds9133s/fs9573MPf19g73G/cv9yP3Dfcj94L3u/eM95P3sfe79673qfed93b3hPem9633e/cZ98r2mfZ09nD2b/Zy9ov2tPbX9qD2WfYl9ur15/Ul9mH2bvZm9kD2aPaX9nr2ZfZm9nj2mfbq9gP3Cvfl9sP21vah9n32bvZA9gP28vXq9eT19fXt9Qn2CPYU9hH2BPYi9vr1EfYa9h72APbI9c71xfWt9ZL1kfWG9bb1z/Xb9cL15PX79QT2SPYg9j32UPZe9mf2ZvZW9lX2YPYy9jb2IvYw9lH2W/Y+9kL2evZT9jr2UfZo9mj2dfZx9oL2nPZ19jv2D/YI9jL2TvZZ9jH2H/ZE9lf2ffY09i72V/aD9rb23Pa/9mj2/fY690b3fPej9533Sfc898b2C/c29yz3F/fk9uf2lPaL9oz2c/Yf9k72evaC9nz2ofab9nr2hPaZ9pv2d/aj9qL2ufau9r32tvaj9p/2kPab9rj2zfbN9u/2G/dW9373l/fM9w74PPhV+IT4aPg6+Ef4YvhW+DL4Tfgm+C34Gvjd98P3nPeC93T3Rvc+9yv3K/dx97D35PfW9xL4Svhk+FP4Pfg5+Fj4j/ik+K/4uPjh+OX45PjZ+Kj4kvh3+GT4Wfhf+FP4VPiK+Kz4u/if+LX4vPia+G74YPh/+K74p/ik+Mj4yvgF+RL5Bvn++AX58Pjb+A/5G/kL+eL46vjn+Lz4mfiI+Ib4kvjG+PP4/Pjq+Oj4Afkj+TD5P/kQ+fX4+vgC+Rz5K/k8+Vv5aPmX+fb5tfk1+bH4ufjP+ND4SvgC+EX45Pfm98336vfq98v4EPkC+KX3Xvea93/3lfcQ+Pb3vffY93X4bfjb9473nPfG9wz4cPhO+DT4Jvhm+Gf4PPgu+Bz4U/ht+GD4MPgC+Mn3t/ds91j3LvcS9wf3+Pb69u72R/dj90j3Kfdo9273CPfM9vr2PvcZ9+r21Pb39i73RPdN91D3XfdN92L3cfdF91T3Wvc59yH3LPcv9zj3Lfco9zT3I/cO99/2svaK9nX2fvaE9oL2i/ar9rz2n/aB9jb2BPb99eX14vUR9mT2gfar9qz2g/aa9rT2yPb89ij3Svdd92z3g/du92b3WvdK9w330PbN9ub2+vYL9wr35PbL9pj2jvZ19mH2TPZA9jf2GvYm9jn2LPYY9kX2cPaS9qL2qPZt9mf2SfZY9gv2ovUA9kf2zvY792T3tPak9j33LPcW91X3bPde9533SvdH94r3sPf39+n3BvjA9233m/fQ95D3NPc+92D3dPdZ93L3ffeI95v3oPeA91/3S/cu9073jPes97b3tvfr9zP4Ufhl+Gr4cvik+Mb40fgW+Tj5M/kB+f747/g2+WL5ifnq+eL53PnN+bX5bvlK+Qj57PgB+fn4FPkk+f345/jY+Ob4JvlY+U75S/l1+YD5n/nT+dr50vnn+QD6A/oH+uX58vkU+hH6MPoM+v35BvoZ+kr6hPp9+oH6tvrv+v760vrg+uP6yfrW+r/6f/pY+jj6Pfpl+qT6rPp5+mT6XPo5+ir6MvpI+kD6Nfow+iH6NPpF+kT6Lvrz+Qr6MPpH+nn6ZvpM+kT6Xfp8+pf6ovqw+tT6B/sD++/6yfrh+tf6IPs9+7z6Wfoq+l/6K/od+ob5JvlK+WP5fPlD+fX4OvkJ+sv5gfnl+Rf6EfrF+Rv6UPrP+aL5qPnW+XH5Dvkp+Wn5nvnr+az5NPlB+YH5n/l++WT5K/kq+Q/5OflZ+Uz5X/kn+f344vjI+KT4efhE+NT3cfdu95b31vfP98H35vck+Ev4Rvhj+F/4WfhV+Fj4bPjC+PD46vj4+AT59fjt+OT4rPiV+I34Svgu+C/4DPgH+PT30/eq97b3s/e295D3SvcN9/X2/vYA9wf3IvdQ92f3fvdr95D3uPev98D35Pfw9wb43/fD97D3zPfp9/z3IvgN+BH46/fC97P30vfq9+T30fe296L3zfff9+73Cvji97731Pfd9/P3E/j39/L38ffl98j35vcM+P/3/Pew96D3qfeu96/3mve094j3lvcu9xr3c/fG9xP4NPgN+I/3CvhM+FH4jviI+In4yvih+I34A/nz+Or4t/iM+JL4XPgC+CP4T/j89x/4Rfgs+Ab4MPgw+Cr4bfis+Kb4g/ie+JH4nfiF+H74iPiA+FH4W/ir+N/4Cvkb+TX5R/lf+UX5TPll+Zr5vPmE+Zz51vmx+ZT5ufmR+XH5TflX+Z/5pvl++U35Pfk5+UX5Lvka+SL5E/k5+Xj5i/m3+dH50Pn3+TH6iPrQ+gr7IvsX+xL7Dvv7+gP7R/tS+1j7LPsL+w77GPss+0P7G/v2+vH6qfp/+k76QPol+iH6JfpI+mz6YfpF+lT6cvrM+gL7+fop+yr7TPtZ+4D7nPuq+5b7cfuE+3T7Y/sx+976k/p3+n/6ffpP+iH6/fkI+jL6UfqL+pj6pfqu+rD68Prq+u76Yvve+zb8MfxD/DP8iPyr/Gn80PsI+y37Sfsz+w77hvp3+gX7qfrZ+qr69/nM+bb5z/kE+vb5f/mJ+fz5ifpE+kT6aPp1+tL65Pq4+nb6ovqv+l/6aPom+vf5J/rs+dv5oPlS+TT5WvlZ+Ur5P/n5+Bv50viM+Ir4i/jZ+CX59fjS+CL5N/k0+Yn5yfmY+XT5Svld+Yz5gfly+Yj5jfl9+XD5Xfla+Xf5evls+Wf5VPlI+SL5Dfng+N745fi0+HX4WPiG+KX4g/hX+Dv4EPjL96D3Zfcl9/z27fav9j72Evbu9Qf2/fX49S72VPaL9g73sPdU+PD4Xfnp+Y76KPvE+z38mfz2/Bj9Nv0y/S79Ff0B/fD8pvw0/OD7kvvB+tT5EflK+Jr3Ffcp9kr1f/TM8x3zYfL68YPxb/FW8XTxevGm8ffxMPK18qfz3fTp9bz2U/fI+G/6yvvv/Ej+Vf+cAD8BtQGjAvACNgPpAnYCoQEaAVYAYf/N/pn9mPzn+yD7IfrE+M/3y/av9df0HPQs84/ye/I28kzyQ/Ke8jvzr/Nu9Fj1Z/Y49074wvk5+zf8Ef39/rYBtwO8BBgF6QQ1BWEFlQQRAxIBW/5Z/Kn76PqD+b33CfZT9Yr1EvUr9Onye/Gs8GjwTPBx8FDwH/C58CLyCfTR9Q/31ffO+ET6YfsN/JX8L/1m/or/2gBSAq4DuwT9BWAHggjPCJcIRghyB74GdQUWBOACzwHcACUArf89/13+Dv3k+7r6q/lN+Pf2vvWw9CL00vP88z30bfSW9KD0nfTY9Ar1w/Sf9Mr0P/XO9ZX2U/fQ95P4oPkR+on68vq8+pr6l/oF+mv5Evnc+Gf5r/og/Pj8oP0d/j//9QCbAmQEiwRAA+kBWAC4/1L/Pf7l/Lj7+Pqx+5z8BfwC+9P5H/m7+H/4W/il+Er5vfkG+wr9Rv8yAZEBRgK3A+EEKgWbBAkE4QI7Ai0CsQEUARoAwv5z/QP8jfrO+F32SvSF8m7ww+517YDsuOs+61Drl+vj6y7spOxX7Q/udu6F7vXune/Z72fwGPE+8kv0XvUo9Sb2YfiQ+pb87P2s//8BtAMRBrEIEwp7CpQKvAqhCtYKGwr9BxMGTAThAuYAXv7E/Lr6Mvg49nL0u/Lv8JTv2u6R7s7ube+78JryZvRK9ob4MPt+/QP/uADRAkAEZwV+BlgHkweUB4QHxQbqBZMExQKrAGz+Gfxz+Zr23vMN8nLwTe697FbrQuqr6RXpxejJ6CbpDOoR6+jr1Oxg7ajt7e2v7ZPt9O077rXuTfAa8rny8PIB8hjy+PUm/OABUQNtAkYEfgjlDM4OFA4ZDFMKFgu8DYgPdg71Cr4HtQapBqMF8wF2/Cv4+PWR9G7yEPBR7SrqdOla6oTr/+sL7HXtM/AA9Jv3mvo+/VIAtgPdBuoJxwuaDNQMuwwcDe0MEwyWCn8I6QbiBUwE+QEk/xv8nPhf9SnzPvGl7yDueO1S7VPsf+up623sHu227XruCO/171XxtPKt8/LzlfOc89jzLPQ69H3zKvMK8+Hy2vIL8vbwUfKr9b75bv5GAUoClwTxB+0KAQ0gDRYMQgxODa0OChAID7QMdQurCu4JZwj4BMMA6/z6+TT4v/Zc9CHy+PCu8CHyr/OB84byl/KI9FH3Cvq9+8D8lP5rAe8EcwdeCIEIcAixCH8J4QnbCHQHjgb/BWwFNwQFAsH++Pvt+RT4PvZD9A7zMPI/8cHwnPAP79Lu7O/J78buYe5b747vkPDQ8fHxGvKo8QfyB/NF817zOvP28k70JPZT9vn13Pbt9xH4hfnG+kH7d/ys/fD+VQGeAzgEOATkBMEGKggQCGgHgAYUBbMD7gMHBG4CBgAV/qr9Hv0t/G37tfmR94v3pfcu9333lfeJ9yz4NPkb+lf7yfvX+3z8mv3u/rL/Q/+a/g//Xf+C/x4A5/9V/nn9SP3X+zP6//iw93f23fVP9n735fZN9d30j/VJ9Q30efN28rDy/vIY85L0WfX/823yt/LZ8070HvP68SXz0vSZ9Hb03PVu9mX17PJo8hH15/WI88Xx6vJI9F/0xvPL9E32kfXU9Qr4H/q/+vP5o/mz+0/+kv6U/uH/8QD8AKYBYwLZAjoCzQA2AbQCfAN9A5cDfQIbAdkAlwB//6r+z/57/lv92fxe/B77Bfpy+Wv5v/ml+fz4G/ns+ab50vmz+kP5SvgR+sf7zfuR+lf5Jvjx9373Qvdq9xv3TPmF+YP3u/fm9kj03fM79Dv0i/RV9Sj19fRK9oT1mPUh+E74qPR89SH5ifiz9un2Pfnk+Gr3F/bO9pr34fWE9qr4Jfnt9iL11/UY+QD4+fRq9o32JfQM8vL04fiA+Af3TPi++qX6X/q9/AL/LP9l/4YAIwKLBAsGMQUTBaYGgwfyB7UIMgkSCW0HMgamBvIFXwTXAwMD8AEjAE/9v/uS+lj68fnv+L74DPeJ9fj2R/iz95v4uffT9pv4evm++cD4JPlC+pn5kPnZ+5P9n/xi+6T6KPpi+jz6UPpG+4366fl/9w31pvdK+I31iPWw+Uf5q/UN9kb64Pu/9R7zofeE+337GPkE+CD4Mfnp+Ff3kPlY+5n44/MQ9Wb4n/hB9qP0tfgM+6v0cfK1+PT55/eS+ND8mfy++r37/vvf/H39Nf0n/AT9//1S/Ez8Pv9+/rL53vnM/Jb7RfrZ/Rf+SPit+Cv91/tb+oD93f1u/Rj7SPly/Hn8NfrT+Sv8L/5g/Er4A/uo/+P5ufTO+Fr8UfhI9zf9ZP6m+Jb1nPYL+UD6K/Wj9Or5tfpD9i72zvoh+L/zUPQw9+j32Pfh+A35l/gs9lD0yPf1+Hz10/kY/lb4WPKx9cj5m/d49pT4Ovhh9oH67PZ09Zf61fQs87D5ffpZ9a32bPsj91fzGPg3+X32G/Ub+BP79fhQ9mv0g/aT+X/3afW8+Xf2WvQL+qv6OvnQ9e/0yvc1+fj3vvch+kr6vflm+9H7XvwI+4753vtZ/W781/2aACX+ZPrS/iABiPvt+LD5S/t7+lL6xPu0+XL2C/jU+Bz4DfmU+OL2EfQl9nT6y/hO9jP6Nvte94n6Pfph9n32UvnT/GL6U/nE+3v96fp9+vL6c/pc+9P4MPsx/Rr7qvvd+lj6hvsy+AP1Jfp/+7301fiw/Hr5xffH9Kr2Sfv5+b/0z/mg+Sf1TfoW+q34rPsM+Wrzv/yI/VH4Y/3N+6379Pia+un+5Ppx/E0AUAJL/7n9yv75+hn9oP2pAC0BHPu8/Qr8hP//+zH1E/1c/NL1NPdAALb+F/k++W36Xfds9j/5EfnLAF/+5vXF95z6EPho+l7/Hfi9993+C/q+940A1ADy/br7uPxj/Er4u/uh/of/l/s5+Vn12fVe/g7+QvdU9kf6Qvkj+6r/WPqP9t76AP5H/zL65fah9Z347f57++73XPdK98b5jfze+l76YPyG+7X7SvwS/hz7Ofn//ff95/kO/gr8dPUnAXMDh/aw+egAV/rq+hz8y/3r/KH7KP3I+Or4rfla/qX7+fiW+cn2vPiO+z357/YA+dj68foz93D5M/jK9Xj4l/tA+8D4B/t4+v37o/Z89s/86/o39UD4CP6X+Kfzivbb/W/3XPYC/t36EPNL9Fv73vmt92n4eflP+Nv1uPpI+df0e/xr+27zWPZX+xP3fPht/9X7zvW89138xvWu9vcDPf6d9LX53f+0+hH25v6u/nL1Hvhk/l34DffiAUP9P/ZD9hr6Gv0e+hX6E/lX/YH+iPkQ+gL9DPh49w78DvtF+VH6HPit9/P9Ufvz9M35CAI9+jL2qvwO/nb4YPolART8r/Zh91wAW/vl8+UAdQMu9JL0ywTB+87wjfy+/af3DvpF+5T8e/cP9M/5XP2a+SL1zv20/dj0v/cdAMr8avJN+Ln+MPVP97z+avoJ9Q/5dvzY+B36z/kT/LL86/ss/DX77vyf/ar61/36/5P8EP8k/qP8/vnJ/4YCo/mv/DsCJvwV9l/+NwFr+mf5tP3v/ZL5hPeG+wj9BfvU+5L5+/uO+IH2Ef4sAHf4rPVs/tT75fdE/8//8vi0+vQA6vuU+VUBbP239+b8rv+f+/v4Z/xd/qz5wPrG/TL8+fkh/JL9fvnN+Wb8yv6t+pP4V/4a/9H5i/sO/r/6pfr0/DH/rfsA+s/7L/yF/Hv7M/v9+n77Sf0j/rT8bPu8+w3+9fzJ+iX/if/h+x/+if0TAMMByvkL/BMC2P9e/FMBkgC2+jf8QQB7/nH6xv/S/034HPoZAgv98/bp+5T+8flf+dP8wfrG+ED6dfwD/MH5Jfmc+6b74/hb+v39zPqK+E39Z/tf+bb8Svzr+YT7TP0T+3j6Z/zE+/P8V/35+v77IfuS+1/6jfw8/nb50PoS+6r6gfrW+KX5PfgG+OP7CPoc98T5Wvqs+IP49fmv+UL6q/uc+9n6zvkx+w782vxp/O/76fwC/4r9gPyP/oH8Wv3I/mn+Df1Y/DH9TPsn/Yz/Efz2+uv71/pX+0L8b/tD++362frm+yP7Uvl++lz7cvpn+bf5w/z++Fr4qPvC+ZX68fnN+Kz46Ppz+jv5Evur+QT5RPoT+jL4fPmM+qH5gPh8+t36aPjj+G/6HPp+93n5A/sB+RX5zfok+Yn4RPuG+n/5w/kB+lf6Q/tZ+475vPl1+1f6OfoZ+9b6ufrq+TD7m/yQ+9X62vtA/eH7H/tY/YH8wfvc/N78Gvzw/M78Q/v++/b8vfvn+pH84fyD/C/77vqH+677fvvh+t37Zvzt+/H7D/zw+tr6UPyv/Mz7BPwi/JH78vvU+xz8uvvN+/r76/qy+3P81PsV+3L7svvf+kP7wfsB+8D6zfof+8L6Evv3+3f6svpe+7v6CfsX+277Gvtn+6T7xfqB+677GvuW+4T72Psf/Db8efxE/Mr88fzs/Gz92v38/EX9Cf9u/gf+qf4//nD+P/+G/4L+QP5J/1//+v7K/kz+zf2U/f39Nv7p/a39Mf1h/Qf9Mv35/IX8CP2M/Xj9xfyo/QP+q/3Z/cb9U/2q/fv9OP78/q7+zf4J/5P+bP56/mj/+/7u/Xn+af/0/sn9jf4G/tH98v2g/b/9t/2K/UD94f2S/eX8Z/zd/BT9Yvzh+5T7qvtS+wX7p/uo+7D7GvxQ/JX8d/xZ/Pb7Hvx1/cL9C/1V/bv97v3//Rn+Rf5Z/o7+vP75/Y39s/3t/Rf+oP2d/Xf9Xf38/Pf8Cv2a/Fz8Xfwc/O77vPuf+6/7X/tt+zX7f/uz+wP8DPz5+/D7yPvH+5D7vvvq+2L7a/tw/E38QPzB+/b7JPwD/MD8Bv3H/Lf87fwO/Rf91vzX/J78Y/wg/Hv8XPwP/Ar8qfuU+xL7u/ot+7f6j/rd+pH6k/pk+t35uvn/+aH5lPmw+Sf6ofqW+t36/foV+zD7kvsJ/BP8U/xa/JX8rfxx/LD8ffyX/Iz8afyK/Db8nvuH+1n7ofrd+u362vrX+ur6Ffve+vT6G/sb+wv7L/sR+4b7qPuf+537o/u8+7z7KfxG/CX8tfve+9L7+ft1/D38jvtJ+w/8hPx7/ND8Af3B/Mr8ovxU/Fn8efym/JX8i/wi/EL8dPy6/N385fxH/Sb9Af10/E/8bPyK/Mj8uvxH/N/75/tn/Fj8BPzi+wX8Qvxk/F/8fvy3/KH8ovz3/IX9tv0J/l7+VP6R/Qv9sP0g/oX9lf2z/Q/9yfxI/f/91/0X/cf8yPyS/OL8Pv0O/aH8l/xO/Yj9kf2h/Zj9qP3K/UD+bP5k/lb+ov4P/z7/e/+z/7X/m//B/8j/mf+S/07/I//d/s3+Kv8t//L+q/6L/kL+5v0E/vf9nv1l/a39vv10/c390/3y/SH+c/6G/hL+X/7i/hf/8f7Y/g//y/69/uX+0/65/mT+fP6k/pX+Uv46/l3+PP4u/l3+Vf7x/XX9of2G/VX9sv3h/R/+tf22/fX9Nv4j/tb91/2H/YX9oP1i/kb+r/1v/UT9df1k/dD9Ev68/fz9hf5s/h7+nf0W/Yj9Yv4S/pn9if22/dn98/1s/oD+bf5k/o7+i/50/pn+U/5A/jT+Qf7D/tz+af7s/aT9hv1Q/Wf9Sf2p/Aj8m/v7+yD8Qvyp+3L7/vv6+9X73PtI/CD8+/tP/Ov82PzK/OD83/xQ/V/9FP3o/On8+Pz+/LP8iPxP/Bv8ZvyX/Mv7KPsl+1H7VvtR+137IPsl+yz7XftW+0b7N/tP+8D7L/yn/Mf8fvxR/Iv8wfx+/Nb8Jf2k/Gj8RvxZ/C/8DfwQ/Pj7/fss/Ez8Jfz/+w/8RfyQ/Er8FvyV/PL8fvzF+zv8Ofzc+0v8dPwW/Fr7t/tu/DX8N/x2/AL99fzJ/AX9Iv28/Ef83PxB/QT9sPwn/TP97Pyf/Tf+6v2//KL8aP3W/Aj8WPxH/Gb7q/vN/C39CvxE+3D7YPtl+1/7mft5+2D7tvts/F38lfu7+7T87Pyd/Of8FP0R/Uv8c/xV/Ub9uPxB/EL8fPyn/Nn86fxC/Ob7lvzb/dL9aP1u/Z39xv3E/QX+1/3B/dX9/v3z/fD9Bv6X/bP9UP4D/oH9DP3g/A79LP1+/f/9NP7l/dj9Xf0W/W79uv0I/g3+cP5l/mD+wP75/v3+vv5K/gv+KP5a/r3+8v7y/tP+7P7q/iT/yv6G/pr+zP5p/9T/q/8q/93+wf7G/jH+T/6C/hj+Of4K/zv/6/7E/uf+Av9i/2YCxQVwBpoEFgKMAdkB5wGhAWQABf+f/sf/VABT/3792/ra+Q36AvoN+mv4GfeC96z4Bfq++tH6Rftw/IX91f7G/xoAdwDgAGECXwMAAygC2ABjAdoByAHSALf/AwBW/2v+1v0O/SL9Uf2n/C78ZfuT+yD8d/wl/ST9D/24/ZD+aP9WAMwAxwAzAGoA3ABr/z3+fP5j/uz9q/2d/Zn84/pX+l36LPq++Tf5E/nM+GT4VPi6+Dz5ifmE+oL7YfyP/Vf+8v79/pn+bv7s/Xb99f2g/h7+kP2e/Y79D/0A/B37k/qL+o76yPrV+jr6L/r++gf8Cf1R/Qj9xvwT/fD9K/72/ej9r/1C/Uj9IP28/KD8Df0G/ff8Of20/Pf7Yvtf+8H7nfuQ+/T7LfxN/Dj8H/zc+/b77PtO++769foR+2L7Gvse+uX5+fkW+lT6IvrY+bv5rPka+ub5ivk3+dH4Pvk0+rv6SvpH+t36Dfvy+t76APtE++j7qfy0/FD8wfyE/fH93v4h/5f++f0y/hj/z/82AAoA0P7t/RP+XP7i/jH/df/n/hH+gP2c/U/+J/6y/cT8lvy+/Tv+4v27/YL96/wF/Wz9VP2O/Cb8HPyo+wz7Tvq++fD5a/rD+jn6EvkK+cb4yPj/+Kz4e/nU+bT5hPn8+Gj5r/kG+tX6B/sp+1L7jPs4/DD8F/xS/K78J/30/cH+Dv8r/zz/+P8PAe8BGALQAfIBFQMTBK4E6gQkBXYFswXxBa4FXAXEBNoEDQVSBPoDLwNRAtUBHgGwAGD/9v30/Pn7HPsh+j75ePiZ90H3yPZp9tr2YvcV+Dv4L/jS95T3HPj7+Pn4cvil+If5jvro+ov6nfnY+CL5a/kC+vf6ePvr+6z7Nfx3/Rr+cv4IAB0CPwP3AwoFBAawBsAHaQgXCH8HeAffB3UIKAgBB3IF5QNJA1kD+wIBArsA9//B/7AAKwGwANb/Zv6e/p//JwCcAKkApgDzAJYAtACBAHX/bv40/dH8B/2Y/Fj7xPn5+IL4mPft9kX2nvVY9T31f/Qx9DX0hvMf81LznPNR8+bytfK08jDzz/NU9RH3r/f49yL42PiV+kP8NP5BAJIB6AKVBNcG1wjuCaYJ2ghJCfIK4gw8DesL2Am0B10GLwb1BWEEfQFX/zf/of/+/wn/Vfz5+UH53/mA+l/6bPkF+ef51vtn/Xz97fxw/Dn95/5cAJIA7/93/5X/cwA1AQEAqf3O+zn62/kC+iH5Vffc9P/yxfJ78m3xhu/e7ejskOzp7L7s9ev66vzqsOzT7wXyH/JB8mjzgPW9+M78Iv91/3MAEQMMB6oKMgzNCwYL9As3DvYPNRDMDYoKPwmFCegJ9Ah7BtACpgDMAB8BpwAr/nn7V/lG+J74bPng+A338PVZ9jP4w/mE+iP61/n1+Q/71PzF/Vr+av6k/sP/OgH3ARUBAQCW/zf/k/6+/Z/8Tft2+kz5vffC9bvz2PF98NXvvu6k7J7pSeeJ5tXnA+tq7dftYu3o7BTv3/Pc+Hf8dv2U/S4AtwX8CvMNcg6vDFkLiw2AETYUSxMiD0ULXgrLC6QMFQveBgQDPgL3A9EFYgW0AjT/zfza/MD9H/7z/Az7dvqx+//9RP/8/Zv7ufpe+0H9Mf/W/37/tv98AUgDsgOfAtAAy/+o/8D/TgB0/yD9UfvH+fr3GvZ480HwRu4q7aDrwenx58jmGOga60btxO287ITsfu899df70P/OAMIBFwVEC+YQQRPREQ4PBQ9SEjIXgxkjFrgQqQyiC50MhAzPCZQFdQM3BEIHwgjRB+EFZwHc/Rj+dv4i/B76/Pny+kb9uP5u/Rr6sfa59Vr4kvwm/4UACgLqAjIDfQP7AX7/nf67/rj/igH4Ac/+/vn69A7wQuyx6VjmseFB3QbZpNct3Fvkoemp6nnpn+ZD54jv9PrDBOML/g74EQ8XRhvSHnoe/BkXF4MYrx2cIh0jVh03FbsN1QbzAuv/2vmv9J30MfbW9l30SOxc4lfc1dtW4MPmn+pm7Q3y9ve0/VUC2wP0AdIDoQy0Fi4guiYZJBMcvxdMEk0LGwqwB+4ACv5s/dr3HvAk59fZ6c9kzXPL/MkVyl3GUsAvvKe4I7n/xVvcpe0h9gL7BPwjAN0PhSEtLVs1bzdjOVJAGEMxQJM4gCyqJBoltiYWJJMa/wfo9GDpJuFO25/X7tFDzgrPKdBvz4TLv8bux2PP19jK5E7wPfgMAloPQRquIWEpIS0NL5s58kLtQg1CrDp5KdwdKRZ1CWMB7fy48TLlJ9x607fKwsN0v0m6s7Xatbq1hLRotY20mLLLtCK6q8iq68kReCBTHjQYbhOJIq5EGF2KZF5htlR4TFRKYD9NLhEehRIuEyoYGRGO/DbhwsZnufm5Mb0KwKnCwcRtyJXLgMwVzBPOGtnt7MIBWREIGwwiOityNrc8gjzqOxo/AkjSUu1R40B7Kz0YEgsdB4gCfvdG6t/dTdODybW/rLY9snq02bciudq3RbMisQ62Rr39wT7Fmcyb5tcVkjnKO80tKB8zH4hA7mogeptx2FoyQ7g8FTj+Jr8ToAPZ/o8GnwU+8azRabQ2qFuwUr7bxdTG+caGy73S7deN2TzcZugs/94XiidaK4UqFC1iNVQ84T66QfpD30ajSoZDYC8kGlIKpALAAhcAd/QO40LRw8VTvxa6UbcruC66+LiCtaKyX6+hsUe8ucVWyoTNctc3+rQsPURdO8Qrsh+HLaJcsX7Ae7RkmkUHMvkwwyohGbgFRvbL9LT4QO7N1Ay3D6WkqZe6nMglzW7L6cqLz/XWRt2H5ArwfAKoGIAkHCKYHlYh7SqgOFE/ATyZOSE6Xzr2N8wrtxfiCc4HhAZK//3yrd/ey0TDncINwjDAPb7pu8S3y7JXsbexILNxvOPGAsp+yjLPgOkZHLo9tTuILfkfmyXUTh53bnpHYxRDsCqzJu4noxwYCdL37++671TqCdahuxqtorFiwUrQntQj0MfNxNKl3BboHPDB9XoC+RMHHygf1hl2GBAhTS/GOeA7/Tb4MLYuJi5IKEsbYhCADbYKwwOz+P/kvc1OwP2/AMa2ytXJM8PKtgOsZqxMsQi3xr+qwznEA8r+0fHobRj/OAc27yzmJyot5E8QdFt16WApR7owkCksJ5sawgmp/LL2ZvPh6GLUAbyUr462icTxzQDS28/nzXDSNNut5nzxnPorByYWvB45HpwaHx2QJ7AzrjsgPfM5HDelNOQwEislIIYWThYhFMEICPul6b/TpcX0wuTEpcdFyIvESbhWrEiqVKxds0fBS8WpwoPH182G5kAcrUBYPHQteyM/LA9VMn3/fxxoLkqAM5YuFy6mH0wLqP/h+/H4TO+x1wC6Sasws27E+tFX1RDPMMz10e/aiuUP8If3fwPkFKIgNiHAHP0cBSUxMRM6Zjo1NUozkDPsMVAsax9jEs4PeRCBCgIBwPIu3qnMK8VvxkfLe86uynC9w6+OrtG0r7vFxCPGe8G3xXvPieXxFZA9TjylKekbeCAaRs5xzH0nbKRNKzOTKlwr6yLaDxn/7Pg/92TxYuKFxyWxEK/ousDJ7tLj0QXOsNBh2Tzmb/H+96X/7gsCGU4hwySKJ3wqhS0tMno0ijN4M7kxNiwEJ98eBxSDD2cM+gOq+mXuB9/o0a7I98R+xhnJB8vvxI+21K/csWG3YsKryYHGhMMQxirUWvvwLWpC4TLeHSYYuy3LWVp4t3TrXeFBgy7SKwgrWB4uC9T8ivZd8m/rBNwgxNKxeK5AtkvD+c0A0CPNg85E1wTjwO0u+KQCvQuxFBkeMCpCNHc2+TJ0Lgst0zBONys4JTEzJV8WWgtcBpQBbPsD9I/oA9vRzwjGZsFrwknEa8Tyvr62krP1tuC9M8U+yc/HxMRsx0rZxv9MK1E/oTPMHvcXtSdcRw5iq2heXSJK7ThQL/kqeiNrFU8GE/zT93L2dfMD6MnUxsC7sYSvAb06z5vYb9h91gnXddsh5MDt0PRE/VMKphqELuU8Bz01M14o8iTSK6M2cz1iPEcztCVDFg8IUv6T9SjtAuap3v3XgtKqzRPIY8HDupW1s7Q+u4fF480o0srQ4M3Tz1HXy+W++tAQpCA1J3gmqSLVI/csXzfuPR9BeT0oNTwv5y2YLKsl/xhwCncAYv7v/QH6QvNa5yDbYdb91nnZwNuT28Haf9va32zm+OtC8bf2efod/jIDwwmQEmYZIhwFHWgclBvOHSUh8SBUHEkU6AuBBn8FDAb3BNEAE/jQ76LqxOdw56/o7eh56Kfo3uhI6X3pFesg7tbw2/Jv9Xj4Lvx5/+UAFQG9AdUBxwFaA2wFOgafBSgEpAJIAtcAEv4G/Pf8JP5r/qX8Pvj39P/0svbh+HX78PsC/Fb8jv1CAY8FAAijCEoIhwjiCawM2A9/EJYPCw5zDM4LRgosCPEGVwbiBDcCQv8E/Cz66vny+LL2nPTG8v7v7+2s7bPtwe347Absaexx7tjwmfRT+Br6h/p/+wv+FgGeBNUGBAjfB8MGGAXhBFgECAPSAWgA9v7T+4H3SfOB8QryzvKE8QvuJuqx6ZHs0e9R8VvynPPw9Cn3qfok/jMA3gE0A/UENwdRCaoKPAxnDO8L2QrRCL0HdQfFCKAJEAmkB5sFmAODAUz/HP30+5n6vvkY+lz5hvdy9m/1F/TI8+vz6fTz9Rn4H/ub/ZD/AQD1/jf/AAGxA5UGwAfgB7MGxAPcAQwCpAKkAzkD4gE//sn5OPa38zPyffEZ8aLvce4h7gDvZ++p75zvpfDF8fnzrvcd+sf6FPvr+4L7EPyD/ksAkQG3AosCUQJVAkECKgKeAg4E1waYCIwICQgpBjQEhwOCAzgDEgMSA5UCDwJ6ASgAY/77/OL72fwb//wAdQLmAmECSwHrAaIC2wJ8A0EFAwbQBCEDRgFuACwAWQCMACoAEv+P/Sn8N/uU+eL3bvaP9jb4IvpP+zz7dPo7+h77Zvyo/Ub/xQAcAF7/pP0C+7/4Fvjy94/3qvcI98H1vvRS9LHzAPUw9yL5Yvu4/df+BP9R/wr/zf9PAeABHAIQA/cD1gSpBQEFBgSFA/gDLwX3BnsINwirBywHvQagBrMGGgdoB+kGFwamBLYC2wCA/63+Fv6E/QH9APwV+xv6MviJ9qL1n/X19rX5Uvt+/Nb8bv33/skAQANfBf4GvgcMB58FMQTEAlcBfP8L/jX8v/qY+cT3X/Wz8w7yxvHL8pDzDvUS9ejz2fJF88T0GPaV9rj2nfdU+I/5Rfuq/FX9n/00/tf+q/9QAdAC+wLlAwcE0QPNA1sCXQGgAEYA5//z/vD9Df3M+8P6pPn/+Ar5L/iw9xn3Y/Z89uD2Nfet96f4Evqw+m/7rPxp/cb+ZACHAUQCXAKHAUoA6v/N/rH9wvwu+xH6k/hz92T2WPUr9GXzRvPb89f0RfXd9Eb0SPSh9Jn18Pbt96/4zPn++l787vz7/N/8F/3R/YD+Hv/J/uv98Pyt+0/6EvnV92z2t/Qj83byCvLw8U/xIPBl71Dvyu9U8J3xbPLK8ibzlfNT9KD1Zff7+N768/zi/ooAkQLwA4gEeAUkBosGkwbNBdgE4gOCAsEA8P4b/T/7qfk2+L72bPXa8w7z3/Ic8jzylvLZ8rvzRPV+9j73Pfjm+F76Pv3m/wIC8QP+BMkFeQYjByUI9AerBycI6Qe6B/kG+AWvAzABd/80/Yz7ZPoV+ZT3Dvf49dD0X/Pc8eDwYvDC8HbwgPA88JDwNPL48jv0w/Vb96r54PtZ/nEA2wF9AjwDOwT6BLcFrQXFBAEESgMFA+wCVgL7AJv/8f5c/sv+Vv8y/6n+v/1x/ST+wP6q//3/cP9j//z/TQGBAmADfgOIA0kE7QSHBe8FVQW4BKsECwWBBZIF8QTDA/4CjAL1AaEB/QAaAKj/wP9ZAFcAcv/Y/pn+q/41//b+fv4D/sj9Ev52/7MAmAGQAs4CMgOrAwIEowNpA64C7QF/AasAG//w/Pf6j/mG+KD34PYQ9k31s/T79K31gfb39vX2cvf0+BD7qP3e/2sBWwLSAwUFDwYyCF4JqwkVCqAKmQo8CtIJxwhKB8cGPQYfBpoFkgT6Au0ADgC1/6H/CP9P/oD9Vv31/JL88PvU+m/68fq/+yD8svxF/e398/5aAMgBHAPCBH0Gzgf3CMkJDQqhCT8JHgijBqQFtgRlA4YBm//k/Ub8TvrZ+MT3RPfP9kX2y/V79W/1c/Uk9nr3CPmH+sn7gfxA/fT91P76/9AAewH8AUkCQgL7Ac8BmAE8AfgAGQEmAd0AVwCM/6T+//2I/Wn9Pv3k/JH8JfyG+4T6HPqc+Z/5+Pms+dv5Ufrk+nb7OPyI/bL+UQApAt4DYAV/BlsHcwd9B1UH8wZBBn4FsQSrA1UC1gCL/yD+D/1M/FX7rvpe+hz60Pln+e34pPgy+Vn61PuH/DX9Nf4v/9r/gwBvAZMB/gFJAk4CjgIaA6sCvgFkAV8AT/8d/zH//P6s/p/9j/sP+vX5PPly+Mz3wfZi9jn2e/ZL9pv1+/Sm9B/1IfYs+LH5LfoF+xn8uP2H/wYB9wGqAsID6wQzBRQF9gSBBDsErgPUAkMC8QHLAGP/kP5X/uP9zfwH/MD7B/x/+0n7D/zX/IX9Av6R/vj+Tf+x/60ANgJFAzsDogLrAbcBXAIuA0sD/gJzAroBYwE2Af4AwgBrAMz/pv+d/9r/6f81/2P+vP25/Rz+Zf5a/vP9GP2h/Jb9r/46/xL/Ov6V/tX/SgHvATMBZwByAIEAYAAEAFn/WP6t/Ij7/vqf+hj6Wfkr+Bb3ffab9hz3Tfc893X34veK+M/5HfvT+5T8fP3G/m4AxAGkAkQCoAG2AdsCKgR8BLMDXAJYAeMABwGMARMC1AF5AHP/z/74/vH+jv7y/Q/9Ev2e/IH8v/z//Nn8nvxK/KL7EPxH/Xf+3v76/v7+ff4o/+MA1QLJA1QDvwJyAosCogLIAsACGAI7AYQAj/+V/mX97vud+gj6yPlb+fL4gfjS9/f2ePYU9vL1KPZ99vT2jvfQ9273MPfG93X4m/gB+E33bPfS94n4J/n7+Fr4rvdI93H30/c8+I74pfjY+Kn4gfiS+CP4Wvg8+Q/6Yfog+p35QPnH+Qb7O/yw/PL85vwB/Z/94v5IAL0AugCeAO8AiwEOAv0BcAFNAZcBAQK6ARsAcv7R/dH9ef1Y/GX7g/un+2/6EPnD+E/5Bfr8+zoAfAHs/Wb7AfyD/k0C7AUzBnMDEQEsAJQAFQLVAscALP2D+6z96/+m/iH6H/WQ8VHvbe7j7VrsK+rP5jLiw93z2l7aR9wW4pPqm/CG8Intf+xY78j1xf2CBT0M5RAbE4gUMhcZGygeVh3lGYYXwhikHO0eIh0JFsgKS/+t95X1LPgE+m/2ZO4r5UzeuNpX2enZ69qX25Tcet5S4t/mfOqY7AvubvG4+N8DqhC9HDglgydMJQ4j7CWQLf40Gjc3Mtgp/yA8GWkTDQ4fCK4BF/pe873umunB4oHbOdUx0u7Tjdej2ArWBtEFzIzKBc/y1vTcsN682+/VQNFyziHMZM8Y6MwWtjlrNHQPZusn6b4OqUJ9aBZygFsuMDgMewfxHgQ5JkCaLqwRIP8h9yXtQ+Jx2SHPIccxyefUQt4C116/nqcCpoa/luGx+XEAm/Tv4OrZ1OcEBuAlajT3Lucivh7+I5QqGC9aMX0wcTENOA88ajYWJEMIzfX2+uoNCBvdFBr5qtclxVzIp9pu76n4JO7c2yTTZ9ZA4CTq2u+f9I/7vf60+VPuRePh393lifIM+331M+P6zMO8ZLru0fcD2SzzJnT5d8qIw9Dw5i5XVdNW/jnfEgj9IgfAJB87XTpLKIUUzA1sDr8C7e6G4qzhWerB9Jz2uujCzImzF7Blxtfm8/YL7v/atMxsy67az/MMCTYSXg+lCL0INhA1GOYb8h8gK/c4bUHWPHIqbxnOFQwftS1UMpwjQQkw8Zvmduy/93z5p+7w36TWG9VZ2P/b5tzM2+DcwuHq5iXnw9/w1pTXv+Ns8KvydOk52UfN1M2W1tLdbtx85FcIUiVvFjDuatRL6MUkNVv6ak9TBCayAgoDzSdyT1RVoDxkHGYDqPqg+Y7vROVH6Kjuo+tX3HvEnKzloeCxW9P/63rt39f0v53AXtYT8IIGDRTrFrgTrRH4FIgZjx44KDc0VD6/QBU1yyQoHfkf4Sy1NgkvDhwIB1b6ivtU/5L9w/VR6a3e0NmH2rbc8Nvn3FfhN+Pq32bZ7tiq5EzzWPrx9bjm6dkb3cLrKPk5+Dznddcv0xrUANUq5DoPwS7XF+7pZNYM7scmvFWTXbtI6CexEhAcoDYtRmw+DjDIKsYhUw5/+SfmRuJA9v0Eyve/17m2XqgTtPjOU+VJ5SbVkchsyWDYNudg7R/42gjDFYAcbRhDDZoKzRgpMxZHaUTtMVwhDR9QKSc0DjoHNUEkcBakDhUKrgmUAzH8wfzi96TqhN9e2lzek+g68STxRuZt2uvVuN0u8QT+fPop7w/gCdd932Lus/Wp8a7j/Nc91IzT2dI11Irx1iYOMIgCJtsi2XIFIEnVapJdcTmPGE8XdzHHRgdEgzRGMUovzBix/bHmrteL5+wE/AN54CCzIpwTqVzGFN/I433UksfExgDS3uMo7Sb3Vw3vHR0gWxn0DX4MVR7iOSJMI0YkMTUhNR76KEs14jOMKusgCBexD5gGUfqG9Sf6kP6+9+bkWNK6zOnY/urH8LTpct1C0wbVq+AE7Ov0m/ho9H3sduKd3DvjxO9i+VL5AenH1GrM7M/O14/lYQrwLeka0unm1CroWR3wUu1eqUbmI8gOxhcnL847jTa8LhMvviB4AIXocNpH3Ab4mAm28arDmaFmoTa8JtmQ5jTcZcqRxZ3L0tks6QHzgQR7G/wgaxVXCQwGdhO4LqdFgUgFOMgi6BTNFNghuy+KMmUqwRsRC0L91fQP9YH8WgKE/xvvN9g1y+fOTd8T8AD1/Oz13XHRr9Lr4JLy6P6s/gf2Cev83c3baul69zj9B/aV4sbS5c8a1lPaYOR2DZwvqRVO5QvTZ+ooJjVaeWERRyoergS2Ehgy2ULAPYQztypCEsX1OOkV4UDlV/7YBtnpWr5SozuqzMTp3c/qguA9zv7JTtLI4tnyZP6FEookDCCzEzINBg/KIcA7O0lMQqstLh1VFyMbKynpMtcsxyD3EQAD8fsD+vf/cgtPCsD62ebF1wXatux1/kYC7/dd6knj7ONU7lb9WAcsCR0CUPdH7bXnf/AvAUYHaP7W7PzcYNan2DLfz+KY9AUg4y3oAezWcdfaAhtD7WYiXN44KBN6CEsiRULoTNRBvzQOJ4UMKfdt7/rqPfjODiYHvt+ZtZ+mRrth2ljv4fDt3QnOPdA/3n3u8PiOBrQdFikLH4YOyQYvFTQzAkl2SSY2xCDAGZAd+CaVMKIwSyhgHfwN3//R+cv7SQhgE2IKJvKz2z7Twt7H9ZwE4gAv8qDkAd1E4Rnz4wHVB3UJKAGB8b7jsOH68kQFgwR1+N/q6Nyf0g3Tidui49n90SgwKZ730tBK17QO0VJ5au5UKCy4CHUL/yzdSNVMNz7fMcEhVAKc7QnpbuwjAwUTCvoyybOjZqQSw27fOu2n5ZDOU8PxyfzYWOkZ9f0FOBpOG10M3gCOA3QYgTIAQdg7ZiX+EzQV0R65K2w1wC9ZICcQBQNqAtEIhQsjDQEJZPlf56neceGb66f5tQE5+UTplt092VrjbvUdALACWPxU76bhMNfR3AXwtv02/OXm3sy0xHfJMtE92W/u8xnyJ3P6Tc3AzDb7RUPSad9ZHzFzCskGHSdCRExMBEKyMkUjZQjw8K3r8u4n/3IRdQI61PSqd6PJu/vZde/E7x3XkMAMvwbPvuZ++egG6BJjEk4FFP0TAEgPDSg4PAE+uyk7D6sG5RREKcQ0sTE5IB0LIv9LAUgKQQzVBroBOvut7wTmXeRR6Uj0d/1A+mHvLeZl4R/mtvN8/ncAFvxo80Hn6t455NvwXfkR+L3lQ892yrDRXtYa2mXzGSD/IyXxOsob0w0FoEdIaONWJCuf/7D7ASNcSyVYRkVrKNsR4/uJ8Un1kfn+BiESdfzR0RKwmqrkwjHjuPod+fjZQb2kuw7S4/FFCF8SDBRXCSD9qPxFBmkZbi9BPLY5cCTeCnUHKByGMhg5Ji/2G9kIOQF5BhcN+g6+DG0Fkfwz87DmDON38GUAewXX/yj0jOfu4UnpoveUAr4GaQEe8ivhXteN3TjxOP4d+GPhdck5w0jMwNML3rMCZyzNH+rlscV93PYaslxCcg9WwCOm/WcGAzSYWnVd70BLIhsMhPjM8736JP4PBtQFX+h1wKWp665wx1Pi0fPM7LbNQbVNu0Xai/6pFGQZNRI8A5b7/wVEHPIxAz32O+ovFxuXDPITZCn8Od830SMrDcz7w/YTA/IOQQ53BUv1Cee14aff/uYP+EwDuQFg9NrkG99k5AL0NQXCCbEDgvcf55vdv+Er8LT9NP1J6xbTfcapyifUzdhr6Y8T0ykOBgXT9saT7iY4OG3IZ6Y5gAS78TsSqUVAZYdazDHcCprwnOvV/YsL8wn7A9Pv18uzr5CtCcJx27ftbe6X14i56659xP/t+g+LGDsNyftZ74X1+hBxMAE/fjc4JokX8w9NFcwoXzwuP4ctxRNRAGj5xAMYFmUbCBAf+b7hgdxB5Ebs0Pad/Vb4CezK4bTfg+Wf8KL87/+Y+jH0VerP32fgZux9+VX8Eu/K2N7KP83H1YDb3+k2Duko7g8k3SfIoeWqKEllGHB+SBwM/OiAAKM8y2vNa2o+dAhU50TmYAEUGroaoQn46xrIAbJ7t+nO4uED6L/kEtVYvlq0VcR56J4KFRYGCt72t+ys9G8Pgi9rQaw7SCVeEEgMhRveM5hD9D6oKQQQ+v+XADANwRiqFm4HMvOV4jrgbuqQ81f2jfNs7EDmWuVT6//yIPV49Qr3T/jW+Q/3Oe966yLu2vMr+Sz1+ubh2Z7UcNZg2WnhWwCXJN0cm+0uzaHZlAz4R+dmcVf4IL/rNulaG4pZ4HXhWCgZpON61n/18yBYMdse9vXHyEivErre3YP3rPOG4JjMdr3kvFjQFu6KA8wG7vzm8BvuCfuGEL4i+ylMJ7wgdBl8E50X1ydCN5k4YytLGvINAwm7DDcWHBqDEfn/Ce7h41bmwvCn+0X9s/HM4v3cH+Pe7nj2v/Wj8mvvEu1X7TrthOu36zHtA/AD8p/tB+PD2M/TE9RL15/pkxHYJyEMDNyEyHvjlB6QVO9j20KjBo3gMfMUMOZn3261QHEBpdlQ4BoL2DE9NWMTvt6ytyW259SU9F35Hufazgu657Tyx1/mFPpB9yDnq9uu3Rjv+Ae0GMkZGg8cBhUJ8RL2HV4pIC+bK00iHBosGTgcAB/wHx0bchEHBmf7EPfR9zv37fSR8fDsP+hd5OXkjejC6bfoGejS6FTquOrX6onscezO6RHo2eg+7C/wZe/W55rdUdbk1RLj5AG+H8EbXvWo0wPX3/7VMOtNF0WiHa30I+uoCPc2plRCTAoky/aO4WvwBhROLvcpYQaC2M2+x8qj7VkFXf9E47bDvbbnxvvnZgCZ/c7l09Dw0JPnYwY1Fw0QCfwn8Pn3cQzsHXojqh7qFocTKRjbH78keyUxIVYZWxPQEfgSoBKHDf4Fkv3F9VfzHvZ19+3yY+rf43TiHOYm6tjoOuMn4KriMunI7Uvttey37t7vcu5l74f1rfsU/Nb31/L/8In0bQAjEQ8YbQyE+enwofweFsQqsi0AHd8DIPYs//MW0SqBKXwUb/xv8Aj1RwNLDxwQGQTa8Q7lnuSz7pn5e/y29s7tmeef5/Dtv/YQ/MD7Mfh89d72Lvom/UP/Mf+L/tkALgSMBQwEJgBA/lsCZgqdD/MNIgnZBRYG6wroEGETwRHdDXsIcQRMBBUIrAvwCZkC2vrZ98n4a/v//T//7Pst9PvufvEe9lX5rvxw/Ff2YvEE8yf5BAACA1ACNwGkAGX++fzE/n8CJgUYBcsChP+D/Of6q/yT/70At/7t+rr3h/a99gb3WvdF+DH5cfj49sD1h/U7+IH87f/yALn/E/+oAKwDKAZuBjcF+wTqBTEH+wYIBBQBOgBPAYACxgHB/yv9i/pJ+ez5Wvx1/u394vsD+5D89f7G//X+0P4RAE8CVwN/Ar4BDwJwA4UEFAT0AToAcgAsAoMDAAPTADj/o/7U/qsAVgI4AskA1/7e/bz+fAAGA64E7AN7ATn/4v4dAVkEFwdICAwHYAQmAogC4QSeB+MInQcZBFIATv6Y/kwApgFhAfX+c/z7+r76e/sS/cn+kP+G/+X+tv5s/2EB3wOGBdIF1wVFBuwFkwSzA7kE6AY2B0IFaAKg/z7+3P64AN0BoQGz/w/+CP4H/+gADQNPBIsEJAQxA1gD+QQhBxEJawlFCNAGKAVPBJgFRgeEB1gGPQSgAlACjwPNBAgF/gNdAugALwBOAVADAwXfBBMDaQG/AF0BoALfA9YE9gX7BusGeQb1BVIG6gd3CasKhgpvCPkFtwS4BNQFYAfrBm0EHAEt/yYA0AGSAgQCdACh/hT+Ov+HARUD7AJNAqAB3QHWAhQEAgUaBW8ElAPRArcCsQNhBFYEVQN8AnAC8AI3BJoF/wVaBV0EdwTnBa8HSAn5CRMK6Ak+CvgKhAw7DiIOzwtSCc0I8wlYCz0L/Qk3CGkGvAWiBvIHJgg8BsoDNAKVAmkE6AXPBaQDZQGkAHsBnAK7A+gDjAO/A10EagXCBkYHRweJBysI1QgoCRwJgggKCOkHYgjUCG0IXweGBg8GfAYIByIHsgX+A/0DlwQ0BaEFSQUZBB8D8wHrAT0DhQPOAr4BmQDg/1j/yf91APQAyAADAFD/XP+DADQC3gNYBPUD5gPWBBcGUggrCoYKXQp4Cs0KWgv6CxcMSQsUCm8JIwncCBEI0gZPBYgEoAT9BJEE8AIGAfX/MQCDAToDmgP0AXT/4f1w/rgAvgL8AloBEv8V/pT/YQJPBBEFqwRTA3MCJAPpBFwGCQflBnsG+gWCBacFXgYjB5MHnwftBv4FSQX3BPgECQWWBJQD/wI7AsoAm/8h/xj/A/9r/nn9fPzx+6r7+Pta/D78Mfxe/Jz82/x2/WD+f/9MANsAJgGzAbQCcwTmBZ4GLQeUB78HAQixCA4JPQkvCf4IjgjmB0kHgwZ3BeIE6gTJBMMD0gGI/3f+ov6P/5AAgQAx/0L9hvzR/fX/NQHdAUEBZf8C/2QAAAJ0AxgEGgMIAksCuQKgA1gEMQQcBHQEGgWJBXAFogVABooGrgaUBmgG1gWJBUoF3QQ6BPMCGQKVAaAAkP+J/rX98fxj/Df8Jvzw+6P75/ub/Gr9mv3C/f/9lP6W/34A9AE8A8ED9gN8BIUFHweHCB4JKwniCIQIKghICK4I+Qh4CD4HDwY5BRQFogSCA3QCoQEHAXwAlf+z/lX+j/5K/ycA/f8Y/6H+1v6J/zIAwwDbAN8AKgF/Af8BkAKyAsUC8wL6AgoDWgPNA8cDZQPOAlQCUAIPA8ID8wNqA2gCwAEaAfsAOwGtAdQBVAFOAPb+PP7F/Vb9Ef1X/D77Uvpx+Tz5a/l++WP5Cvk8+Rj6S/sT/Gz8bfwN/db+4ACYAnwDTQOcArQCVQRXBnsHUQdBBg0FFQQQBJQDBAOAAlMBEgBx/3X/Sv/D/t38Ufvr+ln6pPl0+bb5kfm4+JX3g/c/+Or44fn0+nn7r/tR+9z69Pv5/ZH/JQAPAM7/zv9jACgBvQETAuYBgAEXAakAiwAqAJX/nv/w/8n/a/+9/kT+qf3z/OL89Pxy/Dr7jPq/+b34L/j299v3Zfe/9jP2rfUv9Rb1v/Uh9yL4rvjo+OT4PPlc+tj7Nf1G/sP+HP9A/+j/8AASAjcDjwM1A4sC9QGhAekB+wGaAf0Aof9Z/tX9Zf3T/GT8sPtp+vn5GPu6+6/6SvlH+Zv52/g9+AP59/lV+vr6q/s0+0D6Yvr/+vf7jPyq/LT8jfwQ/Xj+xf+V//X+5v6r/0cAqQAUAfMAvwBwALUAsQAVAI//FP8Q/+P+Kf4+/XL8WPvg+Uf5WPk4+ff4VviD93/3Avia92n3M/gy+fX5IPoP+nb6dPt1/Pr9KP9q/1//Zv9JACYCRgMoA2MDRQPPAscCQwOcA0kDpwIMAnwBsgBKAK7/E//2/qf+CP4T/Sz85fvt+wH8G/z1+5r7R/ts+/v7uvxN/aD9t/28/e/9O/7Q/ub/zACpAHcAeQBZAI0ADQGqAfUB2wG+AZkBcwFuARMCOgNzA5UCRAGcAMIA1wATAWMB5gBG/5/98vz7/Dn9jf1k/Vn8J/um+sL69vqt+5H85fzR/JD8lfwz/Sf+Mf9TAEIBrQHaARYCPQKjAooDgAT+BKAENQT0A1gDNQOEA4wDAgM3ArUBfAE9AZ0ADABd/8D+iP4p/on9G/2B/er9o/0A/Yb8m/wb/c79Hf4N/tD91P2K/p3/cQC5AOMABQG4AZACugKMAgcC5QFeAooC6QFeAToBHgFNAWIBvwDw/2UAPwD9/vH+7v6e/kP+Fv4m/lP9gvyK/PD8/fwI/dv87vtM+xz7jvtd/ML8HP3w/Fz8ovyF/T7+v/45/9P/MwB6AOMAJQEqAfsA1ADlAB8BFAG7AEwA3f8CAAUAU//d/qz+NP6j/Wn9Lv2z/F387/t9+1L7QPuS+937lftF+zX7W/ui+y386vwt/QD9//wO/Rv9sP2+/ov/V//O/h3/r/8jAJ4AzwCnADgA0P8PAJIAmQCZAEkAwf9P/0f+tf21/Wj9Df1K/DX7kfpA+s35f/lV+Rj5pPgx+In4zvjW+G75AfpV+tb6qPv5+9b79fuV/MP91f5b/yX/E/8F/5oBTwmtCyIDoPoR+Ur6C/tC/qgCYgOqAZAAzf4Y+0T4W/jn+mH9JP4W/nX8nvmI+Nz42Pc89x75cfu2/EL9cP2Z/Uf9m/t0+v36OvzZ/Sj/LgApAQoBEwCx/xIA+gDeAagCuwOjBJ8F+wVjA63+QvuI+zD+EwC8AEEARv+J/rj97/zT+9j5svge+pj8vf0U/Xb8b/vS+Q36SPzC/ZH8oPvm+zn8gv1N/8gACAG7//cAlAW2BzcGQwQiA2YC7QHJAIn+EvwQ+hL7tv5JAdIB2wGwAdIA/QDHBisOtwnt/Gr3n/me+mr8JgPkBQIBjv/bAm4B7PwU/Bf9c/waAAkLuRR3F+0U8Q3U/wjyxO/T9cv6svz0/Yf9Ovub+bL4wfPZ7OfsMvMH+9UDpwv3DPkGkQBi/WD8fP3iAFEE7wVcBwIJhwlCB8sB2/v/96X39Pp2/2sC4wOCA4gA3vwF+zH6s/hr+Hb75ABMBFEFagXsA84BFQC4//X/agKwBiQJ1AgQBwQFlQJNAeD/q/7d/fb97gHhBgQJSAYrABP5OPN38cnzlvfS+dr7XP9kAbwAZf+T/U39df7+/Jv5OPcW96X2tPPW70zr9eZn5lTp2+v/7aTwdfMJ+eMCVgvqDPYLiA2pEOQTOhnIIGAiAh2FGAQWVRJiDfoJTgbd/075a/at9U3yfu246RLmFuM35P7oiu0A8GTxePTV+QkBtgj2DeAP5BB1EhgVuxluHgsfWxo9FO0Pyg0vC1IHlgMA/8f6WvhC9r7zTfF87VHoHuX15DHmUOgz6xzt8+zz65frX+vd693tkvA48YLueuwY7NbqZ+eu4kPeat1i62wKEySnJgUbvhDWDXoSHCDFMT446y0qIDIbQxucGGQQaAJ48GLgedzS5ijxnvB06CDdE9Ox0ILZE+nN86b3hPyDA7MLEBZBHrMdLhU3DfYL9RFbG1EiKyDxE7gGqv7r/SME8glFCn0GDgFo/fv9NQAm/wT6EPRz743v8Pbg/gH/cvnw8s3s0OgX6hryzfkx+wP4X/KV7pLu0exr5zTiXNwW1sDUBtjm2onY69PN4tsMZTEwOEQu1SQsIcQknjC1Qr9KJzsWI9AULhC6CzP/nu0v3D7KP8ElzHTfzOmM5gbbgNNB2ZbrmgGOENEWkBoQHhAjMi2MNQsxnR9XCiz+5P7gAsoDef8z9Snsd+qL7kj1+fnZ+rkA9w5ZHU4n8Cf/HW0R6wa5AdcC2AS8Alb9FvmE94r3Dffz8zbu2ekr7Bf0J/x8/Rf2s+yW4zjbRtnK26zaadYl07TP/8zuzMHarwcWO4ZMJkFwL4omJS2xODFCP0bTOF4eSwxXCU4KYwAY6KbPycA9u67E39ot7zr4fvSP7TnxSQCUEh8fJSMTJJAjQiN9KMAsPyR9Dzv2xeLy3t3mce4r8B7rmuRQ5KHttgNIG6whhx8cJMYs1jjCQMg2ryExChrz6OiU7jD1FvOz62LlrOUA7RH1TvhY9gT0KvNb9Sb9iv688gXmX9xv1WHWS9vK3Yrb7dGDxOy59b0u5zMtv1s9WxpDVC2DKjw2a0J4SZg+wB/aAzD+PwgBCXryQc8XsjCkkawOysTou/zKApf7rfcMA4MX4CW8JJ8bWhVMFCEaqiL7HqkJxurtz2rIddKk34bpP+/m8db0wvtdDOAkezTWNbo0RzVrOP44rCw0GDMC1ezf3R3YNNm1223dCuFs51rvzvnKA3MFtgC1/A38sf+bBN0CafVd4o/UodHZ1ijcuNriz9q/4q/XqWbAGfy0Q+pnaF2IQfQvgjMsQP5HtEaaNHETB/qf+QIDSvwH3vC4UKJRoGW1iNks+tUN8BA+CuUKTBkxKbcscCN1FuENnAuWD2kSDQfL7UHSLMHEwvvQht3w5J3tLPl+BvsV2CZmNr48VjjeNWw5IDooNCwkOwcx6xzccNSH1PjaiN3G4MTpd/Id/eIMKhYHETYGz/8QAb4G+wmjAt7vht1c0qnP39Zu3lzZlsdYtN6ogqpzxdQEZE54cOVjVEfENuI7EkYKR3dB1S5fDHfziPU0AVP8ct7HuS+k2qQBvsvkOgaZGSccPxXEFg8kpy0GKfcYfwiDAJsA8AX7B9T8V+hY0gfDvsSx08Pi8+5J++YHhRZwJigzgDw/QDc82zWEMEgpsR14C1f07uTu3RrYKdt85IbpEu5s9nEBeA+vG+AbmhBRA4r7ovq//Q0Amfes53nbG9KfzwbWZ9ddzZC/g7KuqzC6Me5pPThzL3HTUnE3/i+sOYU/KzobKN8FJujI53H4aP1s6T7Hh67/qg/A6+ZnCx4jIitxJLAg+ylzL1gmIhRL//HwSu2k8lX7KPt27JfWC8ctxvzQS+HH8Tz/FAu8GL8pSzr/QyxESDoMK/se8BYdD8AEI/UV5ffcydwk5LDvR/Uy9C329/9wDqQbQCBaF8MFU/hc8/PwmPDG7LLg+9aO0VjPs9RC1i/NF8JOtoOuLbzt75U+QnVzddVY0DyBLosuOC6jKbIdJf+F4czgHPG++HTr3c0Itjmxv8GJ53sREy9LOeowUCq4LtcuPiSoEKn5kurm4yfmK/Fx9cfqwdfyx5THc9Se4+rypwKaEMUfMTBHPRpGOUaSN6QgbA4hBJv+kPrf9I3scOUR5IXp7fNs+9v8hgC1CTIUsxztH3MYOwjh+pvzyO5F7bnnUtvm04rQk89R1LXT0ck3wKq357OnyJMFnlHFeTdyZVM0NRYphylFJuIfXBDv8ffdZ+M78EHypOIcyzm7wrqg0fn6bSFVOmA/bDS7LTUsxiZeG9QF/+2F4M7eZudA8QnxROY91/zOFdQW4UnvsPsACE0YoisBPK9Dk0FTNtgjTRKXBrr+SvlT85Ls+elG60LtG/NM+///7QOTCkUSuBnTHhYdERF1AVn3eO+B6hXq9uS93BzW8M0VzTvTJdAvxby6Y7NcvU7tMjmCcOx2Fl02PiMtzihjIwEcOhEM+rPkRORi8KHyreKdzBW+Fb7P0bf12hqNNhxBVzuDNHwwWiibGtIFc+5R4BXeuOV18OvxqeaC1VXMptEp35jta/vhCMkXiCg1N+M9ETvNMWYfOQuR/9731fIg8j3xSO8Q7nfsQO6j9fD8ZgJOCRMSVBj6GgYZfg5u/8/zv+yr6g3rAebP3Y7X/88FzLfO0ssswam1ma4svuH2PEQwdfd22VvaOvomSCEPHJ8TxwRe7LPbDd545+3oK906zVTBNsCF1dT8TyObPr5IWUKDOFswFyThEpb9oudS2pzZMeGJ6R/srOS81ujNa9Ei3TftVP/IDu8dNy3KNpg3sjIWLLwfdwvH99Hr5udC6qfs8OsX7OXt7e++84f7ugMbCrsRWRjcGuEYUw05/DDxhewp60rr3OUD2wXUItBZz9fR6cycvk6xIa7YyKsNr1freelwLFGHMq4izRuhFbAL8vdV4N/Wnd7S6E3mi9dRyVbBuse940gL7S8rSW9ORUQzOactBx7YCb3y6d5i1IzWvuE265TrCuRY2YXUWdnC5Rv5EA6dHKcmCjGnNjo06i4yKVcaeQKL7UDkiOZe60Lsvuwd71Tv3vHf+Kn/wAT2CPwPSRt4IyQf1g6L+3LuVOqK7aLwkOlc3gvX8M8dzhTRZcrcvZe0o7bZ4DMvX2pMectpt0uSMokjDBjBEI8F3Oxr1tTUj+Ln6nfjSdYpyW7CstBG8lkZOzxrTgNNJkUZOh0reBruBEzt/9yI1nzavOYa8H3vW+iV4FXd6uIW8v8FUReqI4ItRzafOVc0KywGInQPKvr/7Wbqq+mZ6XDr1vAy9KfzV/XQ+hYCsgnlEOkZtiGpII4W/wXv9dnuSe7R75Dv7ucg3yPZY9M90hjQ58RIuna3K8vrCDZS3nhAeFdfzkHNLOUaHA13Baf1i9/d1cPcyecG5+LcA9Txy4zLW979/9glZEODTEtHgzyULRgfThBp/aPqwtyQ10bevOrP8ljxy+jw4DnhUOyn/04TGSBrJnMrXjEJM9MuniVkFOv+gu/P6YrrN+8r8NvwwfFt79TtBfKI+p4EYwvbECUanCFAH9gRHP8Y8C/qeekB67fpf+KB3M3YgNdC15jPuMDgs4S15dyzJmlivXX8aXFNXDQwI0MT+AhL/RvovdkI3O/ir+Pg2yjU39ANz8HWBuz1CS8qWD9jRLdAbTZXKJwaEAp/9i3kp9ZM1XffaOsd8eXs8uRZ4DLjtfCcBZEYkyQHKysuVy+CLc0ouB7pDDL4G+c14MLjeOmB7J/uSPBQ8aPzB/im/xwIjA5gFWAdiCGVGwMNEfzZ7mnn8+Td4kPdQNl22OzYXtkq1dvJSb3zuMzRmRE2UhlvEmtFU0U5RSkgGycNwf8N6hXYpNj+4CHlP+EZ12/PL84t1mfqQAVVISQ47EHUQe06KCwHGrAI2feN6PTcTNl13wPoKu1Q7iLuRu0M7LHxUAEzE54gvCm1Li0wxi1XKEoggxFm/fzqmuA44gDrdvD28SHzX/T99439YAPzCTYQZBXgGdUcvxrsEH4B0fKT6D/kFuTJ4FLd5d0C3nnbVdQlyFu9KLtRz8wHUEmYas5pb1VBPQ0uNCHTEXgC3e2+2xfdLemr7q7nINdCy1TLEtfm7NEE/RmXLAg6CEHrP8EwShnYBFv2Ku0J51/jN+To5xLr7O0w8Pvu6uyh8r8AyxAIHucmmywML+8s0ihXIqYURAEm7mDiKeM265bx0PSo9A/z6fOG+HEAKAkJEdkWGhvEHWIc1BPVBYr3o+uo5Vvjct9028raqdvn2qjW0s1vxCnAMNBKAwpBzmELYj1SYj8eM60nchaEA97tkNxu3RfpNO3Y4prRr8j5zCbbVO/DATMShSTSNI4/PkBsMUca/gSn9dnts+mW5iHmFOex6JLqkelI55Howe9A/PEKRBj+I2wtzDDVLkoqpyGmE6oB4O304PnfZuRb6gvwNPES70DumfCw9woCZAzpFbsdeCJGIfgX9whT+ebtCOjP5KXgntt/18fUntPp0ATKi8BUvFDPsgP6Pt1c21y8TQ88GDFpJ/IYmAdn8wnjHOKF6dTpIN6VzmzHyslQ1CDm2fmAD0wnYzj5Pdc43ylKFzIIT/1f9WfvtOoh6M/n/ehe6CTmmOQg5QrrP/Y3BYUWsicKM4w1pDCIKGogjRT3BJr0X+hA5ArmI+nj6svqOehw59Lr2vTrAL4NPBhjHzEjjh++E94EwPj77xXqReZo4nneuNmB1QzSCM2bxSW/X8LF3fUTVEaLWtdVNUWLNSQsPCKuFu0KVvtZ7vXrMOzf5T/YeMqdxXzJU9V86HH+/RU4KoYzlTNvLqYkbBcTCQz+K/hQ9OvywvPC8djrauSj38zgh+XK7Jr4RgfoFjgmkzBwNGYysSqDHzoSSwOG9uXv++yY623q6Oet5cvl+Oc36+zxGv58DeYariIxInYZmQxUAUD8kvpq9vrtxOXA4A/eg9uj1crLL8DYuhLGW+uuIQFJL1M0S4E9NTJdKkAiBRlzDSAADPmg+Lr0FegI1Z7GyMPoyCzWtejn+xYRziRfMG0yySuKHssPhQS0/7z+k/2B/H/6wvVR76vn9eFh4evkCu3o+WQJKxgEIz8pzyzKLPEnTB9EE6gGh/vW897utOrP5lHj+uGx4YzjNegW8TL/eg1lGBEdvRnfD9QFGwKZASL/HffO6o3hudxg23TaktVMy42/Or6i0vj/BjDPSGFIRDltLCEozibUIjsYKAmR/d350/ex8EvhMc9qxiLHWM+Y3VTs8v3bEJsd/iL3IQ4cihPhCiMGiwZVBisDJf+f+iH12+xV5Mjgc+Lf6Cnzov4BDF0XxR02I9QljSS/IHAZaxBSB1T+7PYu8R/rCuXq4HPf9uCG41Ho1PJYAFYN+hQnFhQSOAmzAQb+i/wQ+kf08ew95gnh3dsi1bLM3cT7wVjLN+qxFp02gDxJMewnryeHKQcoiB/YErAIdwRABN0A9PPV33bP+Mcjy4TXR+Qo8Of9TAuVFI0WTxO/DfYHwQVnCCcM2AxoCuUEUP6M9TzrmOVc5Xjqh/Jo+c4A0QrPFA0ebiU8JkEh7Bk9FBoRtQu7Avn4j/HB7JPoKOVV4ivgNeHW5xDzSP8KCX0MGgpkBbkCGgP2ASf9kvYZ8ufuFuqd4+rb8dL8yobL7dsU/KwdjC+MLScjah/aIusl4iTnHqkW6BGCEVcQRgkL+tDm3NeN0l3X99+G5/7uofeIAekHbAjKBvYEtwM7BZ4Jzg2TELoRig/VCXABSPjV8avvqvIj+db/DAaMDCwV8BzMILcfPhqyFH4Q/wxxCSEGdALo/LT1ze1r5xfk9ePV5rnrQPIN+fv9xf+x/00BFATWA/79C/aF8Srx6PJj8p/tB+W7283YcONO/JQWkCPUHz8WLBTkG3YlxSfoIZ8YURJsERsSUw9nBXv3oupc4zvk8ehp7MDsOe2i8DT2VfyUAD4COgKoAvgEDAmJDE0Otg60C4wGTQHu/XT83vu+/Z4BvgbZDD8UKRoRGrkV7BD/DlgQmRBRDWUHFgHU+2D3HfIC7BHnPuRK5efpze5d8hT0s/UV+R3+mAKEA3X/Efiu8ojySPYW+lX5SPOz67/nluw2+k4J8hB+DikJxQkiEjQcLx9IGrMSNw67DngQdw9FCaz/fva+8NfvpfHQ8vjw7+2S7HzugPPC+Br88ftD+qf6+v2AAuMF8wbmBQQEPALFAG//ZP7s/nABvwRtB50JkQusDDQMkwrkCFwHewbRBdMEqgKj/yj9Y/vJ+Wz4zfeB9w/3wvbs9pf46vzdAvAHwwnGBw4EswC+/lX+nP5l/nf9m/yD+yn5MfWJ8HzsUuon6ynv0fT/+OH6dfxy/mIAeAGFAtgD7gQeBlEIAgtVDCEM0gqaCYIJHQmPB58F4QN+BNEGRwgTCN8FsQIYANb+K//R/9H+8vtG+er3svdR+I74BPgT95D2/ves+1AA6wQQCF4JEwndB10HvAfFCNEJ9QnUCNcGgQXqBGsEdwJU/x/9C/36/6kDiwWoBbEEawPcAe7/mf7K/cn8Mfyw/HD9BP3C+gL35/L77wXvju9p8M3xq/S7+Cr8Jf59/1EA3QAgAVsBNwI1BKwHiwtsDl0Pow6XDTcMZwuNCxQMegzFC5oKPwobCgwJVAYNAxcAoPwv+kr5qfkm+kb5Evhi91T38/ft+Jr6Dv0KANUD2weZCkILvAruCeUJbAp3CswJfggBB7kFqwTIA7QCSQFTAE0A0AHDA/YEggV3BVIFKQS/AfH+tfxG/BH9/v3T/tr9KfuE+M/2VPUm81nxVPAH8d3yRfXo+MX80/5G/jH8v/tl/X3/dAKGBdoG8QasBxcKbQ16DqgNYwymC58LbwzADm8Q8Q8CDRoIUQN3/778Vvuf+WL3zvQ+85HzpvQO9vf2//Ze9/X4j/s7/+0CXgYqCXcKcQpyCRsIqgZ4BTkFOAZXBjMEdgGS/z7+Yf6I/zgBwwJQA58D2wOOA7QBL//N/FD7D/uw+8j8gP3V/Kz6QPcb9BHySvGm8YnxpvAG77ft5+1E8If0MfkP/Ar9wvyS+3z7ef2QAUEGMgkWCuMJcwqGDPgOrRGaEkkRLQ8jDYEMvwt3CagFtACa+0P3Z/Tl8kXxbu977hTvtvBI8pv0Ifeh+aT78PzI/hYBTwSmCLEMPQ85DzwN1Ar5CJMIQgiaB+oFlgPXAYMAHQDTAMQBEgJsAVkAEP9o/XP7iPlQ+C/3C/er9+v3ZPh5+Ov2LvTo8MzumO527mjtSutN6RDpQ+uv8IX4CgEsB6sI3gUTAaL/IAO2CWoQrhNKE0gRiBCuEaYSrBL+ECcO1AqlB1EFEgJy/nv71fjk9Wvxhu1G60jqwusF78/y//XO+O375/4qASwD3gXUCL4L+A4jEvcUXBdlGDgXyBNcD+cL8gm0CDUH7QTxAcn+Fv3A/Ef8gvtf+iD5wvcm9l/0h/KS8THyIfSK9l74e/iG9vb0kfQI9LnzGvOI8g/yUPEL8o/16vuFA3YKjw4nD1EMZwjFBnUHVQpUDfkP4xF8EgwS5Q8ZDjoNogzyC5MJnwZBAjv9ovos+Qb42PVL8z/xxe+N74zwnvLv9An43PtD/ykCkQRaBlIIzgp3DbUPQhHNEY4RXRCNDh4NCwzUCnsI6gVGA0UAi/0c/Er80vx4/S7+Tf/L//b/Vv+E/Wv87fvD/KH9bP0s/an86vts+/36gvoP+Uz3l/Xb8z/y+fAn8QTy0/Oc9jP5Bvun+5379fu9+z38/f2yAIoEOAjBC5kO8xBHEgoTpBPbEpcR7w95DSILTAgcBXECzP+//QL8PfqR+GT3gvYL9rD2QPfv93L4Jvmm+uP73Pyo/Rz+8f75/xsBOQL3ARQBagDwANsBiQJDA+MDvASeBQAH5AdGCPwI7QgsCPcGlQWhBEoDWQIvAbD/kf7r/fj9PP3H+8v5UvcV9SfzqvFs8IHvPu/W7vjt5uxv7DHtT+5g7wzxZPJw8wn1lvcs+/z+jgJaBrIKRA7JEJkSWRNtE08TFBOrEscQjA57DE4KMAjwBUoEDwMEAjQBXQA//5L9tPuf+t35Bfrh+e34tPfO9iH3ffdl9zv4cfkz+gr7ofvh/JX+VgAXAqADRAVPBywJ/wpcDN8MwQxrDNELPgo2CD0GKQTFAjsChAFGAGr+S/zz+cn3PPUm863xWPCq787u9u157RTtIu1q7h3w+/G188v0LvZs9zj5xPud/l0CzgacC1kPDRKCFCAWzxZhFl4V2ROJEaQPnQ4+DWULyAnICGMIbwcLBlgE5wF3/4b+Kv7D/Yz85/o8+mf5TPk1+eX4FvmP+V36Xvv4+1z8yfxF/ez+IwHLA6kGAQnyCuwMHA62DhcPZQ4+DbYL+wl2CL0GTgXrBPgDvgKRAQoAPv6f++T43van9YT0QfP18c3wyu9f76DvNPDH8HnxWvJS86P0AfaR91j5MPzS/w0ERAnFDaAQlhJmFM4VuxXkFOUTghKCETkQhQ5hDIELlQtHCxgKwQhgBwYF8QI9AYQAiP++/lL9UPwy++b5jfnW+BD5bvkn+bj4XvgB+G/4avjG+Vr8u/60AYgEIAfiCA4Kngo4Cs4J6QgQCAgHnwXvBBsEewMAAycCGQHN/4/9YPvo+Gf2RvTd8uzxTvDa7tTto+367cDub++o7wDwxvBt8ajytvQY97D66/7fA10IfgthDjAQZxFMEkUSYxHnD94NCAxXCqwI4QdhBykHvAbeBdoEYQNJAd7/Df8A/nz9F/0d/cT8vfuI+1r71vqV+vP5A/kc+GL3Ufd/9674mvpC/PD95//0AWYDjwSVBREG+wXyBKkDWAKwAAkAxf+6/x8ABACT/6H+Cv3E+kH44/US9KzyXfFS8FDvlu7U7s3vfvAN8SXxAfFU8cnx9vII9bj3efuS/9MDwAd+CksNkQ8pEUsRRxHZEREQsg3vCykKXwhBB7MGjQbzBYAETwMaAY//r/4y/br8tfz6+8H7Hfx6/L78j/wC/T/9vvz6+xb7avpA+tD67/sG/vr/wAF2A8IEPwZDByYIJAibB6AG+ASYA+AB+ABnABQAXACx/37+Lv3Z+8r5Vfcz9RLzgvEr8H7vXu9O8N7xi/ML9V/1YPVB9UX18/Xh93b6CP7rAc4FRAk+C6UN1A9EEVkSqhK2EtsR/g+MDjYNDgxwC8MKJwrQCBAHAgVMAyYCzwDa/+b+yv6l/uf9xf35/Qb/agBDAccBMQEGAAX/M/5k/tX+NABbAh0EswVZBuIG2wfZCJMJrAkkCR0Iiwa2BFADMgJTAWkAG/+n/Tv8gvpq+EH2WfRV8mTwAe/27c/tfe628Fz0ZvdS+Tf6dfqe+mD6Z/vf/R4B3gTRByQLcA0fD5IQNhEwEpASrhKfERQQiA6pDIYLvArMClYKrwi1BqkEGQOwAHf+qP3e/Lr8+/zM/N/8GP31/Rz/MgBMAUIB1ACLAGgAKQDs/4sApAHNAuED9gT5BaIGvgYABoIFUgWjBOcDzQJRAZb/Dv6i/Jr7Zfqt+Lb2CfR28QPv2ewP68DpT+gZ6PDpB+3t8OfzaPYe+FT51Pqz+/L8If8SAicGYgq4DasPTREkExgUZxSGEzcSrxCiDt8MBQumCeUIcghaBwkGVATjAZb/b/0C/Fz6jvjf9xz4ZPgs+ZL6C/x0/ZX+WP9+/yv/5P6r/tj++P9qAcsCNgSmBYAG8QY1B+sHPggKB3AFrAMWAqEAPP93/tD9qPwP+z759/Y+9Abxwu1b6+Homubn5CbkLuUf6GbsBvF29Pb2YfjL+Mv68/zo/2oEbQmzDSsRYRMPFQoXdBdmF8IVWBQnEwwQNA2cC0oKEwnJCIQITQcmBZYCKgAE/oL8Ovua+bT49/c892r3d/hX+iP8qP08/73/Tv+x/sD+zf9VASUDzASTBhYIgAkXCnwKAgtTClEJEgjoBuoF9gMdAusAd/9E/ij9y/sH+mX39fOo8HTtQOro5yPmCubN56Dquu6N8rL1qvcP+Q371/yi/w8DKwcVDGIQGhQsF+AZbxv4G+Yb1BroGLAVgRL5DzIOJw0fDPwKKAkMB+8ExwIDARr/Fv2Z+8r5ffiA98v2mvdV+Wj7M/2c/iH/rv7+/a39vv2D/iYAWQI1BAoGmAfvCGAK/wqcC2sLsAqeCasHLwU9AzECcAGjAMH/8f4k/Wj6dfdG9J3wwuxl6d7m3eWv5tTpT+5Y8rn0dfVX99j4/PlL/PP/CAXqCu8PFBMaFncY0RpCHMkcjxyzGkgXzROBEUoPOw32CycLBwqVCMYF1AI2AGf9M/tG+Zf3fvY89X30UvXY9m/4vvn/+ir86fu0+hb6v/lT+kX8gf4bAS8DVASeBZYGvwe0CGEIUAcxBoEEcwJBAV0AW/+w/t399Pyx+2H5p/aH87nv1OtG6EblfOQZ5njppO0o8aXz0vS89T32l/f6+if/nwQbCScMNw/YEuIVoBfqGO0Y5BiZF54USxFZDgwMgQqoCQYJPQjZBtcENgIMAO/9//sV+kH4M/YV9GXz5/OK9X73efln+/n7xvqn+QT5k/l7+5v9SwCjAl4EfQVtBjMHjgcOCMUHnQaKBeIDLwLiAHD/yv29+wH6a/h19tfznvF/7pjq0+YW5A3kFOb76d7tlvHr9J72uPdj+Z/7yf4FAzwH7As/EHASkhTOFX0WPxfhFrMWjBWFEhQPbwzfCvgJ3wi3B2MG8gT1AuAA8P7Z/fX8+frO+d/48ffB94j4d/oT/Yb+wf7K/mb+Lf8QAWUC2gLFAqIChQPABRsIoAk6Ch0KnwhXBQMBSP0Y+mT4G/h893v2j/Sk8QzuE+q+5SXhTtx12XXaquDM6xr4/ADFBW8H2AdxCXQLDBCSFp0dUCPFJKQk4ST1JB0kHCFFHKYWGhFCDK0IhgbHBE8CD/5w9+Lvx+lD5gDm2ueV6nPtIO+s7zPwg/Gq9Vb8sAInCFkMHRDFFDQZoh0zIrYkliM0H/AY9BILD7sN1w0UDTkKRwQl/PHzzexh55Dj/eD63w3f0d2C3G3al9db1OnR6s/rzgfRk9iU5yX8ZA85Gs0a4RVfEfUT4x7hLSM9jkbHRg0+fTDKIwccAhkzF6UUmBBOCzkFGf6s9g7vxOU02+7SldBO1bzeUefh6/DrfOgn5Unl5usq+ckIUBflIZwmZCaJI18hgSL7Jcgp2ysgKmklbB4/FXAM2wPm+7L18PAn7lrr6+ae4IPZStP1z03Qo9I01XfWU9XK0ojQgc9Z0IHUK96g7Y0BGxVvIP4ffxklFhcbUiefNYNA80MnPh4xFCLJFgQSihEaEYIOjgrbBLT84PMD6/PhhNmB02zTitnv4Tjp3+tW6Uzl9+Ij5qHvPfwUClgW/h4mI5Ah8B1uHPEdaSOoKZksrSqFIu0W9Qs4Ax/+d/vt+Av2/vGQ6wDjkdre1GnRK9D/0cnULtfd1w7WU9OY0D/PFdEX1yrjUPaHDeofLCTBGz4SlRIFH74xbkIZSsNFPDdGJEIV4Q5JD+MRvxEgDr0IkgDA9m7t2+PT2nLUUtMQ2gjlTO1n7zzrbeSi4NTjwe5z/1sRnx3YIGge+RqgGZUceiJkKFAtLS8pLDclSBs6EHsHxQGI/iH97Ppi9hnv6eTH2qHT+c9Y0HrTENa61lPVGdHpzGDMa85z0l7ZpOXU+kwUQiVwJskcuBRYGLQnejxmTY1SdEouOPgjpBadEuwUDRhsF8oS7wpZAPj0N+nA3X3US9Bu00Tcmeaz7Dzr1OOB3A3cmuR79ekJ7Bn6IcYioyDaH0Qh6CWELGgyGTa9Nd8wryg6HlwT/QlzA8cA1/+e/Rr3z+vm33HW1tCGz9XRstQu1YDS7808yivIjsh8y3rSt+Du9hcR0iNLJvYbVRKkFbQmKD2+TjhUJEy7OpAn9xpOF38Y0xm7F1ISiAv6Anv4jOyh4PfW4tFP1NXcT+Yv60roBOC12IbYteE38TMBVA7xFqwdNiNoI38gGB5aIH0pfTSqOt03ACwKGoEJEgCC/cD/nAEH/bTyYeZz2uPSgM9AzsPOEM90zvzNms0AzPXJKMgJyEXPSeFw/VEa5idaI0QWPQ4QFYEnxjwBS0VM6EHGMBggiBUyEUIQEBCJDmMMkAdZ/oDy4OTT2FXRedAH1/bgueex6JPjK9t013HbQefa96IHdRMYGZ0ajhq/GVwasx7yJhIwtjXoM3kqKR0MD5YDqf1t/Er9ivsP9H7oBNxJ0dPKmcnMy53OVM91zSHKNcZOwnzAL8IBypTc9fhWFkYkjh4fEgQMaRUTK7pBqU//TnBBfy6AHrsWRRahFtcTew5pCLcBxPmL8Jjl09kZ0BvNzdJe3Ujlc+ZB4tXa3NUv2DThze/o/0ENwxZyG7kd6R1/HPYexCV4Lpg2lTnCNP0oMxntCvkBBP58/Z/8Xfgn7zLjKdhMzxXKwceSxjvG1MamxgbFMsItv4a/gsZV2Xj45haFJBEfWBMIEHwaEC8wRblS1FHRQ+8wgyIFHFsaGxnbFdMQzAoxA+X6jvGO5ovaPtAwzT7TKN6J5vvnV+Lt2TrV/dfh4pnxaf8sCXsOPBN5GaYfHiNPI0Ek+SkwMjQ4EDiOMEUi1hEkBfb+EP8JALX9sfbR6xrgktZ90JrOsM5MzTPL/MnlyJPHpcW9xHfIB9Tz624LrCCJIm4YXw+8EnsiRTdySJpOI0dSNgolNRsZGX4ZMhj1E4cORwfI/gX2WOwE4RbWXM9H0JrYGuMV6gDqjeK62b3WPtwB6qH56AXVDKwObBAwFa4dLifuK6AsKCwOLGAtSS7BKmUhERQ4Bhr9pvjK9wj4//Me6/vfXNcn1MrT3tOj0hbQTc2dyv/Jt8tZzSfPcdYr6roIwSAoJQYbjQ73DDwaTDAcRRJOz0a7MmUdpxGiEKwTtBRoEWAKPQG295HwROsX5NjZftBEzhbVZOAv6dXq9+S73G3YRttG5mb13wKsCkkMYAtwDJkQxhcyIHEmVSvMLRctJSpHIw4a5BDRCJsDCwGe/qb5NPFi5+Xe99i/1sXX3tnA2mPYFdTC0S7TeNc822vbENld1yPcW+3QBysgFynOINkS0QozEPAgczSGQcJBozSlITgSsQogCbAImAYDAyj+lfgY85bsFeSz2DvOScpBz7Lbcel+8CnvL+eI3rLc6eNB8jMBtArPDoUQuhFTExMT5BIGFZ8aVyL0JwkrMCrJIlEWJQj0/Cb41Pjw+WT4Z/Qe7fzkRd1g2Xrawt7h4ynneuio6IDohudg5kXn9uon7zXy/vJ69CT6lAQQEXcYehdwEY0LTgtjEYka0yEyIvkbxRG3CIIERwR9BHECkv6Z+h745PYb9SXxhOoP4xffZeAE5gju3vRR+E73P/M18WbzTPlbAH8GhgvfDXcOkQ7jDSgNKAwzCjwJqgulD1cSLhLJDTEIpQIG/k39Iv50/z3/6fuw9/7zjvHO8IPxxfJm9HT2j/hG+/P+hgF2AJ777PXq8eDx8PTz91b4DPQg7fTom+sE9gIEPA1YDn8IggA//i8DvAtXE0oVfBEGCxkGFATXAX3+Rvpy9azzKvZ0+rL9Z/2u+K7x7exy7THzvfq+AHgCnAAu/pD81vzR/mwATAE9AQoBfgJnBOUFWQXWAisA0/5O/1MBOAR8Bi4GWwIw/Zb5Dfni+Zr6//w/AVgEgAUMBAMAl/1p/dT+WwJYBSUGuwQsAnr/pf1u/Nn5p/ZT85jvrOwT6uTlNeC32TTURdNh2Ovix/MMAvoFowNJ/jz9WwKbCnUT9RlJHUUcJBgFFJARFQ5aCHsBrfy9/JX/IANxBT4CC/nV7UXlguP75vHrXfH69Dz2rvU285zxsfAB8O/w9vOl+aoAVAY6CuALhArNB5UFygVuCOEKOgtJClYIbwUNArn+N/we+Ub09+9J7bnsaO4q8CzxB/FO8OPwUvMz9zb7AP10/eD9Sv9MAmoGjgn0CTQIhgS+ADX+7vxN/HX8yfxz/P36F/lH94n0jfHF8O7yAfdz+9n9lv7R/sQAKAS9B+AJRAvxDFcM4gtECQ8GLAV9A40C+AGSAqMCmAAH/Q74ovSk8c3uO+zE6fLmZOIm3djZHNka2nfcJeSR8Zv8VgS/BmwFWQWIBrYKtBBqFx0cEBxPGm4a8hpGGCsTVwxMBZwANv3G/Lb9KPwB9/nuWunC50jnj+ew56/mp+ck6hTu/vPV+Gn79fv3+1H9HgADBG4I4Qu6DT8P3hAyEhkT/BFHDx8M/AgfBgkE9ANMBEEDwgDp/JL4LvVl87Xyk/KI8rPylvP59KP2j/jj+lb9Sf/3/5cAxAFCA5sEKAWqBYEG1QclCNsHjQfdBvYFPAUmBToF2QQ7BLADcQKUAML9k/pI+Cb3U/d6+Mv5rPqp+jb6S/ot+3L8iv2+/owAtgLvBDIHxgisCV4JMQiQB5sHAghLCBAI/AYsBUwD8QH4ADEAUf97/jD+1/24/DT7dPlH+PL3AfiQ+H/5Dvud/EP+iAAUApECuwKqAmQDVAS0BNUFagZYBt4FRQQNA3wCWQLJASEBMgGmAQwCoQInAxsDzATnBicI+wgXCDYGCQWCA5QAAP4Y+1L4k/Z99Kry3vHg8YHxAvHP8MnvTu/X7t3uUfGL9S/8WwNFCFwKFQseCzcLYgwCDA0LegpBCS8JmAqtDJkNmwtrB6QCaf9G/t39cv3x+0j59fbX9WL2ffcm98D1E/Ty8pLz4/Qs9uv2f/b59Wn3BPv4/7YEbgcCCagJ9AmmCqQLKgyvC4YKMAmnCIIIlQdNBRACQf7M+jT4dPaH9XD08vLK8Uzxn/Fy8nTzyfQp9tz34/nd+/j9zP9VAcUCfwTBBlAIuQm9CgwLfwtqCzsLmQpHCaoH7wV3BGkDEwNjAj8Baf/7/DL70fkO+Nj1D/SD8j/yAPO/8zb16faX9wL48fhp+vH8dP9iAtgEUQYACDgJ/AmuCsAKYApUCp8KjgpxCQ8INwamA9UALf7q+0T6gPl8+UX6QPut+2/7nvp4+jr7kPxF/rH/vgAxAQwC5ANnBo0Ixwm8CX4ISgcIBtMEjgO7AVYATf9d/6YA9QBmAGH+EfuV+Ov2xfVs9Qf1hPR39DP1xPfo+7n/lAIXBDsFKQfVCDgKuArOClwKmwnLCewKMwzmDJAMWAspCpoIyAZEBAIByf2T+qf3ZPaU9ib3y/dY+DX5YPpz+wX8Z/uQ+nn68PrR/GP/6gGfA44E/QW+B78JwQtODfkNTw3+C5sKigmeCFsH7wXyBPQEJwUBBR0E7gL1AHP+bvwo+9j6m/or+vr5G/qI+nH7XPw+/d79sP66/xQBVQLfApEDNQXtB70JxAovDMIMuAwjDBUL0QmMCF4GhQMoAloAPv+F/lz9fvw1+1v6jvkK+pT6HPoo+hX69/lw+tL6Jfu2+wb9Rf9EAbYC5gObBCQFnwUqBpMGjAZABrEFSwVTBYcFAgWSBOYD5wImApwBqwD//gb9KPsp+pX5lfmK+Uv5yfiA+Pz48PlB+wv8ofwK/V/9s/5BAM4B/AKgA8EEuwXKBp0HFQgHCP4G8gXaBOsD+gLjASsBhwABAFD/2f5w/lX9F/wh+6f6hPpi+vX58PnU+eT56fn1+Rr6kfkV+ej4fvl5+of7kPy6/e/+BwDEAJIBeAIWA3ADewOTA8AD7gOnAxsDbQKjAegAZQBHADQAuf8W/1b+3v3g/f799/19/TH9+PzW/Mj8t/ws/cr9jf40/4b/QABKAEz/CP85/0b/sv/u/6X/gv9XAFgAmQADAgwC1QEzAUwAOADv/7r+wP2K/BL7C/pL+Zb5rPpo++X7Iv1n/qb/HAAEAR4CxgIPBOQE/QW2BrEGNAbSBfcF2QVpBVcEDQPmAdIAMQCY/4H+af0R/BL7fPrI+Yn5Y/lj+WH5g/mz+Tf6Bvvh+8n8Lv0m/mj/6AB7AsMD9wQqBm4HlwhcCawJiQnOCPYHMwfZBl0GxQWIBEkDQALrAMv/ev6F/Zb80/s/+/L6uvqG+tT6SPvK+338j/2n/vb/WQF3Aj4DFAStBD8F6gU5BtIG/wasBjQG1gVTBYkE1QM4A9AC+AHNAJD/Ov7v/MD7+PoG+yf7dfvF+9/7ZPy2/Jz9mv56/2sANwEvAmcDjAT5BK8FQgYAB5cI9QkrC7ELvAqSCWMIyAYTBUYDfwGU/9n9uvwa/Vn9z/zj+5/6N/vk+zf8wPx7/Mr8Dv3p/LL+1wCrAdsCKgTYBdgHVAjFB28HkwZTBXQD8wF8Aeb/U/7G/N764Pli+c34bPiL+OX4VfmX+fv5cfrF+kz7ZPzl/aL/MwF6AucDGQXGBQwGSAa1BhIHGQdDByoHoAa9BWkERgNEAn0BawA2//79svyj+6X6w/mx+N33VffW9tn2HvfD9wX53fnX+hD88/zd/aD+cv9aAHABYQILA5YD3wMsBCYE8QPgA3oDkgJeAYoA3f8k/23+a/3D/AH8QPvE+jL60fmB+Z/56Pkm+qT6D/sw+377KPwN/Rf+E/+k//7/ngD3ALcB0gI0A4cDfgMMA84CNwKqAeYA5/9V/zT/XP/m/mP+1v03/fv87Pwt/Vb9Rf3q/J/8lPxw/GL8Lfz4+7j8zP1z/gj/EgCHAPUA0wEBAhAElwW9BUEG5ASyBMME/wK2AdX/xv2E/Bn7FfpX+nv6bfkS+Tz6Tvya/Vv+1f5i/lP/c/96/vj9XfzQ+sT5a/nE+VL6a/om+oT71/3g/1ABowFIAhADKAPcAk8C4wFQAUABTQGYASMCBQLyAdMBqwGIASoBKgDA/rD9hvzK+5H7c/ux++H7k/xu/dP+bQAJAZcBgQFyAWQBpABeAFAAGQBfABIBuwGZAtsCuwLzAgQD8AKaAuYBOAFpAKj/W/8E/7P+r/7M/gX/hv8wAOMASAF3AdIBIQI5Ag8CYwHQAB0BRwHFAXACiQK6AiQDiQOFA1YDWgO1A+wDMwRwBFIEfwToBEIF6QV6Bo8GtAZaBq4FFgVgBHMDrwIoAkwBkABb/9H9Gf2S/Nf7F/sp+jH5Gfiw9sH12fWS9dT0EvSI8/fzp/Qf9tn3jPn/+5390f4OAeYCJARZBUYGnQdfCI0I5gi8CaQKhQooCvoJuwkOCQ4IkgZ3BDYCnQAI/yX9p/v7+QD5Svhq98D3K/gf+Hv4wfg8+SD6v/pf+zf8+/zz/Rb/bwBEAngDWwSGBVMGqwa5BqQGPQaYBesEAAThAsgBmgDK/xv/Yv6h/Zv8m/vE+iz6zPlp+SX5Nvky+bD5Y/ol+zX+6gLWBGEF+AaQB7kJcAutClsKhQg5BvQF5gURBTYEFwIKAJH/sf6d/c77q/nW9w/28vRu8z7yEvHG7w7w3/Dv8fvya/O782L0MPXK9Rr38Phc+s38y//WAYEE+AavCKkKGgzsDD8NxwwnDOoKPQlYCHMGbgTAAtAAav+v/ZP8jfvC+cz3O/ap9APzvfLS8vzyO/Tw9Rz3svjv+z//OwEpA6cFswdeCYQKvAvBDHkNtw7nDr0OVg53DX8MNAvtCYgHCgV4AiQABv6T+0/6rfgX9yH27PQx9OzzIPPc8e3wJfD17yLwWvCW8MrwHvGK8a/xefCR7lTspuvu7zT26ftIAUMFWQo3EAgWzxt8Ha8c6hq9GJQY/xiWF7ATBhCKDTwMFQvMCMAFfAAr+1/35vNg8Njsb+nw5qvmAOj76iXu8vCy80/2cfqr/p4BtwMSBbUF7AZbCQIMRg6mD+QQrBE/EtgT2RSrEyQRAg/gDeYMzwojCAgFZAJMAWEAUf/o/cD7uPlr+fD5G/og+nv5S/kT+kP7jvwG/Vb9/v0Z/gT+CP6C/br87/u3+4b75vqW+Vn3dPWU8/PxRvDx7v3u5O8D8dLz6PiH/R8C2QYFC5UOqhDaEqgUrxS2E4cT3ROgE+gTixPVEQEQFw/RDKwI4gTzACj8UfeW9E/yUe/07IbrwOsL7RDv4fDM8ZfzYvWx9m74Ifri+3X+bwSrC24P0xMeGRIcyR78H+UfeR5SGpkWAxTkD9sLywjzBIIBfv9n/Z/6Bvjz9DPxKO7r65/pKug46NPodOnE6RPrRu6w8DbyXfMS9FH0C/WJ9Zb1NvcZ9zH19fQV9YT0rPWh+YQAEwZyB+EJwwwZDw4SuBIgE+ERCw9cDosOzA7XDbsLBwruCEQH3gTpAan+cfve97T0vvL68OTute0I7pPunu/Z8QX0rvVY94z5NvuT/Br/RQJ2BdwIswvlDSYRVBSVFS8XyRZUFLsS4w8rDSYK6wZUBKMBif+K/fb7evp6+JP2kfQU8x3yvvCY7uztz+4L8CPyY/Nb9Mb1QPbW9cL2d/iZ+NX3LPlB+7z7fvsQ+536N/oA+iP63/n5+Bb4OPgK+3z/6QHhAgQFYQceClwMEA5uDhoMZgqsCuMKyQrLCU0InwdDByIHdQbPBGkC4//t/Wr8P/u0+Z/3lvZh9sL2lffL9873lPgl+s38Df+5AIICigMWBmIJqAvkDBsNjg3xDqkPuQ+uD6wNnwvjCocKDgqQCPgGJAWxAvIA3f6S/Hb6NPhP9mH1pPVi9R/1c/XF9Xb20fZH9+H3Ufgo+C/4CvqL+6b8ef2H/aj+GgC2APQAIgFpAeYArgAFAvICagHW/2YAKwF8ATMBYgHuApMDXQPuBKUGnwbNBb0FfAZ7BooGegXpA1ADFwLFAS8CcQLsAVABUQEuAfYBQQJDAcMA+AD+ACAB7wFEA74DnQNWBFAFBQamBWAF9AV8BRcFeAXHBWcFiwQiBOYElQUqBQcFNATHARQAVwExAen9E/w//Bj8cvoq+ef5IPsC+//5wPn7+qj7QvoL+hn7jvt+/BD8Evtd+z3/TwDO/az/LwHzAJ//0v/eAcoAGf+JALEBPQC4/wMBrAA4/7r+8v4k/dT71/x6/K37lPqG+pf6rfin9lv3v/kg+bf1yfZ8+0z8VPvT/fb/4f9oAGABVwOCBHYEDQWrBrgH2wdbCPYIJgjlB60HpQb5BSIELgIUAnECxwAM/y7/tf/E/Xz7oPkX+2P8oPeO9of6hPuH+K72e/po+xj3R/df+oX7d/i7+M77iPrU+2z+yP6s/cn8lAD/AAP/Uv79/RoB7f47++0BUgL++879yP/z/VL3ffs+Aon6fPjb/lUAk/oP9zP6kfyy/Xv8dfnq+oD7Qfqq+cv5NvsG+hj7bv3R/KL5E/q4AL/+2/ga+z8BowG4/Qf+PQEMAgkBrP+2AQoDNAA4AOAA/v5a/TsAuf4A+jv7ygDy/5r5cfqI/5n/EvnK+HD97/0q+oD5YwACAy/99ftV/gb/vgE8AToAKQJ2/gz9PACdAaoBR/y4ALcCvvzI/icDxgFM/ZX/Z/8S/DX8Rv8r/tf8m/6c/+P90vvQAKgDHP0x+iIBWwCw+27/aAIxAOb96AFvA9T9MP6bAikAZfmT/BYDHv9/+u/6KgFnBTUAc/vz/mwDsgCc/Q0DSgYTAej9vgDhBl4EU/98/UcBRQWe/hX9nwFCBAz/3/eK/xEHR/3r9ukBpAez+23znwE7CG782/Yx/tEK0QAm+J7+DgY3BgP7FwBuCM4C0/4YBKMLQQcU+wgBiQqXBOr+5wD7BA0AHwBsBVYCd/0q/MP+T/ub/Mf/dP7R/KX83ADq/Ov5afuL/+sAgP3U/nr/VP0DAEUDKwNO/QH76AP3BFX/H/+VBJgCjP0N/vMFIwit/oX5ef+7BWoA7P8AAKD81fwHAXIBLPyw+j/+Cv52+53/9gHC+xn6SgFqAlP8iPin/uD+T/u7/2v+j/2DAH8CdQOr//IAAQK9/d8AJAYNBPL+vgE7A3v/8AGIAl0C4/8u/qn/Af+X/9UB8P4595T9kAPeACP5+v7iBQT47/k8Akv/ffy2/S0CV//o/RD/gf23AMj/qf5hAPb/3f6wAdj+nf2rAhsASwCt/5v9+P2WAP4Au/sY/zYDlvw8+ToACgPG/P38W//H/XYAzf6y/Tb8Y/27AxH/6PtO/loCMwDm+mj+NAIRAT/9G/9vBcIBrvu9/nQB7gK3ASYALgDPAKcE1wAgAZ8EUgFTAGYEYgjrAMv8LwHNBk0FRv5h/X//4APwB+wBofkOAY8FHv/V/G8CpQEQ/rb/cAAEAxkC3/4M+lz/lwQFASn9T/wXBVwEQf4t/GMC1Adg//v7TwDFB5gDn/xtAUMHVQXt/O39rAP4CKcGkvtz/FwDkgNf/5z9dwOqAAT82PwOAlwFWP2P/P3/ygEGAZsAuwIrAhcBUADjABwGOgUw/9/+mgX9CzYEjfx//3wMOApJ/ND/2glbB+b9ef8GB6YIPADJ+xoE6AoiBPP7rgEmCdEA7fvDAg8FBgIxAjIDyQFtAJb/gQDtAFQCIQIwAQgBMgC2AkwGPwK2/eL+5gM5BEf/7AKmA6f8RQBaCRkFQP2FAIoEtANS/7D/TgO9BNADF/+CAI8FZgWn/4/9iAKBAl394P8tA+r/Tfza/K//TwKx/4/8c/5SBDoE8f5k/jn/5f7C/sYD5AG//LX/ggb3A2r8SP63BnEH3P6a/TgEfQeQBCcBeAC8BPoG4gEqAIMC/gKsAn0C7wKpAW7//f/xAfcAfPzp/KcEGQH/+N39qAR8A9f6Y/jjAnwETPx1/JIDigMv/lH+R/7SAJQEUACc/NwBWARb/93+QgKT/+P7RgDBBkQE6vsX/OAEkAM0/Bz/3wB3/JkAdgTQ/wD8bP4eAQX/6P+Y/R35ef1XA7b/xvqk/E4A1P8m/jT+GgBYAzEAo/0t/8oB9gXP/gP/HwYvANv9oANRCFwD2wBZBAUDFAO4Ag//zf1NAUMFAAMRAA3/kf9p/97+agMTAvf7h/1RAR8DE/6R/CUBvgAF/8n8owDjApYB2wFx/1EC7ARsAuoA0ADpA2UCcv54AcUFkQKa/ZL/CATqAXf+LALRBSH+WvsPBeoCBP1O/3IE2wKT/KX/xAJ3Av0ArQBDAgj//f8cApkBYwBXABsCuAGnAWcBKQDJAdoBrADvArsCFALOAkUD3gKgA+ME7wOTApYCkwPbBW4GAgOTA6EHmQSUA+wG7gcmBSMEmgekBokGnAahBYQGhwa2B1gHAgWtBAYGxwZ/BTQFpgUqBuYFWwfXBooExwW2B6UHNwbLBSQH4geHBksG3Qe8CMwGtAZYB/8G3gboBjcHQQbBBcYF1AbwB3MGVQYsBuMGcQeUBmAHdgfDB3wHqQYyB5sIcAfPBnsITgiyBwsGawakCCsI2QaCBm8IMwh+B0kIjgjpB9wGLQehCMkJTAiLBwAJ/gkgCdMIgwnXCccJLQr3CdwJrQpDCiQKEAncCD4IGQeEBxUHBQeEBnIG5AYQBxQHZAZEBtEGTAYyBqgHEAjZBqsGEgjMB4oHPgjYB1EHSAetB08IBgjiBlEHKAgDCNcH+wfFB6IHvQeRB1cHGAfeBisGdQZRBvsFswU8BSYFzwR7BKoE3AQ0Bd0EhAROBQ4FFgXtBHsF4wUzBaYFPwa3BXsFzQUZBjEG5wV1BmkGUQZZBkAGSQZQBuwG/AXXBSIGLAbrBZsFLAa7BX8FlgXRBTYFOAUQBRgFNAUhBYUFSAUzBVUF7wXQBXYFTAVsBS4FNwWaBUAFMgWZBZwFEwX1BNUEGQV2BSYF2AS4BCsFKwVSBfEEBwWMBQUFywSsBAcF1ASbBFUEVATbBFgEmgOGA3EDxwNcA1oCXgLvArMCzgGxAeYBBALgAU0CMgKyAc8BFwJvAn8CtQKQAooCKgMOA4ID+QMtBC4EjwOUA5IDfAMNAwgD3wK2ArICVwIpAm4CLQKJAQkC3QH/AKQAxgBeANL/IwBrACQA8f8WAHoAdgDJ/9D/JgBsAFYASwCFAHkAgwCDAKUAdABbACkAQgCjAKMAgAAYAGIAfgAOAA8AKgBmAFgAJwAsAO3/zf/D/xkALQA0AAQAbP9e/wz/3v7y/gD/7P6d/l3+P/5S/oL+of5s/uj9y/0i/j7+Rv4r/vr9Bf5h/mb+lv4G/yX/nv8zAHMAhQDNAOoA6wDbAJEAaACSAHUAowCCAEAADwDC/43/JP9F/9v+Mv7p/Wj+df7a/Yf9pP0W/j3+e/63/rX+n/6V/tb++f4b/3z/Z/9Y/1b/Wv82/2r/n/+a/8L/1v9r//z+Nv+A/2//KP9w/57/f/+y/gH+L/5c/g7+V/28/H38ovyE/Fn8Ofxp/Ij8VPxx/LD8HfzJ+/D7c/y9/C/8L/w4/M38CP31/Pz8Sf2P/d398f0Y/QH9bf26/bb9wP3x/Sv+LP4a/uz9iv0z/ZL8Gfz/+8H71/ul+0L77PqS+pX6wfoX+x37G/vl+or6gvq4+r76gfq3+i77J/sB+zb7dvuW+7/71vsC/Br8Bfwo/JP8ivxF/CT8WPxF/N/7GPwp/FL8OPwg/An8qfs6+9v66/rX+tv6uvqS+tP6ufpT+kP6hvpz+i363vn5+Tn6/vkg+uP50/kK+uv5yfkC+m/6kPp4+iv6Z/qM+qr6fPqT+s/6yPrY+rL6z/oD+2D7V/tn+1f7APui+rb6zvri+t76w/rM+qL6jfpX+mn6bvqI+pj6cPrq+c35Kvo3+mP55/gR+Y759vn++S36x/lA+uH6Vvva+yb8bvy9/OD8iPzm/Cz9X/0w/cD80fyn/Lf8hfxW/Oj7sfve+7L7rPuc+4f7QvtT+zv7/PrL+qH6qfqU+jv6KPqN+v/6X/sa+w37G/tQ+wT74fqM+xD8Uvww/Jb8yPwE/eT8qvzr/B79TP0y/d38wPzL/NH87/zA/JX8j/y+/Mf8p/yW/Kr8q/xh/GL8j/y2/M38q/zt/D394v5MAOr+/v0w/o/+vP00/Bn8YfzC+5b6PvrT+l37Y/u2+yr9av6x/kb/SADBAEgAxv+P/zb/lf7+/ZP9Lf2q/OH7rfv8+5D8kvyL/C398f2J/oP+lP6z/uT+1P5l/if+9/1//Wf9Rv1s/Tr9qvzQ/BD9ff0z/UP9j/2w/d39oP2V/ar9a/2T/a79QP1S/YT9Ff45/uD9ev2o/RX+Bf4z/oj9Pf1R/df86/ze/K38Of11/e78b/yN/Df9CP3z/Iz9sP2N/Uv9jv08/jz+nv2I/bv9FP7q/Wv9Hf21/P78K/12/VT9TP2F/a/9Hv7U/eH9LP4Y/s/9fP0r/QL98/wO/br8Ufx+/HX8WPxX/ML8X/1A/Vj7f/oF/U7/D/+I/Wr9l/4V/l79+f3u/nP+7/y4/BP9lvxP+wf7n/v/+yL7evpH/A3+Pf26+5v7KP1M/TX8z/zM/FL8gft9+2v8s/z6+1H7rPuc+6/76ft2/ND8g/ya/Pr82Px2/CL8cvzv/Mf8o/yq/Pv8F/2v/FP8JPwn/Cv8Lvyw/NH8avx7/Kv8gvx+/MX8If0//Tf9NP0n/TT9w/xd/LX8Tf1v/Rb9bf3o/Xj97fwv/Yf9SP25/NL8Fv12/Dz8zvxv/V39Vf1X/QT9bf3t/S7+O/7X/Yn9bf0q/Rr9F/3f/EL9rf1z/bn8v/xF/bT9dv1E/e39cf3n/OL8C/00/TH9mf3z/c/97P1m/o/+cv6Z/tP+j/4N/ur9GP52/qP+tv48/1n/wP9PADUAawB5ANP/tf/i/1YAQwBb/3z/6f/S/9b/YAC6AL4A8gBGAnkESgc0CPYGgQdTB2QFFwPRAZQA9vyp+lb7XfsL+lH6VPvd+6n7Gf3Q//P/sP/vANkB3wEyAj8CfgL4AWACigOwAzsEGQW6BbgE0wNYA5UCoAFPATcAI/9c/9P/8wAMAXQBKgOgAzEDkQNJA5gB2f/9/rf9yPyQ/Pv8VP1j/VX+3f6v/pX/fQB+/9/+O//V/8/+3f5xAIEAZAD0APoBbAIWApwCNAMtAikB3gDWAOv/Dv/f/k3+hf44//X/TgAEAE4AMADV/0QANAAk/9L+4P7S/iT+Cv73/rv+0/6J/9r/af83/wQAKgBx/3f/rv+K/2D/BwBkAH3/Rv8nAD0AW/+8/0YAef9y/tX+Tf9L/kb9Z/2h/UL9DP1V/R39O/zt+178gvxD/MP8P/1X/fz8Ef2j/Y/9DP1q/HT8iPzB+637Avz2+x38l/s//Lj9//16/rP+/v5E/zb+3P1k/j3/X//9/jkA+ADzABABjQChALgAUwB/AFQAbABiAO//7v/4/9T/BgB7AKIAjgDNAMMBxQEEAQsASv/8/hX+QP3a/QD+7/wI/fv8rPsN+mj43Pdd9+f1PvXt9Hz0bfON8g7zsPKA8XvxGPKB8evwQ/HK8XfxavHt8ir0N/XK9kj50fuH/sQBSgV5CJcK2wzHDzgSzBOGFQcX3RfXFyoXBBYbFUsUIxJxD6cMowlRBnQDKABI/Av6Bvj09lj1zvOL8w7z6/N09Dn0UPT689vyfPF88bXzAPXd9c72+/f7+Un7lPzJ/D787fqI+I/2/vQD867w0+2V6wnqvefA5UfmGOxA9Er5ufwEAnwIwA5FE/sXcRz9HCEb6xr9HZofyx2YGjEY4hZiFIwRSw9qC1AFYv7Y+Ef1RfIw7yDt1Ox07svwuPJR9tj56fw9ABkD+wX9CIcL1QxQDgwQXRFAEssSixNLFKMTDxKzDrMJPgSP/h35RPS48HHsOOmT5ybm5eS04yfjBOM24q7gLt/u3W/cidqR2RPZAd1H6Qb5sQMDCzcUACDsK+EyjzgTPKY5wDPgLlsuMS3dJxAgthm4FZURqQ2pCbgDmvvc8U3p8uMv3xra79QQ0ubT7diq4fLrI/U6/T4E3Az7FG0bFyDfICkgnx5gHiwflh7RHIoZERcBFqwU0hHFDB8Ffvyd9GDt6+UI3/zZDdY/08HSJtQo1j/Y0dnC22PdvN5l39LeMd3J2lXcNOVa9toHqRDRF40iEDHdPi1FUkgFR7U/hzUnLg4sqyVtGRYMPQP1/1j91Prw9l7wBenL4ffbHdgx1QXRBMsHyJ7LItVs4EXrq/jcBrURdhsqJsMvhjNkMXwtGin0JKEgwhuuFsURcw0FCiUIfwZ2Asv7BvOo6srjUd311nLQ48tJyk/LhM6V0gzX+tsV4aXlA+m669nsIuvS58fkNuWw64L6fQvsE8QY8SHyMDxAEUaCRjpDajrtLmAk4h5EF4IKjvzc8mTwIfAl8OTtE+kV5QfhJ91k2srXGdUo0KnLBc7g14HlY/Ee/sQNrRs2JnQucTfVPFQ6vDOkLHkmQyCWGOgP0wlRBhQDwgCa/9L9CfoP9PLszObi4G/aMtPPzHrKLswCz9rSxNgx3+jkmenm7mTzP/Xv86fwbu2F6a/n+eyC/D4N/RQCGkwkRTXQQ0hIj0cOQqs3MyueIFsavREHBVj3H+427ODtJPCS7vzqU+gC5oPj5ODM35DdK9go1HXXF+EC7Ln2twMEEzkgximKMnw6Fz6DPLo1RC2uJTUe/RZZD8oIWgSxAfH/E//Q/cb6cPa18CzrsuXq3zPa1tQ00vHTyNcx3MDhSei079L1TfpM/ikAzf5r+9T25/HU7MHo4etB+VIICBB/FSkfby3lOeQ9kT33OJ4vliMeGYUSkwqXAMb11e707e3wyvRX9bj0RfXX9MvxBe5u61vpvOR84NjhlOc878v3twMMERcb4SKFKVgvjDLDMFsrkyOQG84U5g3DBysDU/98/MH6I/u0/CT8Y/iC8zLvYeom5dvgyd0d3FrdPuGN5VbqzvDk91r9AgHKA9AEJgPn/x77vvUj8IrpU+Sk5NrsH/kfAzIKWRLxHKgmcCzrLoAtGyfBHQQVDA+ZCSYD0Ps69uT0gvZj+sH9P//M/wH+1frh9z31tfGg6/jlnuPg5BPpUu+Z95T/xQYoDisVQRv1HsofFx6hGU4U5A9SCwQHggNMATj/tf09/uL++f74/Gn6svcb9DPxB+5L68XpYOl+6lrs8O7Z8rb2rPnm+739y/5p/jT8ePg09J3v9+qO5nfiEeAQ4kboPvFP+Yz/KwdqD+sW6RuHHsIfMB6hGscWVxQgEjUObQqnB98GEwePBy8IrgcYB/gEkQEp/uD6Fvh48xHuvurr6vXtk/Cz82f43v1rA7kIGw0qEJUSQBNNEooQEw8JDTkKAgiJBq8E1gJSAuMBWwFg/1r8OfmH9jH0APKF8P3u7O0J7tbvevJP9Sf4jvoQ/FL9Qv5t/qX9fvu++Kn1+fIq8Vnvu+yj6TXnBeiy61LwMPWf+b3+RwSaCuMQfBW5GAUa8RqJG/AaZBpAGOEUTBFwDmQNEwwlC0kKRQkzCM0F7QMTAp3/A/2F+bD2T/WF9Cv0YvTF9Y/4vfvh/tMCmQcDC2gMjg28DpQP9g4rDVsL8winBrgEoAIQAbr/FP6w/Kn7gPt++zP7TPsw++X6S/q2+bP5RPq7+gn74PvA/K79Wf4r/yEANQA//0P9n/u/+ib5cfbE8/zxkvCL79DvVfGi83j2/PkM/mgCIQdqC7EOKBEvE38UFxTNElES7RFfEN8NIAzxCzELEQoZCTsIWQc/BsYE3QK/ANH9nPv5+fL4bPgR+Nf37ffV+AX6E/sb/L79Vf+2AFsBNQKXA4sECAUqBTMFSwVHBTQFZQXmBGQDuwFbAKH++vzx+8f6lvmb+C/4evgq+fP5wfqi+3r8VP0F/qL+zP69/oD++f1e/Qf9hv3W/Rf+iv60/hf/VP/T/ykA5f9P/+H9ifxq+0j6cvme+Pf3rPdD+ID5qPpu/AX+zP9NAY4C5QPbA6wDfQPaAiICWQHUAG0Aiv8Y/x//WP/5/m7+Pf6H/ev8Z/zr+2r7L/sw+xz7KvvC+5T8ff0i/tj+PgAkAYoBzQHVAaABOQHJAEkA5/+U/yL/r/5Q/qX+t/5z/nj+hP4c/xj/Fv+d/6gAtgEtA6IGyQhCCKYIeQlWCIoFHgMgAfH80vgW9r/0pfOu8abx8PII9Lf1aPgd+3r8J/7dAAsDqAPjAoECzQFSADn/4v64/aT8YPx5/KP8w/zz/Sj/6P98AFwB9AHtAY0BBQFXALn/Cv9x/iv+G/45/tf+/f9BAUkC3wJ3AzEE0ASvBGIE0wMLA1cCLAH2/1z/MP81/8j/SgCUAHoB1gI+BGsFUQbIBi0HSweXBwsIuwdIB6YGVwYtBhAGDQaFBcwEkwR8BAYEMgN6AlABoP/F/rT+dP6m/XL94v0h/mz+b/9WAIcAkABHAUMCVwI7AkcCVQKtAkUDMARWBZAFCgYlB50HJwegBqgG6gVqBS0FlgT3A6QD9AOrBFcF9wWjBvgGFgfMBmcGtwXRBCEEHwPcAeQALQDV/5v/+f/fACQCHQMRBBsFlAU3BqcG2QYEB+sGQwaOBWkEvgMKA1YCVAG6AMoA2gBOAZcBQQIqAigDAQQlBB4E2gNOBHwEJASZA2kDCwMmAj0BjgDy/9T+2/3U/ZT9jf0v/en9K/9MAMYBewL8A0QFHAaUBnYGdQbjBRIFhwQ2BP4DlwPuA3QE+wSHBQgGmQYoB5oHKgfBBj0GRAXxA5oCFQGq/2/+Hv0s/FX8uPyx/In8mPyg/Q7+Kf4n/rz+PP9H/7z/NgAZAXAB1gHPAk4EaAWUBVUGTweWBy8HwwbABncG1wUXBV0EuAO1An8BzAAvAAL/4P3y/MT79Ppw+v35w/nP+T36rPrL++j80/0b/1AA2QHKAnADBATUA98DzAO2A58DSgMjA1ED/gM7BC0EWwR7BIEENgTTAycD1AG5ABkAc/+P/uX9gf0T/an8wfz3/Fr93f0s/k/+c/7d/gT/nP9eAB0B0ACOAGMByAHLAQ4CkAIkA3sDfAM0BI4ElQRNBAsElQSGBGIEuARsBGYDdQI4AqsBnAB9/5P+v/22/GP8nPwV/ef85fxS/fD9Zv5I/qn+TP+O/6n/8P9CAFQAXgBxAG8AwwDoAE0BvwEkAkYCnAL6AiEDaAO+A/ADOQPvAtcC4wKGAv0B+wHVAdcBxQGQAWIBXQGkAboBEgKTApIClgKjArQCnQKNAtwCJwMtA/wCuQLLAr0CogKKAskC1gKlAiwDtAMjBFEEsgTjBN4E2gSLBNsDVAMWA50CiwJJAm8BzwCaAIkAtgD4AFwBwgGuAUMB9gDFANAA4QDhADIBMAEtAYABvAGaAXAB1wFBAj0C7wGUAS8BAAHkABYBiAHLAUUCmAImA9EDFwSyBNMFuAbZBt4GdAeMB+4G2AUuBS0FwARxBB0DQwJ+AhUCrgF4ASUBFgEZAR0AXADCAE0AhwCYAAUB9ACbAKoANQHvAQICBwIzAqMCZgPvA6IDlAOsA9oDxwOYA8ADewMxA+4CqwL6ATYBHwAs/1b+vP2c/U39Xv00/S39i/3g/UT+9f57/9v/ZQDMAA4BXQEAAlgCzAIDBD0FyQUHBmMHegn/CUYJNwn8CFMHAgU9A2oBgf7e+736Nfqy+U/5bvks+jn7b/3L/y0B+wHrArYDRAPkAucCQALbAFv/Wf6q/bX8O/x0/P38YP31/Xb/hAANASYBZAFqAV8BVgFRAJP/cv4w/cf7VfrL+Yr5jflh+cD5OfuL/Vf/vQChAgwDggK0AUoBVAHl/8H+Qf6E/Tf9QP29/Sr+rf5+/4IASgEPAkYDlAOMAsUBuAG8AP/+2/3G/T79ifxX/Hr8Xf3I/S3+PP85AIcA5QCkABwArQARAQkBSQA3AB8BzAA6AMAAdwEiAfgAkQGBAYoA3f/7/zYA7f/R/9r/Kf+9/in/av9h/v79PP7N/TX9Q/0O/gf+1/15/kn/Vf9k/ykAwAAeAZUBMwJSAtEBCgFzAL4A7wDiAJMAOAAVAIP/+P4F/9b/DwDp/yoAjwAYAcAAhwDEAKsAYwAZAMv/vP9KAJAAZgBLAEoA1v8w/wP/RP9w/03/V/8BAGwALgAxAEEAsABhAc0BwgHbAZsCWwJHAUIBBgJSAroB6QGZAj8CqwGXAS4C7wEfAScBbwFdAeEAlwBjAK//l/86AEIAjP9a/wcAgADhAJUBNQIWArUBAwJcAsoBiwAx/9r9j/xK+xj7+vtF/Kz8/v30/oL/2QDDAkIENwT2A0IEIAQdA24CwwGZ/8n9kvyD+/z6R/vv+xn8MPuk+3X89ftl/DT9jv2C/dn9//5xABUBygBJAR4BdACoAOIAZQH9ACEBzAG9AZ4BdwLRApoCkQM+BEQEMwOoAeMABQDG/sf98/zW/Lv87/yc/YH9QP2a/u0AqQHPAMr/gP8w/4H+h/1X/Jb7P/tN++X7yPwH/sX+2v64/zAA2P8J/+b9vPyw+4f7Ovx4/P37uftU+2b7WfyV/Rb+w/3v/Wv+XP5o/RH9l/1P/Uv8r/tw/HH8+vvt/JT97vz5/NH9Ef5H/pf+af+l/jn+sf///7b/qv+j/0b/A/9B/xf/D/51/Xv9bP03/ZP95v2r/Sb9Gf2h/dj9PP4x/g/+Gv7y/V79Q/0P/sL+b/7F/Qr+gf6d/nn++P1o/HL7QPst+7f6uvqe+/H7Mvzz/fYA2QGwAcYC8QOUAwQC6gCd/4D9YvzV+4L79/oX++H7IPxL/Yj+n/8oALX/gf+L/yX/Wf5S/lb/of+q/0EAsAArAZkB5gGaAbYA3v8T/3j+I/6q/vP9V/w8+0D7Ivw9/Jf81vwd/KD7ZvwI/Vr9Ff7r/+IA0wAvAT0B6QA8ATgCbALgAa8BYgLgApsCbgIeAyYD4wIaA+4CDgLlAB4AOv/g/sT+bv7t/S39b/3t/d/9+P2//p3/CQBCAKEAjgBFAOr/hf8f/8b+u/8fAMX/EQD9AAkCdwKYAvwCAwPbAqYCLQLfARcBkgAWAJL/XQDMAGUA3f95/4T/1f4+/qP+Af/E/jD+M/7S/pD/gADXABwBmQEUAkUCHgKVAtwC0AK8An4CWAInAnoBxwBzAKQApgDNAFMB0QG1AesAvQAGAcIBxwE8AS8AJf/9/in/Gf6L/SX+Y/5v/2IA6QCR/zH+kv5q/3AArgDa/8T+lv58/8b/9P9pACkAP/95/kn+AP4c/nb+j/5v/rT9+Pw8/Ur9mP7BABIBAABN/1z/qP/i/4z/Uv8t/7H+bP6a/nv+cP7l/Ub98f0X/nj9mf0y/kj/wf+y/sb99f0//woAsv/2/sX9O/10/Vv+Xf/Z/9j/8P7k/bn9Ov5l/oD+hf0e/LP7E/xW/ML79fok+hf6RfvD/GL9ev1s/Xr9MP7e/sf+wP48/6//xP8r/5r+dP4p/u39Af5b/hf+mv2S/Rj9hfwd/BL8DvzM/F/+BP+Q/gj+lv2g/Bn8IvwU/TP+5P5J/0n/gv8kAA8A/v4b/oH9iP09/bb8+vxL/Qb93vwt/Sv9gfyD/Jn8zfxh/Pr6//lE+fH4j/nv+fD5/vp/+278Kf1B/RP9Xfz++937C/xf/LX8K/26/e/9eP5U/5//nP9z/zz/PP+C//j/5/+Z/z7/A/+5/pH+UP6m/hH/2/5z/v79D/4m/pH+wP6h/qb+8v7d/xYBOwL6AuwCsALcAekAgQAtACMAzQATAuUCAAOvAvYBigE6ATUBUAFJAFn+Y/xL+0D66/gb+Ff4Bfm4+Zr5RPk8+Ez2UPUe9Rn19/QC9eb0/vR49Xj2YPfp9234Lfm1+aj5hPl2+aH6CvxZ/fj+w/+2AC8CwANnBTgHVQlFC/kMEg62DroP9xApEnMT+hOoE90Rmg/nDQMMLwolCIcG1AQVAwoCjwHiAKH/kf50/XL8Bvxx/Pj89vyJ/Mj77vru+V/5U/lM+bj54/oQ/Eb9Hv7U/SP9E/xO++D6D/rA+Rf5Gfgo99X1xvTH8zHzI/MA8+PxXvDM7iPut+4+7qXtyOw67Hbsa+6v9GH9agVoCp8OghIPFYEXSxklG+IbfxugGn0YTxfVF9sX4hXbEbgMGwiEBKwBzv8H/jz8QfoN+EX39/dm+df5Dfkp+Hf3GPi8+W38U//rAaMEZgbwBxkKdAwODbILvAlkBz4FYAMYARH+ovoy+Br3z/bN9sf1EfSn8eDupext60/rqevW68TrRuxg7fju0fBt8oTzqPOF8h/xFfCQ75Tv4O4M7nHv5PVNAJoJ9g5pEa0SlBPqFCkW6BezGfEZtxiNF3EX8Rc5GMIVoxA9ChMEn/9W/Fb67vju9jf0U/H971fxuvNW9XT19vTZ9Iv2Zvop//YDlQeqCU4KfwtZDXUPAhHAEAwPbw0hDdYNXQ6vDVMLxwZ/AYP7gfVo8Fvt8evQ66ztQO+d73fvu+867zvure3w7VvvHfEo81v1lvfQ+FP5PfmH+G32yvOS8Yjv9PAN+DgDjA1KE0MVoxQ1E58TlRRhFgEYLRiyFyQXzhc/GXIaMRk4FKMMigXNAG/+pf0a/eL7rfnT9kz0DPPN8nnzM/Qw9dH2iPhe+2j/UgSdCTsOFxHQEXYRPhFPEugUCBeOF3AXCRdeFs0U4hFPDlkJQgTM/5b7UfiO9bnz4vK+8gXzsPK88Xzwce9R7xPwuPGX8zb2vfjP+RL6Kvog+sH5vPiJ99b1uPOv8X7wWfQb/iEKCBJXE/gQ5w3NDR0RrRXtGS4cnx1gHgwfJSASIGIebxmVEhAM7wfmBq0HmAiTB9QDQ/5v+Sj2S/R784nyYfKw8+72vfvi/+YC8QM6BEYG5AnDDfEQAhOWFOsWQBmaGmIaDRklF/gTRRCuDfMLggoNCZ8G9QHk/Ib45fRv87nzDPRo8tHvQu7h7i/wN/G98cPx3/Fv8ojyovIr83Hz0PMy847ygvHK7/Du6vGS+goGVg7iECoP1wymDf4Q7BWbGm4d8h5fHykfxx7lHTsccRiGE9AOnwvqCoQKrwktB4wCuvwe957zzvG+8MrvSO+58I3zavf7+on8//zB/LL9vwHIBygNfRDMEQ0SQRPsFPIVWRZMFXsTURGTD4MO6Qz8CqsHlQKI/OP3UvV+88zyd/Iy8nnxRfBE70ru9u097pjuJ+8w8BvxJ/EC8SfxJfG68G7v1+797n3uBe9680j9hwhLD0wPoAtxCKcJaw9BFnobvR2AHgQesxwrG8MZPhiCFdURaQ5/DN4LWAv6CbIGAgGY+hH2v/Oh8jnyT/Jh8yn1G/fR9/L2IfYr9nj3XfqG/0AFtQnCDDkNgQy/DHsN3w4+EPEQtxGcEUERFxB0DUQK2AWSAdP9FPuE+W/4G/iH98j2qPWq82vxw++A73TwrfFp8gbzz/Nb9JT0//Oz8nXxYvD276nvH+9t8Ef0BvuAA44JWgu9CcYGQwZeCuIQ2xaPGuEcRR4RHusc7xqbGOwVMxRVE1USrRE5EP8NYgoaBZv/Wvv8+NH22fQE9Hv05PX89ef0qfOI8t7y0vQ4+EL8VACmBHAHNQghCK4IlwrMDHoPBRJUE/kSrBG2D/cMfAotCEcGgwTPAwADGQBj/dT6Bvm9+Gj4Zvfr9cz0jPSJ9ef2ifeD9zr3V/Zm9fP11faz9lf2+PU79b309vS39vb5Ef5WAmUE3QOZAt0CPAUFCV0NMBHaE3oUqxQGFcwU+ROGEoERWhHdERkSuxG4EIUOIAt0BngBnP6w/cj8sfxs/Sn9dPuq+DX2PvU09fj1mvcc+uL94AC0AawBOgE2AW4CFwWBB5wI7Qm4Cn4KOQrXCXoIowZjBTkFSwWqBAwDIQDq/bP8Zf2l/tn9Vf1x+8r3X/aP9qH2n/Yu9lr2DvZe9FTzdvM/9TX2gvTC8irxwfDS8ZjyOfUq+Db5a/pp+3D8kf0I/3kCDAVQBrgIxQomDRwPPg8wD+kORA/TD0sPtw6QDg8OQQ3MC/YIvgVEA9wBLAGbAFH/3f2I/Kr6JPiv9iP3bvdl+Lb5qfoX+0D7XPze/KL9Rv+5ABYCOQPbA+UEDgboBW4FeQV9BcwEtwPxAlkERwV2Atj/sf9kAFX/Tfx2+t75afnx+W35Vvi896/2oPYT9g31EPRG9H/4l/h79CD1lfRx9Nn3NPge9xr3HPnf+RX6c/yK/P79NQAwAd4ElQTFAbcC1gUSCwAN9wqKCMEFSAcrDIENbwvJCKkHogfIBj4GTAVvBFEFvgV/A80Afv9i/6gAnwG6AIj+tf1E/ysC4wOcAhMAAP7n/rwC3QSpBB8Cf//yAtUHtgiVBscCDwLMBDgH3ghvBt8EfQeDAxr/FQCcAxIHuwGx+438FP/B/Tv66vn/+RX9k/48+bv1cvYw+dz7zf0I/Wv6dfov/Br+zAFCBF0DfgFM/5QCDwjuCScJCwR2Ak0IgAwfCtgF+AdgC8gJvAfxAmYCzQjFCgYGVv/+/moEFgkkB0QAT/so/ccCZQLL/wIAXwGL/4T7iPynASYIHwqiAvf54vraBbwOaw3bBI39XgA+CZ4P4g4PCvcEIwGkBAcIBgcTCEkHIwIn/XQAgAUQ/3T4ivtNADX8XvZX++n8OflS/Lz6efWS90P8yP6e/OH60fy9+9z6EAFAA0v/YP+p//MBrAPaBBkF+/1WAJoI7wlAB6sCYgMnBLkE/gT/AZMCBwCK/9gDzwEqArkA1Pm/9+n33f83A3v70Pai85X5DwBJ/z/41vCG93X9AQEsAMD38vdX+sH95wElASICzgAWApkAvv5TB58BDPwsBJAH+Af0Amb9j/wM/RoCvwOkAbD/wPpf/M/6qffd+9P4CPlm/W35sPZj+Cz5pPgf+a74R/pb/0L64fg2APABsgGu+Fv29f2uALUGFQinAMH3E/gLBMIExgALA27/J/6QAEsDNgLW/an9lf07AHYFSwbG/Gf2j/2IAEf97/wt/Db8ZfyZ/Gv8m/i1+bz73P0d/6r6xfms+9sBYgPR+Y333f1ZBlwJDgFj/Pb8BgB4An3+owCQBdQBSv1R/+sADgIqAS/6pPZ29i7/Yge5ADz76fYo8qzzi/slA/b+Avl/94n4QP2X/uL9sfvU+Cv9wAHXAKcBZgGV/6r+D/6h/uz/IAikDLIDff3a/Gz/bgcYBzMCLAWfBGwB9wBFAeADNQCp/J8BWAEG/mUBBQSU/sr3cvgX/UL/RgHaAmv+PPpC+/L+bf9J+Sf65wAqBXYGdAFe/hr7+/x8BHwDewRbAtP9sgIaBtYF6wIN/hv9TgDQAf0CwQRrAnX/zfsp+kT8yvzPAOoAu/qj/2UCFPxG+Er6cAAvAR4D0gWIAPH3I/izAQMIngWj/S76aP6mBrAKgwaz/iz4Y/q2Bh0OngpNAsv4vvySCTUMOwYj/hz76v7xBGYKvwR5/RT+gf2VAEsBjv9v/UD4v/1pBUgDqfmM9xH+a/z4/5EBNPlS93385gcgCVb9ZvcA+uT/UQBa/wIAAQRACdgCHPpt9fX7fAmzCUsCcfkM+r0GDQas/q/7NfPx9I8DLw18CAL5Su9i8v37ywddCcT84/As8/MC2QdHAwP8K/J78w0DEg/UA6j0+fDt+OcEdwfOBZ39UPPv+YIEzwZNBVP8xve4AHcNNgzK/Xv3jPnr/VAHRgmLAcD7gfqcALgEn/7c9Sv0//tjBpYJbgIJ+dbx+fAE+p4DmQT2/Vf86P3d+8n8+/xK+mX44/yZAiEDsAFh/vX7Qfnc+OD77P/+AQH/r/6m/i771/g29JLyR/1SCO4G8fwj88rznPyX/3f8DPwl+hj8TwS2A+j8wPZU9an3BPuY/1ACSwKX/ov6Kvnp9wz8RAGPARwEqgQEA/n7x/f0/eADRQNZ/RP/CwXZBhgEMv5z91L4iwFTBkkD8f6dADwESgE9+ZH18ftTAwADawD3+/f5lv3LAj4A4/Zp9a/7UQbHBuj9PvYJ81QA1QxHCID3nesp/VoQBAsj/OPwkPR5/0cHyAdW/1v56/t3AigBtvgG+5v+Kv2mA70KTghR/Vb1RvM49wwErQs/BQH9KPuvAcsFt/6993LzTftNCWUN7wfd/GP68/24AMgEfgHu+9H//weIDUwIzf59/gYCmwLH/3wCOwk6CpYGQ/+j+tr7KgKPCKMGfwAZADMDygO7/sL1JvdfAucJVwb7/qz6uPvOAN8BUv0z+YX/Fgh1Bn3+dfp+/SQCqQIh/qj6pP0SAsED2wIAANP+qP+KAT4Aevwy+7H+0QSgBjsERAO///j6Zfsb/jUCgwRcAz//o/v3+hH+DwIhALH7Nv0kAuoC8gIxAIz8n/3m/xIBfAEMAswB3AK3BP0BgP2I+2b95gKRBsAEff5h+3391gBUAtv/t/3M/K389/2J/qcA6AAv/Vn7Ffx+/zMC0gKnAy0E1wK2AKcAbQE5AzEEeQH7/gL/gf5m/E759/Re9Or3ufrl+s/55PmZ+mH7uvoY+V74gfs3AJcCvwLnAC8AAgAfAF8Aaf+gABMCmwLIAugACf94/TD90Pxl+7j8N/5C/pX+7fuf+HT4jfl5+0v8xvsA/dX9B/4u/5T+GP1R/GD96QB3A2UD0QFMAIcBmQTSBXQEWwGu/kn/ZAFWA2wDrgH2/8v+dwBBAVcAU//O/dP9Jv9HAEv/ev3a/LL9pP8+AMX9Mfud+rX7Ff2K/Jv7t/s0/Rf+yv3k/Dz7yvom/Or91P9LAPP+W/2w/OD9rv76/p7+Z/+UAIgAdgCd/1L/dP8ZACsBNgEkAdn/+v2B/dT9fv9GAFj/pf6d/xYBAgH5/5r+ZP3o/C3+dgCoAuIEIAVZA0gAz/z5+lv7sf1TAFQCcAPEA8cCNgF1ABUAcv8I/ywAMwI6A98DogPDAkECYgHSAHkAFgB5/y8APAHHAUQC7wEuAWYALQCOAAEBQACD/zEAuAC2ACUBOAHMAKEA6gApAZoAUQBiAHgAAgEVATIBsAFcAigDIgNXAhwCkwKkAoEClgLuAkoDlwNTAwID2QIWAuEB0AGWAfMBbgIjAr8BtwEyAWAAfgBeATkB1wDTANAAMAGTAWsBAAH8AAUCPAK1AdsBbgLWAjkCFAIfAtYCaQTCBN8D7wI6AhYCjQIQBOgEbQT1A04D7wJYAgQBTQCqAO0ASAE7AUIBigCM/3b/y/+P/17/xv8yABMAOv81/5T/XwBSAFoApAARAbsBzgHdAZcBAgGIAY4CyQIBA+cCNQMbAwcDqwLXAaQBiAHlARUCdgGFANv/Hf/r/tX+sf4D/1T/2f4S/tL9ff2D/bX9p/2K/Sb+Hv/A/2P/hv5d/vD+aP96/6//3f9KABIBQAEaAa8A8f9NAMgAIAE0AbkASQA2AGQAZgASAMz/pv+Z/7j/kP9B/9P+aP5o/uD+uf50/h3+pv06/Rn9Yf3d/Un+Lv5A/sn+Vv8p/5T+Af5U/ij/8/+cALIAHwBV/4//9//n/23/7P5s/20A4ABsAJf/Pf9v/8b/CgDw/7L/XP9n/5j/V/8g/+j+e/4j/lr+0/78/nD+iv3j/NT87Pwm/Wv94P2+/uv/UQBK/03/DAB8ADkBxwGzAY8A/v97APMAIAHOAKsA9wAdAb0AbwA8AAoA4P/r//X/9/+n/4b/OP9R/gr+Cf7h/dj9+/3i/dn9Jv4Z/oz9jf3x/Vb+s/4i////sACoAEUA+f8oANsAwAFLAl4CKAISAiwCswFVAToBHwFPAZUBygHuAZABlwG3AYABrQHGAYcBUgFyASkBmwBMADUAMgBvAKAAdgAXAHj/NP98/wUAWwCRAOwA8ADmABEBNQFPAWIBvgEVAlQC9gIDA4kCJwJ0AswClAJYAvIB2AGwAX0BmgHBAa8BVwHrACEBWAFkAUcB1AC5AKYAqwDZAPgADAFAAaQBUwGeAGwAhwAFAWUBfwE5AfgAHAEdAYcBCgIBAuYBpgH1AWsCeQJsAhUCIgJoAvUCRQPMAkUCQAJ+AkkCVAGeAC4AzP8KAE8AYAApAOX/AwBwAN7/Jv8b/z7/zP+u/8f/NwA3AMgALAF2AWcBzQAwACgAsADpAEwBTwE2AU8BLwHPAMYAngAsAPf/PQDZAKwARADW/1j//v6d/kL+1/19/Yb9rv2o/Wj9bf2F/Vf9c/2T/Z39Df6u/tL+kv5z/q7+Df9t/z3/5f4L/2X/0/8mACYAJgBAAEAAMgDv/+b/FQACAAcA1/99/0X/5/4n/wj/bv7s/ZP9Kf6T/nz+L/6u/XT9RP0N/Rn9Sf2H/ej9F/77/Qv+dv6Y/h7+n/3I/U7+kv6+/vr+0P5m/uH9jP3W/TD+lf6E/mv+j/6W/ln+3f2T/bf94/3u/TL+mf7t/rr+Nf6e/Xj9df2W/fj95P3R/Yv9D/3+/K38sfwT/UH9q/0b/nL+dP5e/vL+mP99/y//o/9nADAACwAmAJUAbgCw/8T/9/9HAB4AyP+5/9X/sv9L/0r/fP9A/2v/lP8AATwFOQfAA6j9Gvm291r4L/pE/Ef+QQBWATgBkf8u/Tj7p/qV+1b9rv8VAq0DVgQJBK4CgABm/rT9M/46/xgAJQE7AhwCHwEMAOf+u/1F/Vz+UAISCNAJXwaHASH9g/qX+Yr6avwM/j4AEwKHAnIBPf95/Ff6Nfrg+5n+ygHPBEMGlAUsBGMCoABNAIwAOAHTArIEgga8BigFfQNOARv/VP7C/rP/kwB4AekBhwGtANj/yP58/SL9B/5z/8kAqAEJAsIBqABc/5D+eP7v/hgAdwEGAiQCMQLPAa0BqQEzAeEAbgE5AuEC9gJSAoMB+gCPAfsBcQGZAIj/rP7H/kv/pP/M/wYAUAAoABcA3//x/sX+Yv8l/wf/h/+c/3n/RP+3//MAwgCO/4r/6/9Z/6v+/P7a/8H/t/7I/gUAPAAb/6/+Sf9W/xr/mf/L/9j/wABkARsB3QAAAZkAmP/d/iL/FADSAGcBtQGRAY0BRgGvALAA7wCWAP7/uf9HAMMCVAWGBJ8BVv8n/S365vd49zz3Pfce+an7Cv1q/ZH98Pz7+6j8Wf4P/1L/BwHCAlMCcQEKAfv/X/6N/d/97v0z/i7/W//i/lb+Wv0X/F37ZPuF+877hvzM/QD/T//4/qr+GgBGAjACGgF5ANr/Tf85/23/m/7E/VD+5/4b/5n/zv+x/ur9CP+3/xH/Cf8SAIQA/f+6/xX/P/5S/lP+C/7X/ev9U/4t/nL9ovyi+8X6NvtT/GX8Lvxb/Dv9C/8dABAAdf+X/qP+av/Z/5v/Lf95/3n/8P3b/PP8Cfwn+1b84v05/uP9Of0w/Cb8Vv1r/T79yf4bAKP/+v5d/zT/if5g/0wApv+7/tz+a/8y/yX/nv/Y/nT9Q/2//Zj9eP37/nMAjv/I/jIAFAEKAIX/vwDSAT4ClAMBBMEBFQCDABgAXv4O/sH+Qf65/VT+0/5n/qT9p/1z/eT7gvtX/eP+Tf+t/w4BbgIBAjcB4AAOAEEAHwKwA68D+QJdAt0Aw/6b/ev9A//A/74AxQHJAS0CpwKqAe3/Mf8DAI8A2wBOAhoDiwJnAt8CkgL6AND/+v/y/+7/UwEEA+sDBAT4AqkBlgCk/7T/UgAPAVwCiwMZBD0DOQFeAFoA1P/C/2sAZwGCAvECTAL+ABwA+P/W/w8AgwAIADf/V/8kAI4ATQDD/3T/nf/6/+AAKwKwAg4CnQDC/9f/nv+E/3f/2v6E/oX+jv5D/kP+s/+UAIT/Kf6m/aX+cQA0AekAOQB7/yX/Wv///ykAY//T/vL+iv9ZADgAX/9V/+L/NQCMAMcAggCdAJ4BQAIQAtABTwFOALj/bgCeAckBNQHFAJEAfgAxAPb/BgBV/0L+Vv51/2gAnAB1ADIA+P/s/8b/af/c/q/+Gv9Z/5z/qv+x/lT9g/xP/OT7+vpp+gn6lfmp+db5Ovkm+Bn3VfYx9iX23fVP9mb3BvhU+GT4QPhh+Hb40/iY+Xj6OPw1/qX/1gCZAS0CjwIMA4gERQZDB9IHdwhFCT8K+grZCtQJSAhUBy8H1AYDBrEELAOTAcj/i/4T/vX9Cv4W/u/92f08/mj+ff1h/PX7zfso/MH8BPwX+sX3dfWa9B72k/iu+Sv5q/eT9fTzefNI9D31/fT/8xLzvvJf8l3xP/AY74TucO5H7m/uZO717b/uD/T8/0INsxMzE4YQaQ7FD9IVuR2DIl4giBprFt0TBhEQDfIGmv5y9tvxFfIf9JLzlfBT7NjmcuP75GHrNPTO+qj/pgXRCY8MBhF0EyETEBPSEnMTKBXcFSUU4Q8TCzUG9wE/AJr/YP4m/dL7ePkf9z71+/Gk7R7prOWI5p/r7PHI9gH43PXp8lfxSvIW9Xj3G/hw97H23fWV9Fvze/Ft7vrqWOid6Dzx8wXqGmghEhy4Ex8OZA+yF/YiSin3JV8eChpOGNMUSw6fBNL4qu2n6Pbs1/Pm9X/yzurG4VPcwt075Wbt0PJY+Hb/5AaXD/wXOxw/G5sWpRPbFqccHiAUIVodVBRtCwYFDQHq/mf8pfmy9973EfrY+/D7KPn789zvP+8B8lz2Xfk5+LP1t/aA+ob+5QDw/yz8u/fJ9cP2Yfev9tLz++2z6GPkgOCD39jehtwo227iFPovFjckZiOwG40UpxQfHhAt8TfaNgEtHiR2HhIZCBKSBl73Seg+36fhhOm47LnpIuGS1T/OoM/n2ZzniPEn+UMA0AXLC90S4xj9GgYa4BlbHOEgvCRDJMgd6RLXBx0AOfza+fD3oPbN9JXzNfSl9Xj2TfZL9dP02fbI+kr/1gIfBEwDtwBv/AL4qPeS/NUAwAElACX6hvG06jXmHuNF4RrfA92y2w/aL9mN2IPWtNNe1rHpugkfIlkqjijiIu4fBCR5Li45ADuEMvYnnyBnG9MUrwk9+tboStop1ZXZA98W4Krc9tWHz+zObNd05XvxWvr3AecIShBcGKsfVyKXHq4ZeBlwHO4eyh5qGtkRZQdm/uP55Ped9vz1cvUJ9qf3b/r//AD9ivur+hD8PACABVMKaQyXCg4H7AKO/2T80ved9en2wvjw+Vn4bvH75jfdJtdJ1UjXKNrm2hbbh9tz26Ha5dnM2/TnPgO5Iow1rzioM5ctNCwZMfw4tjyTN8MsyiKTG7cTjAci+DPnCteOzzbTIdu739neWto91YnTF9rr5172nAEVCvYRtRnZIBcnpSjEIj8ZvBIYEzEYdByWGsQRegRN+cnzjvJu9KX22vdZ+Lb5cv0DApoE3gOfAdUBuQQ5CRgPiRO4EyQQtAvcB1wDVv5x+Vz04vC+8Yf1kveg8/zpO98X2OPV49du3fDiTeUu5RnlYeSy4Q/gvefH/58hyDqPQi09FjOfLIQsJDOiOcU3Ly3gIBQYrBDtBVT24eQO1abLosxn1c/dtuDv3oLak9eH2z/nH/ZvAqQLTRRmHT4kTSjrKCcjZxm8EIMNuhAzFWIVMg+RBJD6BvRk8TvyPfUB+Tz8ev8PBMEI0Ar8CVQIewaWBe4GJQsUEPERuQ+gCucDPv3S96vyue2p6YvnQ+kZ7RfwXu/M5/ncktWS1VnbcOJI6GLrWOty6S7n8OMD4tDn6/2VIIg8GUXQOycuLCYSJncs2zLAMqUqWB77EukJ+v+j8s3hL9JKyrzLLNM+27rfmN9v3Arb/97a6Oj1kQJ6DOETFxssIgQnVCZ2H5AVNA37CBUJoAxJD/kLuQOR+s7zvPCf8EHyavXK+QEAYwfeDBsOLQsTBzUEWAQACCMN7RBoEesOigqUBFr+qPi083HuGen+5I3kZujD7PrtIuoM4ira1tb62OneieQX57vmQeUg5BfkDOT95IbtlwUOJ/Q+k0L5NjkrnyiMLk43ijoGNCUnwhrcEiQN/gPK9J3h789IxzbKFNQx3XnggN7w2jTaxd9+69P41wNSDNsTEBygJNYqfyveJKgaLhL/DUYOxhA7EkAQ+gl3AWH6YfaD9bD3yPqF/ScBEAUYCFYJsQgAB3YF5gRJBrQJMg3fDugN5wnlAzT+mPqK+Lj1MvFb7FPpBuqo7bHwue/76IPgrtuP3KXhtuZV6XTpKOgb6PDpv+vj7BnyvQPUIHY7fUU7PTEv6CerKzw21DyeOP4qyhuIEXkMcwft/FPrhddjy7/LjNSE3ZfgaN5I23TbZ+En7Mj20v7vBSoOyxgdJGgtAzGqLNkimRm1FFwUuRbTGMkXBxJ+CQIB2vpm+Kz47frq/O39IQBUA2gGNQjwB1AGFQSZAj8EQwfUCXsK2gjPBaABb/7o+qP2a/Np8H7uQOxu627uTPEa8Qrtlech4+zhrOQk6vjtc+2J6nDoTekA68PtLvXoBDEb1i47N3Ey5Cj2JKgpdDKVNZAuLSHXFTcSJxOMEL4EKPFn3YjSO9P82U/fA98b25/XP9c220HiDeq/8Ib2vfyfBboRPR5zJfgk2R5VGMIV5Bc7HC8eghuHFBINNAiSBbICq/7Q+e/1rfQi9hT4LvgW9z/25vap+JT6ufs1+z76uvrG/Gz/bQAk/7H89vr5+vj68/ge9VzyPfLh88P1Yvbv9Kfy9PGg84H2QPi9+IH3xvWO9Yz2PfjW+Lv4RPlI/OoBEQgzDEEMsgnSB90IbgzkD0sQBQ2kBxwEywTPB/oIuQXt/sj3QPRW9Z/4xfna9lLy4fCt8yr4rfp6+iP56vim+ij9h/9vAP4AYAFEAU0BlgFKAZf/kf1z/D/8gf2Z/6YBcAPfAx0DrAJbAzsF+AZpCA0JTAhUB00GqwW7BLgCyP/Y/N36bPrD+nv6IfnS95v3e/jk+b/64vrB+3j+sgL6BikJpAjiBmIG0QfPCYAK2Ag7BtkD/wEuAQwAB/4P+3r45fYU9gP2z/W59c319/UN9tz1l/V/9RL2p/fM+GP5KvqC+179jv77/j//UAA9Am8ERgaTB3MIDgm/CQQKjAkxCLwGfQXXBCEEbALz/1j9+fv1+3X8jvwd/Lz78PvP/Hv+dABRAqsDogR1BSMGyAZkB/gHswdUBrAEBAP5AbMBYwG0AD//ef1X/Df8Z/xv/F/8nPwm/Sz+nf+rAZIDVgTJBAsFtwWeBiUHLgcCB8EGUQZgBfkDFgNZAhgBEQDC/2QA+wB/ADX/v/1r/YX+1/9WAHT/9v3E+8n5fPm++Xz6JPoH+Ub4Cfnc+jf8V/za+6/7Tfxa/sUAWwILAvIAkv+T/hD+9f0U/YL7CvoA+bb4d/gb+Cf3gfZg9sn2ifhF+6r99P43/zX/GwDrATcEDga4BtkGGQevB5EHtwYrBaUDawIpAusBegC7/nL9Tf1d/lD/fP4J/Rz89/zJ/jcADgC+/t39m/7HALICbwPjAtcBnQAZAH0AGgH3AI8AvAD4ALUApP8J/sb8S/x5/J78Zvy9+6v6Jvpa+hf6Xvm0+FP4TPlR+4j9IwIUCXcM9gep/2f8g/9EBHsGFQRH/7v72/o9+nL3aPMd8BDvXu9670Xv4u4i78nvE/Et8xT0PPMs8k/zifei/AABlgSjB+kJ3gr4CigLLQxrDdcNQg33C4QKxwkbCVcHDgV0AvP/oP5S/nL+3/0g/IL68/mS+kr74fsf/Mf7MPyR/In8mfwS/Bv85/xv/Z39MP7z/7ABjgIjAlMAAP96/0YBIQP8A4YDhgKbAqIDKQSxA/wCfQKKAgsEHwWYA+QArP80Aj4GTAZfApz+Wf3x/XD+0f0B/Aj5j/Vi8/TzsfU+9t31oPXe9QH2zfXz9fz2sfgw+VH4Wfiq+Sf8uv7y/v/8cfr2+V3+WAbuDYERsw8iC1EIbwm0DP8O7A7dDDwLCwxBD0QSZBEJDJIEl/7K/Pz+YwJ+A54Ahfuj9/z2J/iR+Ff2VfL173Hxd/bw/EcBTQGn/oH89vzM/zEDrAVxBxYJ7ws0EBIUyhVyFOAQfA1oDAcOsxC/Ec4PYAu9BjsDDAGS/0H9GPr+9oj1tPZh+cz72Ps0+fj2pPZ8+An7avwZ+8j39fXl9jf6w/3P/sX8//fx8tPx+POh9gr3BPSe70DsyOqR63nsn+oQ5lnkde1zATkXvyKpH/4UZw4ZE6YgBC3RMAYriyJKH9chziTSH8wQNf387Q7q9e5+9KzztOrM3pzW0NUo2p7eaOBe4MLiQOrf9vID/QszDcgJJgcMCecPchimHcweKx4oHpYfFyCYHdoW3Q2uBmwEdwafCNcG+/809y3we+zb65broepB6i3sNfEW94b7qfz6+tP4wPiu+3X/cQHQAG7/UP8aAToDtQI3/tb2EfBc7azuTfFJ8iPwUetT5jDkB+RA4+bh8+Nr7YT98w29Fj0Vhg58C5wQ7hsVJiQpTyWzHzsekiF/JFIgehK7AAD1xPMZ+UL91/rf8dXno+KL47Dmr+ch5bbh/ODl5dHvXvpeALsAUP4n/VABQwhvDtIRwBH9D0UPVRFzFkUcqx2TGC4PXgfLBWMJzAw+C7kD8vnt88TzqPZp94jzDO4x6+Dte/Sx+nz89fl/96P3Rfsx/18Azv6y/Br9MgFNB0YLFAqhBIT+lvs6/f8A8QJBAFL77fcH+Iz5Ovkm9xP0QPGg8MXzvPn2/ugAO/+L/Hr8e/87BL0H4QdeBvcFSgj+DHgRFhNrEYcN1Am5CLgJaQtFC3EIqwSrAa4A1gBpAD7+dPsQ+YD4dvmW+p77b/uC+jT5k/gm+V369Pv3/Dv9Ff1U/f799f7Y/yAAVQDkAFsCfQQiBnsGTQZcBp8HGAk9CuwKSArPCTcKwAtKDZwNTgz8CVQIhgdlB4YHDQfTBQ8EKgKCAMr+Rv3f+5j6H/o4+vv65Ps8/Lj7xfo2+v/5Qvpw+pX6oPoz+lX5APgW9xL2YPSi8kLxwfC88ebybvMD9dX2y/cy+dL6r/wN/44BkgQGCBoLPQ2HD+oR3hP1FBcVoRTlE8ATfBM/EgYQIQ39CQ4HwgRTAl7/hPzP+Uj3gfVv9NDzQfPm8v7yoPPl9Pn1wfa29rr2rPcx+f/6U/zx/av/3QACAu0CuwMYBW4GigfKCAkKYguIDGINpA21DaYNUQ0RDZkMbQzUC8EKYQn8BqIEVAKt//P8a/rC9yb1JvNf8dTvuO617ZXskevJ6o7qaeua7GHtae6n78HwwPHl8r/zLvTb9C72TPgb+yL+SwABAZMAtgAVAlAE+wbbCIAJhwmhCuEMYg9ZEakRuxBaD3wOmQ6nDqUNlguyCMkF0gPgAs4Byv/S/L358/cg90f3ZfdA9oT0I/NB8zH0//Qx9Qz1qPTb9Dv21/c8+vT7y/zs/Qf/lADAAm0EnAWFB9AJagzaDscQBRJ6EkcSLhI4EmsRdhAdD4AN6gs7CkkInwVxAuX+UPtd+K31gfOo8dzvme6z7Uzt2+wp7PXraew47U3ure/P8JHxj/LS80711vWN9Zz16/a/+cP80P5N/+3+Iv+wABkEgghmCycMYgyADt0SjheWGvsa6hgkFowVKBcKGHsWKhMFDyYL2ggFCJoGyQKp/Wj5OfeH9tP26fYm9bvykPGO8mH0l/VM9sH28va49yn6dP23/94A3wHjAgYEuAWBCPcKuQx3Dh4QKxLUEwQVuhVjFT4UQBNGEvUQ5Q++DisN5wp8CNkF4wLh/9z8SPpn9xT16/Mt87Xy/vH98K7v7+5H727wZfH98V7yMvIN8hTyC/Jf8Q3wNu+h7+vxbfWt+Er6Mvrq+Zb7CwDqBbgKYA1GDwQSzxaiGxsfQyH8IKoeqhzTHB4etBzOGNITvQ41CqsGfwQbARz8Jfcn9MPySfKO8gXyX++57BXsze3q70rxevIW89rz4vVS+cT7lPzz/CT+/P9CAhIF7gfmCU0LTw3YD8AR6xKJE1wTJhMCE0ITfRJqEFsOpgyPCi0IlwWmAkz/A/zI+cb3lvVa86bxHfA+7z/vS++07sbtxe1z7h3vXu9z7znvp+6A7szuhu557XnsC+3G71nzCvY+9133Cfjb+uz/RwaaCs4Mgg4xEY0VTxo7HmIfvR32GgMaHBsWG3UY+RM1DrkI4ATtAisB2fxD9yvzEvEY8BnwJfCB7nnrEepb697tae+I8KrxPvK786H2U/om/FT8+/yO/oUA3wKMBfIHsQjUCf0M/A+cEU0SnBIKEt8R8BJmExISEhANDtMM1gqrCPYGLASMACj9j/qt+Fv2nPNM8hLxie8B7+bu3+3N7ITs6+x97bHtF+6t7mzuMu4V7jnt1uuW6zTuVvKn9V33ZPiK+Xv7IP9xBPUIzgpjC0oNnhFfFnQakxwaGzIYnRbfF2cZDBivFLUQZwxaCXAI8gdkBToAmfvB+Tj5M/l5+WP4jPXb8u3yl/SU9Zz1hvVH9dj0ZPaq+ZP7PvsK+hv69PtK/oQBkwTgBUEGLAjvCy0P4hBtETsRyhBQEUkTsRTPE3kR1Q7wDIQLWAoICfoFPAKC/7v95fuq+WL3S/WD86Py4vIl837yefF78UPyR/PZ8xXzY/GG78Duv+4K7pLtDu5m8BL0OPcd+ev4JPne+t/+XQUzCjQMyQzJDjcT8BdSHCseKxxCGJgWJxn/GqAY2hObDjkJugU1BRwFpQGc/Pb53fgK+WP5zPkI+Ajzv/Bz8vr0dvUg9ab1/vRw9Mj2O/qq+rr4qfeV+D36u/yZAMUDwARWBd0HKgt+DU8POxGjEfQQrhG2E0gUiRI+ELoNzgqGCOYHbAe+BMgAf/1E+8/4Ufb59C7zFfFU8KLw7vDF8EDw8u+u7z7vLe9+7uzsNuv56WLp1+hn6D3p5OsS76fxh/O59B/2QfmY/o0F+QqPDScPuRHlFQUaXh0hHvYbkhgMF0EYPhj6FJYPqQljBBkBDQDu/sT6u/Wh82L0dvW39Q31jPJg77zu5/Fk9Sn2YPVf9XD10PWo9xn5TPgC9k/1EvdS+Uv72/0HAMsAQQLoBawJAgyRDdcPARIzE3MU4BX9FSIU3xENEP4NogseCjQIOwVVARf9Qvns9WbzEPL/8AbvUe157Wvu0O7Q7ibulO267b7uGvD+72Xub+yD6hnq/+px7YDwt/La8wv1BfeQ+Qf95gEIB+sJ/QvXDgUTBxcnGv4cvR3XG+UZjhkUGnAYOxTSD2cLPQeHBEgDIwHm/MH4M/c39+H2gvba9aTzwvFd8gr1c/do9+D20PZ79gb39/gG+oD49vUB9bj2RPkp/N7+MACIAIwB2gQrCcgMpQ/uEb4TEBXCFqsYuRg/F28VTRT5EvkQaw+BDd0JJgV6AY3+WvvB9y31p/PQ8dHvde9e8H7wKvD07zzwV/B28ErxTfK68S/wZu4u7bjt0O9t8yz2Iveg9+j4APuy/cgBfwazCe8LjQ7iEn4XnhmtGtoaZBpMGjQbkxyCGngVuhA4DSIKYgcNBoYEyQCn/Av7vfqq+U346/dj9/P1/fTZ9VH3q/e99034Qvgr97/29vcQ+KD2DvfL+ED6nPrs+2j+Tf+Y/6QBywUMCUELSA2fDvQOExAoE48UJBOsEdARMxJiEaEPaA0sCVAEHAHX/4z9Uvn99cLzWvJB8IruGe3o6tfpQOrJ6i3oz+Li4C7j0+Yu6PrlT+JJ4DzoWvj0AkcB+vmE+GYAmw2iGbQcgheuFbEdqyfLJ44eoBXZEnwWiB2oIPEXzAYW+kz3I/jE9j3zFu9u6uvnBuoJ68Xl0d7U3WnjB+sz8Xb0pPNU8efy2Pjz/nEC7ARNCJULSQ5nEMAQVA5bDe8RlhfRGTcXZxIRD+cNWg4nDqoJQQLs/YP9x/3I+xj36fHy7ovwLfV+92v1pPHl78bwZPLP8qbxePCX8VD1ZfcX9OTtherF65bvFPJV78PoWuL03iTi+eyq/YYLmgtG/w32qPwzD3QhhSoxJ5Uc0RZdGvgebBtFEy0QrBPuFr0UhQsO/E3tY+n27mTyne7Z6EHmxeMu4nDjx+P44c/kePDE/G3/vvmP9OLzI/k0BPMPIBSSEPMNExCKElYSkhF7EYERrxLFFG0SoArvBNIEygZOB0IFrQFo/kr8WPyX/IH5ifVu9aj42/u5/Nr6nfga+Iz7BwEMBO0CqQCc/rr8f/qx9x/3H/m0+6n7CPdv747pheja6+nuQe0Q5xPhaN5+4eLtcgGEDl4KaPwu9z0EIRqzKlwuAia2GtsX8Rz9HisZtxPVFMcXuxUSDVf+su6M6M7uH/aG89LpiuIm4MDfQuKw5g7pFupm8CH6kP0v+Qr2ofkbAqsMwRQpFh0S3Q/XEhsXBBl1GCgY2RdhF20WoRI4DDEHRwdECIEGWAIB/nD5Q/Zg9tH1kfKY70/vVfHG83v1PfaS9uP3Wvur/2QB3QCi/1n/Zf43/Zb9uv5N/wL+a/qx9LvvKO6s7z3wTO22543hYtxd2wfm4vzRDaEHg/M36QT2fRCjJugtoCQDFQMPSRW0GngZWxfvGUwcIxd0C6r8q/AE8C763v8Y9+fnId7C21PdK+LB6PDqjenl6lXu++2n6+nurPhbA9wJbAs7CHEEwQURDaoU1hcyFx8USBBFDu0Obw/GDTYMlwwnC98Fh//B+pb47vk7/fn9tPmt8i3us+798eP1tflH/I37DvkT+Ff50Pt8/lcAjP6W+Un2JvcQ+ej4q/Vo8dTu5e0F7nzskOcT4uzemd2k33Lrvf4gB0/7her76Mb7IxZLKAsrUh6/DsoL+hSjHScgaSGUIsUecROxBXb6Gvf9/sYJLAfe9OrheNl+283iROoP7YjoS+Ns41zmiejK6wf0//2JBaMH2gSz/53//ghQFm0eXh1uF6kRNBDdEmoWCheCFHwRLQ+ZCsgDdP6Q/c8AygNhAfv5oPFA7YDwz/b9+sr6OfgX91/3oPey+c797AFqA9cAkPzA+dH6g/4OAWr+2Pd28QzuTe438DTwX+xG5b/dVtyJ5or6zAei/07tmeaf9OUPUCZgKvEc2wwvC/YYASYwKMkkuSELH3AaGhObCooFIAicDtsMB/4l7AriHuN56yHzw/JH6aLfod8O6OHv0vKr8xL2CvunAFEDPgICAqAHdRL8GoobhRb0EhEUdxglHhcg/hsmFXoPbgxsC5cKLwn0BogC+vxw+Gz2wPau91D41/fb9ZXzX/NT9RX46vsj/tT9qPpa95z43v1ZAtsCrf9T+ZL0gPP09CL3Dvg+9eTutOc/4qjiQe1S/3cJRv/s6wnlLvRDEFklASeCFscEPwN8EgAj9Cj7JBQd7RUYES8OLgsOCp8L2wzgBrv4geuT5UrnsO6T9ezzwuh+3UTcQ+X78c76RPuK9YPxYvXo/lYG8QmvCw4NIw/OEd4UahYaFYYUTBcEGoYZ2RTCDcgIUQjxCg0NqAn7AEH4R/SZ9Tf5/ftg+hb0f+7W7XLxBvaQ+BP4M/bl9NP0YfY8+Xj8oP6Z/ub6g/as9Pr1vPi8+cj3e/JB7ELp+em87C7zqfxgARf5eetw6PD1kwwSHb4c0Q2c/cf7gQwuIR4qiyPxExwH0AULD/cY8hmxEU0FQfr09AH3BvsC+0j3zvHu7G3pH+go6q/uMfNv9u72P/OQ74rxrPkhBA0LNAsTBi8CIAZrEJUZhhyrGE8S+Q6oD6ASuxUIFSwQvgn/A+YA/f8NAcwBQ/8Z+j/24fRd9fz2Jvj89yf2j/N98oTzNfae+XD7/fqe+Y35LPu//I39Kf77/RX8IfqY+Dj34fbX9kT13fLf8jb2BPx//hn60/R49XD92Qh8EGkP+Qd9AroFJxFMHLkfeBphEesMsBAvGQAeuRmWDoUEVgAZAnsGaQbi/5L3DfLK8N/yj/Vs9oL0TfFu75jw8vNg+Gv8yf6U/8L/wQCgBFkLtBBfE2wTyxHsEC4S8RRBGPUZMhiKE+UM8QfGB8sLsg82DtIGbf1q9034J/6hAtEBM/xp9LPvHvGy9rz7gf2g+w34S/a891D79f7KAI4A//48/Yf83/wn/pb+jP3o+5T5q/fv9yD69fx2/vP77Pf79lX63wE7CG4JywV4ANv/LwavD+4VoRYEEh8N3wvrDpQUahfsFV8Q9QnmBc0ESQXrBRMFCAEG/Pv31fZh+Mf5Pvkm9471DvZH+EL6o/oL+g77Xv4QAj0FcgYOBSUEewXmCPUMGw/vDfgKlAckBoQHwQkbC0cKYgfsAvD+P/0M/mr/uf/j/T36nfZ59H30C/aE97j3rfY+9bz0Q/ZP+Qv8ZP03/Xv8Cf07/9kBXwPSAoIAyf2Y/IH9Of+z/+P9rvr09wb2K/Y/+Nf5Y/nt95j2N/Zk98D5Ov2Y/6cAnQCKAFoB9gJ1BegH1wiCCMAH0AZHBkgGcAbiBv0GHgZEBb0DagJTAcQAkgAfAPj/PP+d/Y/73fqq+6j9p/+f//X92vuC+6n9pADYAmsDdAKKAJv/0AAZAw4FRAUuBI4COAHNAJgBwAKTAiEBEv+H/Tf9AP67/q3+bP0M/Pf6vvrc+0b9r/2A/Xr9UP29/Xz+lP+vAMwAbQAoANL/w/8xAI8ABgD9/oz9cvy/+4r75vvs+4X79PqP+uT5WfkR+dr5DfzD/fX90f0E/tL+UgAHAlgDxQNeAzsD/QPHBIsFSAZtBpYF7gT+BIUFSQa5BqAGCgY1BXoElAS9BIgE2wPOAh8CFAJtAnwCJwKeAQ8BbQAdAJQA9QDVAGcAPgBQAH0AEAFQATcB9gD7AJ8BogI5A00DTQP1AgYDSgMmA84CRQICAj4CQQKaAUkBNwEYAQQB1QC/AM0ALAGOAeAB+gFsAcAAeAC0AOEA7wB/AJz/G/8i/1j/Sv/1/iD+xv1R/iX/gP9y//T+i/7h/sv/twBSAdQB1QGjAX4BiAG5AQgCXQJAArQByQDIAE8BfgEaAkACNAJeApoCAAOLA/wDVgS6BCkEfQN9A18DGQNmAhACyQFoAUkBfwFoAWoA3//G//H/vf9U//X+Bf9J/5X/y/+4/7//nP+D/4H/8/8zANP/Kv+c/mD+qv7R/pz+TP7J/df9J/55/qn+Nv6o/X79av24/fv9C/7N/W/9af1Z/VD9ev2e/Y797f0o/lr+Jf7p/d79+/1j/kT+7f1b/RP9T/3M/fL99P28/ZD90/01/oz+7v7D/mj+lP7a/hf/C//f/qz+vP7f/v3+Pv9+/8H/JwAhAPH/tP+0/93/GQBPABcA0P+o/8T/GwCOAMQAnADe/yL/5/4U/zb/JP86/3b/cP9H/xP/8/7G/tf+H/9U/0P/HP8V/+3+1f60/rD+N/6r/SX9r/yh/Ln8uvxQ/Av8uvuD++D7VfzO/BL9E/15/P/70/zY/Wf+9v5D/zf/cP9U/0r/qf+Y/6r/2v8MABIACQAUACYA9v/O/10AugDTAOAApwCYAJQAYgDy/3D/ZP+O/8L/m/9X/yv/Gv87/4P/t//t/yYAQABVAIoAoACPALwA9gA4ATYBDgHoAEkBjwF6AX4BQwHeAKoApAC+AOQA1gDOAAIB+QAMAVsBbwG9AfcBGwIFAgACAgLgAawBaAEMAZ8AZAAdANj/mf+S/4n/Uf8k//r+Kv83/0D/cv+O/9X/v//M/7H/5P9TAK4ACQHOAJwAsQA8AXkBMwEHARIBhgEtApUCkAKGAroCGQPSAwQE7gPkA+gD9QPPA68DTgPsAqkCqALbAvICoAIyAtIB0gHvAbcBQgGzAIoAtQAbARoBkgAgAPz/KABrAE0AIABMANMATQF7AT4BMwHJAJ8A7wDJADIBkgG3AasBAgIVAtkCYwMbA0MDigJGAlcCoAL5AnMCjQGsAG0AUwAQADQA1//y/n7+Tf4W/vP9BP4L/sv9cP1f/S390fzt/I39Sv5H/nb+gv53/h3/6P9KAPH/6/8nAIsA+gB9AakBRQH2ABsBZAG6ATMCWwL1AT4B1gDiAOoA3QDXAKkAawCBAMcAUgDJ/4D/mv/Y/8P/NP9c/uD9kv3A/dX9av3w/In8n/wC/e38yfyq/MT8Mf2P/aL90f0w/iP+Of6Z/vz+Qf+x/9r/BQB/ADEBbAFEARoBBQG+AewBuwFrAd4AigBlAM7/4P5R/iv+Ef4s/Ur8HfwM/Iv73/qE+q36D/uG+zf7lfrw+tb7aPyc/CL9eP3d/XH+B//U/yEA4v8EAKMAFgHyAAgAdv/Z/2kAPAHUAagBfAApAC0BRAEzAaUBuQH0AC8CAwKZAIAEvAV4AY7+tP6iABMBhAFaAAT80/p2/Q3/5/y4+x386vqS+xn9cvyt+877Sv16/Yv8Z/2+/bn9WP6h/w8An//I/6UACQEhAbsB/AFoAcwB+wKnAsMCTAM1A7UCwAIvA0kCBQEDAT0B5wDz/8/+l/4b/xH/N/6b/V79Xv1x/a79WP48/qH9a/6d/x4ANQAMANr/MwDYAGIBfAGhAckBxwHwAd4BygH5AYgCHQP4AkEC1QHMAYkCQwNsA5YCqwF9AXoCXwM+ApcB8AFKAosCMgKaAcMB7AF0AWsBdQEQATUBngG+Af8AVgBZAGsApQAGAaQAyf8c/+r+FACiAEwAtv/N/wUAXgCDAKkADAHDAAEB3wGHAhECsQEmAtUDXwSmA2wDVgNpA7YDfQOYAt8B1wEdAhkBa//k/j//c//Z/7b/JP8j/uX9fv6V/o7+Kv90/3j+Pf8xAVUAsP7P//EAagC2ALIBggHtAGYBOgFdAPIArAFpAacApwBiAZoB2ABSAFoBDwKkAPf+h//4AP0AagD9/7T/HABsAHsAVgDQ/6L/mABkAMH+B//K/2L/0P4w/sb9DP5y/oz+1f0q/Yf93P37/QX+DP2t/Mr9WP5L/ur9Qv6L//z/Sf+g/4sA7P/n/7cABAEZAQoB3gB0AEgArwCOADwATAAj/6r98P3m/lT/0v50/Xb8YfwN/Wr9Lf0U/Rz9Av0O/cj95f32/OX87/2G/rX+DP/P/jX+jf5V/yL///7p/04APv+o/lX/aQCfAHv/gP4J/wsAcP+o/jr/HQD8//j+kP41/7X/KgACAFX/h/9IANMACgHkAGYAswATAYEBcQFCASMBiwBlAKz/Af///sH/0v8C/6D+a/5L/kP+u/7w/l//AP83/qD+Nf9u/6z/AQC1/5v/ZgCzAPf/WP9d/4H/Xv+B/xr//v0E/hz/1f54/fz8kP35/R79Lf2Z/eL8/fxw/Rv9Kv35/Yz+0P6w/tH+qP82ACYA6P+BAPgBugI3AsMBcgJzA2sD8gISAwwEkgRmBF8EfgTaBG0E7QOGBB8FpwQrBHYEygRnBcoElQMMBEQFnAX3BHAElgPGA/oE+gSdA+MCtgJoAXEBFgJ5AMz+Pf+3/83+Yf3i+8D7Iv1r/Z77Jfqo+p37gvs2+zf73PrS+r37Lvyc+1L7dvvd+8z7iPw8/sP9jf2u/3AA8v+gAKEBGgMOBcgFSgVkBNkE3gaECJUJwAmbCeMJDwpMCrsK1QrgCc8IpAjMCOsIqwjuB0oHhgZpBVsFWwVmBMQDegIOAXEAVgC8ALEAo/9V/sX9pP2h/br9+f2O/ZX8UPzF/GX9dP1m/cv83vsH/ET8Hfw2/BP85PvB+/b6kvqC+uP52/gC+N73uPeV92L4I/rI+6P6Tvcq99H6uP7QADgAXf5V/bX+yQKoBnEIDAhbBj8GEwjgCVwL7AtFC0IK5AggCE8IowjfCAsIhAVbAogAGQBDAFQA/v7V/Lv7Pvt9+uj6xPuG+zr7ZvsV+xb7tPx4/mv/QP/K/mz/bgDTAYID/QMpAz8CZQK2AzIElgP1ArcBwQBOAIH/Bf4z/Gn7xvos+aD3G/Yi9OnyKPLt8GXvf+5/7+nxx/Ot8bXtku6S89T4HP0W/mD7hPna+zUCuQgPC7AJ0QdyCDcLOw4hECgQIQ/3DTUNGAw4C5gL4wuNCyEK8waZAwgCegJaAzMCSf/Q+6H5A/ur/Cv8TPul+TP4Zfns+sr6sPp++3T8+Py5/VX+2/6cAG4CbwMPBF8DYAKxA0kFPQW+BNADkgLyAVsCzAHV/07+tfyw+lX4tPVV9Kzz2vFS8MbwDfTb9sPyd+yg7G7yIfonAFAAbvud90f6XwMhDP8OswxjCc4I6gvtEHkUrhRjErAQOxB7D1wP+w93EOcPrw1lCq8GWAT7BKEG8gVNAjH9Zvnq+O36Pf3B/Sr7L/fq9cr3Fvua/tb/5P24+778hwDWBHoHQgcoBvUFbQY1CIQKzgrdCZ8I/gbwBZcFNQY1BhkEZAH3/hT9m/sP+p74W/a385PxFu8r7o/xtveS+Ijwfekb69/z/f5IBcgC/vpJ9ur7jggGEsATUw+0CoIKuw7sFEoYLhfVEzsRqQ+vDp4PRxHaETMQqQy7B5IC4QAPA4kFHASb/of4DvUs9ur5N/zo+gX3nfPx8mH1G/l5/AH/hP5i+8j63P27AakFmAh7CJQGqgWRBjMJCwxeDN8J5AZMBTgF4gUvBiwEGgCP/Nv5B/g597b1avKv7rPrQukd6b/tmvSn82Dp9eKa5grxe/2jA5n/gvbI8cH4XwcMEo8TDw4ECGEHswx9FDoZhRjrFJcR0w6wDQ8PTRG+ErAQlAuaBV0Aa/+5AnIFRwOV/ID1ePEw8sL1Ffj/9tjzRfFx75/v8vLn9jj6Ivyk+8H5f/mY/dQCxwbBCMEG4QRhBroIYwtyDYkLHAf5BAAGGwcLB2wFoACF+/z5CPoI+fn2XPNS7nLqmegD6Arr5/GX9Yfu2uLd3wDoIfbWAqIFJv0b8rjwSP0sDjcXkBV+DTQGFgeAD0gZlx3zGckTXA4cDCUOYxGBEyAS9wy7BuQB+f8FAekCFAI+/ob4lfMT8j7zM/a/92T2IfRn8TjwGvNv9wT8o/5y/GT61/vz/9IFnArnClEH8gUMCU0MUA5kDsILfQj8BpwHNQjGB20FgQAf/HL6B/oP+er2bPM07gvqeugm6GbptO6A9VX04+lM4nrmvPKiAOQIRQYh/GX1W/u+CiAYPhy7FgMOxApgDywZPCFBId4akRODDx4QiRPJFeQTNA/vCbgFIgMHAr4BdQAb/tT6NPd39G/zvPNw9bj2UfbK9NDyRPPF9kP8lwCRANP+6/79AF0FJgubDlQNbwoUCqoMzw/6EGkP/QtGCSkIeQcwBw4GdQIy/s/6LPkz+Gv2g/Na72TrIOmd54Lmb+ho7uT0ePIj6EnjCulv9acCqQl1Blb9hPgv/2QNHBkQHNEWkQ8aDTcRphnKH4YeaxhsEo4PiBCFEm0SgA9oCkIF3AFZACX/tf1p+0D48vTX8rLxPfCy717wgfE08oPyDfIS8kL1R/p0/VT+Ov/8ACIDJQbdCW4M7wy6DOQMPQ0hDgoOgQzxCuwIxgYEBhQFSgIU/sz5CPfi9Vv1UPMO78TpAObJ5NvkzOTg5Zzq2O/k7mzoM+UI6ffyOv/YBjIGt/8D+xH/HApQFH4YZBYNEfwNrRCFFrsauRnIFDsQ6A15DYgN/QvLCFIE8P/d/VL9Svyo+WX1QPHI74zw/vCN76/t0Oxf7SDvc/EC9Nz04/V4+YT86f6DAhEFBAZQB8YJIAy9DTMPaA93Dg8ORA7jDU0M5glNBxEFkQPSAZL/5/xe+Yn1sfIJ8aDvMe0j6kTo0uaE5C3jw+UG6xHws/FG7kvrEe1v83f9TgayCWAHOQN6AygJSBDvFRUYAxYGE2cSqRScFrwV5BKZD1gNGw2/DY0M5QiOA9P+m/xr/JP8p/tc+Fv0evHQ72Xwe/GG8ZDwHPAv8cvyavS/9tz4jPqr/e8AGgP2BPsG/QllDWMPJxCBELAQIBGOEYgRfBFzEJMOGQy4CBgG0AT4A6UC6f/+++z4RvaE9OnzKPOL8bvu1OsV6uXpg+pN7HXuCfFy9OD1LfWF9Tf3GPsrAZYGKQomC8MKQQsUDTAQfxMDFUoVqRQpFEwUNxTmEqQQGA69C+wKUgofCdMGtwN0AMv9G/wp+3H6SfmW96n1j/QF9IfzW/Oj80r0fPWA92n5VPoB+3H8zP5UAv8F2gjmCQIK4wqgDHYPaRHKEQgRARDkDs8O9A5SDlwMBgoJCJ8FHAT8AqAB9f4G/IH5mPdi9rr1MfVO9KLyYvFX8fvxjvLM8t7ynPIC80n0IPZx9y75X/ua/DX9H/4Y/3EAUgKRBH4Gage3B/4HbQiPCMMImgjZCJsJMgqZCq8J+wcVBn0ErAP1Ak4CoAH6/3X9k/t7+r/5J/m1+OX36fZV9mD2ifaH9hr3Rvht+RH6n/pN+/T72PyS/rIAkAJ7A4IDrAM9BA0FZgbdB7UIQQg5B7MGSwYMBgwGewU8BN0CBgK1AQwBcf/r/e38E/zI+6r7ufvu+uH5Nvkb+UP5iPmx+Sb5ivj79+P3Jvh2+Fb4MPgy+I/4BPkx+Xn5yvka+tn67ftu/e7+Tv+d/0cABgGIARkCxwKCA0AEqATiBMkEYQSqA5MD5QM6BAUEWQO+ArMBfAFEAUQAbv/Q/nf+g/1V/J37bvs6+xn7rPpP+gL6v/mG+p/7jvzB/Dj96f2//lb/FQBEAY0CZwORA+EDWQSqBPoENQUwBTEFKwU/BeYEYgSeA7wCIAKsATwBygDT/7L+vP0y/ZL84Ptu+7z6BvqU+YT5z/nb+a/51PlM+iX7VPux+yz8u/xw/Wf+Y/9DACQBkAHRAUQC/QLCA6kEBgUlBRQFIgURBbUElgSLBPkDRwPBAngCEQITAXgABgBw/7b+8v26/a79mf2s/Xr9SP1I/cD9j/5W//P/YADiAJEBPAITAyME0AQ2BTkFbwXyBXgGoQZXBiwGFAb4BbgFbgUhBXAEngPmAhwCcgHDAPj/Ff9U/n39A/2Q/Bz8cfuc+uD5Y/lm+b35Z/rn+ln7svtY/ID9o/5n//f/ywAhAj8DLASgBLQEpATyBH4FBgZ/BroG4waEBuIFVQX3BDcE0gO0A5oCYAGHABUAhv+O/tr9L/2X/PX7c/sK+/X6Nvuk+9r74fsa/Gj8+fya/Yv+L//T/8UAvwGpAhsDWAOVA+UDfwT9BPkEywS7BMkEegT3A04DggLAAUgB4QAKAOb+jv29/DT8i/vZ+kf6zfkz+dD42fj5+Ez5ufnQ+Sj6tPp2+yr8mvwe/dz98f7T/78AjgEIAnsCCAPXA20EmATYBAIF3wR5BPwD3ANoA/gCmQIvAqoBtADR/9L+8f0Q/V78pPvl+lf6D/oJ+rX5h/mh+cr50PkN+qf6Q/vJ+2L8/vzc/dz+j/9BACYBzgH0ASMCcALdAg4DFQMbAzADMAPOAmQC4AFzAXcAj/8V/4D+BP6W/dr8CPyT+/z60Pqz+p36Tfry+ZD6R/ve+yf8Yvz6/Nv9Vf7a/rP/JgDxAGoBNQLsAgQDkwPyAwAEZATXBLAEPATQA2YD9wK8AkICfwHEAEYA6P9r/8n+Qf62/T/9/fza/NT8+Pw1/Sr9Qv2c/Qr+hf7g/gz/Hf+k/0UAsABFAXUBvQE1ApcCHAP6A20EagRMBB8EQQQcBLsDagMtA8UCTAL0AagBdQFGAeMAfADt/zj/p/4g/sf9Sf0P/V79j/3o/Wb+6f4d/2z/ov/Z/2MADQH2AWMC8AI6A6sDKARyBAIFCwXsBM0E3gT1BB0FdAW7BfgF4AV0BfsEXwSvAzADawKiAfIAcwAlAK3/Yv8m/wb/3f7H/vP+Ov86/0f/p//l//L/LQDJAC4BuQFOArMC9QJAA24DkAPiAzsEnwRuBBwEYAR1BCQEqwNfA1EDuwJlAuwBIwGkANf/Of8n//z+Gf9P/7j+G/75/f79Wv44/j3+l/7+/XL92P2e/vP+O/+1/4YA8gBGAXgBjQHRARoCQQKEAkADeQOoAw8EVwQWBGED2gKIAuwBiAGOAUQBAgEAAeIAWQDI/83/uP9f/8f+ev5p/gr+RP6s/uj+Df8a/2//3f/f/9P/+/+//53/Yv8c/yX/+/7F/gP/s/8AANT/0v9MAIYAXwACAPP/x/9K//v+Nf9H/6v+Ff7h/Q3+Cf4c/jD+Pf7F/a79qv1Q/SL9Pf2T/af9wv0h/rf+z/6B/pL+4P6T/lH+H/40/lX+Hf4N/nL+zf4r/6r/CQCcAO8AcAHUAdwB1QHVAUEBkgCEAHIAUQAQAOn/v/9l/1H/Fv+9/ib+j/19/Wf9Mv3j/G39+v38/f/9n/5u/6z/eQCjAJn/5/7l/gz/6f7e/gz/XP9e/wj/mP8iAJIAWgGIAnYDdgQMB7oJFgrqB7kFCQRFAa/9Pfv8+Br3TPYb9pf2v/YW97f3wPj0+QT7u/vI+wj8CP3g/UH+v/7P/xUBJQJ/A7QEeAWgBYoF6wTXA7UC4AFYAc0APgAeAFUAigAIAaQBRwKWAskC4wLQAqECoAL9ARcBfgCfAAQBIQFOAWgBsQFjAUoBLgEdAeEA+P/P/7v/iP/K/8b/o//A/63/IwC5AB0BZQF7AakBrQGUASMB8QCfADoALgBUANMAGgHSAIoAtADFAHAA9f/1/xMAwP+S/2L/YP9S//v+kv6D/sf+qP7J/sn+5P7S/rj+D/9U/0v/Hv+X/0MAVwE0AuQCjQOtA/sDIwSOBOQE/wSxBGcEVQSBBCUF/wSKBPwD/QM5BDwEBwSlAxUDSALpAWIBTAHjAKgAkADs/3v/sP5t/ub9af23/Zb9Af3Z/Fr9Of01/Nj7tvuM+7v7Fvy6/Nr8P/0R/kn+Cv5v/V79eP3G/DX80Pvf+8H7Uvsb+xD7Ifs5+6D7v/s0/In8b/xz/J78Y/2T/oL/NgAaAeAB7AIZBPcE2wXTBoEHaQdBB2YHdgf1BjcG6wVuBbIEswPWAkQCswE9AfsAQQCt/pP9//xO/H/7zPp++uf5OPnj+JT4nfje+Ob44/gD+RT5Ovkd+bn4ofiv+JP4EPhP99z2ifYf9tj1TvXo9Lj0efQM9JXz8vIg8/r0EfjR+rX8OP/3AdEEOAfXCR0MEA3kDPMMew10DfUMDwwZC4wJOAjnBtAFzQRLAwwBvP6k/Jj6fvgO9sXznvEd8BLvu+5E7yXwPPFj8uzzo/VI9/r5f/yl/tcANQO2BSsIQgoJDJAOxhDNEiQUsxTuE4kSGBGYD2wNoQobCLAEJgGt/Rz7PfnI93r27vSr87Py2fEz8a3wA/AV7wnumO2r7RLulO6S7zrwlPB38ajyD/Pn8snyRvIL8nfz/feT/UQBRATRCJ0OBxQhGDwc8B7nHYUblhp2GoUY3hSvEKQMDglcBvYEvQMDAu7+KPvv92T1AvMo8NHsY+kA55DlWeUF5wLqk+yZ7tLxf/Y3+zD/tQLgBQsIngmAC2kOxBGcE44URxbJGFQb/hyOHdEdHBz1GCkVgBG/Df0H1wGT/G74C/Xl8ubxxfEM8n3ye/NZ9QH3xPc499r17/RX9MTz5/Ki8kryM/I58kfzBvVx9dr0LfNZ8RDvP+xY6y7v//X4+b78cAIxCk4SbRjdHtQkrSWoI6AhtiD9HkkaPRR9DuAJvAWeA6sCVAG5/5L7APdP9ATzhfAv66nlZOJ94IHf8OBO5K3n9epx7431KPyqAXwG5AlIC90L6AylDrsQFxJwEkUTcBZgG6ke3R/9H18ffB01GXoUhA/qByX/pfYP8RruCes56cDo6Oln7F3vBfNS9jD4O/g29wn2e/R686XyoPGL8bvxqPJe9K/1Hfdk99z1NPQE8p3u+emq5APi1uWz7hv2ifuVAsYLUxXEHJQkOStEK6MmdyElHkYbuBU9D2wJkwRgAXEA1QDmAN3/qPut9b/wZu2G6aLjL96t2mzXJdZQ2Rvg7efG7RjzMPqvATMIYg2IEH0RCRFeEB4QkRGwE6UU0hTHFYQZdh2aHuAe0hyFFysSOAzHBuMA2viQ8UXs3ulf6fDp2+tW7vTwifP79UL42/of/Pv6X/nz94D2dPWG9fL1EPdQ+C35BvpK++X7c/mL9rLzMPDU6zznE+QJ4TDe5OE57oL67gG7BzQP0BfOHdQhwyUHJTof6RhiFd8UDBR7EukPCw2KC44Liwv0CS4HxwAG90Pu5+hN5T/hbN3/2yLc/93V4kfqFfJd93r6mPwK/20CdwbZCLgJCQtaDW8Q4hSaGkUgAyNWIskhwiK4InQfPhsvFacNcQcdAvT+jvy++OT0YPHA8GHxl/H/8T/xCPGE8S7zKfYx+kP94/1n/vT/VwIXBGsEIQWlBV0EfwIYAYsAH/9z/CL5T/be8/nwk+1D6X3ltOE23ufeSOeH8rL5f/4nBKYLFhNIGLEd6SB7H/MbThkdGiEcnxwzG2QYEBbCFEATyBCzDX8Ib//39VrvB+xy6dblCePb4Uji8uTb6Frti/E283fz3fSJ+CT+WAMDB6EKFQ6gESIWixvBIHAiByFzHwYfwR3FGhQW+w8HC/0F0gIOAZn/C/5N+nz20PPL8q7yy/KO86T07vXK98P6cP49AccC8gKRAoQCRwLuAZ4BFgGnAAgAvv++/3P+6/s0+KX0avHA7b/pFOXc4NTdEdvu2BbZMt6H6IPyRfqCACcGSQyPEc8WFRw7Htcddx0WHqIgZyMyJOIhLB5IGukVMxHzCxIGmf5w9ers/udA5iblz+OT4mXhz+Ci4bTjNOal6KfqquzW73z1nvxEAwQJ1Q2FEnEWLRpnHQQgAiLaIbEf2xy6GpkYTBY2EwUPJgqvBCIAZvwf+ZX22/OV8UnwNPC38YXz8fSd9lD4r/mY+8D9Cf9j/y//hv6S/g4AmQGvAs8CywG+/9b8dvkl9szyBe9L63vo2ebb5UHlD+Rs4k3hfOBt4ejnNvJJ+6sA/ATSCr8Q1hYDHb8hkyMMIuQfUh+EIN8hKiDWGzIW0hBrDAcIEwRM/6j4Z/F/62To0ecD6GDnCeYD5WPlZudS6qjtc/H+81z2FPvMAfUI1w5fE4QWRhiTGgAeVyHoI5oj3yBNHhYc9hqVGWgVABCHCQ8DRP7f+oD4NvZj87HwoO/J8MvzsvZz+LT5Svr5+63+6QDBAkQDZgKgAWcClgQNBw0INwdKBEoBh/8s/pn8BfqU9n7yQO++7W7tXu1I7MPqWOmS6JLo0ein6jbvnPXf/M4DOAkhDpQRexQjF5EZnhtMHEMc4xu+HFIdvxxgG5wY6BQdENwKsAbtAhr/+frg9v3zmfLJ8fDw8O8i78Dud+7d773yDvYG+TH8PP8mAlMFpAiZDKQPcxLWFA8WbRZNF0UX7xXqFL8SFxA7Df0J/wbJA+//Hv1Y+1f6ffqf+sn6Xvqb+Zz5YPog/Bv+Wf9o/+b+uP7w/lf/Vv9u/xgAgQCKACcANP8s/ov8sPq5+Pz1vfPL8T7wUO977oTup+4r7mrtDe357ALt1O337vjvm/L69sD7JQFkBV4IwQp1DNkO0BDvErkV2xaDFzkYohjNGOYXCRYjEoUNcAkRBmQDwgAs/u36YPgA9wH2XPUi9JnycfGR8DbxmvJP9GD2aPk1/R0AIQM2BVsGEwhKCfEKGw1+DiQQpBD8D88OjQxMCmMIrAZJBTwE7QLJAaYALv/d/fn7HPrz+N33hvdZ9+T2EPc791L3s/co+In4lfkY+9r8Yv6x/rL+G/6U/Vb96vzd+4X6q/n5+K34r/iE+Jf3pvZ99hf21vVY9rD1fvSo8/byv/NY9cz1Evdi+RP8rP7UAEsDbAXpBn0HqwjLCaAKmAvNDLYNhg3bDF0MCAw4C5EKQgm2BhIFkgS1A30CzwBj/6f97fvK+7z86f3y/vX/awBEAXgC6QIbBFQFyQXQBUQFeQUsBhcHYAgZCX0JXAmyCFUIJQj2B6YGFAWGAw8CBwGG/4H+gf2J/NL7BPtc+gP6Jfpn+uf65Puz/ML9o/6T/mP+//1A/oL/3wB9AYkBXAHhAHoAQgAvAFkAKgBi/wD+zPxP/dX9ef3P/Ib83PyB/dD+9v9WAHD/kP64/ob+n/4m/0j/p/+BAMYB2gKBAw8EHQRRBHwFoAbkB+0I1QgsCAsHZgbIBvMGBwcrB4gHKwhHCAEIfQd2B+0GWwbABkIH7wffB5UGFQW2A2kCqwFJASEBvgBjAJUA2QDcAOAAKADO/ln+wf4AACIB7AC8AKEANwC7AMMBPQK/AbUB4wHNAeICkAMgAzkCWgGSAc4B1wHYAR8BWQCx/wn/4/25/NH7/foA+wT7x/oy+mr5/Pg6+Hr3ovfK+Dr5s/gT+fD5rfpU+9b7j/wN/fD8Dv0u/jQARwJVAjAB9QCFAHL/LP8AALQAEQE8AP3+kv7n/Sj++/56/+7/HAC1AMoA0ACbAM//BAAUAJgAugEMAxMEkAPQAkYCHwL5Ae8BHAJoAucCUwJXAXAAWP9w/ij+o/4n/1b/q/46/uL9PPwc+577lf3O/rX/twDF/2//Ev8k/n3+VP8OAWQCZAJPAsEB/gBxAFsAQwCC/7n+LP9mAG3/R/xs+n/7tft2+UL5ivmU+Fv58/jQ9mL3TfmD+bL6dftE+mz5LPpn/Lf8xvym/i//uv9TAjwDZAEy/t/89/3Q/zwDlQXKAyYAWP75/UH+q/+4AGv/h/2I/Xf+cP5h/Tj73fm0+qP8av5J/yr+m/yZ/Rb/Sv+G/uX9af5xAEUCygIsAhICiAIdAigBGACAATQC+wBVALMAzQHgAOT9Z/xD/ocAyAEjAoEB0wD2AKIBuQK5AhICdwI6AhICugM9BNcBQQF/ATYBxAH2AX4BigBtAC3/oP6mALr/0P7J/Sb8qv5n/ub6lfrR/Lz+xv7n/cz+Qf0I/Af/AgG2AFv+YQBWA5gCaAPGArYBYAC6ANQGKgVUAIMBXQFkAwcGNgOs/xoA6gD5/3v/VAIpBK/8Wvkk/fr9RwB5/8v8sfo1+y8ClQN0/aD83gCCAqoDEwOOAsEBu/2RArsHXwIg/qH/UwTDAan8K/+sAZT/U/wW/Un/AgDUAEwCjf9I/AL/zgJHBFgCNAIFA5ABzgJIAoUB1AU5BoIFkwIA/l4AmgGSBMcFbADz/58AkP/+/7b+2//7/nX8+f1B/d/+Nv7g+ij7y/rX/jgDuv9y/Tr9Yfys/X38QfzZ/2oCTgLm/U/8IABrA9cECf8S+mj/rwWJBU8Ch/4K/I7+GAPsAq/+Ev25/Z/8y/zH/68A+/wj+or+PQIgAPf6LvvHAbwCZf4A+6n78P/TA2UCFP3k+Qb7mv86AM/87vwi+/j6lQCtAuf87fVw+ov/Mv4R/h0BYwJm/cb8nP/2/dn8zgPoCOYAqPnB/78GdQZSAjr/+/0w/YcFSQrUAjn7EPmB/ZUBxgH6AUT9GvdK+t/+PP6U+bn5+/1Q/hj/ifxg+KD6E/+XAGH/9f9b/af6TAKJBs4CHP7k+2ABkAccBYT+F/5lA20DjwBfAvgAP/6HAZYCHwHc/aX5Bf5QAoIBOv+W/KD8hf3f/9IANQCsAO3/fP2A/1UCMgGcAB3+A/8XAswCsQIlA74BOv7g/jYAPQIeAywDIQOI/v/7mACiBKkBI//ZAXsDoQMfBDEC2f8IAB8DogX/A3EDugRKA4YCbQJrAbACvQX8BXgAtP+EAsT/dP9EAXEBc/4G/B7+cf5YAXwB4vsv/cv+Bv9PAZcBoALEBWkHmP+c+YEC9gxMC7wCAgF6BKIGZwdmBjMEzQLsADwCwgWJBjAECfxs+Iv+3gQUBj8CsvtI+4L//wBkAJX+lQAHAUYBfAG2AHsEogKOAI0CSgSMBu4FuAj+A8f69wJICKwDLgJ9BUgGKgBqAZECVv/tApQHoAWH/j392QTkCCEAbfft/JkE/QYCCREF7vya/moDHwIkBOkHJQb6Af4BxQOnBLMDV/4L/WgBsgTgBKABzP4V/bb6//zhAOkCIwFF+7D73wAtA0D/EfzmAP0FzwG4/HQBwQQpAZH/zwGAARYBnQMiAhP/pP37/swAif7eAEIBif0T/e77d/1B/cv8bfvi+XoA0wOG/qv3GPgOAD0FRgBm/Kj/GQMHBYEBl/yV/CMBCQVvBkIBNf0mAMQBiQO5/wj87f7jAZEBHP4a/u/9l/th/QYAdAEi/+z7Lv3y/fsAqAEX/5UAmACw/qoAzgNCABb9QgFPAyMEhwVQAQf8sf26A/YAhvxZAI8ArPwn/9n/Uvf4+aICjv8N+1f5bPoj/1UCrf4K+nH6/f40BswDp/u7+hIAMwR4AGT+eQBcAlAAg/sC/WoAdABRAXMBRPp++2IEKgIt/O75KQEsBiv/Bvui/QsFeQbz/gz6BfuWBdINHgQ+9rT4NgY9CTUAlf/0Apr+9AA5A4n/K/9mAk4D6/yi/KYBQwOyAKf5kvkOAOYEWQZwAP76tf1oAIYBigNaBcMD/f+2/f4B5ArXBf/8cv2+BWoLFAUVBf4DE/5j/tcChwdIBWsD3AGT/qYBrASuA7n+kvuPBWkLugI7/N3+TAEC/zACKQnvBa/+Xf9TAIQB4wd8BtD+5vwvAwkKLwgQAgX7i/xDA9QGOAgLBSMBLv6W/ggB3gFRBLEGfP9p/HkF4AqxB5L/CvvH/2IJbgolBIsAyACcA7MAD/+lBXMKTAYW+vX8mQWlBncIMAAh/soArf/SB5IIZAEC+4T6XQagCQkEUABw/uv8O/4LCJ8I/f/G/48D2gX5Ax0AYgLTBPkEWgIyAK8DawZtBfH+avjJ/rIJ0Ajj/mL5iABbBXEDuP9m/rQDOATtAEAAsgGoBa4BufpmADIGwAVPAD38BP7b//wFMwWs/Ar8vP2/AVkCYv0M/2ABRwAq/XP+PAMqAVX7tPrlAB8F5QNiATz6lPmRAmYDAf+B/TwCBwS4+7j4IQHVBbX/avqYAAADtP/jADX/qv2J+hf9eALO/lL9dv+kALD8ePRR+ZIExgPW/Ur7lvxU/YP8yP5RAuH/9fx0/mH/KwEFA88AwPzm+v3/rAd+Bpf8cPcS/jYEQ/9W+4QCEgN++zX5iv7ZAYr/OP9E/er7O/1AAeoDl/3S98L5N/8ABVYE8Px29oj7owR1Anb62vkrA5ADj/vp+DT9zQSBA2v68/fy/psDIP8f+9D6ofxfAiQC8vxT/tr/jf4HABD/Bv/CADcCgwXkAL/8Xv+rACID6v+OAacGVP6A+5r+HgLEA6b//v3m/XAArgBv/n/+Ef36/BP90f4lAOL+FQF9/dD6+P6jAIkByv92/vECYAUHAPf6yP5sBx0IcQBg/JMBcQcsA4T9BQH/BC8Bt/zr/iMDhAUxA1v87PlC/5kI/wa6/F/80ADgAj7/Ff+gBngElv0Z+68ARwjtBUsAYf2h/9gDVQbjBKUA/v/XASQCWwM8BsADGADe/+//xwIOBhIFSQFR/zwATgGVA4gEgwOnAsX+Lf6MBBwHXgE7/GkABQcDBfL/Hf/nAeED6gAO/2EANwT2BCv/t/1+/9wBTARYAhz/0v5WANEAZgJBBAcCff49/tEAeQVyBav/q/3BAAwDvQECA9EDuAGkAdwA5gEPBRcGoQKa/Bn+7AOOBLICwP+j/u7/KgHGArEAIP2D/g0DMgLF/WT+wgC9/2L+twCDAh0AqP4WAHoAef9s/cX9rwFVAu/+8/zy/wgDdQAN/bz80P5fASsBZQFaAMv8Xf5SAZAAO/7p/VUA3AGK/437ePvZ/9EDqv9U+gT97ADzAFL+Yfyc/Cv+1P/g/2r9D/0G/wH/h/4k/R/+bv9R/Sr+zP+5/Zr76vwc/+z+O/3j+w/9fwBIAEb8i/vD/iQCzAIr/8r7mf6iApQBfv47/WX+yQAWAcf+2P2s/qH+VP4H/qD80f07ABL/zfv1+U78uf5N/XP6ePrd/GX+yP0a+5f5ZvtK/Rf8UPu9/Nv9HP7q/Sr9Af61/1z+6/x6/Vz+TP99ABv/DPu9+vD9LQDt/1P+5fwJ/Nj9QgBKAP/+if2S/kEAPv+u/R7/oADi/oj+FgCCAFYAwf/Y/QL9j/64/3j/hv4k/pL+Hv8d/m/8K/2W/oD/Z/9Z/jD+b/6T/wIA8v5Z/s7+MwAsAJj/lv4U/nL/LABVAMT/hQDHAVIAQf87AKUB5wBB/4T/xgB4ApABQ/7B/Ib9Iv/7/7T/T/8D/yr+a/06/Z/9jf5K/97+6v0v/sL+Qv9a/5n+yv6v/xcBSAI2Afz//v81AX0CTQI6AusCvQOpAoABYwKHA5gDHwP9AsICawPsAywDPgLvAdoCmAOiA2QEWARbA70C2gIZBN8EnwS9A2cDGgTIBEkEDwPaAq4DIwRBA5MDzQQRBOwBjwApAfsChQOfAQP/x/59ARACdv/6/B/9TP4g/UT8qPxu/L37RPqz+fL5YPoM+5r63vne+Un6Avss/EL8pfvc+zz9Cf/3/3IAPQFwA+wFEAffB9oIKAo3DDsOvQ9ZEX8RZhCiEMYRVRL0EfkQqhCuDz8OSg28C1UJcQZ8BAID7wFyAOb9fPvL+dz4APig9sX1n/Xs9KnzHPPo8331dvYm95/4wvnJ+Rf5Cflh+qH8Zf5h/qL9q/3j/Tn9+vuy+tn5UvpY+0H5GvYB9Sf0g/Pc8mLyh/R3+88A+/5q+TL2aPlGARQJOQwvC6MKSAyoDbMNTg2mDd4OfxA9Eu8SExFqDDYHCgR1A7gDxAOQAo3/EfwQ+Sr2mPNo8iTynPKh85v08fQ+9HbzvfPk9Vj5tvz///QCkgRBBasFrwbNCMoLTg6aD7IPQg5vDG0LPAvICkYJMwcgBccCbP9I+233SvUJ9cf0RvMu8Fjtmevm6t3qu+o865rsJO737irvhu+I72nv3fBN89r15/aA9kn2MPoKA9MIRQfbADP9mAGZC/gTEhU7EbYNig77Ed0TWBIvD+8Nxg81EnUSAA9ACPMBBf+z/3gBgQEx/tb4vPS88/DzyfJA8KvugO/88RH0/fNP8sPw5PH59Xr63v0BANUAfwKxBjUM1Q9OEJcQjhEQFOEX9BnPGJUVHBO8EskTFRPUDwEMLAhGBW4D5ACV/I33QPR88zr04vO08PDrPOhG6CbrtO3H7eTr/Op07EPv4PBC8HfvAvC/8m/1o/bZ9xf8jgSXCu8ItAK//z0FzxDhGV0bWBfLE48UrxdBGZEX6RSoE0QV+xcvGGYTFwthBLsB9QKwBAwEkgBS+6j2dvQD9P3yKvHE7zzwk/LE9OL0SfNX8ULx6PM9+MX9FgPVBCMEfgRUB/8LNBHTFRgYfxmGGooaBBozGfIXFRd0FvcVhRWBEnsN3AcFAyQAzv59/Xb6Vva08TjuqOyS7LLrzen46E3oXeg26arqRewA7Q3utO+s8SrzXPSf9U72Jvdr+N/5Ev3FBJYNQRCkCg4DEQFsB4MSchoSG/wVcRHWELkRQBGODgEMagyuD5ESLRFFCn8A6vnX+M77b/9f/7b7ovbs8l7x0u8G7kvtGO/S8ij2J/dL9T/y6fBF8qz1L/rc/sgC6wRmBQkFLAWsBtUJkA6zEyEXHxh5FewQiw59D+QRUxJ8ELYNUwvQCLcEzf/A+0n6xPo8+k73gfJW7S7qh+lJ6nTrz+tM64rqW+rx6k7suu3b7s7w0/Op9kb3zPWK9DP1mfcy+uj7nvwU//oE/An5CBIDfv7K/7AGzA0DEdwPoAyLCiAKCAroCKYH0AcbCv0M+QwlCXACbPzE+hP9wf8lAEv+pvq09y73QveA9cTy4fGW84T3O/se+3P31/M481X22vtuAGcCmQL9AmMECAasBzkJYQuZDl8S4hTXE8APIwycC/8MHg/lD3oNVwlEBTQCh/+n/UT8FPty+hr5afbd8XbtbOz07lDyYPM08k3wee+D8PLyhPXW9lH3bfiZ+tH7h/vy+bD4APpz/IT+Vf6i+z/6WP14A0IHvwX9AGn9TP42BGoL9w0eCjwFqQSVCFsMoguACL0GSAmeDV4ObwvIBk0DTwMpBqAIAgipBAgBvv9MAC0BHgBk/Vr7Q/sH/ST+Dv3z+jz5S/lb+2v+cQG2AvUCuQKtA78FKwd+CE0KBA2+DlcOsQyxCtgJUwo/C7ILhApJCDgFLwKXAOr/If95/Rr7kPmW+V74lPUq9DD1qPdg+dr5I/lt9872L/cb+Tv8rvyt/NT9EP0y+8H6gfwm/Vj70ftH/pT+IPw4+GT2nflU/Qf/JP7c/Kb9nP1a/fX9ogHEBVEHqQZnBToG1QdcCJsHtgYSCI4LVg3jCvoFYgNpBBAGlQW5AwACtQA3AA7/gvy4+eP3cfjf+Vv61fm1+Mv3Z/fW+Kr7Uf0B/ob+AP+uAJUCoAMnBKQEogWcBr4GnwY8BjAFFwWlBTwGtQULA7gA0f+V/yD/vP41/lP8g/rX+Uj62Pg89Rz0dPel/Lr7CPb98i702vcM+Zj3V/bW+HL92v1/+Zb1NPgG/osA+fuJ9Z/3K/4y/tj56/eW+I/5ovr/+/b6LvrO+nr7e/sL+678DgF8AsP+YP04/0ACCAXvBHMDAQIVAnMElwULBQUDrwBbAWMDDAQxA8sAu/5A/qn+Bf9i///+f/17/C785v39/0X/Fv1E/bP/+gGfARcAKwDRAAIC2gLNAjQDQANfArgB2QNlBgoELgAc/0gBqwMOAtP8bftq/7wAi/zw+Kj7gv7U+hT3rfp4/yj/A/wg+LD3+Px9AosBN/lq9hoAcgVF/Vn3Bf6HAwr+yPiD/JEB8f/g+n742fvEAAgBCP5c+XX4S/t7/jUBKP9j/KX6GfxcAV0AA/zV/M/+UwHkATIBYQLpAbACGQP+AbgDHgalBSwFdwW2BU4GugZKBf8CnQMcCG0LFgecAegAswP0BqoG0wLE/uv/vAYYB5oA5P35/n0CrwO/AGf9GfzV/10Dqv/h99X4FwZKB7v6LfUO+rMFNwnl/RX1U/0QCjEFE/mz+7cHXgrt/UD5/QNWC0MFFfoP+RcFrwwkAYD22vzhCKkHFfqH9cb+uQWJADX4lvmUAL0BdvhM8Qz9mQmt/1Xx5vcyBh4GZP0K+Hj74gKKBaMCAPlk+nwF6AXbAAn81wD0BcgB9wDoAHQDLARlAVEC2gCyAfQCBQTTAxYAdgIhAp/8Rf8+A/UCf/9t+ff7OAL1A2D+YPdZ/PwClgJ8//D5Ef3dA5T/B/mG+mkDOwPq+c34Ov8qBJMA+vXY94AELwk7/9Tw4/c6CjUJGPnF8rUA2go3ABz4sfsSAicAYfna/fgDigLc+LTz8ACyBrP6h/MQ+u8EQwNz/MX0B/VmAbUA0fx4/K36Lvtv+8MAKv/H9Q/2qP+VCX8CwPWH+IICbgZd/dv48wB9AjwCHAS0/ln8wP4lAfACMv+d/dD+2v26AJwACvz7+6z9TAC+AFf8B/43AJ373/nb/skCEv+e/X4Aqvv39Tb/RAjNAhT2u/XYArADHPxM+6z+jv+o/6H/Tf4V/Bf7mv8EBOcAN/0+/NL6sQDRBUT7O/O+/g0G8v8u+dv1MfvwATL/C/pr+q3+0f/Q+5f70vzj/sQBTQE+/XD6ZwOTB9//IviG+eIIVA5lAfb0ffUkBVwQfgYm9frxYAGcEYINqPSx6EH9KxbHEsP1UOg2+voSVxJg9y7s5/meDCAQHf/d8Hr2yglvD8z/o/Ry+OQByQ21DDP1n+zFAUgV9w219ObvOf+vC7EMc/9o9tj9cwY5BRz/E/y5AEIC3QPOBdj9XvkE/h0J4Adr+u31KP54DHAHX/ih9IL7Zwj0CdX9Gvda/JX/yQVQCbX5dPBd/pwQIwnL83/0xgMoDAADiPnV+V/9mwm2DVj/G/QX/9APYA1w/df0HwFyD3gLCv/3+d3/RwhXB1sAsP0E/J/+hQguCHf28/B6AsQNpQTg8mHx9wMJDCwCCvdv9vj/jgVdBvP/z/Md+ogHeAbNAWP8Nv52ATsBdAaPAr360vyLB/YJrP2r9wf/WArHCCH9Lvd9+w0D1gckAmb3UPp2/3ABTgGr/Qb8T/m6+z8DpAJn+1v5Gfuv/CgBI/+7+CD78wBBAYj77fa8/MgD4v9a/IH9EP9jBE0Brv07/+L7Mv/XBWAHhP7D+7EAwv3DAIQFzQON+/P5CwMpAwn/Bfw7/NQCawJR+p36dgD6AHn8Bvp2/CH/S/9k+oP8RgLQ+6b2XfkVAI0DtP4//BP7RvqB/Lb/EgMMAbH5TflUAkIFsP8N+2L55f5VBAoCFv5f/2UAP/uF+m0CeASe+s75GwRGAt332/gd/Pv/6gK3/Fv57/yx/ib6mv1FAoH6TPjr+vwAsQaP/lb2rPRaACkP2gNo8qj21AMPB0L+cft3/8gBfgJVAa0CTf9Y+LD8tQh7CrL+wfhw/rQEHwfO/Qb3Af1CBR0H8f0j9xT5rP/PA44AD/oe+Qn+YgJPAZT7/veG+dkEbAfg+0L6igDRAhn9g/nf/Z8DfwTl/cD6Av2AApX/xvhb/gkHPAaQ/PD5PgDuBDIEMP27+hACHwf/BSz9nfvO/g3/DgO1AuQAYv3p+6YBxQF8/XP7y/7BA/oAjQGkAEr6oPo0BNYIsgBI/DH+5ADkBNwAR/tl/TsELwlTApr6OP54Aub+iAC1At8BtwP/A/cAeP6k/zkA7gEUBUQE3/+JAGEF0AGV+Iz78AaSCJn+7/oLAroEXf4//RYEnATm/zv+yQKkBbQB1Psm/BoEggkiA5D6d/6jAm7+a/9RAmkDwQCv/C4CowOH+4X0f/04ChEHBwB7+ff53wNJAwz8rfmhAJoHYgLh/GH6L/11ADAAgAL5ADz9EgKvA0b9uvxcAf4Aof65AYkE5P/f/bwBTwCi/qkAEwEt/mkAYgJp/cH7fP/+/779i/8lAN39S/0i/9ACdwGk+h/5ff99BdUD1P+d+d74rQFPBVoA4/xO/hgBbAQPAoL8h/rZ/c4DwAMXALP+y/5oADwBFwGj+v72+v4QBQwF+v5Q+Ir5q/6h/Tj5tvwCAR3/9vsH+dL+BgB69cj0bf5+B0wEwfii9Yf8IQTFAEH3G/juAZcHQQMj+SH3lwA7Atb9Wvwz/QwCFwKf/eT48/nw/6YAAv/a/hD+dPmz+OIAwAQNAdD6SPp5/sD+pPxZ+an8TgR3BJ79c/hB+1cAt/4b/AX/LgAD/zQBsQHR+6v5Mf5kAN4ClwJN/aj9xP6I/VH9rv1tAFsBvwAs/0n7+/uDAGgC/f4q+gr86gNOBab8Mvce/G8DcAD7+TL8awH/AJ373Phc+wQA7gA8/dX6kvzQ/jD/sf7Z/DT8T//1AggC1/6q/HD8+f81Atr+a/uo/5UEAQEZ/B/8x/7/AfUBfP3A+57/2wKLAYL9JvuI/XkBOwLN/gP84/1mAZEArfxk/J7/QgLOALr+zf8gAOj+/P2F/wwCTwISAVAA1gBdAdMB6wD1/rr//QOXBYYCCv93/3EBkQCi/20A/wG/AfQA6wAxADD/nP8pAeAA+/6B/+kBywJzAUb/Lv+3ALIA7/9UADYBsgE2AZIApAB+AHj/vf8IAQACRgGk/7n/swD9/5z+OP8XAIgAmQBKAE4A9AD+ANb/GP/y/2sBjgHG//j+k/9BACkAN//N/+T/K/8OAHEATf/z/lH/YP+2/vX+UQCaAIoA0AAaAR8BRQGSAm4CvQAjADwBngLpAX4B3gFZAdwASgBgAO0A8wDIAIUA3P+k/iv/GgAHADv/uv20/br+D/8A/hX9tf3a/un+x/1o/e/9y/5B/3j+7P1o/f79w/8FAMj+r/3B/v//gf+a/ib+2P5E/0T/Yf/p/tj+af8qAMD/Tf5S/SX96P2S/m/+s/4P/6H+dP0m/Gb8lP0q/vn92/2i/tv+Uf1o/AT9cf2g/e39HP5L/qf+Ev+V/uP82PxD/kz+zP0N/v3+Dv8z/t/97f3X/V/+yP8//5P9RP0p/kr/6v7V/cD9hP76/gf+//xS/dL+OwCC/8790Pyc/av+QP64/bD9Iv5m/j7+4v0v/cT8cf1F/lb+Xv66/p3+uv4j/mz9Vv64/5n/Df6V/ab+9v/N/zX+h/2i/pH/d/+k/sT9Sv7d/s/+nP5D/rj+qP7p/YT9H/4K/xv/pP7C/if/mP4J/jT+df6d/sP+Tv+x/5L/K//B/l//rP9//3T/BAD4AE4BtQDR/ysA9QDEAA0AAAAWAXQB9wA7AC0AMQHRACcAgAAsAYUBQAHqANIAvADAAP4AYwFMAdMA5gA7AXUB9QB9AJoA/AA/AbwAmgDKANYAxgCCAD4AYgCLAJYA4QC9AJYAwwC2AOEA1ACyALsAvQAHAYsAPQB1AJgA3wAEAecA1gAHAUcBQAEZATcBawFQASkBMAFXAXwBYAEaAfkAQAF7AYIBRgEfARkBMwFtAbkBjQHuAMwAFQE/Af8AggAtAI4A3QDRALAAvAAhAakBtQElAQUBEAEoAbMASgDj//z/pACHAGAAfgA0AE4AxQDHAEAB1QB6AKAAkwCvANYAjQBqAPoARQHWAGIANwApACMAEwAWANn/rf+M/2P/B/8Z/xb/TP87/73+pv7N/lb/W/87/xn/Jf+T/5X/LP/K/h7/oP+s/3f/KP8p/1f/h//5/nX+y/4E/0b/Jf/3/j7/RP8n/wP/6f78/sX+iv4U//T+Mv7C/df9L/7b/Xz9h/0c/jz+//3l/aL9mv3B/SP+NP7i/er9Yf6I/pT+Sf5s/ub+G/8U/43+rP7q/ij/4v65/hb/A//2/u3+3/4D/xf/6/6Q/pb+p/6O/tn+wv5i/nf+q/6l/lb+Kv5E/kL+L/7//fX9G/5C/r39a/2e/cb92/3n/QD+af57/nH+xv7j/gD/2f5S/9D/mf8n//b+Jf9T/yz/Mf9s/7r/if/W/sb+8f7t/iv/Yv8l//7+O/9F/2z/eP9w/3P/GP90/0f/9P56/wIAqf99/7j/8f/k/4f/LP/m/ij/Fv8K/+r+4/73/lj/ff8//07/1P8PAC8ARQA2AEcAEwAvAEYALgAgADUARgBXAIUAagAbAFsAPwABAAAAAwA1AHEAWwD+/yMATgB/AHAALwCkACoBEQG7AIkA9AAUAecAtQDKACAB7gDQANQAJQGLAY4BRwFJAbYB2AG0AaQBqgHZAQkC4wG4Aa4B9QE5AvEBrwFrAXIBpQGrAbMBjAGBAcMBCwIAAucBAAIsAk4CaAIPAqUBxQHUAQACDgL9AeYB3wFFAkACAwLBAawBIgICAlcBXwGeAdoB0QFsASEBGgFDARwB1QC7AM4A/wAkAS8BAQH5ADMBYAHNASsCYQJVAkICdQKeAjAC1gHwAf0BrgHEAfgBygEaAt8ByQClAAIBCQEAAU8AngAHAfMAmQByAMIA1ADtAJEATwB7AOIAJQEJAYMAdwCJALwA5ADrAOQA4AA8ASkBAwHHALsA+QAVAf0AowBUAFMAYgBQAEIAUgBMABwAFgDV/zv/IP96/57/b/8A/xD/Rf8//xz/3v4K/0j/Rf8f/z3/m//A/6T/ZP8f/wT//f4A/9j+8f45/2D/LP/M/pX+l/74/iv/If84/2n/bP+G/4//w//V/9b/3/+u/4//bf9u/6n/0P+S/2r/Tf89/yL/G/8s/wv/A//x/uH+B/8X//r+vP6R/n3+Vf6E/oz+e/5O/jT+bf6G/nj+eP7h/kD/cv+Z/6H/m/+i/7H/6v/y/67/mv+0/8b/j/9+/7//BACn/xP/MP9z/8P/JQBDAL3/Q/9W/47/1//7/4H/Zf98/1r/Sf8YAeoDkgGg+s/4wv41BAMErgBT/kD9Kv56ABsCsAGN/yn+Lf/+ANsB4wCt//UBgwZLBi7/hPio+Ln+igQ4BioD0/1R+pb7YAAbBHoE/wToBUoBCfuR+fX87QKABjEFeP88+UH5zv/ABWsITAghAX/3wfhoCOwSpQmu/Fv39vnCAUcJYgqVAAn4J/oyAjcG+QO5AWX+mPtG/1UEfgR7AHD+/gGxA10CSQKtAvEB9gD5Ah4EkQGAACgCngMRArMAJAGuABEBmgKbA+wBlP+rAIoCZgJ9AYYAXADZAEUCtgOkAi8ACP8LAV0DjwJfAT8CHgLB/7L/SQKVAj0B8QC2AbMBMAFJAo0FEAjUBI//sf4uApUG+AfEBdgACf5KAKYDeQXrA1QAC/19/RUB/AKfACD9YPwc/pb/aADvAAYAPv8h/4UAiQEEArYByABnAAsBIAI3Ao8BiAG3AUMBPAFOAcMB5QHvAIcAggGYAUwBFwG9ADYBpQG/ADkANgB//5X/ewCWAGz/pf7h/tv+sP5k/wAAVf+p/oj/IQBj/23+mP4A/yr/9/8mAFT+9fxq/oIACQFs/wH+Xv3k/DX+6v/I/6v+gv46/2X/T/+y/r/9uf0R/5kAAAA+/XT8Mv7n/h3/UP+Y/nP9+/2S/rX+Wv80/w3/wP4q/mD+/P2x/bP/OAAe/nr8eP2F/9AAcABl/lP9Iv08/pL/bf+//jj+N/6M/v7+9/5z/jH+0f1u/tv/r/9z/un9S/7y/p7/wf/k/qn+KP9z/7v/GP/Z/SX+kv9x/1v+IP6w/sn+iv5V/jr+FP4H/jD+Pv6w/oD/hP/J/kT+av28/Q4AiwHm/8f9I/0k/tL/jwBjAIr/x/5T/30Avf81/+X/zv8Q/+v+cAB0AboAy//V/tv+vP9sAP7/xP4f/oD+b/+C/yX/Mv8d/y3/5P9pAJYAVQBfAI4AXQABAa0BNwHZAEoBUAH2AIUBsQErAcYAxwDuAOwAwABiACUABQCFAM4AsQAxAPv/RgBZAHMAugDbANgAAQHhAIgAewD5AO4ArQDrANYAtgBdAZsB8gDSABQBNwH4AAMBVAEhAesAVQG4AWcBVQGwAUAC3wHEAGYAUAFJAlQC1AEIAf4AqwEWApQBEgE6AVsBRAH4ANEARwGhAbUB2QGhAXUBzQEYAg0C8QE0AowCnwKDAlUCUALwAZkBgwGJAccBNQJBAmIBuAD7AA8CxAJjAgoCZwLWAnwCbQJlAhACmgLjAvYB/QCfAJYANQFVAa8AMQCRAP8AsQBSAJf/hf/f/2wAyAAKAMf/OQC7AAYBoABRAJoA6gCfAG8A6QAmAVoBdwECAaUAgACBABABPwHbAFMAq/9L/2n/m//6//f/Jv/g/vD+0P7C/rn+yv4J/4X+c/4V/yj/L/9n/53/Ov/i/ij/rP+1AMIAzv+q//j/8v/C/zcAZQCrAPgA4QCRAPn/wf94AGAB1wDq/8z/GgAAAPj/UwAEACL/lf7l/kD/ef+a//b+Xf5t/v7+zP73/ar9sP0O/s3+vf6L/Wj8bvwU/Qj9Sv2W/dL8tPsO/Nn8N/2s/Sj9UPwb/Pz85P1m/YL80PyY/Xn9GP0e/ZL9NP6l/v3+Sv/d/woAx//e/60AkwF6AREBlwFkAtUCBgPGAoICTQJvAqgC5QJMAxQDiwKjArwCyAKYAg0C5QHvAcgBPwGyAAAAZv+Z/1b/ff7U/ZL9tv3u/bb99/wV/Dj7yvuk/Hr8ZPtZ+iX6A/rj+fL51Pkk+Sf55Pj598X36PeY+M/4b/j795P3s/jc++z+Yv53+yn6YPxuAYwF/QVLBHICbgLzBIIItAvEC3YJEQiLCP4JhQtIDK0LaAqnCEoHQQchCEgJWQk5B8MDZgHZAYkDLwRwA+IASf0G/Fn9Ff/s/1T/k/3o++D7FP0V/8EAmQCf/+X+hP9kASQDZAN+AuQBnAGSAaoB4QHhAYkBgwBg/+H+Bv97/mT9u/wa/A/7hfka+ab59fh196/2M/ZE9br1qvmZ/Yn8SPdV9OX3bP9cBTIG1wIA//L9cQHaCCAPqw/UC7kH/waACtoPBBMWEmAODAq6B+kICwwuDnoNVwlgBGUBVQHfAiIEsQPQAKT8j/kx+SH7vv3Y/Q37x/dh9g33Ffk7+wf8XPzG/Dj7e/nz+mf+6wIaBscEKgFDAMECpwe2DJwNbQqnBv4FrwhmDC4OTgzNCJIFNgSOBLMFzAWpA+AATP4P/B37S/u3+0j77/iI9anyb/Ic9KP1uPRP8eHtjOyL7Znv//HC9LT2tfNp7eXrN/Ns/q0EZwIi/NX3uvgFAIUKzxBrDrwHbwTfBoYMXRJ5FbkTRg4SCccHQwrpDWIPUA2wCLoCj/7H/iAC9AQUBHj+LPdq8xj1GPlW+7r5GPVn8GruyPBM9Tb4K/hx9cHyD/TS+GT8Af1U/Q3/vAEhBC4FqwVDB8wJmAvhDL0MjguCC2YNcQ9VD3QNDgv3CEwIQAn1CFsGTgIS//v90/2r/Cj6AffR8/Lx1vGs8r3ymPAt7Y/rzuwg7kXuke0n7ATrZ+t978f2ivnZ84btge+/+fIDtQeEBJH/Df3lAKsK9RNfFuwQKAozCIUMRRMyGLcX/hK6DTIKRgoCDYcPsg8CDN8FxwAQ/48AUQOfBOwBTfsD9Z3zy/bc+lz81fmG9P3vu++l8zv4LfpG+B715/Kw8yD5IADFAg8A3vxk/QkCsQc0DPMM5ApdCbcJAw2PEUYT5hBlDgQNCw1dDg0PTw48DJgJbAZhBFIEYgTyAjgAA/0s+pf4Rvh++O73WvUC8r3wj/Gv8kLyR/CI7qXtM+5c79TvRfI4+Cn79vXQ7u/vfPrMBV4K6QY5AIL82P/JCiwWmRggElkL1AlHDSgTdhgDGokWBBB8CrEJ2AzwEFMSkw7YBhwAu/5MAWwENwXwAWX71fWt9CX3W/qV+/n4wvN476nvuvP698H45PXF8s7xo/Nz95D7LP5AAJL/Rfy9+7wAZghlDaENhAp4CN4JnA1cEk4WshWFEFIMuwxrEFQUTRRVDzgJ/wWxBXQGAgcIBZkAkPs8+G33RvhV+CX2AfOw78vs8euk7Q7wjPDd7QXqJeiH6fbr7ewR7fvvY/XR9sfw4+oY7537Xwa7B1sBcvuV+/8Cgw6CFrAVMA57CMQJXhA8F1IaWhhEEm8MXQpcDP4PehFAD60JBAPU/m/+yQAYAwEC4fya9ULwYPCC9D34P/eH8iLtN+on7P/ww/SW9ITxGO637drxdvf++lf7Z/lp+KP7TgCIAvoDRQagCPIJIArWCRwMaxBtEgYSsxB/Dz4Ogw4+EIMQXw5yCo0G6wR7BUMF9AJB/+T6E/jq9zX4cvbw8nLwvO/574rvNO6K7QHu++277c3tXO2F7ZLuG+977mLu1/Bc9/H7j/fG7qbtoPdsBG8KdAe6ALL8s//CCFATzRbvEeMKVQjAC0gRgRUTFgoTyQ1sCdgH2QhUC7wNSgx0Bjr/q/pG+yP/mQKiAYf7TvRT8djzSfhT+if5P/Wj8OPunvHw9l368/mr9lr07fQA94f6g/40AIb+xvty+7r+kQV4C4IKQwZsBD0Gews9EUgS5w/DDYsLKgy5EH4TzhCFDCoKTwm4CXgKCgnRBccCt//L/fP9bv1Q+7X5MPju9Rr0FfOL8nvz2PQB9NvxwvDb8CfxlfLR84zz7/K08hnzT/Mf9B74Vf/qAQ367/Fi9Q4BugreDNMIoQJd/4YDsg48GGIXWA8UCfEJXg9zFCsXPxUxD+UJRAhDCbYLaQ3mC1oHywFA/eP7+v0TAaEB2v3z9tnxVPLJ9az4zfgp9o/xzu6i8Of0Ufhd+Kr2JvXm9Df3f/q7/ND9Pf4S/rb9Wf8mAvkEjgY9Bl4HbQifB5cIpQvIDZgOpw24CnAJeAqAC/8MTQ3xCQwFpALpAt4DsgQrA8H++vpI+U/4tfgC+ib5x/bj9G7zEfMA9Cr1qfWt9TP1UvSr9Iv28vci+C345/dH95/3jvgu+Cj32vfW+S/9Jf88+nj0rvaC/icFmwbqAtL9U/y5//EGNA3nC9gF3gEHAzAH1QnuCk8K1ga7AlwBHgNdBUYGfQTtAMr9vPsP/O/9B/9F/nv70vdr9SL2H/ld+6D6y/cv9Sj0t/UO+Tn7G/vp+X/4t/el+NH7M/8QAIv+e/yT+/38WwBTAwQEcALW/1f+GgByBAgIsgeqBPwBEQHqAg4GfgdwBn8ETAKqAaYD4QSfAxECGAHw/3v/xf81/4D+NP6s/BT70PpD+5P7uPsS+3/5sfh6+FD51/o9++X55Pda95L4HPqI+t35wPjh99f3fPga+f748vgp+Wv5h/q0+gH6yPqs/J7+KADOAE4A5P/RABwDyQUfB20GxwQIBMUFOAhcCR4JrQdBBjQFkAXlBnwHmAZnBEAC+QDqAFcBFwITAiAAM/3i+zL9u/4E/339SftY+o76hvuP/JD87/tN+9H63Ppu+/r7hvzk/Kz8ZPxa/On8MP54/2EAKAGAAYYBKwGRAcMCcATeBtIHtgY7BfkE4gVhCGoKEwo/CAEGDQX6BdwHjQjcBtsDOwJsAmkDogNmAlAAtv4I/k/+Ov+V/sP8O/uw+o76qPqi+vf5G/nZ+BP5l/iC97j2Gffr9+D3mfYA9Ub04PUb+dD78vrM9ZDyU/Wr/CADAgQBAKH7WvsNAEAIGg6wDBoHlQN1BaIK3Q5BEGgOEAqxBpgGsAgjC98LiwmEBekBXgAWATYDxQQIA4L+yPkK+KD5T/xH/QH79fbv84Pza/XM9yv4cfbf86DysvMz9hn4IfkG+f73e/eW+F37mv3W/nf+0f2+/T/+1v8IAj8D6QL9ATYB4gF0Ay0FyAVRBaYEbARzBMcEFwXxBPUE/wRNBO4CiQIjAggClAL9ASkAyP5N/hn+Rv78/Yr8T/vW+pD6nPr2+vf6Z/ow+jn6L/oy+nH6FvoN+nP6b/q/+m77wPtM+wX7nPpc+tb6pPvu+2D7e/oO+n36YfsW/B78KPwl/MH7lPtb/Jb9ff7h/qL+9P3Z/cL+PQC0AWEC2gEYAQEBjQGzAmoDpAMLA1IC5wG5AcsBJgKWAhsCcQHUAPAA3AA/AIX/rv50/lv+Df4I/uv9df2L/Pv7qvwy/SL9zvwx/Lz7Lfzs/H/93/27/fn8c/z0/Bn+vf7Q/lj+hf1M/XL92f1Q/mb+Cf6C/S79/fy7/HL8IPwQ/PH7WfvN+o76aPqG+oL6Hvon+k76mvrg+vn6x/sS/fD9L/6Q/hH/AwCXAVIDIgRsBNIETwXPBk4ILgltCR0J+gg6CZsJMQpLCm8JLAhKBxQH7gbzBa8ErgOqAo8BRQBA/5L+Cf5O/Ub88vrj+Tr5+vgL+R35nfjx9x/4yviC+Rr6Rvo4+rb6qfu8/A7+Bv9P/5b/hQDjARcDKwTJBCAFYgXHBYcGJQeIB90Hyge1BwcILgj4B+4H0AdZB8UGKAagBRsFbQS6AzUDjwLXAYABKAFLAHj/mP5V/oH+Bf5o/Q798vwl/Qn9Fv1r/a/9JP41/nP+2/67/qn+vv7f/jv/T/8w/zv/xv8bAKD/Jf8t/4r/3P+w/03/6v7a/kH/jv+4/7b/y/8QAEAAVgChAAUBTAFjAUEBKAGaATkCjAJ7Ak0CXQKcAscC4ALpAvECwAICAnYBVAFCAUABQQHnAFoAzP9d/0n/Qv/N/lT+6v1o/RH98PwU/Sb9iPzr+5v7f/uY+3/7Yfsw+8L6svrM+gb7mvu9+4z7Nftx+/b7YfzH/OL8+fww/Wv9rf3w/RP+Lv5J/l3+h/7Q/vL+Iv9b/4//r//F/9P/7P8XANr/w//s/yQAlwDMALYATwAgADcATQA0AL//Y/9J/zT/MP8u/wb/1v7C/hP/Of83/wn/9v4d/yP/MP9b/7T/xv+M/77/kv9B/3z/z/8ZADUACwBO/w//QP/2/sT+D/8d/5/+E/6u/WT9tP0T/pz9Ov2b/dj9zf0E/gf+n/1e/Zr95v0u/jb+3/27/eT9KP5//lj+9P3g/Yv9iv00/qH+Xv7m/Uz+qv62/pv+3v5A/xn/C/8k/7D/TQBYABAATACkAPoAVAFrAYsBCAJIAoQCvwL4AkgDJgNKA3IDrgP3AzMESgT5A7YDoAOuA7gDpwNVAzsDWgNfAx8D3wLsAroCeQLSAToBKQEbAdkAdAAwABsAAgAeABQAAwAUAJv/eP/I/wcA9f8OAEkAXQCAAH4ArwD+ADcBZwFmAX0BOQEbASwBFQEWAe0AFQEbAQkBLQFmAX4BZQH7AIIAawBJADwAUgBbAB4Ax/9r/z7/jP+O/1T/I////ij/jv+D/zr/Of84/0T/zP+NAPQAHQEIAeYAlgE6AjECCALiAWgCtALsAnEDAwRCBAoFhgUABdMEjQS0BKQEvQTjBLUEYgT1A/wDdAOaAgMCoAFbAVsB9gBDAJn/U/+M/0j/uf4b/gb+8P21/cD9dP0o/Sb9Cf3E/Jb81vwC/dz87PwI/dT88/wf/Rr9Mf1d/Zj9WP1//eb93/3P/c79mf2K/cH9IP6j/s/+AP8A/xn/Uf9b/xb/1P6u/k/+Yv5S/kv+L/4P/in+Q/5e/mj+q/6z/pD+o/77/m7/jP/Z/xYAHgBcADoAiQDOABsBJAHNAMIABAEuAd4AxQClAGUA5/+w/+v/HgC//47/dP9o/2v/Qf9c/0f/J//M/mj+Gf4f/kL+H/7Q/aH9g/18/e391P1//fn8wPzB/M78Jv0s/Uz9b/2c/ZP9Tv1O/Vf9Uf1m/dn8mvzH/Ev95P0K/rD9wvzi/N39Pv5E/lf+gv5o/iz+Vf7Q/qr/xP8FAFMATgBsAPgAvgGMARIB8QBvAb4BZAE/ARIByADWAMQAYwAQAAYAEQDk/9r/5v8nABIAAQAjAC0AUgBKAF0ASwBSADsAYQB1AKMArQCoAKoArwC4AKMAzwD5AEsBfQGtAd8BHgIXAisCewKvAnUCfAK7Ap8CRwIEAisCIgIPAuABawFBAV4BXgFFAXkBjgHnAH0AbwCEALQAxQDbALsA0AB/ADUAZgBTADEA8f+u/5X/rf+M/5//qf+8/77/3P8PADwAtAAHAXAB4AHzAeMBHwIeAj0CIgItAlICPwJUAm0CkQKCAlkC8AHFAfcB7gEaAlYChwLXAgEDQwNIAzkDXgPHAxEE5AOvA6UDpQN3A3ADfANhA80DXwRZBLgDIgMhA2cDvgPZA0UD3gLcAqIC9AHzASwCUAKmAnkBuABnABYA8P+d/8f/p//1/pr+xf7q/p/+X/5//qn+D//z/tL+8/7u/vr+4/72/jP/av/f/zsAYQBSAEwARAA9AFAAFQALAFkAqQCoAG0AiQC5AKIAfgBLAFAAUAAUAOX/0f+m/x3/uf6D/sn+Rv9n/3f/YP86/2X/nv+F/5v/o/9s/23/cf+B/+3/DgANADEAMQCRAJIAdwClAJgAgQB2AKAAqgC5APAA1QC+AM0AgQBFAFYASQAlAPr/AwDc/3P/Qv9P/2r/Gf/Q/sH+ov5j/k/+S/4h/gr+A/6q/Yn97f3z/eP98f1J/lz+I/4y/kT+Tf5B/mP+eP5Z/pv+CP/x/pX+kf7u/jf/iv+n/4v/eP9y/1f/OP9C/5n/af++/tT+Of9w/5X/o/8L/wv/qv/B/7r/AgBMABoA4f+p/5j/8f8LAEQAZgBiADsACQBJAJUAZQDu/w4ATACoAJAAZwBGACIAKwBBAHIApwD0AAsBUAGCAXoBgwGvASQClAJeAgMC9AEcAgACvQF0ATIBHwEvAXYBlQE2Ad8AhwA3AFEAjwDSANYAyQCPAHQAjgD+AFQBTwE+AR8BAwHNAK4A2gA+ARQB2wDYANQA5QD/ABABBQH7AB4BZAG9AecB9wH5AdEB5gHnAf8BDwL1AdAB5QEwAmkClgKlAoUCaQJUAlUCawKLAsACvgK6ApUCVwJdAnICWQJBAksCMQI0AjMC+gEGAtgBxQHKAcwBMgKyAggDNwOAA6gDrwN6A1UDMQMWAwcD5ALrAugC9QIDA/ICoAJOAjsCYgJoAogCrgLJAugCvQKeAnwCBwN+A4cD3QImAvEBxAGlAWwBPwH+AI4BkgHDADIAp/+V/5v/2/8gAAIA5P/r/5QAlgATAOT/TAC2AAQBWwF7AacBAAKLAnwCkgJ4AmwCdQJTAjYCMQIyAgYCswGkAd4BoAGSAZkBkQFPAf0AGAFAAR0B3wDBAOcA0gDrAAgB9QDWALMA0ACMAEUA+f/s/7//oP/A/9P/3v/a/wcACgAXAEkARAD9/wcARgA8AAMA+P8PABEADgATAM7/o//Z/9T/rf+8//3/SQCLALYAyQDRANEAvQC7AO0AIAEUAc4AmwCtAIIAIgDx/+f/FwAEABkATwBXAEwAGwDX/7j/tP+J/3D/gf/I/6D/k//S/wUADgDY/7P/z//Y/+T/ZABtAPH/g/+7/7//kf8RAFoAIwBbAIsAkwDAADYA9v82ALEAGwFHAUABFAGlAQMC4QGpAZUBowGsAWABrwC0ACsBaAE5AVMBugFuARsBfgGZASQBbAHgAZcBPQFIAVwBYgGdAYkBHwGFAE4AWQBNAEwAGQDW/+X/MABxAKYA7QBYAVABCwEMAVMBjgHEAeEB0AHJAeUB+AEfAgcCDQKAAmQCYgJ/AlsCcAJgAksCLQJLAo8CiAJMAj4CZwIeAlkCpgK+Aq4CyQL5AgQDIgNkA+cDGAQaBC0ETARIBE8EUgREBPgD0wPHA5kDagNqA18DYAOCA14D/gLhAvgC0AKtAoYCkAKWAs8CAAPgAtcCtgKVAokCpALIAgYDBwMFAxkD3AKrAugCRgM3A/QCwQLhAu8C+gLxAuwCAAMQAw0DHgNEA1ADNgM2Ay0D+gIdA3cDpQNCA+8CBwP3AusCOAPtApsCNwJOAk4CawI9Ao8B2gHhAaUBkAHOATwC+QLyAqcCRgIdAiUCPwJ7AooCdQIiAtkB5AFgAhcCoQGmAf4BLAIFAiMCMQIAAg8CGgIwAh0C9gENAjsCfgJ8AkwCJQIDAtIBUAHqAK4AuwDGANwADQH+ACYBMwEbAfYAEwHzAHsApwDdANUApAB6AHsATwByAJoAjgBoAJwAvwBwAAIAFwBXADcAIwD+/x4ASgASALn/zv/X/8z/0f/k/6j/av9u/1L/Of8w/zf/S/+L/4L/Xf9x/4D/lP+z/wMAMQDS/8//z/+D/4//vf/m/7j/f/9d/13/nP/O/83/ff9W/2f/mP+I/5P/uP/Z/wEADAAtAEQASwA7AAQArP+M/67/4v/S/+3/CgALAPr/+/8tAEYAMwD4/7f/pv+j/97/wP9d/5P/b/+V/8L/gf/L/n/+Jf/q/nH+p/4q/3n/Mf/I/vL+Sf9l/1j/yP7o/iX/Cf8Y/0b/o/+G/6H/8f8JAIL/Qf+U/9f/9f8GACsArf+U//T/JQA2AAEA4f/n/wYAOgBSAEwACQAPABgAHAA8AEcAQAAzAH8AiQBsAIAAmACYALQAkwBeAGMApQAKAREBwgCjALsAsQDOAAEBMgEpAfgAJQEuAQoBZQGiAYgBigGOAXYBdAHDAb0BSgERARQBJAEgAVYBkQFrAf0A3ACzAIAAyAAoAQ0B+wAoATABKAEbAWIBRQE4AU4BWQFyAcEB6gG6AVsB7gD3ABoBcwGBAYoBdAFiAT8BOQGOAb4B5AGnAdoBQgKBArACiQL1AacB0wHoAeEB6wEJAvkBxwGaAa4BkgFaAUwBNwEYASYBWgHVAVYCbwLrAXIBbAGLAacBMwGfAGcA0wAQATMBHQESAZ8BEgGCALMApwCvAIYA3ABYAQQB7gAMAVcBSQHIAH8AVABIAJIAFQFGAfoAngB7ALwAAgE9ASwB3QAOASUBDwEiASQBvQBmAAkAvf/B/9n/wf9//3X/Wv8K/7T+w/5I/0j/zP7c/v/+/f4s/x7/8P75/i3/Iv8Z/2r/m/9z//7+uf6H/o7+2/4K/9H+pf6U/pH+gP6H/sr+wv6w/rr+7P7t/vn+Ef8Y//j+1f7V/sz+yP4V/xH/xf63/r3+sf7I/gr/7f61/mD+nP7S/tT+5f7x/h3/7P7b/vH+Hf8x/zf/DP+n/qf+zf75/hP/Bf/y/sn+B/9t/2r/V/9M/wj/mf5+/qH+g/5r/nj+af4g/vT9R/5k/k/+Rf4J/vr9B/5a/hj+6P0D/vX9bP7p/hL/n/71/kj/FP8v/5D/4v/k/5v/W//g/1sAcQCdAIYAPAAfACQASwBOAB0AHgBhADAAEgD6/wcAIAAPAP//AAD6/83/3P/n//r/mf9Y/4//z/+n/4H/JABbAPn/6f8tAFsAOwArAHEAfwByAFkAGAAnAAcA9v8OAOr/5v/H/+b/VwBTACMAaADxAD8BiwGBAWEBRgEuAUsBmQHuAQMCEALoAeQBxQGjAZwBkwFfAW0BsQGnAZcBeQGFAVoB7wDZABYBYAF0AXUBlwGJAaQB4gEPAg0C/wHyAcEBvwHXAbYBogHIAbQBfAFSAWoBTQFDAVkBGQHeAM8A+QAQAUsBeAFnAXkBmAGnAa8B4QH7ATACVAJOAiEC/QH7AccBrwGcAasBpgFuAU8BcwGJAYcBhQGGAeMBcAJMAhECwQF5AZABlgEfAYMAwQDaAGcAlQDPAJUA1AB5AMv/0/91AGEA2P/i/6oAswABAN////9IAP3/8f+w/7D/LAA1AC8ASABPAH0AggAnAPf/wP+X/wcATwAgAPD/sf+6/7H/rP9z/0b/Qv8J/6P+kP7G/gP/J//w/sP+p/7E/r/+yP60/mz+Vv4//oH+zP7U/sf+6P7r/pT+lf6u/r7+hv5g/mD+Zv6D/oT+cv4Q/tD9qv2q/db9FP4Y/vD93v3i/bz90f33/er9+/0g/kD+AP7S/c/9yP1//XT9kv2V/Yj9pP0F/tz9oP17/a/95f3P/c39w/3w/cb92P0I/kz+kv5O/jX+OP5W/kL+EP7j/bP90v3+/TD+S/4j/hz+z/2q/eD9//0V/iT+LP7a/Zn9kP29/eb93v2+/ZH9YP09/Tr9Yf3X/UD+K/47/S39Fv5O/jn+uv7D/nf+gP4e/j/+lf55/kP+S/77/c798P0y/mj+Qf4R/jj+fv6p/rb+f/5T/j3+Zv5O/nf+dP47/kn+cP6h/qn+zP7o/uX+qf6W/rz+6P4z/2b/Yf9x/8T/uf+k/9D/uv+N/5X/uv/X/wAAEQDg/9z/1/+8/6//iv+Q/8D/5v+y/4L/Yv9I//v++/4O/yb/R/9Z/57/p//Q/9r/xv/L/xEANwBTADkAQABVADoAMAD8/87/7f8hAAoAFwBhAJMA0wAfASkBHQHUAOYAIAEvASkB4gDLAPwALgE6AS4BAwHtAK4AUwA9AE8AVgA8AHIAdgBCABcATQCQAFQAHwA2AIUAsQDEAJEAeACJAIoAeABoAPD/6P8JAOL/4/86AGAAWgCHAG0AogD5AD8BJgFTAXMBQgEHAQYBoQAhAB4Ap/9x/7H/qP/S/08A+/89/3D/q/+v/6X/sP+KALAAcgB2APgAMAG8AI8AYwCOAMMAeACEAKMAmQClADYA///q/+D/5P8nAIMAZgAwAAIAAADh/6j/Vv88/yb//v7K/qf+sP6u/or+Lv4m/mz+oP6F/pP+lP6o/qD+q/7+/j3/Yf+U/6T/a/+i/8L/l/9Z/yr///7U/vn+J/8n/+v+oP5M/vX9N/5i/pP+w/7w/h//5/4U/23/V/8g/+D+wP6t/pH+r/54/kr+JP4h/jn+oP7I/lf+YP5y/lr+HP5Y/sr+6v7q/u3+7P7w/vv+B/9I/zX/wv6T/qn+sf7O/tD+4P7T/rH+nv61/iv/Uf9U/yr/+/7i/uj+/f4E/yX/E/8K/wP/GP8H/+T+tv60/l/+Kf52/sT+LP9b/yP/gP7I/hr/FP8r/1z/ZP+B/7j/rP/J/w4A+v/N/6v/vv8/ADMAXABnAKz/I/9r/6X/jv96/6X/X/9A/9L/GgAIAOz/xP+A/6H/0P/g/9n/5P/B/7n/FQAzAEMAVAAVALT/tf8TAEsAdgCDAF8ARABRAFsAdQDNAMwAkwCRAMQA/wDrAPgAIwEZAeEA6QAnAT0BYAEpAUMBcwFhAYUBlwHvARACywG1AcoB2wElAnICYgJBAv4BzAHQASkCagJtAm4CPAJYAokClwJoAkACYgJ4AmgCIgIFAvQB9AHzAdMBwgHWAdcBpQGOAbEBhQFGAZUB4AHNAd8BBAIMAuwB4gH8AQYCRAIkAuwBFQJ2AoMCXAJ2AnoCOAIUAjUCPAJEAksCKQIiAjgCWgI0AkgClwKDApICDwMKA74CVwK7Ad0BMQLuARYB/QBPAT4BGAHbAMkAcgFuASwBaAFnAYIBcwGbAScCRQKnASwBTAFRAfgA1ADkABkBSgFxAUUBIQETAV8BhgFhAXwBhQGKAZEBuQHAAWwBAwHWAK0AkACUAGcAVAAyAPf/4P/f/3kA2wB2AEAAagBfAFUAigCqAKEAzgDuAKUAigCEAFAARQBGAO//yf8JADAANgA0AGQAVABZAGgAMgAhAP7/JQAvAAkAKgAxABEAEQDg/8j/1//C//H/GgAjAAYAyf+y/8b/vf+d/5z/vf+R/47/dv8f/zX/WP9h/yz/P/99/+T/KAAxABoA5//w/yIAPgBMAFMAMAAqAB8A7P+a/4b/ef89/yX/Of9H/27/X/8R//f+SP+d/33/lP+v/5j/nv/z//3/wf/Y/w4AFQCh/47/iv9h/5L/4f+L/zn/w//5//b/FQA1AB4ANABBADsAjACxAAIBCQHrAAoB3wDFAN8A9wDFALIAqwCBAGMAWABPAEgAHQDv/+r/uv+5/9T//P/7/xIAWABtAFUAWgBRAFUAvADpANgA2QA3ASEBEQFjAXIBNgECAUABRQEmAUYBWAFJAYUBYwEVAQ4BAAHzAAMBMAFDAUMBKQFFAVwBQwH2AM4AIQE6ARYBCwEpAUwBMAExAVIBYAF/AesBGwIeAi0CYgKJAn8CcwJMApAC1gL9AgYDAAPaAt8CogKTAkICdQKaAeX/HQAHAAwABAAVAA0ADQARABAAGQARAC4AGQAaABMAFwANABcABwARABAAAQAGAAsACQD9//v/9v/8//z/+v////n/+f/u//H/9v/2//b/8v/4/+7//P/5//j/9P/7/wAA+/8KAAQACQACAAcADAAHAAgA//8IAAYACwAMAAUADgAAAAYAAwABAAsA//8BAP//AQD+//f/DAAFAAMACgADAAkABAADAAoADAAGAP//BwADAAsAAgABAAIAAAACAP3/CAD//wgAAAACAAEA/v8AAPz/AAD+/wQAAAAFAAEAAgAFAAAA/P8BAAEA/v8AAAEAAgD+/wIABgAAAAAAAQAAAAAA/////wAAAQACAAEABAAAAAQAAgADAAEAAQAEAAEABAAAAAUAAgAAAAAAAAADAAAAAAD//wAA//8AAP////8AAP7//v8AAAAAAAAAAAAAAAAAAAEAAAAAAAAAAAAAAAAAAAAAAAAAAAAAAAAAAAAAAAAAAAAAAAAAAAAAAAAAAAAAAAAAAAAAAAAAAAAAAAAAAAAAAAAAAAAAAAAAAAAAAAAAAAAAAAAAAAAAAAAAAAAAAAAAAAAAAAAAAAAAAAAAAAAAAAAAAAAAAAAAAAAAAAAAAAAAAAAAAAA=\" type=\"audio/wav\" />\n",
       "                    Your browser does not support the audio element.\n",
       "                </audio>\n",
       "              "
      ],
      "text/plain": [
       "<IPython.lib.display.Audio object>"
      ]
     },
     "execution_count": 15,
     "metadata": {},
     "output_type": "execute_result"
    }
   ],
   "source": [
    "import IPython.display as ipd\n",
    "import numpy as np\n",
    "import random\n",
    "\n",
    "rand_int = random.randint(0, len(common_voice_train)-1)\n",
    "\n",
    "print(common_voice_train[rand_int][\"sentence\"])\n",
    "ipd.Audio(data=common_voice_train[rand_int][\"audio\"][\"array\"], autoplay=True, rate=16000)\n"
   ]
  },
  {
   "cell_type": "code",
   "execution_count": 16,
   "id": "e6cc844c",
   "metadata": {},
   "outputs": [
    {
     "name": "stdout",
     "output_type": "stream",
     "text": [
      "Target text: फेसबुक के जरिये सफाई पर नजर रखेगा दिल्ली नगर निगम\n",
      "Input array shape: (82368,)\n",
      "Sampling rate: 16000\n"
     ]
    }
   ],
   "source": [
    "rand_int = random.randint(0, len(common_voice_train)-1)\n",
    "\n",
    "print(\"Target text:\", common_voice_train[rand_int][\"sentence\"])\n",
    "print(\"Input array shape:\", common_voice_train[rand_int][\"audio\"][\"array\"].shape)\n",
    "print(\"Sampling rate:\", common_voice_train[rand_int][\"audio\"][\"sampling_rate\"])\n"
   ]
  },
  {
   "cell_type": "code",
   "execution_count": 17,
   "id": "dce64a1d",
   "metadata": {},
   "outputs": [],
   "source": [
    "def prepare_dataset(batch):\n",
    "    audio = batch[\"audio\"]\n",
    "\n",
    "    # batched output is \"un-batched\"\n",
    "    batch[\"input_values\"] = processor(audio[\"array\"], sampling_rate=audio[\"sampling_rate\"]).input_values[0]\n",
    "    batch[\"input_length\"] = len(batch[\"input_values\"])\n",
    "    \n",
    "    with processor.as_target_processor():\n",
    "        batch[\"labels\"] = processor(batch[\"sentence\"]).input_ids\n",
    "    return batch\n"
   ]
  },
  {
   "cell_type": "code",
   "execution_count": 18,
   "id": "e9da1686",
   "metadata": {},
   "outputs": [
    {
     "data": {
      "application/vnd.jupyter.widget-view+json": {
       "model_id": "3ffe8ab8d9af4ff4bf82c1810315bb64",
       "version_major": 2,
       "version_minor": 0
      },
      "text/plain": [
       "Map:   0%|          | 0/7084 [00:00<?, ? examples/s]"
      ]
     },
     "metadata": {},
     "output_type": "display_data"
    },
    {
     "name": "stderr",
     "output_type": "stream",
     "text": [
      "c:\\Users\\EDWIN\\OneDrive\\Documents\\GitHub\\Multilingual-ASR\\.venv\\lib\\site-packages\\transformers\\models\\wav2vec2\\processing_wav2vec2.py:188: UserWarning: `as_target_processor` is deprecated and will be removed in v5 of Transformers. You can process your labels by using the argument `text` of the regular `__call__` method (either in the same call as your audio inputs, or in a separate call.\n",
      "  warnings.warn(\n"
     ]
    },
    {
     "data": {
      "application/vnd.jupyter.widget-view+json": {
       "model_id": "b96f5e0bb3cd4c9399c7ae5d72e1f9b5",
       "version_major": 2,
       "version_minor": 0
      },
      "text/plain": [
       "Map:   0%|          | 0/3107 [00:00<?, ? examples/s]"
      ]
     },
     "metadata": {},
     "output_type": "display_data"
    }
   ],
   "source": [
    "common_voice_train = common_voice_train.map(prepare_dataset, remove_columns=common_voice_train.column_names)\n",
    "common_voice_test = common_voice_test.map(prepare_dataset, remove_columns=common_voice_test.column_names)"
   ]
  },
  {
   "cell_type": "code",
   "execution_count": 19,
   "id": "05cff694",
   "metadata": {},
   "outputs": [
    {
     "data": {
      "application/vnd.jupyter.widget-view+json": {
       "model_id": "4fc9732a9c9942bc8f3d1b4be99bc62f",
       "version_major": 2,
       "version_minor": 0
      },
      "text/plain": [
       "Filter:   0%|          | 0/7084 [00:00<?, ? examples/s]"
      ]
     },
     "metadata": {},
     "output_type": "display_data"
    }
   ],
   "source": [
    "max_input_length_in_sec = 5.0\n",
    "common_voice_train = common_voice_train.filter(lambda x: x < max_input_length_in_sec * processor.feature_extractor.sampling_rate, input_columns=[\"input_length\"])\n"
   ]
  },
  {
   "cell_type": "code",
   "execution_count": 20,
   "id": "da152bc5",
   "metadata": {},
   "outputs": [
    {
     "data": {
      "text/plain": [
       "4696"
      ]
     },
     "execution_count": 20,
     "metadata": {},
     "output_type": "execute_result"
    }
   ],
   "source": [
    "len(common_voice_train)"
   ]
  },
  {
   "cell_type": "code",
   "execution_count": 21,
   "id": "93088c5c",
   "metadata": {},
   "outputs": [],
   "source": [
    "# import torch\n",
    "\n",
    "# from dataclasses import dataclass, field\n",
    "# from typing import Any, Dict, List, Optional, Union\n",
    "\n",
    "@dataclass\n",
    "class DataCollatorCTCWithPadding:\n",
    "    processor: Wav2Vec2Processor\n",
    "    padding: Union[bool, str] = True\n",
    "\n",
    "    def __call__(self, features: List[Dict[str, Union[List[int], torch.Tensor]]]) -> Dict[str, torch.Tensor]:\n",
    "        # split inputs and labels since they have to be of different lengths and need\n",
    "        # different padding methods\n",
    "        input_features = [{\"input_values\": feature[\"input_values\"]} for feature in features]\n",
    "        label_features = [{\"input_ids\": feature[\"labels\"]} for feature in features]\n",
    "\n",
    "        batch = self.processor.pad(\n",
    "            input_features,\n",
    "            padding=self.padding,\n",
    "            return_tensors=\"pt\",\n",
    "        )\n",
    "        with self.processor.as_target_processor():\n",
    "            labels_batch = self.processor.pad(\n",
    "                label_features,\n",
    "                padding=self.padding,\n",
    "                return_tensors=\"pt\",\n",
    "            )\n",
    "\n",
    "        # replace padding with -100 to ignore loss correctly\n",
    "        labels = labels_batch[\"input_ids\"].masked_fill(labels_batch.attention_mask.ne(1), -100)\n",
    "\n",
    "        batch[\"labels\"] = labels\n",
    "\n",
    "        return batch\n"
   ]
  },
  {
   "cell_type": "code",
   "execution_count": 22,
   "id": "747deb27",
   "metadata": {},
   "outputs": [],
   "source": [
    "data_collator = DataCollatorCTCWithPadding(processor=processor, padding=True)"
   ]
  },
  {
   "cell_type": "code",
   "execution_count": 23,
   "id": "e1fb45ab",
   "metadata": {},
   "outputs": [],
   "source": [
    "wer_metric = evaluate.load(\"wer\")\n",
    "\n",
    "def compute_metrics(pred):\n",
    "    # pred.predictions is float logits of shape (batch, time, vocab_size)\n",
    "    pred_logits = pred.predictions\n",
    "    pred_ids = torch.from_numpy(pred_logits).argmax(-1)\n",
    "\n",
    "    # Decode predictions and references\n",
    "    pred_str = processor.batch_decode(pred_ids, skip_special_tokens=True)\n",
    "    # Replace -100 with pad_token_id for decoding refs\n",
    "    label_ids = pred.label_ids\n",
    "    label_ids[label_ids == -100] = processor.tokenizer.pad_token_id\n",
    "    label_str = processor.batch_decode(label_ids, group_tokens=False)\n",
    "\n",
    "    wer = wer_metric.compute(predictions=pred_str, references=label_str)\n",
    "    return {\"wer\": wer}\n"
   ]
  },
  {
   "cell_type": "code",
   "execution_count": 24,
   "id": "7aea2c90",
   "metadata": {},
   "outputs": [
    {
     "name": "stderr",
     "output_type": "stream",
     "text": [
      "Some weights of Wav2Vec2ForCTC were not initialized from the model checkpoint at facebook/wav2vec2-xls-r-300m and are newly initialized: ['lm_head.bias', 'lm_head.weight']\n",
      "You should probably TRAIN this model on a down-stream task to be able to use it for predictions and inference.\n"
     ]
    }
   ],
   "source": [
    "from transformers import Wav2Vec2ForCTC\n",
    "\n",
    "model = Wav2Vec2ForCTC.from_pretrained(\n",
    "    \"facebook/wav2vec2-xls-r-300m\", \n",
    "    attention_dropout=0.0,\n",
    "    hidden_dropout=0.0,\n",
    "    feat_proj_dropout=0.0,\n",
    "    mask_time_prob=0.05,\n",
    "    layerdrop=0.0,\n",
    "    ctc_loss_reduction=\"mean\", \n",
    "    pad_token_id=processor.tokenizer.pad_token_id,\n",
    "    vocab_size=len(processor.tokenizer),\n",
    ")\n"
   ]
  },
  {
   "cell_type": "code",
   "execution_count": 25,
   "id": "f3b67c67",
   "metadata": {},
   "outputs": [
    {
     "name": "stderr",
     "output_type": "stream",
     "text": [
      "c:\\Users\\EDWIN\\OneDrive\\Documents\\GitHub\\Multilingual-ASR\\.venv\\lib\\site-packages\\transformers\\models\\wav2vec2\\modeling_wav2vec2.py:1823: FutureWarning: The method `freeze_feature_extractor` is deprecated and will be removed in Transformers v5. Please use the equivalent `freeze_feature_encoder` method instead.\n",
      "  warnings.warn(\n"
     ]
    }
   ],
   "source": [
    "model.freeze_feature_extractor()"
   ]
  },
  {
   "cell_type": "code",
   "execution_count": 27,
   "id": "855b9956",
   "metadata": {},
   "outputs": [],
   "source": [
    "repo_name = \"Ed-168/wav2vec2-large-xls-r-300m-hi\""
   ]
  },
  {
   "cell_type": "code",
   "execution_count": 28,
   "id": "3fa0769a",
   "metadata": {},
   "outputs": [],
   "source": [
    "from transformers import TrainingArguments\n",
    "\n",
    "training_args = TrainingArguments(\n",
    "  output_dir=repo_name,\n",
    "  group_by_length=True,\n",
    "  per_device_train_batch_size=16,\n",
    "  gradient_accumulation_steps=2,\n",
    "  num_train_epochs=40,\n",
    "  gradient_checkpointing=True,\n",
    "  fp16=True,\n",
    "  save_steps=400,\n",
    "  eval_steps=400,\n",
    "  logging_steps=50,\n",
    "  learning_rate=3e-4,\n",
    "  warmup_steps=500,\n",
    "  save_total_limit=2,\n",
    "  push_to_hub=False,\n",
    ")\n"
   ]
  },
  {
   "cell_type": "code",
   "execution_count": 29,
   "id": "6f73ee5c",
   "metadata": {},
   "outputs": [
    {
     "name": "stderr",
     "output_type": "stream",
     "text": [
      "C:\\Users\\EDWIN\\AppData\\Local\\Temp\\ipykernel_8532\\2066899627.py:3: FutureWarning: `tokenizer` is deprecated and will be removed in version 5.0.0 for `Trainer.__init__`. Use `processing_class` instead.\n",
      "  trainer = Trainer(\n"
     ]
    }
   ],
   "source": [
    "from transformers import Trainer\n",
    "\n",
    "trainer = Trainer(\n",
    "    model=model,\n",
    "    data_collator=data_collator,\n",
    "    args=training_args,\n",
    "    compute_metrics=compute_metrics,\n",
    "    train_dataset=common_voice_train,\n",
    "    eval_dataset=common_voice_test,\n",
    "    tokenizer=processor.feature_extractor,\n",
    ")\n"
   ]
  },
  {
   "cell_type": "code",
   "execution_count": 30,
   "id": "aeeb98fb",
   "metadata": {},
   "outputs": [
    {
     "name": "stderr",
     "output_type": "stream",
     "text": [
      "c:\\Users\\EDWIN\\OneDrive\\Documents\\GitHub\\Multilingual-ASR\\.venv\\lib\\site-packages\\torch\\utils\\checkpoint.py:85: UserWarning: None of the inputs have requires_grad=True. Gradients will be None\n",
      "  warnings.warn(\n"
     ]
    },
    {
     "data": {
      "text/html": [
       "\n",
       "    <div>\n",
       "      \n",
       "      <progress value='5' max='5880' style='width:300px; height:20px; vertical-align: middle;'></progress>\n",
       "      [   5/5880 01:02 < 33:56:05, 0.05 it/s, Epoch 0.03/40]\n",
       "    </div>\n",
       "    <table border=\"1\" class=\"dataframe\">\n",
       "  <thead>\n",
       " <tr style=\"text-align: left;\">\n",
       "      <th>Step</th>\n",
       "      <th>Training Loss</th>\n",
       "    </tr>\n",
       "  </thead>\n",
       "  <tbody>\n",
       "  </tbody>\n",
       "</table><p>"
      ],
      "text/plain": [
       "<IPython.core.display.HTML object>"
      ]
     },
     "metadata": {},
     "output_type": "display_data"
    },
    {
     "ename": "KeyboardInterrupt",
     "evalue": "",
     "output_type": "error",
     "traceback": [
      "\u001b[1;31m---------------------------------------------------------------------------\u001b[0m",
      "\u001b[1;31mKeyboardInterrupt\u001b[0m                         Traceback (most recent call last)",
      "Cell \u001b[1;32mIn[30], line 1\u001b[0m\n\u001b[1;32m----> 1\u001b[0m \u001b[43mtrainer\u001b[49m\u001b[38;5;241;43m.\u001b[39;49m\u001b[43mtrain\u001b[49m\u001b[43m(\u001b[49m\u001b[43m)\u001b[49m\n",
      "File \u001b[1;32mc:\\Users\\EDWIN\\OneDrive\\Documents\\GitHub\\Multilingual-ASR\\.venv\\lib\\site-packages\\transformers\\trainer.py:2238\u001b[0m, in \u001b[0;36mTrainer.train\u001b[1;34m(self, resume_from_checkpoint, trial, ignore_keys_for_eval, **kwargs)\u001b[0m\n\u001b[0;32m   2236\u001b[0m         hf_hub_utils\u001b[38;5;241m.\u001b[39menable_progress_bars()\n\u001b[0;32m   2237\u001b[0m \u001b[38;5;28;01melse\u001b[39;00m:\n\u001b[1;32m-> 2238\u001b[0m     \u001b[38;5;28;01mreturn\u001b[39;00m \u001b[43minner_training_loop\u001b[49m\u001b[43m(\u001b[49m\n\u001b[0;32m   2239\u001b[0m \u001b[43m        \u001b[49m\u001b[43margs\u001b[49m\u001b[38;5;241;43m=\u001b[39;49m\u001b[43margs\u001b[49m\u001b[43m,\u001b[49m\n\u001b[0;32m   2240\u001b[0m \u001b[43m        \u001b[49m\u001b[43mresume_from_checkpoint\u001b[49m\u001b[38;5;241;43m=\u001b[39;49m\u001b[43mresume_from_checkpoint\u001b[49m\u001b[43m,\u001b[49m\n\u001b[0;32m   2241\u001b[0m \u001b[43m        \u001b[49m\u001b[43mtrial\u001b[49m\u001b[38;5;241;43m=\u001b[39;49m\u001b[43mtrial\u001b[49m\u001b[43m,\u001b[49m\n\u001b[0;32m   2242\u001b[0m \u001b[43m        \u001b[49m\u001b[43mignore_keys_for_eval\u001b[49m\u001b[38;5;241;43m=\u001b[39;49m\u001b[43mignore_keys_for_eval\u001b[49m\u001b[43m,\u001b[49m\n\u001b[0;32m   2243\u001b[0m \u001b[43m    \u001b[49m\u001b[43m)\u001b[49m\n",
      "File \u001b[1;32mc:\\Users\\EDWIN\\OneDrive\\Documents\\GitHub\\Multilingual-ASR\\.venv\\lib\\site-packages\\transformers\\trainer.py:2582\u001b[0m, in \u001b[0;36mTrainer._inner_training_loop\u001b[1;34m(self, batch_size, args, resume_from_checkpoint, trial, ignore_keys_for_eval)\u001b[0m\n\u001b[0;32m   2575\u001b[0m context \u001b[38;5;241m=\u001b[39m (\n\u001b[0;32m   2576\u001b[0m     functools\u001b[38;5;241m.\u001b[39mpartial(\u001b[38;5;28mself\u001b[39m\u001b[38;5;241m.\u001b[39maccelerator\u001b[38;5;241m.\u001b[39mno_sync, model\u001b[38;5;241m=\u001b[39mmodel)\n\u001b[0;32m   2577\u001b[0m     \u001b[38;5;28;01mif\u001b[39;00m i \u001b[38;5;241m!=\u001b[39m \u001b[38;5;28mlen\u001b[39m(batch_samples) \u001b[38;5;241m-\u001b[39m \u001b[38;5;241m1\u001b[39m\n\u001b[0;32m   2578\u001b[0m     \u001b[38;5;129;01mand\u001b[39;00m \u001b[38;5;28mself\u001b[39m\u001b[38;5;241m.\u001b[39maccelerator\u001b[38;5;241m.\u001b[39mdistributed_type \u001b[38;5;241m!=\u001b[39m DistributedType\u001b[38;5;241m.\u001b[39mDEEPSPEED\n\u001b[0;32m   2579\u001b[0m     \u001b[38;5;28;01melse\u001b[39;00m contextlib\u001b[38;5;241m.\u001b[39mnullcontext\n\u001b[0;32m   2580\u001b[0m )\n\u001b[0;32m   2581\u001b[0m \u001b[38;5;28;01mwith\u001b[39;00m context():\n\u001b[1;32m-> 2582\u001b[0m     tr_loss_step \u001b[38;5;241m=\u001b[39m \u001b[38;5;28;43mself\u001b[39;49m\u001b[38;5;241;43m.\u001b[39;49m\u001b[43mtraining_step\u001b[49m\u001b[43m(\u001b[49m\u001b[43mmodel\u001b[49m\u001b[43m,\u001b[49m\u001b[43m \u001b[49m\u001b[43minputs\u001b[49m\u001b[43m,\u001b[49m\u001b[43m \u001b[49m\u001b[43mnum_items_in_batch\u001b[49m\u001b[43m)\u001b[49m\n\u001b[0;32m   2584\u001b[0m \u001b[38;5;28;01mif\u001b[39;00m (\n\u001b[0;32m   2585\u001b[0m     args\u001b[38;5;241m.\u001b[39mlogging_nan_inf_filter\n\u001b[0;32m   2586\u001b[0m     \u001b[38;5;129;01mand\u001b[39;00m \u001b[38;5;129;01mnot\u001b[39;00m is_torch_xla_available()\n\u001b[0;32m   2587\u001b[0m     \u001b[38;5;129;01mand\u001b[39;00m (torch\u001b[38;5;241m.\u001b[39misnan(tr_loss_step) \u001b[38;5;129;01mor\u001b[39;00m torch\u001b[38;5;241m.\u001b[39misinf(tr_loss_step))\n\u001b[0;32m   2588\u001b[0m ):\n\u001b[0;32m   2589\u001b[0m     \u001b[38;5;66;03m# if loss is nan or inf simply add the average of previous logged losses\u001b[39;00m\n\u001b[0;32m   2590\u001b[0m     tr_loss \u001b[38;5;241m=\u001b[39m tr_loss \u001b[38;5;241m+\u001b[39m tr_loss \u001b[38;5;241m/\u001b[39m (\u001b[38;5;241m1\u001b[39m \u001b[38;5;241m+\u001b[39m \u001b[38;5;28mself\u001b[39m\u001b[38;5;241m.\u001b[39mstate\u001b[38;5;241m.\u001b[39mglobal_step \u001b[38;5;241m-\u001b[39m \u001b[38;5;28mself\u001b[39m\u001b[38;5;241m.\u001b[39m_globalstep_last_logged)\n",
      "File \u001b[1;32mc:\\Users\\EDWIN\\OneDrive\\Documents\\GitHub\\Multilingual-ASR\\.venv\\lib\\site-packages\\transformers\\trainer.py:3796\u001b[0m, in \u001b[0;36mTrainer.training_step\u001b[1;34m(self, model, inputs, num_items_in_batch)\u001b[0m\n\u001b[0;32m   3793\u001b[0m     \u001b[38;5;28;01mreturn\u001b[39;00m loss_mb\u001b[38;5;241m.\u001b[39mreduce_mean()\u001b[38;5;241m.\u001b[39mdetach()\u001b[38;5;241m.\u001b[39mto(\u001b[38;5;28mself\u001b[39m\u001b[38;5;241m.\u001b[39margs\u001b[38;5;241m.\u001b[39mdevice)\n\u001b[0;32m   3795\u001b[0m \u001b[38;5;28;01mwith\u001b[39;00m \u001b[38;5;28mself\u001b[39m\u001b[38;5;241m.\u001b[39mcompute_loss_context_manager():\n\u001b[1;32m-> 3796\u001b[0m     loss \u001b[38;5;241m=\u001b[39m \u001b[38;5;28;43mself\u001b[39;49m\u001b[38;5;241;43m.\u001b[39;49m\u001b[43mcompute_loss\u001b[49m\u001b[43m(\u001b[49m\u001b[43mmodel\u001b[49m\u001b[43m,\u001b[49m\u001b[43m \u001b[49m\u001b[43minputs\u001b[49m\u001b[43m,\u001b[49m\u001b[43m \u001b[49m\u001b[43mnum_items_in_batch\u001b[49m\u001b[38;5;241;43m=\u001b[39;49m\u001b[43mnum_items_in_batch\u001b[49m\u001b[43m)\u001b[49m\n\u001b[0;32m   3798\u001b[0m \u001b[38;5;28;01mdel\u001b[39;00m inputs\n\u001b[0;32m   3799\u001b[0m \u001b[38;5;28;01mif\u001b[39;00m (\n\u001b[0;32m   3800\u001b[0m     \u001b[38;5;28mself\u001b[39m\u001b[38;5;241m.\u001b[39margs\u001b[38;5;241m.\u001b[39mtorch_empty_cache_steps \u001b[38;5;129;01mis\u001b[39;00m \u001b[38;5;129;01mnot\u001b[39;00m \u001b[38;5;28;01mNone\u001b[39;00m\n\u001b[0;32m   3801\u001b[0m     \u001b[38;5;129;01mand\u001b[39;00m \u001b[38;5;28mself\u001b[39m\u001b[38;5;241m.\u001b[39mstate\u001b[38;5;241m.\u001b[39mglobal_step \u001b[38;5;241m%\u001b[39m \u001b[38;5;28mself\u001b[39m\u001b[38;5;241m.\u001b[39margs\u001b[38;5;241m.\u001b[39mtorch_empty_cache_steps \u001b[38;5;241m==\u001b[39m \u001b[38;5;241m0\u001b[39m\n\u001b[0;32m   3802\u001b[0m ):\n",
      "File \u001b[1;32mc:\\Users\\EDWIN\\OneDrive\\Documents\\GitHub\\Multilingual-ASR\\.venv\\lib\\site-packages\\transformers\\trainer.py:3884\u001b[0m, in \u001b[0;36mTrainer.compute_loss\u001b[1;34m(self, model, inputs, return_outputs, num_items_in_batch)\u001b[0m\n\u001b[0;32m   3882\u001b[0m         kwargs[\u001b[38;5;124m\"\u001b[39m\u001b[38;5;124mnum_items_in_batch\u001b[39m\u001b[38;5;124m\"\u001b[39m] \u001b[38;5;241m=\u001b[39m num_items_in_batch\n\u001b[0;32m   3883\u001b[0m     inputs \u001b[38;5;241m=\u001b[39m {\u001b[38;5;241m*\u001b[39m\u001b[38;5;241m*\u001b[39minputs, \u001b[38;5;241m*\u001b[39m\u001b[38;5;241m*\u001b[39mkwargs}\n\u001b[1;32m-> 3884\u001b[0m outputs \u001b[38;5;241m=\u001b[39m model(\u001b[38;5;241m*\u001b[39m\u001b[38;5;241m*\u001b[39minputs)\n\u001b[0;32m   3885\u001b[0m \u001b[38;5;66;03m# Save past state if it exists\u001b[39;00m\n\u001b[0;32m   3886\u001b[0m \u001b[38;5;66;03m# TODO: this needs to be fixed and made cleaner later.\u001b[39;00m\n\u001b[0;32m   3887\u001b[0m \u001b[38;5;28;01mif\u001b[39;00m \u001b[38;5;28mself\u001b[39m\u001b[38;5;241m.\u001b[39margs\u001b[38;5;241m.\u001b[39mpast_index \u001b[38;5;241m>\u001b[39m\u001b[38;5;241m=\u001b[39m \u001b[38;5;241m0\u001b[39m:\n",
      "File \u001b[1;32mc:\\Users\\EDWIN\\OneDrive\\Documents\\GitHub\\Multilingual-ASR\\.venv\\lib\\site-packages\\torch\\nn\\modules\\module.py:1773\u001b[0m, in \u001b[0;36mModule._wrapped_call_impl\u001b[1;34m(self, *args, **kwargs)\u001b[0m\n\u001b[0;32m   1771\u001b[0m     \u001b[38;5;28;01mreturn\u001b[39;00m \u001b[38;5;28mself\u001b[39m\u001b[38;5;241m.\u001b[39m_compiled_call_impl(\u001b[38;5;241m*\u001b[39margs, \u001b[38;5;241m*\u001b[39m\u001b[38;5;241m*\u001b[39mkwargs)  \u001b[38;5;66;03m# type: ignore[misc]\u001b[39;00m\n\u001b[0;32m   1772\u001b[0m \u001b[38;5;28;01melse\u001b[39;00m:\n\u001b[1;32m-> 1773\u001b[0m     \u001b[38;5;28;01mreturn\u001b[39;00m \u001b[38;5;28mself\u001b[39m\u001b[38;5;241m.\u001b[39m_call_impl(\u001b[38;5;241m*\u001b[39margs, \u001b[38;5;241m*\u001b[39m\u001b[38;5;241m*\u001b[39mkwargs)\n",
      "File \u001b[1;32mc:\\Users\\EDWIN\\OneDrive\\Documents\\GitHub\\Multilingual-ASR\\.venv\\lib\\site-packages\\torch\\nn\\modules\\module.py:1784\u001b[0m, in \u001b[0;36mModule._call_impl\u001b[1;34m(self, *args, **kwargs)\u001b[0m\n\u001b[0;32m   1779\u001b[0m \u001b[38;5;66;03m# If we don't have any hooks, we want to skip the rest of the logic in\u001b[39;00m\n\u001b[0;32m   1780\u001b[0m \u001b[38;5;66;03m# this function, and just call forward.\u001b[39;00m\n\u001b[0;32m   1781\u001b[0m \u001b[38;5;28;01mif\u001b[39;00m \u001b[38;5;129;01mnot\u001b[39;00m (\u001b[38;5;28mself\u001b[39m\u001b[38;5;241m.\u001b[39m_backward_hooks \u001b[38;5;129;01mor\u001b[39;00m \u001b[38;5;28mself\u001b[39m\u001b[38;5;241m.\u001b[39m_backward_pre_hooks \u001b[38;5;129;01mor\u001b[39;00m \u001b[38;5;28mself\u001b[39m\u001b[38;5;241m.\u001b[39m_forward_hooks \u001b[38;5;129;01mor\u001b[39;00m \u001b[38;5;28mself\u001b[39m\u001b[38;5;241m.\u001b[39m_forward_pre_hooks\n\u001b[0;32m   1782\u001b[0m         \u001b[38;5;129;01mor\u001b[39;00m _global_backward_pre_hooks \u001b[38;5;129;01mor\u001b[39;00m _global_backward_hooks\n\u001b[0;32m   1783\u001b[0m         \u001b[38;5;129;01mor\u001b[39;00m _global_forward_hooks \u001b[38;5;129;01mor\u001b[39;00m _global_forward_pre_hooks):\n\u001b[1;32m-> 1784\u001b[0m     \u001b[38;5;28;01mreturn\u001b[39;00m forward_call(\u001b[38;5;241m*\u001b[39margs, \u001b[38;5;241m*\u001b[39m\u001b[38;5;241m*\u001b[39mkwargs)\n\u001b[0;32m   1786\u001b[0m result \u001b[38;5;241m=\u001b[39m \u001b[38;5;28;01mNone\u001b[39;00m\n\u001b[0;32m   1787\u001b[0m called_always_called_hooks \u001b[38;5;241m=\u001b[39m \u001b[38;5;28mset\u001b[39m()\n",
      "File \u001b[1;32mc:\\Users\\EDWIN\\OneDrive\\Documents\\GitHub\\Multilingual-ASR\\.venv\\lib\\site-packages\\accelerate\\utils\\operations.py:818\u001b[0m, in \u001b[0;36mconvert_outputs_to_fp32.<locals>.forward\u001b[1;34m(*args, **kwargs)\u001b[0m\n\u001b[0;32m    817\u001b[0m \u001b[38;5;28;01mdef\u001b[39;00m\u001b[38;5;250m \u001b[39m\u001b[38;5;21mforward\u001b[39m(\u001b[38;5;241m*\u001b[39margs, \u001b[38;5;241m*\u001b[39m\u001b[38;5;241m*\u001b[39mkwargs):\n\u001b[1;32m--> 818\u001b[0m     \u001b[38;5;28;01mreturn\u001b[39;00m model_forward(\u001b[38;5;241m*\u001b[39margs, \u001b[38;5;241m*\u001b[39m\u001b[38;5;241m*\u001b[39mkwargs)\n",
      "File \u001b[1;32mc:\\Users\\EDWIN\\OneDrive\\Documents\\GitHub\\Multilingual-ASR\\.venv\\lib\\site-packages\\accelerate\\utils\\operations.py:806\u001b[0m, in \u001b[0;36mConvertOutputsToFp32.__call__\u001b[1;34m(self, *args, **kwargs)\u001b[0m\n\u001b[0;32m    805\u001b[0m \u001b[38;5;28;01mdef\u001b[39;00m\u001b[38;5;250m \u001b[39m\u001b[38;5;21m__call__\u001b[39m(\u001b[38;5;28mself\u001b[39m, \u001b[38;5;241m*\u001b[39margs, \u001b[38;5;241m*\u001b[39m\u001b[38;5;241m*\u001b[39mkwargs):\n\u001b[1;32m--> 806\u001b[0m     \u001b[38;5;28;01mreturn\u001b[39;00m convert_to_fp32(\u001b[38;5;28mself\u001b[39m\u001b[38;5;241m.\u001b[39mmodel_forward(\u001b[38;5;241m*\u001b[39margs, \u001b[38;5;241m*\u001b[39m\u001b[38;5;241m*\u001b[39mkwargs))\n",
      "File \u001b[1;32mc:\\Users\\EDWIN\\OneDrive\\Documents\\GitHub\\Multilingual-ASR\\.venv\\lib\\site-packages\\torch\\amp\\autocast_mode.py:44\u001b[0m, in \u001b[0;36mautocast_decorator.<locals>.decorate_autocast\u001b[1;34m(*args, **kwargs)\u001b[0m\n\u001b[0;32m     41\u001b[0m \u001b[38;5;129m@functools\u001b[39m\u001b[38;5;241m.\u001b[39mwraps(func)\n\u001b[0;32m     42\u001b[0m \u001b[38;5;28;01mdef\u001b[39;00m\u001b[38;5;250m \u001b[39m\u001b[38;5;21mdecorate_autocast\u001b[39m(\u001b[38;5;241m*\u001b[39margs, \u001b[38;5;241m*\u001b[39m\u001b[38;5;241m*\u001b[39mkwargs):\n\u001b[0;32m     43\u001b[0m     \u001b[38;5;28;01mwith\u001b[39;00m autocast_instance:\n\u001b[1;32m---> 44\u001b[0m         \u001b[38;5;28;01mreturn\u001b[39;00m func(\u001b[38;5;241m*\u001b[39margs, \u001b[38;5;241m*\u001b[39m\u001b[38;5;241m*\u001b[39mkwargs)\n",
      "File \u001b[1;32mc:\\Users\\EDWIN\\OneDrive\\Documents\\GitHub\\Multilingual-ASR\\.venv\\lib\\site-packages\\transformers\\models\\wav2vec2\\modeling_wav2vec2.py:1867\u001b[0m, in \u001b[0;36mWav2Vec2ForCTC.forward\u001b[1;34m(self, input_values, attention_mask, output_attentions, output_hidden_states, return_dict, labels)\u001b[0m\n\u001b[0;32m   1864\u001b[0m \u001b[38;5;28;01mif\u001b[39;00m labels \u001b[38;5;129;01mis\u001b[39;00m \u001b[38;5;129;01mnot\u001b[39;00m \u001b[38;5;28;01mNone\u001b[39;00m \u001b[38;5;129;01mand\u001b[39;00m labels\u001b[38;5;241m.\u001b[39mmax() \u001b[38;5;241m>\u001b[39m\u001b[38;5;241m=\u001b[39m \u001b[38;5;28mself\u001b[39m\u001b[38;5;241m.\u001b[39mconfig\u001b[38;5;241m.\u001b[39mvocab_size:\n\u001b[0;32m   1865\u001b[0m     \u001b[38;5;28;01mraise\u001b[39;00m \u001b[38;5;167;01mValueError\u001b[39;00m(\u001b[38;5;124mf\u001b[39m\u001b[38;5;124m\"\u001b[39m\u001b[38;5;124mLabel values must be <= vocab_size: \u001b[39m\u001b[38;5;132;01m{\u001b[39;00m\u001b[38;5;28mself\u001b[39m\u001b[38;5;241m.\u001b[39mconfig\u001b[38;5;241m.\u001b[39mvocab_size\u001b[38;5;132;01m}\u001b[39;00m\u001b[38;5;124m\"\u001b[39m)\n\u001b[1;32m-> 1867\u001b[0m outputs \u001b[38;5;241m=\u001b[39m \u001b[38;5;28;43mself\u001b[39;49m\u001b[38;5;241;43m.\u001b[39;49m\u001b[43mwav2vec2\u001b[49m\u001b[43m(\u001b[49m\n\u001b[0;32m   1868\u001b[0m \u001b[43m    \u001b[49m\u001b[43minput_values\u001b[49m\u001b[43m,\u001b[49m\n\u001b[0;32m   1869\u001b[0m \u001b[43m    \u001b[49m\u001b[43mattention_mask\u001b[49m\u001b[38;5;241;43m=\u001b[39;49m\u001b[43mattention_mask\u001b[49m\u001b[43m,\u001b[49m\n\u001b[0;32m   1870\u001b[0m \u001b[43m    \u001b[49m\u001b[43moutput_attentions\u001b[49m\u001b[38;5;241;43m=\u001b[39;49m\u001b[43moutput_attentions\u001b[49m\u001b[43m,\u001b[49m\n\u001b[0;32m   1871\u001b[0m \u001b[43m    \u001b[49m\u001b[43moutput_hidden_states\u001b[49m\u001b[38;5;241;43m=\u001b[39;49m\u001b[43moutput_hidden_states\u001b[49m\u001b[43m,\u001b[49m\n\u001b[0;32m   1872\u001b[0m \u001b[43m    \u001b[49m\u001b[43mreturn_dict\u001b[49m\u001b[38;5;241;43m=\u001b[39;49m\u001b[43mreturn_dict\u001b[49m\u001b[43m,\u001b[49m\n\u001b[0;32m   1873\u001b[0m \u001b[43m\u001b[49m\u001b[43m)\u001b[49m\n\u001b[0;32m   1875\u001b[0m hidden_states \u001b[38;5;241m=\u001b[39m outputs[\u001b[38;5;241m0\u001b[39m]\n\u001b[0;32m   1876\u001b[0m hidden_states \u001b[38;5;241m=\u001b[39m \u001b[38;5;28mself\u001b[39m\u001b[38;5;241m.\u001b[39mdropout(hidden_states)\n",
      "File \u001b[1;32mc:\\Users\\EDWIN\\OneDrive\\Documents\\GitHub\\Multilingual-ASR\\.venv\\lib\\site-packages\\torch\\nn\\modules\\module.py:1773\u001b[0m, in \u001b[0;36mModule._wrapped_call_impl\u001b[1;34m(self, *args, **kwargs)\u001b[0m\n\u001b[0;32m   1771\u001b[0m     \u001b[38;5;28;01mreturn\u001b[39;00m \u001b[38;5;28mself\u001b[39m\u001b[38;5;241m.\u001b[39m_compiled_call_impl(\u001b[38;5;241m*\u001b[39margs, \u001b[38;5;241m*\u001b[39m\u001b[38;5;241m*\u001b[39mkwargs)  \u001b[38;5;66;03m# type: ignore[misc]\u001b[39;00m\n\u001b[0;32m   1772\u001b[0m \u001b[38;5;28;01melse\u001b[39;00m:\n\u001b[1;32m-> 1773\u001b[0m     \u001b[38;5;28;01mreturn\u001b[39;00m \u001b[38;5;28mself\u001b[39m\u001b[38;5;241m.\u001b[39m_call_impl(\u001b[38;5;241m*\u001b[39margs, \u001b[38;5;241m*\u001b[39m\u001b[38;5;241m*\u001b[39mkwargs)\n",
      "File \u001b[1;32mc:\\Users\\EDWIN\\OneDrive\\Documents\\GitHub\\Multilingual-ASR\\.venv\\lib\\site-packages\\torch\\nn\\modules\\module.py:1784\u001b[0m, in \u001b[0;36mModule._call_impl\u001b[1;34m(self, *args, **kwargs)\u001b[0m\n\u001b[0;32m   1779\u001b[0m \u001b[38;5;66;03m# If we don't have any hooks, we want to skip the rest of the logic in\u001b[39;00m\n\u001b[0;32m   1780\u001b[0m \u001b[38;5;66;03m# this function, and just call forward.\u001b[39;00m\n\u001b[0;32m   1781\u001b[0m \u001b[38;5;28;01mif\u001b[39;00m \u001b[38;5;129;01mnot\u001b[39;00m (\u001b[38;5;28mself\u001b[39m\u001b[38;5;241m.\u001b[39m_backward_hooks \u001b[38;5;129;01mor\u001b[39;00m \u001b[38;5;28mself\u001b[39m\u001b[38;5;241m.\u001b[39m_backward_pre_hooks \u001b[38;5;129;01mor\u001b[39;00m \u001b[38;5;28mself\u001b[39m\u001b[38;5;241m.\u001b[39m_forward_hooks \u001b[38;5;129;01mor\u001b[39;00m \u001b[38;5;28mself\u001b[39m\u001b[38;5;241m.\u001b[39m_forward_pre_hooks\n\u001b[0;32m   1782\u001b[0m         \u001b[38;5;129;01mor\u001b[39;00m _global_backward_pre_hooks \u001b[38;5;129;01mor\u001b[39;00m _global_backward_hooks\n\u001b[0;32m   1783\u001b[0m         \u001b[38;5;129;01mor\u001b[39;00m _global_forward_hooks \u001b[38;5;129;01mor\u001b[39;00m _global_forward_pre_hooks):\n\u001b[1;32m-> 1784\u001b[0m     \u001b[38;5;28;01mreturn\u001b[39;00m forward_call(\u001b[38;5;241m*\u001b[39margs, \u001b[38;5;241m*\u001b[39m\u001b[38;5;241m*\u001b[39mkwargs)\n\u001b[0;32m   1786\u001b[0m result \u001b[38;5;241m=\u001b[39m \u001b[38;5;28;01mNone\u001b[39;00m\n\u001b[0;32m   1787\u001b[0m called_always_called_hooks \u001b[38;5;241m=\u001b[39m \u001b[38;5;28mset\u001b[39m()\n",
      "File \u001b[1;32mc:\\Users\\EDWIN\\OneDrive\\Documents\\GitHub\\Multilingual-ASR\\.venv\\lib\\site-packages\\transformers\\models\\wav2vec2\\modeling_wav2vec2.py:1458\u001b[0m, in \u001b[0;36mWav2Vec2Model.forward\u001b[1;34m(self, input_values, attention_mask, mask_time_indices, output_attentions, output_hidden_states, return_dict)\u001b[0m\n\u001b[0;32m   1454\u001b[0m extract_features \u001b[38;5;241m=\u001b[39m extract_features\u001b[38;5;241m.\u001b[39mtranspose(\u001b[38;5;241m1\u001b[39m, \u001b[38;5;241m2\u001b[39m)\n\u001b[0;32m   1456\u001b[0m \u001b[38;5;28;01mif\u001b[39;00m attention_mask \u001b[38;5;129;01mis\u001b[39;00m \u001b[38;5;129;01mnot\u001b[39;00m \u001b[38;5;28;01mNone\u001b[39;00m:\n\u001b[0;32m   1457\u001b[0m     \u001b[38;5;66;03m# compute reduced attention_mask corresponding to feature vectors\u001b[39;00m\n\u001b[1;32m-> 1458\u001b[0m     attention_mask \u001b[38;5;241m=\u001b[39m \u001b[38;5;28;43mself\u001b[39;49m\u001b[38;5;241;43m.\u001b[39;49m\u001b[43m_get_feature_vector_attention_mask\u001b[49m\u001b[43m(\u001b[49m\n\u001b[0;32m   1459\u001b[0m \u001b[43m        \u001b[49m\u001b[43mextract_features\u001b[49m\u001b[38;5;241;43m.\u001b[39;49m\u001b[43mshape\u001b[49m\u001b[43m[\u001b[49m\u001b[38;5;241;43m1\u001b[39;49m\u001b[43m]\u001b[49m\u001b[43m,\u001b[49m\u001b[43m \u001b[49m\u001b[43mattention_mask\u001b[49m\u001b[43m,\u001b[49m\u001b[43m \u001b[49m\u001b[43madd_adapter\u001b[49m\u001b[38;5;241;43m=\u001b[39;49m\u001b[38;5;28;43;01mFalse\u001b[39;49;00m\n\u001b[0;32m   1460\u001b[0m \u001b[43m    \u001b[49m\u001b[43m)\u001b[49m\n\u001b[0;32m   1462\u001b[0m hidden_states, extract_features \u001b[38;5;241m=\u001b[39m \u001b[38;5;28mself\u001b[39m\u001b[38;5;241m.\u001b[39mfeature_projection(extract_features)\n\u001b[0;32m   1463\u001b[0m hidden_states \u001b[38;5;241m=\u001b[39m \u001b[38;5;28mself\u001b[39m\u001b[38;5;241m.\u001b[39m_mask_hidden_states(\n\u001b[0;32m   1464\u001b[0m     hidden_states, mask_time_indices\u001b[38;5;241m=\u001b[39mmask_time_indices, attention_mask\u001b[38;5;241m=\u001b[39mattention_mask\n\u001b[0;32m   1465\u001b[0m )\n",
      "File \u001b[1;32mc:\\Users\\EDWIN\\OneDrive\\Documents\\GitHub\\Multilingual-ASR\\.venv\\lib\\site-packages\\transformers\\models\\wav2vec2\\modeling_wav2vec2.py:1118\u001b[0m, in \u001b[0;36mWav2Vec2PreTrainedModel._get_feature_vector_attention_mask\u001b[1;34m(self, feature_vector_length, attention_mask, add_adapter)\u001b[0m\n\u001b[0;32m   1116\u001b[0m \u001b[38;5;66;03m# these two operations makes sure that all values before the output lengths idxs are attended to\u001b[39;00m\n\u001b[0;32m   1117\u001b[0m attention_mask[(torch\u001b[38;5;241m.\u001b[39marange(attention_mask\u001b[38;5;241m.\u001b[39mshape[\u001b[38;5;241m0\u001b[39m], device\u001b[38;5;241m=\u001b[39mattention_mask\u001b[38;5;241m.\u001b[39mdevice), output_lengths \u001b[38;5;241m-\u001b[39m \u001b[38;5;241m1\u001b[39m)] \u001b[38;5;241m=\u001b[39m \u001b[38;5;241m1\u001b[39m\n\u001b[1;32m-> 1118\u001b[0m attention_mask \u001b[38;5;241m=\u001b[39m \u001b[43mattention_mask\u001b[49m\u001b[38;5;241;43m.\u001b[39;49m\u001b[43mflip\u001b[49m\u001b[43m(\u001b[49m\u001b[43m[\u001b[49m\u001b[38;5;241;43m-\u001b[39;49m\u001b[38;5;241;43m1\u001b[39;49m\u001b[43m]\u001b[49m\u001b[43m)\u001b[49m\u001b[38;5;241m.\u001b[39mcumsum(\u001b[38;5;241m-\u001b[39m\u001b[38;5;241m1\u001b[39m)\u001b[38;5;241m.\u001b[39mflip([\u001b[38;5;241m-\u001b[39m\u001b[38;5;241m1\u001b[39m])\u001b[38;5;241m.\u001b[39mbool()\n\u001b[0;32m   1119\u001b[0m \u001b[38;5;28;01mreturn\u001b[39;00m attention_mask\n",
      "\u001b[1;31mKeyboardInterrupt\u001b[0m: "
     ]
    }
   ],
   "source": [
    "trainer.train()"
   ]
  },
  {
   "cell_type": "code",
   "execution_count": 18,
   "id": "c8f12d89",
   "metadata": {},
   "outputs": [],
   "source": [
    "from transformers import Wav2Vec2ForCTC, Wav2Vec2Processor\n",
    "repo_name = \"Ed-168/wav2vec2-large-xls-r-300m-hi\"\n",
    "model = Wav2Vec2ForCTC.from_pretrained(repo_name).to(\"cuda\")\n",
    "processor = Wav2Vec2Processor.from_pretrained(repo_name)\n"
   ]
  },
  {
   "cell_type": "code",
   "execution_count": 19,
   "id": "721efdc1",
   "metadata": {},
   "outputs": [
    {
     "name": "stderr",
     "output_type": "stream",
     "text": [
      "It is strongly recommended to pass the `sampling_rate` argument to `Wav2Vec2FeatureExtractor()`. Failing to do so can result in silent errors that might be hard to debug.\n"
     ]
    }
   ],
   "source": [
    "from datasets import load_dataset\n",
    "import soundfile as sf\n",
    "\n",
    "# Load only a small sample from the Common Voice Hindi test set\n",
    "# common_voice_test = load_dataset(\"mozilla-foundation/common_voice_16_0\", \"hi\", split=\"test\")\n",
    "\n",
    "input_dict = processor(common_voice_test[1][\"input_values\"], return_tensors=\"pt\", padding=True)\n",
    "\n",
    "logits = model(input_dict.input_values.to(\"cuda\")).logits\n",
    "\n",
    "pred_ids = torch.argmax(logits, dim=-1)[0]\n"
   ]
  },
  {
   "cell_type": "code",
   "execution_count": 21,
   "id": "706e9369",
   "metadata": {},
   "outputs": [
    {
     "name": "stdout",
     "output_type": "stream",
     "text": [
      "Prediction:\n",
      "फफ़भनीयभॅफ़औारषफ़णॅखॅफ़ऱनणणऔ़फ़ऱरिनन\n",
      "\n",
      "Reference:\n",
      "अब रामपुर में अखिलेश बांटेंगे लैपटॉप का 'लॉलीपॉप'\n"
     ]
    }
   ],
   "source": [
    "print(\"Prediction:\")\n",
    "print(processor.decode(pred_ids))\n",
    "\n",
    "common_voice_test_prediction = load_dataset(\"mozilla-foundation/common_voice_16_0\", \"hi\", split=\"test\")\n",
    "print(\"\\nReference:\")\n",
    "print(common_voice_test_prediction[1][\"sentence\"])\n"
   ]
  },
  {
   "cell_type": "code",
   "execution_count": 12,
   "id": "bbca34bc",
   "metadata": {},
   "outputs": [
    {
     "data": {
      "text/plain": [
       "('Ed-168/wav2vec2-large-xls-r-300m-hi\\\\tokenizer_config.json',\n",
       " 'Ed-168/wav2vec2-large-xls-r-300m-hi\\\\special_tokens_map.json',\n",
       " 'Ed-168/wav2vec2-large-xls-r-300m-hi\\\\vocab.json',\n",
       " 'Ed-168/wav2vec2-large-xls-r-300m-hi\\\\added_tokens.json')"
      ]
     },
     "execution_count": 12,
     "metadata": {},
     "output_type": "execute_result"
    }
   ],
   "source": [
    "repo_name = \"Ed-168/wav2vec2-large-xls-r-300m-hi\"\n",
    "tokenizer.push_to_hub(repo_name)\n",
    "tokenizer.save_pretrained(repo_name)"
   ]
  },
  {
   "cell_type": "code",
   "execution_count": 23,
   "id": "b51c7e19",
   "metadata": {},
   "outputs": [
    {
     "data": {
      "application/vnd.jupyter.widget-view+json": {
       "model_id": "493a2390bd7245d981da24d29b21208e",
       "version_major": 2,
       "version_minor": 0
      },
      "text/plain": [
       "Processing Files (0 / 0)                : |          |  0.00B /  0.00B            "
      ]
     },
     "metadata": {},
     "output_type": "display_data"
    },
    {
     "data": {
      "application/vnd.jupyter.widget-view+json": {
       "model_id": "5173dc0bfdf34b7ba32f8b57fa94b1de",
       "version_major": 2,
       "version_minor": 0
      },
      "text/plain": [
       "New Data Upload                         : |          |  0.00B /  0.00B            "
      ]
     },
     "metadata": {},
     "output_type": "display_data"
    },
    {
     "data": {
      "application/vnd.jupyter.widget-view+json": {
       "model_id": "babe2ab506d94efaabf9f97a0713d575",
       "version_major": 2,
       "version_minor": 0
      },
      "text/plain": [
       "  ...\\Temp\\tmp0d_sk0_i\\model.safetensors:   6%|5         | 75.4MB / 1.26GB            "
      ]
     },
     "metadata": {},
     "output_type": "display_data"
    },
    {
     "data": {
      "application/vnd.jupyter.widget-view+json": {
       "model_id": "ccd59e7750ac4f2e91b7197c20e53a44",
       "version_major": 2,
       "version_minor": 0
      },
      "text/plain": [
       "README.md: 0.00B [00:00, ?B/s]"
      ]
     },
     "metadata": {},
     "output_type": "display_data"
    },
    {
     "data": {
      "text/plain": [
       "CommitInfo(commit_url='https://huggingface.co/Ed-168/wav2vec2-large-xls-r-300m-hi/commit/1926dd4ed9e34ca0f76bf66b78f9eb1d422105a4', commit_message='Upload processor', commit_description='', oid='1926dd4ed9e34ca0f76bf66b78f9eb1d422105a4', pr_url=None, repo_url=RepoUrl('https://huggingface.co/Ed-168/wav2vec2-large-xls-r-300m-hi', endpoint='https://huggingface.co', repo_type='model', repo_id='Ed-168/wav2vec2-large-xls-r-300m-hi'), pr_revision=None, pr_num=None)"
      ]
     },
     "execution_count": 23,
     "metadata": {},
     "output_type": "execute_result"
    }
   ],
   "source": [
    "model.push_to_hub(repo_name)\n",
    "processor.push_to_hub(repo_name)"
   ]
  },
  {
   "cell_type": "code",
   "execution_count": null,
   "id": "cae0e017",
   "metadata": {},
   "outputs": [],
   "source": []
  }
 ],
 "metadata": {
  "kernelspec": {
   "display_name": ".venv",
   "language": "python",
   "name": "python3"
  },
  "language_info": {
   "codemirror_mode": {
    "name": "ipython",
    "version": 3
   },
   "file_extension": ".py",
   "mimetype": "text/x-python",
   "name": "python",
   "nbconvert_exporter": "python",
   "pygments_lexer": "ipython3",
   "version": "3.10.7"
  }
 },
 "nbformat": 4,
 "nbformat_minor": 5
}
