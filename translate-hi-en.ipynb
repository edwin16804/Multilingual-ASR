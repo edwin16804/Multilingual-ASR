{
 "cells": [
  {
   "cell_type": "code",
   "execution_count": 45,
   "metadata": {},
   "outputs": [],
   "source": [
    "import torch\n",
    "from datasets import load_dataset\n",
    "import evaluate\n",
    "from transformers import (\n",
    "    MarianTokenizer,\n",
    "    MarianMTModel,\n",
    "    DataCollatorForSeq2Seq,\n",
    "    Seq2SeqTrainer,\n",
    "    Seq2SeqTrainingArguments\n",
    ")\n",
    "\n",
    "# Parameters\n",
    "MODEL_NAME = \"Helsinki-NLP/opus-mt-hi-en\"\n",
    "MAX_LEN_HI = 40\n",
    "MAX_LEN_EN = 40\n",
    "BATCH_SIZE = 8\n",
    "EPOCHS = 20\n",
    "LR = 5e-5\n"
   ]
  },
  {
   "cell_type": "code",
   "execution_count": 34,
   "metadata": {},
   "outputs": [
    {
     "name": "stderr",
     "output_type": "stream",
     "text": [
      "C:\\Users\\EDWIN\\AppData\\Local\\Programs\\Python\\Python310\\lib\\site-packages\\transformers\\models\\marian\\tokenization_marian.py:175: UserWarning: Recommended: pip install sacremoses.\n",
      "  warnings.warn(\"Recommended: pip install sacremoses.\")\n"
     ]
    }
   ],
   "source": [
    "tokenizer = MarianTokenizer.from_pretrained(MODEL_NAME)\n",
    "model = MarianMTModel.from_pretrained(MODEL_NAME)"
   ]
  },
  {
   "cell_type": "markdown",
   "metadata": {},
   "source": [
    "# IITB-HI-EN-Dataset"
   ]
  },
  {
   "cell_type": "code",
   "execution_count": 2,
   "metadata": {},
   "outputs": [
    {
     "name": "stdout",
     "output_type": "stream",
     "text": [
      "Dataset({\n",
      "    features: ['translation'],\n",
      "    num_rows: 82954\n",
      "})\n"
     ]
    }
   ],
   "source": [
    "dataset = load_dataset(\"cfilt/iitb-english-hindi\", split=\"train[:5%]\")\n",
    "print(dataset)\n",
    "\n"
   ]
  },
  {
   "cell_type": "code",
   "execution_count": 4,
   "metadata": {},
   "outputs": [],
   "source": [
    "def preprocess_function(examples):\n",
    "    src_texts = [ex[\"hi\"] for ex in examples[\"translation\"]]\n",
    "    tgt_texts = [ex[\"en\"] for ex in examples[\"translation\"]]\n",
    "    model_inputs = tokenizer(\n",
    "        src_texts, max_length=MAX_LEN_HI, truncation=True, padding=\"max_length\"\n",
    "    )\n",
    "    labels = tokenizer(\n",
    "        text_target=tgt_texts, max_length=MAX_LEN_EN, truncation=True, padding=\"max_length\"\n",
    "    )\n",
    "    model_inputs[\"labels\"] = labels[\"input_ids\"]\n",
    "    return model_inputs\n"
   ]
  },
  {
   "cell_type": "code",
   "execution_count": 5,
   "metadata": {},
   "outputs": [
    {
     "name": "stdout",
     "output_type": "stream",
     "text": [
      "Train size: 58067 | Validation size: 24887\n"
     ]
    }
   ],
   "source": [
    "split = dataset.train_test_split(test_size=0.3, seed=42)\n",
    "train_ds = split[\"train\"]\n",
    "val_ds = split[\"test\"]\n",
    "print(f\"Train size: {len(train_ds)} | Validation size: {len(val_ds)}\")\n"
   ]
  },
  {
   "cell_type": "code",
   "execution_count": 6,
   "metadata": {},
   "outputs": [
    {
     "name": "stderr",
     "output_type": "stream",
     "text": [
      "Map: 100%|██████████| 58067/58067 [00:07<00:00, 7500.18 examples/s]\n",
      "Map: 100%|██████████| 24887/24887 [00:03<00:00, 8173.35 examples/s]\n"
     ]
    }
   ],
   "source": [
    "tokenized_train = train_ds.map(preprocess_function, batched=True, remove_columns=[\"translation\"])\n",
    "tokenized_val = val_ds.map(preprocess_function, batched=True, remove_columns=[\"translation\"])\n"
   ]
  },
  {
   "cell_type": "code",
   "execution_count": 7,
   "metadata": {},
   "outputs": [],
   "source": [
    "data_collator = DataCollatorForSeq2Seq(tokenizer, model=model)\n",
    "\n",
    "bleu = evaluate.load(\"sacrebleu\")\n",
    "\n",
    "\n",
    "def compute_metrics(eval_preds):\n",
    "    preds, labels = eval_preds\n",
    "    decoded_preds = tokenizer.batch_decode(preds, skip_special_tokens=True)\n",
    "    labels = [[tokenizer.decode(l, skip_special_tokens=True)] for l in labels]\n",
    "    return {\"bleu\": bleu.compute(predictions=decoded_preds, references=labels)[\"score\"]}\n"
   ]
  },
  {
   "cell_type": "code",
   "execution_count": 8,
   "metadata": {},
   "outputs": [],
   "source": [
    "training_args = Seq2SeqTrainingArguments(\n",
    "    output_dir=\"./results-hi-en-2percent\",\n",
    "    eval_strategy=\"epoch\",\n",
    "    learning_rate=LR,\n",
    "    per_device_train_batch_size=BATCH_SIZE,\n",
    "    per_device_eval_batch_size=BATCH_SIZE,\n",
    "    weight_decay=0.01,\n",
    "    save_total_limit=2,\n",
    "    num_train_epochs=EPOCHS,\n",
    "    predict_with_generate=True,\n",
    "    fp16=torch.cuda.is_available(),\n",
    "    logging_dir=\"./logs\",\n",
    ")\n"
   ]
  },
  {
   "cell_type": "code",
   "execution_count": 9,
   "metadata": {},
   "outputs": [
    {
     "name": "stderr",
     "output_type": "stream",
     "text": [
      "C:\\Users\\EDWIN\\AppData\\Local\\Temp\\ipykernel_19004\\4048247955.py:1: FutureWarning: `tokenizer` is deprecated and will be removed in version 5.0.0 for `Seq2SeqTrainer.__init__`. Use `processing_class` instead.\n",
      "  trainer = Seq2SeqTrainer(\n"
     ]
    }
   ],
   "source": [
    "trainer = Seq2SeqTrainer(\n",
    "    model=model,\n",
    "    args=training_args,\n",
    "    train_dataset=tokenized_train,\n",
    "    eval_dataset=tokenized_val,\n",
    "    tokenizer=tokenizer,\n",
    "    data_collator=data_collator,\n",
    "    compute_metrics=compute_metrics,\n",
    ")\n"
   ]
  },
  {
   "cell_type": "code",
   "execution_count": 10,
   "metadata": {},
   "outputs": [
    {
     "name": "stderr",
     "output_type": "stream",
     "text": [
      "The tokenizer has new PAD/BOS/EOS tokens that differ from the model config and generation config. The model config and generation config were aligned accordingly, being updated with the tokenizer's values. Updated tokens: {'bos_token_id': None}.\n"
     ]
    },
    {
     "data": {
      "text/html": [
       "\n",
       "    <div>\n",
       "      \n",
       "      <progress value='72590' max='72590' style='width:300px; height:20px; vertical-align: middle;'></progress>\n",
       "      [72590/72590 5:37:47, Epoch 10/10]\n",
       "    </div>\n",
       "    <table border=\"1\" class=\"dataframe\">\n",
       "  <thead>\n",
       " <tr style=\"text-align: left;\">\n",
       "      <th>Epoch</th>\n",
       "      <th>Training Loss</th>\n",
       "      <th>Validation Loss</th>\n",
       "      <th>Bleu</th>\n",
       "    </tr>\n",
       "  </thead>\n",
       "  <tbody>\n",
       "    <tr>\n",
       "      <td>1</td>\n",
       "      <td>0.052900</td>\n",
       "      <td>0.038977</td>\n",
       "      <td>89.379874</td>\n",
       "    </tr>\n",
       "    <tr>\n",
       "      <td>2</td>\n",
       "      <td>0.029700</td>\n",
       "      <td>0.037266</td>\n",
       "      <td>90.979713</td>\n",
       "    </tr>\n",
       "    <tr>\n",
       "      <td>3</td>\n",
       "      <td>0.023500</td>\n",
       "      <td>0.032446</td>\n",
       "      <td>91.729577</td>\n",
       "    </tr>\n",
       "    <tr>\n",
       "      <td>4</td>\n",
       "      <td>0.020900</td>\n",
       "      <td>0.031196</td>\n",
       "      <td>92.258146</td>\n",
       "    </tr>\n",
       "    <tr>\n",
       "      <td>5</td>\n",
       "      <td>0.015100</td>\n",
       "      <td>0.030554</td>\n",
       "      <td>92.440640</td>\n",
       "    </tr>\n",
       "    <tr>\n",
       "      <td>6</td>\n",
       "      <td>0.014400</td>\n",
       "      <td>0.029498</td>\n",
       "      <td>92.291173</td>\n",
       "    </tr>\n",
       "    <tr>\n",
       "      <td>7</td>\n",
       "      <td>0.012500</td>\n",
       "      <td>0.029185</td>\n",
       "      <td>92.786146</td>\n",
       "    </tr>\n",
       "    <tr>\n",
       "      <td>8</td>\n",
       "      <td>0.009900</td>\n",
       "      <td>0.028136</td>\n",
       "      <td>92.920774</td>\n",
       "    </tr>\n",
       "    <tr>\n",
       "      <td>9</td>\n",
       "      <td>0.009400</td>\n",
       "      <td>0.027944</td>\n",
       "      <td>92.524119</td>\n",
       "    </tr>\n",
       "    <tr>\n",
       "      <td>10</td>\n",
       "      <td>0.007400</td>\n",
       "      <td>0.027881</td>\n",
       "      <td>92.811357</td>\n",
       "    </tr>\n",
       "  </tbody>\n",
       "</table><p>"
      ],
      "text/plain": [
       "<IPython.core.display.HTML object>"
      ]
     },
     "metadata": {},
     "output_type": "display_data"
    },
    {
     "name": "stderr",
     "output_type": "stream",
     "text": [
      "C:\\Users\\EDWIN\\AppData\\Local\\Programs\\Python\\Python310\\lib\\site-packages\\transformers\\modeling_utils.py:3922: UserWarning: Moving the following attributes in the config to the generation config: {'max_length': 512, 'num_beams': 6, 'bad_words_ids': [[61126]]}. You are seeing this warning because you've set generation parameters in the model config, as opposed to in the generation config.\n",
      "  warnings.warn(\n"
     ]
    },
    {
     "data": {
      "text/plain": [
       "TrainOutput(global_step=72590, training_loss=0.023325058743552674, metrics={'train_runtime': 20268.2469, 'train_samples_per_second': 28.649, 'train_steps_per_second': 3.581, 'total_flos': 6151176113356800.0, 'train_loss': 0.023325058743552674, 'epoch': 10.0})"
      ]
     },
     "execution_count": 10,
     "metadata": {},
     "output_type": "execute_result"
    }
   ],
   "source": [
    "trainer.train()"
   ]
  },
  {
   "cell_type": "code",
   "execution_count": 11,
   "metadata": {},
   "outputs": [
    {
     "data": {
      "text/html": [
       "\n",
       "    <div>\n",
       "      \n",
       "      <progress value='3111' max='3111' style='width:300px; height:20px; vertical-align: middle;'></progress>\n",
       "      [3111/3111 19:48]\n",
       "    </div>\n",
       "    "
      ],
      "text/plain": [
       "<IPython.core.display.HTML object>"
      ]
     },
     "metadata": {},
     "output_type": "display_data"
    },
    {
     "name": "stdout",
     "output_type": "stream",
     "text": [
      "BLEU Score: 92.81\n",
      "✅ Fine-tuning complete. Model saved to ./fine_tuned_hi_en\n"
     ]
    }
   ],
   "source": [
    "metrics = trainer.evaluate()\n",
    "print(f\"BLEU Score: {metrics['eval_bleu']:.2f}\")\n",
    "\n",
    "model.save_pretrained(\"./fine_tuned_hi_en\")\n",
    "tokenizer.save_pretrained(\"./fine_tuned_hi_en\")\n",
    "\n",
    "print(\"✅ Fine-tuning complete. Model saved to ./fine_tuned_hi_en\")\n"
   ]
  },
  {
   "cell_type": "markdown",
   "metadata": {},
   "source": [
    "# BhaasaAnuvaad Dataset"
   ]
  },
  {
   "cell_type": "code",
   "execution_count": 1,
   "metadata": {},
   "outputs": [
    {
     "name": "stderr",
     "output_type": "stream",
     "text": [
      "C:\\Users\\EDWIN\\AppData\\Local\\Programs\\Python\\Python310\\lib\\site-packages\\tqdm\\auto.py:21: TqdmWarning: IProgress not found. Please update jupyter and ipywidgets. See https://ipywidgets.readthedocs.io/en/stable/user_install.html\n",
      "  from .autonotebook import tqdm as notebook_tqdm\n"
     ]
    }
   ],
   "source": [
    "import torch\n",
    "import os\n",
    "import re\n",
    "import json\n",
    "import random\n",
    "import string\n",
    "from dataclasses import dataclass\n",
    "from typing import Dict, List, Union, Optional\n",
    "import torch\n",
    "import torchaudio\n",
    "import librosa\n",
    "import evaluate\n",
    "from datasets import load_dataset, Audio, DatasetDict"
   ]
  },
  {
   "cell_type": "code",
   "execution_count": 40,
   "metadata": {},
   "outputs": [],
   "source": [
    "data = load_dataset(\"ai4bharat/Spoken-Tutorial\", \"indic2en\", split=\"hindi\")"
   ]
  },
  {
   "cell_type": "code",
   "execution_count": 41,
   "metadata": {},
   "outputs": [],
   "source": [
    "data = data.rename_column(\"text\", \"hi\")\n",
    "data = data.rename_column(\"en_text\", \"en\")"
   ]
  },
  {
   "cell_type": "code",
   "execution_count": 42,
   "metadata": {},
   "outputs": [],
   "source": [
    "def to_translation(example):\n",
    "    return {\"translation\": {\"hi\": example[\"hi\"], \"en\": example[\"en\"]}}\n",
    "\n",
    "data = data.map(to_translation)\n",
    "\n",
    "\n",
    "data = data.remove_columns([\"hi\", \"en\"])\n"
   ]
  },
  {
   "cell_type": "code",
   "execution_count": 43,
   "metadata": {},
   "outputs": [
    {
     "name": "stdout",
     "output_type": "stream",
     "text": [
      "Train size: 25629 | Validation size: 10984\n"
     ]
    }
   ],
   "source": [
    "split = data.train_test_split(test_size=0.3, seed=42)\n",
    "train_ds = split[\"train\"]\n",
    "val_ds = split[\"test\"]\n",
    "print(f\"Train size: {len(train_ds)} | Validation size: {len(val_ds)}\")"
   ]
  },
  {
   "cell_type": "code",
   "execution_count": 44,
   "metadata": {},
   "outputs": [
    {
     "name": "stdout",
     "output_type": "stream",
     "text": [
      "25629\n",
      "10984\n"
     ]
    }
   ],
   "source": [
    "print(len(train_ds))\n",
    "print(len(val_ds))"
   ]
  },
  {
   "cell_type": "code",
   "execution_count": 46,
   "metadata": {},
   "outputs": [
    {
     "data": {
      "text/plain": [
       "Dataset({\n",
       "    features: ['chunked_audio_filepath', 'pred_text', 'audio_filepath', 'start_time', 'duration', 'alignment_score', 'video_id', 'en_mining_score', 'translation'],\n",
       "    num_rows: 25629\n",
       "})"
      ]
     },
     "execution_count": 46,
     "metadata": {},
     "output_type": "execute_result"
    }
   ],
   "source": [
    "train_ds"
   ]
  },
  {
   "cell_type": "code",
   "execution_count": 47,
   "metadata": {},
   "outputs": [],
   "source": [
    "train_ds = train_ds.remove_columns(['pred_text',\"chunked_audio_filepath\" , \"audio_filepath\", 'start_time', 'duration', 'alignment_score', 'video_id', 'en_mining_score'])\n",
    "val_ds = val_ds.remove_columns(['pred_text',\"chunked_audio_filepath\", \"audio_filepath\", 'start_time', 'duration', 'alignment_score', 'video_id', 'en_mining_score'])"
   ]
  },
  {
   "cell_type": "code",
   "execution_count": 48,
   "metadata": {},
   "outputs": [
    {
     "data": {
      "text/plain": [
       "Dataset({\n",
       "    features: ['translation'],\n",
       "    num_rows: 25629\n",
       "})"
      ]
     },
     "execution_count": 48,
     "metadata": {},
     "output_type": "execute_result"
    }
   ],
   "source": [
    "train_ds"
   ]
  },
  {
   "cell_type": "code",
   "execution_count": 49,
   "metadata": {},
   "outputs": [
    {
     "name": "stdout",
     "output_type": "stream",
     "text": [
      "1. किन्तु हमारे पास बहुत बड़ा डेटा समूह है और एक एक करके प्रत्येक विद्यार्थी का औसत निकालना नामुमकिन है\n",
      "   → But we have such a large data set and calculating the mean of each student one by one is impossible\n",
      "\n",
      "2. अब यह कोड का नया भाग है\n",
      "   → Now, this is a new bit of code\n",
      "\n",
      "3. नंबर बेस को 8 या 16 में बदलकर अपनी स्लाइड्स पर वापस आते हैं\n",
      "   → The conversion depends on this number base\n",
      "\n",
      "4. पहले सम्पर्क चुनें\n",
      "   → First, select the Contact\n",
      "\n",
      "5. अब फिर से नॉर्मल व्यू बटन पर क्लिक करते हैं\n",
      "   → Lets click on the Normal view button again\n",
      "\n",
      "6. और जब मैं फिक्स पर क्लिक करता हूँ तो मैं पूरे सिलेक्शन को चला सकता हूँ\n",
      "   → And when I click on fix, I can move the whole selection\n",
      "\n",
      "7. तो कृपया आगे बढ़ने से पहले इंट्रोडक्शन टो जियोजेब्रा ट्यूटोरियल देखें\n",
      "   → If not, please go through the Introduction to Geogebra tutorial before proceeding further\n",
      "\n",
      "8. हम यहाँ वेरिएबल में पासवर्ड स्टोर करने जा रहे हैं\n",
      "   → We are going to store the password in a variable here\n",
      "\n",
      "9. अधिक जानकारी दिए गए लिंक पर उपलब्ध है httpspoken tutorialorgNMEICT Intro यह स्क्रिप्ट देवेन्द्र कैरवान द्वारा अनुवादित है तथा आई आई टी बॉम्बे की तरफ से मैं सकीना अब आप से विदा लेती हूँ\n",
      "   → This script has been contributed by and this is from signing off\n",
      "\n",
      "10. मैं माय डॉक्यूमेंट्स चुन रहा हूँ\n",
      "   → I am selecting My Documents\n",
      "\n"
     ]
    }
   ],
   "source": [
    "def display_samples(dataset, num_samples=10):\n",
    "    dataset.set_format(type=\"python\", columns=[\"translation\"])\n",
    "    for i in range(min(num_samples, len(dataset))):\n",
    "        hi = dataset[i][\"translation\"].get(\"hi\", \"\")\n",
    "        en = dataset[i][\"translation\"].get(\"en\", \"\")\n",
    "        print(f\"{i+1}. {hi}\\n   → {en}\\n\")\n",
    "\n",
    "display_samples(train_ds, num_samples=10)\n"
   ]
  },
  {
   "cell_type": "code",
   "execution_count": 50,
   "metadata": {},
   "outputs": [],
   "source": [
    "def preprocess_function(examples):\n",
    "    src_texts = [ex[\"hi\"] for ex in examples[\"translation\"]]\n",
    "    tgt_texts = [ex[\"en\"] for ex in examples[\"translation\"]]\n",
    "    model_inputs = tokenizer(\n",
    "        src_texts, max_length=MAX_LEN_HI, truncation=True, padding=\"max_length\"\n",
    "    )\n",
    "    labels = tokenizer(\n",
    "        text_target=tgt_texts, max_length=MAX_LEN_EN, truncation=True, padding=\"max_length\"\n",
    "    )\n",
    "    model_inputs[\"labels\"] = labels[\"input_ids\"]\n",
    "    return model_inputs\n"
   ]
  },
  {
   "cell_type": "code",
   "execution_count": 51,
   "metadata": {},
   "outputs": [
    {
     "name": "stderr",
     "output_type": "stream",
     "text": [
      "Map: 100%|██████████| 25629/25629 [00:05<00:00, 4698.39 examples/s]\n",
      "Map: 100%|██████████| 10984/10984 [00:02<00:00, 4987.38 examples/s]\n"
     ]
    }
   ],
   "source": [
    "tokenized_train = train_ds.map(preprocess_function, batched=True, remove_columns=[\"translation\"])\n",
    "tokenized_val = val_ds.map(preprocess_function, batched=True, remove_columns=[\"translation\"])\n"
   ]
  },
  {
   "cell_type": "code",
   "execution_count": 52,
   "metadata": {},
   "outputs": [],
   "source": [
    "data_collator = DataCollatorForSeq2Seq(tokenizer, model=model)\n",
    "\n",
    "bleu = evaluate.load(\"sacrebleu\")\n",
    "\n",
    "\n",
    "def compute_metrics(eval_preds):\n",
    "    preds, labels = eval_preds\n",
    "    decoded_preds = tokenizer.batch_decode(preds, skip_special_tokens=True)\n",
    "    labels = [[tokenizer.decode(l, skip_special_tokens=True)] for l in labels]\n",
    "    return {\"bleu\": bleu.compute(predictions=decoded_preds, references=labels)[\"score\"]}\n"
   ]
  },
  {
   "cell_type": "code",
   "execution_count": 53,
   "metadata": {},
   "outputs": [],
   "source": [
    "training_args = Seq2SeqTrainingArguments(\n",
    "    output_dir=\"./results-hi-en-BA\",\n",
    "    eval_strategy=\"epoch\",\n",
    "    learning_rate=LR,\n",
    "    per_device_train_batch_size=BATCH_SIZE,\n",
    "    per_device_eval_batch_size=BATCH_SIZE,\n",
    "    weight_decay=0.01,\n",
    "    save_total_limit=2,\n",
    "    num_train_epochs=EPOCHS,\n",
    "    predict_with_generate=True,\n",
    "    fp16=torch.cuda.is_available(),\n",
    "    logging_dir=\"./logs\",\n",
    ")\n"
   ]
  },
  {
   "cell_type": "code",
   "execution_count": 54,
   "metadata": {},
   "outputs": [
    {
     "name": "stderr",
     "output_type": "stream",
     "text": [
      "C:\\Users\\EDWIN\\AppData\\Local\\Temp\\ipykernel_34976\\4048247955.py:1: FutureWarning: `tokenizer` is deprecated and will be removed in version 5.0.0 for `Seq2SeqTrainer.__init__`. Use `processing_class` instead.\n",
      "  trainer = Seq2SeqTrainer(\n"
     ]
    }
   ],
   "source": [
    "trainer = Seq2SeqTrainer(\n",
    "    model=model,\n",
    "    args=training_args,\n",
    "    train_dataset=tokenized_train,\n",
    "    eval_dataset=tokenized_val,\n",
    "    tokenizer=tokenizer,\n",
    "    data_collator=data_collator,\n",
    "    compute_metrics=compute_metrics,\n",
    ")\n"
   ]
  },
  {
   "cell_type": "code",
   "execution_count": 55,
   "metadata": {},
   "outputs": [
    {
     "data": {
      "text/html": [
       "\n",
       "    <div>\n",
       "      \n",
       "      <progress value='64080' max='64080' style='width:300px; height:20px; vertical-align: middle;'></progress>\n",
       "      [64080/64080 7:35:21, Epoch 20/20]\n",
       "    </div>\n",
       "    <table border=\"1\" class=\"dataframe\">\n",
       "  <thead>\n",
       " <tr style=\"text-align: left;\">\n",
       "      <th>Epoch</th>\n",
       "      <th>Training Loss</th>\n",
       "      <th>Validation Loss</th>\n",
       "      <th>Bleu</th>\n",
       "    </tr>\n",
       "  </thead>\n",
       "  <tbody>\n",
       "    <tr>\n",
       "      <td>1</td>\n",
       "      <td>0.839200</td>\n",
       "      <td>0.768914</td>\n",
       "      <td>31.454601</td>\n",
       "    </tr>\n",
       "    <tr>\n",
       "      <td>2</td>\n",
       "      <td>0.623200</td>\n",
       "      <td>0.694886</td>\n",
       "      <td>34.651562</td>\n",
       "    </tr>\n",
       "    <tr>\n",
       "      <td>3</td>\n",
       "      <td>0.490400</td>\n",
       "      <td>0.665377</td>\n",
       "      <td>35.857059</td>\n",
       "    </tr>\n",
       "    <tr>\n",
       "      <td>4</td>\n",
       "      <td>0.392400</td>\n",
       "      <td>0.656972</td>\n",
       "      <td>36.848582</td>\n",
       "    </tr>\n",
       "    <tr>\n",
       "      <td>5</td>\n",
       "      <td>0.318300</td>\n",
       "      <td>0.654907</td>\n",
       "      <td>37.924812</td>\n",
       "    </tr>\n",
       "    <tr>\n",
       "      <td>6</td>\n",
       "      <td>0.250200</td>\n",
       "      <td>0.663318</td>\n",
       "      <td>37.555238</td>\n",
       "    </tr>\n",
       "    <tr>\n",
       "      <td>7</td>\n",
       "      <td>0.198800</td>\n",
       "      <td>0.673486</td>\n",
       "      <td>38.477458</td>\n",
       "    </tr>\n",
       "    <tr>\n",
       "      <td>8</td>\n",
       "      <td>0.166500</td>\n",
       "      <td>0.682632</td>\n",
       "      <td>39.305956</td>\n",
       "    </tr>\n",
       "    <tr>\n",
       "      <td>9</td>\n",
       "      <td>0.135900</td>\n",
       "      <td>0.701377</td>\n",
       "      <td>39.160696</td>\n",
       "    </tr>\n",
       "    <tr>\n",
       "      <td>10</td>\n",
       "      <td>0.108900</td>\n",
       "      <td>0.711098</td>\n",
       "      <td>40.297085</td>\n",
       "    </tr>\n",
       "    <tr>\n",
       "      <td>11</td>\n",
       "      <td>0.092800</td>\n",
       "      <td>0.721250</td>\n",
       "      <td>40.295911</td>\n",
       "    </tr>\n",
       "    <tr>\n",
       "      <td>12</td>\n",
       "      <td>0.077000</td>\n",
       "      <td>0.735870</td>\n",
       "      <td>40.177042</td>\n",
       "    </tr>\n",
       "    <tr>\n",
       "      <td>13</td>\n",
       "      <td>0.065800</td>\n",
       "      <td>0.746848</td>\n",
       "      <td>40.449488</td>\n",
       "    </tr>\n",
       "    <tr>\n",
       "      <td>14</td>\n",
       "      <td>0.055600</td>\n",
       "      <td>0.759551</td>\n",
       "      <td>40.706424</td>\n",
       "    </tr>\n",
       "    <tr>\n",
       "      <td>15</td>\n",
       "      <td>0.047100</td>\n",
       "      <td>0.770199</td>\n",
       "      <td>40.760921</td>\n",
       "    </tr>\n",
       "    <tr>\n",
       "      <td>16</td>\n",
       "      <td>0.039000</td>\n",
       "      <td>0.775379</td>\n",
       "      <td>40.714548</td>\n",
       "    </tr>\n",
       "    <tr>\n",
       "      <td>17</td>\n",
       "      <td>0.036500</td>\n",
       "      <td>0.783537</td>\n",
       "      <td>40.733097</td>\n",
       "    </tr>\n",
       "    <tr>\n",
       "      <td>18</td>\n",
       "      <td>0.030700</td>\n",
       "      <td>0.786606</td>\n",
       "      <td>41.046260</td>\n",
       "    </tr>\n",
       "    <tr>\n",
       "      <td>19</td>\n",
       "      <td>0.027100</td>\n",
       "      <td>0.790402</td>\n",
       "      <td>41.151832</td>\n",
       "    </tr>\n",
       "    <tr>\n",
       "      <td>20</td>\n",
       "      <td>0.026200</td>\n",
       "      <td>0.791315</td>\n",
       "      <td>41.140047</td>\n",
       "    </tr>\n",
       "  </tbody>\n",
       "</table><p>"
      ],
      "text/plain": [
       "<IPython.core.display.HTML object>"
      ]
     },
     "metadata": {},
     "output_type": "display_data"
    },
    {
     "name": "stderr",
     "output_type": "stream",
     "text": [
      "C:\\Users\\EDWIN\\AppData\\Local\\Programs\\Python\\Python310\\lib\\site-packages\\transformers\\modeling_utils.py:3922: UserWarning: Moving the following attributes in the config to the generation config: {'max_length': 512, 'num_beams': 6, 'bad_words_ids': [[61126]]}. You are seeing this warning because you've set generation parameters in the model config, as opposed to in the generation config.\n",
      "  warnings.warn(\n"
     ]
    },
    {
     "data": {
      "text/plain": [
       "TrainOutput(global_step=64080, training_loss=0.20190642944510362, metrics={'train_runtime': 27321.9135, 'train_samples_per_second': 18.761, 'train_steps_per_second': 2.345, 'total_flos': 5429882467123200.0, 'train_loss': 0.20190642944510362, 'epoch': 20.0})"
      ]
     },
     "execution_count": 55,
     "metadata": {},
     "output_type": "execute_result"
    }
   ],
   "source": [
    "trainer.train()"
   ]
  },
  {
   "cell_type": "code",
   "execution_count": 56,
   "metadata": {},
   "outputs": [
    {
     "data": {
      "text/html": [
       "\n",
       "    <div>\n",
       "      \n",
       "      <progress value='1373' max='1373' style='width:300px; height:20px; vertical-align: middle;'></progress>\n",
       "      [1373/1373 15:23]\n",
       "    </div>\n",
       "    "
      ],
      "text/plain": [
       "<IPython.core.display.HTML object>"
      ]
     },
     "metadata": {},
     "output_type": "display_data"
    },
    {
     "name": "stdout",
     "output_type": "stream",
     "text": [
      "BLEU Score: 41.14\n",
      "✅ Fine-tuning complete. Model saved to ./fine_tuned_hi_en_BA\n"
     ]
    }
   ],
   "source": [
    "metrics = trainer.evaluate()\n",
    "print(f\"BLEU Score: {metrics['eval_bleu']:.2f}\")\n",
    "\n",
    "model.save_pretrained(\"./fine_tuned_hi_en_BA\")\n",
    "tokenizer.save_pretrained(\"./fine_tuned_hi_en_BA\")\n",
    "\n",
    "print(\"✅ Fine-tuning complete. Model saved to ./fine_tuned_hi_en_BA\")\n"
   ]
  },
  {
   "cell_type": "code",
   "execution_count": null,
   "metadata": {},
   "outputs": [],
   "source": []
  }
 ],
 "metadata": {
  "kernelspec": {
   "display_name": ".venv",
   "language": "python",
   "name": "python3"
  },
  "language_info": {
   "codemirror_mode": {
    "name": "ipython",
    "version": 3
   },
   "file_extension": ".py",
   "mimetype": "text/x-python",
   "name": "python",
   "nbconvert_exporter": "python",
   "pygments_lexer": "ipython3",
   "version": "3.10.7"
  }
 },
 "nbformat": 4,
 "nbformat_minor": 2
}
