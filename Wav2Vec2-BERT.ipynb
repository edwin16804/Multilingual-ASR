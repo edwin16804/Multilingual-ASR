{
 "cells": [
  {
   "cell_type": "code",
   "execution_count": 1,
   "id": "dd29578c",
   "metadata": {},
   "outputs": [
    {
     "data": {
      "text/plain": [
       "True"
      ]
     },
     "execution_count": 1,
     "metadata": {},
     "output_type": "execute_result"
    }
   ],
   "source": [
    "import torch\n",
    "torch.cuda.is_available()"
   ]
  },
  {
   "cell_type": "code",
   "execution_count": 2,
   "id": "52538e2f",
   "metadata": {},
   "outputs": [],
   "source": [
    "# from datasets import load_dataset\n",
    "# from itertools import islice\n",
    "\n",
    "# # Load in streaming mode\n",
    "# dataset_stream = load_dataset(\n",
    "#     \"ai4bharat/Spoken-Tutorial\", \n",
    "#     \"indic2en\", \n",
    "#     split=\"hindi\", \n",
    "#     streaming=True\n",
    "# )\n",
    "\n",
    "# # Take first 100 samples using islice (efficient)\n",
    "# first_100_samples = list(islice(dataset_stream, 100))\n",
    "\n",
    "# # Check the first sample\n",
    "# print(first_100_samples)\n"
   ]
  },
  {
   "cell_type": "code",
   "execution_count": 3,
   "id": "d1daa648",
   "metadata": {},
   "outputs": [],
   "source": [
    "# from datasets import load_dataset\n",
    "\n",
    "# # Load only the Hindi split from the indic2en config\n",
    "# dataset = load_dataset(\n",
    "#     \"ai4bharat/Spoken-Tutorial\",\n",
    "#     \"indic2en\",\n",
    "#     split=\"hindi\"   # loads Hindi subset into local cache\n",
    "# )\n",
    "\n",
    "# # Take the first 100 samples\n",
    "# first_100 = dataset.select(range(100))\n",
    "\n",
    "# print(first_100[0])   # Inspect first sample\n"
   ]
  },
  {
   "cell_type": "code",
   "execution_count": 4,
   "id": "ac840089",
   "metadata": {},
   "outputs": [],
   "source": [
    "repo = \"Ed-168/Fine-tuned-wav2vec2-BERT-indian-languages\""
   ]
  },
  {
   "cell_type": "code",
   "execution_count": 5,
   "id": "3d65f9e8",
   "metadata": {},
   "outputs": [
    {
     "name": "stderr",
     "output_type": "stream",
     "text": [
      "c:\\Users\\EDWIN\\OneDrive\\Documents\\GitHub\\BhasaAnuvaad-multilingual-ASR\\.venv\\lib\\site-packages\\tqdm\\auto.py:21: TqdmWarning: IProgress not found. Please update jupyter and ipywidgets. See https://ipywidgets.readthedocs.io/en/stable/user_install.html\n",
      "  from .autonotebook import tqdm as notebook_tqdm\n"
     ]
    }
   ],
   "source": [
    "from datasets import load_dataset\n",
    "\n",
    "common_voice_train = load_dataset(\n",
    "    \"mozilla-foundation/common_voice_16_0\",\n",
    "    \"hi\",\n",
    "    split=\"train+validation\",\n",
    "    trust_remote_code=True\n",
    ")\n",
    "common_voice_test = load_dataset(\n",
    "    \"mozilla-foundation/common_voice_16_0\",\n",
    "    \"hi\",\n",
    "    split=\"test\",\n",
    "    trust_remote_code=True\n",
    ")\n"
   ]
  },
  {
   "cell_type": "code",
   "execution_count": 6,
   "id": "332ae371",
   "metadata": {},
   "outputs": [],
   "source": [
    "common_voice_train = common_voice_train.remove_columns([\"accent\", \"age\", \"client_id\", \"down_votes\", \"gender\", \"locale\", \"segment\", \"up_votes\" , \"variant\"])\n",
    "common_voice_test = common_voice_test.remove_columns([\"accent\", \"age\", \"client_id\", \"down_votes\", \"gender\", \"locale\", \"segment\", \"up_votes\" , \"variant\"])"
   ]
  },
  {
   "cell_type": "code",
   "execution_count": 7,
   "id": "e02217df",
   "metadata": {},
   "outputs": [
    {
     "data": {
      "text/plain": [
       "{'path': 'C:\\\\Users\\\\EDWIN\\\\.cache\\\\huggingface\\\\datasets\\\\downloads\\\\extracted\\\\2c6cd998a8800b56f2fb15d7259927dbca1bd0fa2f05133309cf0f10257b5443\\\\hi_train_0/common_voice_hi_26008353.mp3',\n",
       " 'audio': {'path': 'C:\\\\Users\\\\EDWIN\\\\.cache\\\\huggingface\\\\datasets\\\\downloads\\\\extracted\\\\2c6cd998a8800b56f2fb15d7259927dbca1bd0fa2f05133309cf0f10257b5443\\\\hi_train_0/common_voice_hi_26008353.mp3',\n",
       "  'array': array([ 6.46234854e-26, -1.35709319e-25, -8.07793567e-26, ...,\n",
       "          1.06425944e-07,  4.46417090e-08,  2.61451660e-09]),\n",
       "  'sampling_rate': 48000},\n",
       " 'sentence': 'हमने उसका जन्मदिन मनाया।'}"
      ]
     },
     "execution_count": 7,
     "metadata": {},
     "output_type": "execute_result"
    }
   ],
   "source": [
    "common_voice_train[0]"
   ]
  },
  {
   "cell_type": "markdown",
   "id": "a43e4cea",
   "metadata": {},
   "source": [
    "#### Displaying a random subset of the dataset"
   ]
  },
  {
   "cell_type": "code",
   "execution_count": 8,
   "id": "0a71f7c4",
   "metadata": {},
   "outputs": [],
   "source": [
    "from datasets import ClassLabel\n",
    "import random\n",
    "import pandas as pd\n",
    "from IPython.display import display, HTML\n",
    "\n",
    "def show_random_elements(dataset, num_examples=10):\n",
    "    assert num_examples <= len(dataset)\n",
    "    picks = []\n",
    "    for _ in range(num_examples):\n",
    "        pick = random.randint(0, len(dataset)-1)\n",
    "        while pick in picks:\n",
    "            pick = random.randint(0, len(dataset)-1)\n",
    "        picks.append(pick)\n",
    "    \n",
    "    df = pd.DataFrame(dataset[picks])\n",
    "    display(HTML(df.to_html()))"
   ]
  },
  {
   "cell_type": "code",
   "execution_count": 9,
   "id": "5a900916",
   "metadata": {},
   "outputs": [
    {
     "data": {
      "text/html": [
       "<table border=\"1\" class=\"dataframe\">\n",
       "  <thead>\n",
       "    <tr style=\"text-align: right;\">\n",
       "      <th></th>\n",
       "      <th>sentence</th>\n",
       "    </tr>\n",
       "  </thead>\n",
       "  <tbody>\n",
       "    <tr>\n",
       "      <th>0</th>\n",
       "      <td>अगले माह शुरू होगा सेल्फ ड्राइविंग कार चलाने और कार उड़ाने का कोर्स</td>\n",
       "    </tr>\n",
       "    <tr>\n",
       "      <th>1</th>\n",
       "      <td>क्यों दी जाती है गहनों से ज्यादा सोने-चांदी के सिक्के खरीदने की सलाह</td>\n",
       "    </tr>\n",
       "    <tr>\n",
       "      <th>2</th>\n",
       "      <td>पत्नी के साथ शाइनी आहूजा दिल्ली पहुंचे</td>\n",
       "    </tr>\n",
       "    <tr>\n",
       "      <th>3</th>\n",
       "      <td>टॉम ने हम से झूठ बोला है।</td>\n",
       "    </tr>\n",
       "    <tr>\n",
       "      <th>4</th>\n",
       "      <td>हो सके तब कॉल करना।</td>\n",
       "    </tr>\n",
       "    <tr>\n",
       "      <th>5</th>\n",
       "      <td>सुरक्षा में सेंध, बिना टिकट विमान में किया सफर</td>\n",
       "    </tr>\n",
       "    <tr>\n",
       "      <th>6</th>\n",
       "      <td>आते ही हिट 'रईस' का 'जालिमा', बनाया सबसे तेज एक लाख लाइक्स का रिकॉर्ड</td>\n",
       "    </tr>\n",
       "    <tr>\n",
       "      <th>7</th>\n",
       "      <td>पाकिस्तान में छह तालिबान आतंकवादी ढेर</td>\n",
       "    </tr>\n",
       "    <tr>\n",
       "      <th>8</th>\n",
       "      <td>देखो बाहर क्या हो रहा है।</td>\n",
       "    </tr>\n",
       "    <tr>\n",
       "      <th>9</th>\n",
       "      <td>टिकट बुकिंग पर दिल्ली हाईकोर्ट ने जेट एयरवेज और डीजीसीए से मांगा जवाब</td>\n",
       "    </tr>\n",
       "  </tbody>\n",
       "</table>"
      ],
      "text/plain": [
       "<IPython.core.display.HTML object>"
      ]
     },
     "metadata": {},
     "output_type": "display_data"
    }
   ],
   "source": [
    "show_random_elements(common_voice_train.remove_columns([\"path\", \"audio\"]), num_examples=10)"
   ]
  },
  {
   "cell_type": "markdown",
   "id": "567ca951",
   "metadata": {},
   "source": [
    "### Creating Wav2Vec2CTCTokenizer"
   ]
  },
  {
   "cell_type": "markdown",
   "id": "4dc0da84",
   "metadata": {},
   "source": [
    "#### Cleaning the transcripts\n",
    "- We dont need special characters like ',' , '|' , '?' for training a speech model"
   ]
  },
  {
   "cell_type": "code",
   "execution_count": 10,
   "id": "7ead4186",
   "metadata": {},
   "outputs": [],
   "source": [
    "import re\n",
    "chars = '[\\,\\?\\.\\!\\-\\;\\:\\\"\\“\\%\\‘\\”\\�\\|]'\n",
    "def remove_special_chars(batch):\n",
    "    batch['sentence'] = re.sub(chars , '' , batch['sentence']).lower() + ' '\n",
    "    return batch"
   ]
  },
  {
   "cell_type": "code",
   "execution_count": 11,
   "id": "360427f3",
   "metadata": {},
   "outputs": [],
   "source": [
    "common_voice_train = common_voice_train.map(remove_special_chars)\n",
    "common_voice_test = common_voice_test.map(remove_special_chars)"
   ]
  },
  {
   "cell_type": "code",
   "execution_count": 12,
   "id": "1110e89c",
   "metadata": {},
   "outputs": [
    {
     "data": {
      "text/html": [
       "<table border=\"1\" class=\"dataframe\">\n",
       "  <thead>\n",
       "    <tr style=\"text-align: right;\">\n",
       "      <th></th>\n",
       "      <th>sentence</th>\n",
       "    </tr>\n",
       "  </thead>\n",
       "  <tbody>\n",
       "    <tr>\n",
       "      <th>0</th>\n",
       "      <td>महिला सशक्तिकरण के लिये बढावा दिया जाए राज्यपाल</td>\n",
       "    </tr>\n",
       "    <tr>\n",
       "      <th>1</th>\n",
       "      <td>फूड एलर्जी की पहचान के लिए भी महत्वपूर्ण है गर्भनाल</td>\n",
       "    </tr>\n",
       "    <tr>\n",
       "      <th>2</th>\n",
       "      <td>चीनी दूतावास कहाँ है</td>\n",
       "    </tr>\n",
       "    <tr>\n",
       "      <th>3</th>\n",
       "      <td>क्या किसी ने कभी आपका दिल तोड़ा है</td>\n",
       "    </tr>\n",
       "    <tr>\n",
       "      <th>4</th>\n",
       "      <td>जानें प्राइमरी स्कूल टीचर का बेटा कैसे बना विंबलडन चैम्पियन</td>\n",
       "    </tr>\n",
       "    <tr>\n",
       "      <th>5</th>\n",
       "      <td>दुनिया की टॉप यूनिवर्सिटीज में भारत का न होना अखरता है राष्ट्रपति</td>\n",
       "    </tr>\n",
       "    <tr>\n",
       "      <th>6</th>\n",
       "      <td>विंबलडन क्वार्टर फाइनल में पहुंचे भूपति बोपन्ना</td>\n",
       "    </tr>\n",
       "    <tr>\n",
       "      <th>7</th>\n",
       "      <td>कांग्रेस पर भरोसा नहीं करता देशमोदी</td>\n",
       "    </tr>\n",
       "    <tr>\n",
       "      <th>8</th>\n",
       "      <td>मुंशी प्रेमचंद की यादगार कहानी ईदगाह</td>\n",
       "    </tr>\n",
       "    <tr>\n",
       "      <th>9</th>\n",
       "      <td>बच्चों के डॉक्टरों को अब भारत में मिलेगा ब्रिटिश डिप्लोमा</td>\n",
       "    </tr>\n",
       "  </tbody>\n",
       "</table>"
      ],
      "text/plain": [
       "<IPython.core.display.HTML object>"
      ]
     },
     "metadata": {},
     "output_type": "display_data"
    }
   ],
   "source": [
    "show_random_elements(common_voice_train.remove_columns(['path' , 'audio']))"
   ]
  },
  {
   "cell_type": "markdown",
   "id": "32590756",
   "metadata": {},
   "source": [
    "#### Vocabulary Creation\n",
    "- extracting all the unique and useful tokens for speech recognition "
   ]
  },
  {
   "cell_type": "code",
   "execution_count": 13,
   "id": "4aa48245",
   "metadata": {},
   "outputs": [],
   "source": [
    "def extract_all_chars(batch):\n",
    "  all_text = \" \".join(batch[\"sentence\"])\n",
    "  vocab = list(set(all_text))\n",
    "  return {\"vocab\": [vocab], \"all_text\": [all_text]}"
   ]
  },
  {
   "cell_type": "code",
   "execution_count": 14,
   "id": "2ce2ce27",
   "metadata": {},
   "outputs": [
    {
     "name": "stderr",
     "output_type": "stream",
     "text": [
      "Map: 100%|██████████| 7084/7084 [00:00<00:00, 175632.48 examples/s]\n",
      "Map: 100%|██████████| 3107/3107 [00:00<00:00, 162356.45 examples/s]\n"
     ]
    }
   ],
   "source": [
    "vocab_train = common_voice_train.map(\n",
    "  extract_all_chars, batched=True, \n",
    "  batch_size=-1, keep_in_memory=True, \n",
    "  remove_columns=common_voice_train.column_names\n",
    ")\n",
    "vocab_test = common_voice_test.map(\n",
    "  extract_all_chars, batched=True, \n",
    "  batch_size=-1, keep_in_memory=True, \n",
    "  remove_columns=common_voice_test.column_names\n",
    ")"
   ]
  },
  {
   "cell_type": "code",
   "execution_count": 15,
   "id": "d1e3a7c5",
   "metadata": {},
   "outputs": [],
   "source": [
    "vocab_list = list(set(vocab_train[\"vocab\"][0]) | set(vocab_test[\"vocab\"][0]))"
   ]
  },
  {
   "cell_type": "code",
   "execution_count": 16,
   "id": "1a8583f9",
   "metadata": {},
   "outputs": [
    {
     "data": {
      "text/plain": [
       "{'ख़': 0,\n",
       " 'े': 1,\n",
       " 'g': 2,\n",
       " 'l': 3,\n",
       " 'ा': 4,\n",
       " 'ौ': 5,\n",
       " 'b': 6,\n",
       " 'ऋ': 7,\n",
       " 'ड': 8,\n",
       " 'v': 9,\n",
       " '&': 10,\n",
       " 't': 11,\n",
       " 'ं': 12,\n",
       " 'ू': 13,\n",
       " 'औ': 14,\n",
       " 'c': 15,\n",
       " 'थ': 16,\n",
       " 'ब': 17,\n",
       " 'a': 18,\n",
       " 'ि': 19,\n",
       " 'ह': 20,\n",
       " ' ': 21,\n",
       " 'd': 22,\n",
       " 'च': 23,\n",
       " 'q': 24,\n",
       " 'ञ': 25,\n",
       " 'ड़': 26,\n",
       " 'आ': 27,\n",
       " '्': 28,\n",
       " 'o': 29,\n",
       " 'ष': 30,\n",
       " 'य': 31,\n",
       " 'j': 32,\n",
       " 'त': 33,\n",
       " 'ई': 34,\n",
       " 'ण': 35,\n",
       " 'ः': 36,\n",
       " 'ी': 37,\n",
       " 'प': 38,\n",
       " 'क': 39,\n",
       " 'म': 40,\n",
       " 'm': 41,\n",
       " 'f': 42,\n",
       " 'ै': 43,\n",
       " 'ट': 44,\n",
       " 'ए': 45,\n",
       " 'p': 46,\n",
       " 'k': 47,\n",
       " 'ो': 48,\n",
       " 'झ': 49,\n",
       " 'ग': 50,\n",
       " 'फ': 51,\n",
       " 'ल': 52,\n",
       " 'छ': 53,\n",
       " 'w': 54,\n",
       " 'i': 55,\n",
       " 'फ़': 56,\n",
       " 'ऊ': 57,\n",
       " '’': 58,\n",
       " 'u': 59,\n",
       " 'घ': 60,\n",
       " 'ठ': 61,\n",
       " 'ँ': 62,\n",
       " 'ढ़': 63,\n",
       " 'स': 64,\n",
       " 'क़': 65,\n",
       " 'उ': 66,\n",
       " 'अ': 67,\n",
       " 'e': 68,\n",
       " 'ओ': 69,\n",
       " 'z': 70,\n",
       " '–': 71,\n",
       " 'r': 72,\n",
       " 'भ': 73,\n",
       " 'ॉ': 74,\n",
       " 'र': 75,\n",
       " \"'\": 76,\n",
       " 'इ': 77,\n",
       " 'ख': 78,\n",
       " 'ग़': 79,\n",
       " 'व': 80,\n",
       " 'ॅ': 81,\n",
       " 'ज': 82,\n",
       " 'श': 83,\n",
       " 'ज़': 84,\n",
       " 's': 85,\n",
       " 'n': 86,\n",
       " 'ऑ': 87,\n",
       " 'ृ': 88,\n",
       " 'द': 89,\n",
       " 'x': 90,\n",
       " 'ऐ': 91,\n",
       " 'ढ': 92,\n",
       " 'ध': 93,\n",
       " '।': 94,\n",
       " '़': 95,\n",
       " 'h': 96,\n",
       " 'ु': 97,\n",
       " 'न': 98,\n",
       " 'y': 99}"
      ]
     },
     "execution_count": 16,
     "metadata": {},
     "output_type": "execute_result"
    }
   ],
   "source": [
    "vocab_dict = {v: k for k, v in enumerate(vocab_list)}\n",
    "vocab_dict"
   ]
  },
  {
   "cell_type": "code",
   "execution_count": 17,
   "id": "2ad5d181",
   "metadata": {},
   "outputs": [],
   "source": [
    "vocab_dict[\"|\"] = vocab_dict[\" \"]\n",
    "del vocab_dict[\" \"] \n",
    "\n",
    "vocab_dict[\"[UNK]\"] = len(vocab_dict)\n",
    "vocab_dict[\"[PAD]\"] = len(vocab_dict)"
   ]
  },
  {
   "cell_type": "code",
   "execution_count": 18,
   "id": "f0942c96",
   "metadata": {},
   "outputs": [
    {
     "name": "stdout",
     "output_type": "stream",
     "text": [
      "Number of tokens: 102\n"
     ]
    }
   ],
   "source": [
    "print(f\"Number of tokens: {len(vocab_dict)}\")"
   ]
  },
  {
   "cell_type": "code",
   "execution_count": 19,
   "id": "35ae2561",
   "metadata": {},
   "outputs": [],
   "source": [
    "# save the vocabulary as a json file\n",
    "\n",
    "import json\n",
    "\n",
    "with open(\"vocab.json\", 'w') as vocab_file:\n",
    "    json.dump(vocab_dict , vocab_file)"
   ]
  },
  {
   "cell_type": "code",
   "execution_count": 20,
   "id": "5f6b871b",
   "metadata": {},
   "outputs": [
    {
     "data": {
      "application/json": {
       "&": 10,
       "'": 76,
       "[PAD]": 101,
       "[UNK]": 100,
       "a": 18,
       "b": 6,
       "c": 15,
       "d": 22,
       "e": 68,
       "f": 42,
       "g": 2,
       "h": 96,
       "i": 55,
       "j": 32,
       "k": 47,
       "l": 3,
       "m": 41,
       "n": 86,
       "o": 29,
       "p": 46,
       "q": 24,
       "r": 72,
       "s": 85,
       "t": 11,
       "u": 59,
       "v": 9,
       "w": 54,
       "x": 90,
       "y": 99,
       "z": 70,
       "|": 21,
       "ँ": 62,
       "ं": 12,
       "ः": 36,
       "अ": 67,
       "आ": 27,
       "इ": 77,
       "ई": 34,
       "उ": 66,
       "ऊ": 57,
       "ऋ": 7,
       "ए": 45,
       "ऐ": 91,
       "ऑ": 87,
       "ओ": 69,
       "औ": 14,
       "क": 39,
       "ख": 78,
       "ग": 50,
       "घ": 60,
       "च": 23,
       "छ": 53,
       "ज": 82,
       "झ": 49,
       "ञ": 25,
       "ट": 44,
       "ठ": 61,
       "ड": 8,
       "ढ": 92,
       "ण": 35,
       "त": 33,
       "थ": 16,
       "द": 89,
       "ध": 93,
       "न": 98,
       "प": 38,
       "फ": 51,
       "ब": 17,
       "भ": 73,
       "म": 40,
       "य": 31,
       "र": 75,
       "ल": 52,
       "व": 80,
       "श": 83,
       "ष": 30,
       "स": 64,
       "ह": 20,
       "़": 95,
       "ा": 4,
       "ि": 19,
       "ी": 37,
       "ु": 97,
       "ू": 13,
       "ृ": 88,
       "ॅ": 81,
       "े": 1,
       "ै": 43,
       "ॉ": 74,
       "ो": 48,
       "ौ": 5,
       "्": 28,
       "क़": 65,
       "ख़": 0,
       "ग़": 79,
       "ज़": 84,
       "ड़": 26,
       "ढ़": 63,
       "फ़": 56,
       "।": 94,
       "–": 71,
       "’": 58
      },
      "text/plain": [
       "<IPython.core.display.JSON object>"
      ]
     },
     "execution_count": 20,
     "metadata": {
      "application/json": {
       "expanded": false,
       "root": "root"
      }
     },
     "output_type": "execute_result"
    }
   ],
   "source": [
    "from IPython.display import JSON\n",
    "import json\n",
    "\n",
    "with open(\"vocab.json\", \"r\", encoding=\"utf-8\") as f:\n",
    "    data = json.load(f)\n",
    "\n",
    "JSON(data) \n"
   ]
  },
  {
   "cell_type": "code",
   "execution_count": 21,
   "id": "183b387f",
   "metadata": {},
   "outputs": [
    {
     "data": {
      "text/plain": [
       "Wav2Vec2CTCTokenizer(name_or_path='./', vocab_size=102, model_max_length=1000000000000000019884624838656, is_fast=False, padding_side='right', truncation_side='right', special_tokens={'bos_token': '<s>', 'eos_token': '</s>', 'unk_token': '[UNK]', 'pad_token': '[PAD]'}, clean_up_tokenization_spaces=False, added_tokens_decoder={\n",
       "\t100: AddedToken(\"[UNK]\", rstrip=True, lstrip=True, single_word=False, normalized=False, special=False),\n",
       "\t101: AddedToken(\"[PAD]\", rstrip=True, lstrip=True, single_word=False, normalized=False, special=False),\n",
       "\t102: AddedToken(\"<s>\", rstrip=False, lstrip=False, single_word=False, normalized=False, special=True),\n",
       "\t103: AddedToken(\"</s>\", rstrip=False, lstrip=False, single_word=False, normalized=False, special=True),\n",
       "}\n",
       ")"
      ]
     },
     "execution_count": 21,
     "metadata": {},
     "output_type": "execute_result"
    }
   ],
   "source": [
    "from transformers import Wav2Vec2CTCTokenizer\n",
    "\n",
    "tokenizer = Wav2Vec2CTCTokenizer.from_pretrained(\"./\", unk_token=\"[UNK]\", pad_token=\"[PAD]\", word_delimiter_token=\"|\")\n",
    "tokenizer"
   ]
  },
  {
   "cell_type": "code",
   "execution_count": 22,
   "id": "57446071",
   "metadata": {},
   "outputs": [
    {
     "name": "stderr",
     "output_type": "stream",
     "text": [
      "c:\\Users\\EDWIN\\OneDrive\\Documents\\GitHub\\BhasaAnuvaad-multilingual-ASR\\.venv\\lib\\site-packages\\huggingface_hub\\file_download.py:143: UserWarning: `huggingface_hub` cache-system uses symlinks by default to efficiently store duplicated files but your machine does not support them in C:\\Users\\EDWIN\\.cache\\huggingface\\hub\\models--Ed-168--Fine-tuned-wav2vec2-BERT-indian-languages. Caching files will still work but in a degraded version that might require more space on your disk. This warning can be disabled by setting the `HF_HUB_DISABLE_SYMLINKS_WARNING` environment variable. For more details, see https://huggingface.co/docs/huggingface_hub/how-to-cache#limitations.\n",
      "To support symlinks on Windows, you either need to activate Developer Mode or to run Python as an administrator. In order to activate developer mode, see this article: https://docs.microsoft.com/en-us/windows/apps/get-started/enable-your-device-for-development\n",
      "  warnings.warn(message)\n"
     ]
    },
    {
     "data": {
      "text/plain": [
       "CommitInfo(commit_url='https://huggingface.co/Ed-168/Fine-tuned-wav2vec2-BERT-indian-languages/commit/f05066de511a88747c18f9c087d5326330906c4b', commit_message='Upload tokenizer', commit_description='', oid='f05066de511a88747c18f9c087d5326330906c4b', pr_url=None, repo_url=RepoUrl('https://huggingface.co/Ed-168/Fine-tuned-wav2vec2-BERT-indian-languages', endpoint='https://huggingface.co', repo_type='model', repo_id='Ed-168/Fine-tuned-wav2vec2-BERT-indian-languages'), pr_revision=None, pr_num=None)"
      ]
     },
     "execution_count": 22,
     "metadata": {},
     "output_type": "execute_result"
    }
   ],
   "source": [
    "tokenizer.push_to_hub(\"Ed-168/Fine-tuned-wav2vec2-BERT-indian-languages\")"
   ]
  },
  {
   "cell_type": "markdown",
   "id": "10cd525b",
   "metadata": {},
   "source": [
    "### Create SeamlessM4TFeatureExtractor\n",
    "\n",
    "- The role of the SeamlessM4TFeatureExtractor is to prepare the raw audio input in a format that the model can \"understand\". \n",
    "- It therefore maps the sequence of one-dimensional amplitude values (aka the raw audio input) to a two-dimensional matrix of log-mel spectrogram values.\n",
    "- Unlike the tokenizer, the feature extractor doesn't need to be \"learned\" from the data, so we can load it directly from the initial model checkpoint."
   ]
  },
  {
   "cell_type": "code",
   "execution_count": 23,
   "id": "58e5c78c",
   "metadata": {},
   "outputs": [
    {
     "data": {
      "text/plain": [
       "(195264,)"
      ]
     },
     "execution_count": 23,
     "metadata": {},
     "output_type": "execute_result"
    }
   ],
   "source": [
    "common_voice_train[0]['audio']['array'].shape"
   ]
  },
  {
   "cell_type": "code",
   "execution_count": 24,
   "id": "07f7cf08",
   "metadata": {},
   "outputs": [],
   "source": [
    "from transformers import SeamlessM4TFeatureExtractor\n",
    "\n",
    "feature_extractor = SeamlessM4TFeatureExtractor.from_pretrained(\"facebook/w2v-bert-2.0\")\n"
   ]
  },
  {
   "cell_type": "code",
   "execution_count": 25,
   "id": "73854a93",
   "metadata": {},
   "outputs": [
    {
     "data": {
      "text/plain": [
       "CommitInfo(commit_url='https://huggingface.co/Ed-168/Fine-tuned-wav2vec2-BERT-indian-languages/commit/631f6d2d354c2d788e6a3cf16c5453e3e7c477dc', commit_message='Upload processor', commit_description='', oid='631f6d2d354c2d788e6a3cf16c5453e3e7c477dc', pr_url=None, repo_url=RepoUrl('https://huggingface.co/Ed-168/Fine-tuned-wav2vec2-BERT-indian-languages', endpoint='https://huggingface.co', repo_type='model', repo_id='Ed-168/Fine-tuned-wav2vec2-BERT-indian-languages'), pr_revision=None, pr_num=None)"
      ]
     },
     "execution_count": 25,
     "metadata": {},
     "output_type": "execute_result"
    }
   ],
   "source": [
    "from transformers import Wav2Vec2BertProcessor\n",
    "\n",
    "processor = Wav2Vec2BertProcessor(feature_extractor=feature_extractor , tokenizer=tokenizer)\n",
    "processor.push_to_hub(repo)"
   ]
  },
  {
   "cell_type": "markdown",
   "id": "8a8c7dae",
   "metadata": {},
   "source": [
    "### Preprocess Data"
   ]
  },
  {
   "cell_type": "code",
   "execution_count": 26,
   "id": "8f6e9fd5",
   "metadata": {},
   "outputs": [
    {
     "name": "stdout",
     "output_type": "stream",
     "text": [
      "C:\\Users\\EDWIN\\.cache\\huggingface\\datasets\\downloads\\extracted\\2c6cd998a8800b56f2fb15d7259927dbca1bd0fa2f05133309cf0f10257b5443\\hi_train_0/common_voice_hi_26008353.mp3\n",
      "{'path': 'C:\\\\Users\\\\EDWIN\\\\.cache\\\\huggingface\\\\datasets\\\\downloads\\\\extracted\\\\2c6cd998a8800b56f2fb15d7259927dbca1bd0fa2f05133309cf0f10257b5443\\\\hi_train_0/common_voice_hi_26008353.mp3', 'array': array([ 6.46234854e-26, -1.35709319e-25, -8.07793567e-26, ...,\n",
      "        1.06425944e-07,  4.46417090e-08,  2.61451660e-09]), 'sampling_rate': 48000}\n"
     ]
    }
   ],
   "source": [
    "print(common_voice_train[0]['path'])\n",
    "print(common_voice_train[0]['audio'])"
   ]
  },
  {
   "cell_type": "markdown",
   "id": "40f82edc",
   "metadata": {},
   "source": [
    "- Sampling rate :  it defines how many data points of the speech signal are measured per second.  \n",
    "- The sampling rate of the audio in the dataset is 48kHz , whereas the models expects 16kHz thus needs to be respampled\n",
    "- we can set the correct sampling rate by using the `cast_column` method of datasets"
   ]
  },
  {
   "cell_type": "code",
   "execution_count": 27,
   "id": "25da815d",
   "metadata": {},
   "outputs": [],
   "source": [
    "from datasets import Audio\n",
    "\n",
    "common_voice_train = common_voice_train.cast_column(\"audio\" , Audio(sampling_rate = 16000))\n",
    "common_voice_test = common_voice_test.cast_column(\"audio\" , Audio(sampling_rate = 16000))"
   ]
  },
  {
   "cell_type": "code",
   "execution_count": 28,
   "id": "74cae8e6",
   "metadata": {},
   "outputs": [
    {
     "data": {
      "text/plain": [
       "{'path': 'C:\\\\Users\\\\EDWIN\\\\.cache\\\\huggingface\\\\datasets\\\\downloads\\\\extracted\\\\f07556d6bad652a7d6a4c30654b2f2a3b4f5e593b2f0d1ef1929c36bf8ad252e\\\\hi_test_0/common_voice_hi_30196032.mp3',\n",
       " 'array': array([ 9.82254278e-11, -1.45519152e-10,  3.20142135e-10, ...,\n",
       "        -2.25869662e-05, -8.05291347e-06,  1.09162269e-04]),\n",
       " 'sampling_rate': 16000}"
      ]
     },
     "execution_count": 28,
     "metadata": {},
     "output_type": "execute_result"
    }
   ],
   "source": [
    "common_voice_test[0]['audio']"
   ]
  },
  {
   "cell_type": "code",
   "execution_count": 29,
   "id": "e47674c4",
   "metadata": {},
   "outputs": [
    {
     "name": "stdout",
     "output_type": "stream",
     "text": [
      "उसे पैसों की ज़रूरत है। \n"
     ]
    },
    {
     "data": {
      "text/html": [
       "\n",
       "                <audio  controls=\"controls\" autoplay=\"autoplay\">\n",
       "                    <source src=\"data:audio/wav;base64,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\" type=\"audio/wav\" />\n",
       "                    Your browser does not support the audio element.\n",
       "                </audio>\n",
       "              "
      ],
      "text/plain": [
       "<IPython.lib.display.Audio object>"
      ]
     },
     "execution_count": 29,
     "metadata": {},
     "output_type": "execute_result"
    }
   ],
   "source": [
    "import IPython.display as ipd\n",
    "import numpy as np\n",
    "import random\n",
    "\n",
    "rand_clip = random.randint(0 , len(common_voice_train)-1)\n",
    "\n",
    "print(common_voice_train[rand_clip]['sentence'])\n",
    "\n",
    "ipd.Audio(data = common_voice_train[rand_clip]['audio']['array'] , autoplay=True , rate = 16000)\n",
    "\n"
   ]
  },
  {
   "cell_type": "code",
   "execution_count": 30,
   "id": "d964dd2c",
   "metadata": {},
   "outputs": [
    {
     "name": "stdout",
     "output_type": "stream",
     "text": [
      "Target text: मुझे ऑपेरा से नफ़रत है। \n",
      "Input array shape: (35136,)\n",
      "Sampling rate: 16000\n"
     ]
    }
   ],
   "source": [
    "rand_clip = random.randint(0 , len(common_voice_train) -1 )\n",
    "print(\"Target text:\", common_voice_train[rand_clip][\"sentence\"])\n",
    "print(\"Input array shape:\", common_voice_train[rand_clip][\"audio\"][\"array\"].shape)\n",
    "print(\"Sampling rate:\", common_voice_train[rand_clip][\"audio\"][\"sampling_rate\"])"
   ]
  },
  {
   "cell_type": "markdown",
   "id": "0e89f217",
   "metadata": {},
   "source": [
    "- Now we leverage the `Wav2Vec2BertProcessor` for formatting the data required by `Wav2vec2BertforCTC` for training\n",
    "- the `Wav2Vec2BertProcessor` creates a more complex representation as the raw waveform, known as Log-Mel feature extraction."
   ]
  },
  {
   "cell_type": "code",
   "execution_count": 31,
   "id": "f0863012",
   "metadata": {},
   "outputs": [],
   "source": [
    "def prepare_dataset(batch):\n",
    "    audio = batch['audio']\n",
    "    batch['input_features'] = processor(audio['array'] , sampling_rate=audio['sampling_rate'])\n",
    "    batch[\"input_length\"] = len(batch['input_features'])\n",
    "\n",
    "    batch['labels'] = processor(text = batch['sentence']).input_ids\n",
    "\n",
    "    return batch\n",
    "\n"
   ]
  },
  {
   "cell_type": "code",
   "execution_count": 32,
   "id": "c1fe7655",
   "metadata": {},
   "outputs": [
    {
     "name": "stderr",
     "output_type": "stream",
     "text": [
      "Map: 100%|██████████| 7084/7084 [03:05<00:00, 38.15 examples/s]\n",
      "Map: 100%|██████████| 3107/3107 [01:21<00:00, 38.29 examples/s]\n"
     ]
    }
   ],
   "source": [
    "common_voice_train = common_voice_train.map(prepare_dataset , remove_columns=common_voice_train.column_names)\n",
    "common_voice_test = common_voice_test.map(prepare_dataset , remove_columns = common_voice_test.column_names)"
   ]
  },
  {
   "cell_type": "code",
   "execution_count": 33,
   "id": "0480c2e5",
   "metadata": {},
   "outputs": [
    {
     "name": "stderr",
     "output_type": "stream",
     "text": [
      "Filter: 100%|██████████| 7084/7084 [00:00<00:00, 142516.69 examples/s]\n"
     ]
    }
   ],
   "source": [
    "max_input_length_in_sec = 5.0\n",
    "common_voice_train = common_voice_train.filter(lambda x: x < max_input_length_in_sec * processor.feature_extractor.sampling_rate, input_columns=[\"input_length\"])"
   ]
  },
  {
   "cell_type": "markdown",
   "id": "626042e2",
   "metadata": {},
   "source": [
    "### Training\n",
    "- Data Collator\n",
    "    - Wav2Vec2-Bert has a much larger input length than the output.\n",
    "    - We pad the input according to the largest sample in the batch and not the largest overall\n",
    "    - Thus we use a special padding Data \n",
    "    - This is necessary because in  speech models, input and output are of different modalities meaning that they should not be treated by the same padding function.\n",
    "\n",
    "- Evaluation Metric\n",
    "    - ASR models use Word Error rate (WER) as the metric\n",
    "    - we define a `compute_metrics` function\n",
    "\n",
    "- Load a suitable pretrained weights or checkpoint and configure accordingly\n",
    "- Define the training config."
   ]
  },
  {
   "cell_type": "code",
   "execution_count": null,
   "id": "c59907b2",
   "metadata": {},
   "outputs": [
    {
     "ename": "TypeError",
     "evalue": "DataCollatorWithPadding.__init__() got an unexpected keyword argument 'processor'",
     "output_type": "error",
     "traceback": [
      "\u001b[1;31m---------------------------------------------------------------------------\u001b[0m",
      "\u001b[1;31mTypeError\u001b[0m                                 Traceback (most recent call last)",
      "Cell \u001b[1;32mIn[84], line 146\u001b[0m\n\u001b[0;32m     63\u001b[0m \u001b[38;5;28;01mfrom\u001b[39;00m\u001b[38;5;250m \u001b[39m\u001b[38;5;21;01mtransformers\u001b[39;00m\u001b[38;5;250m \u001b[39m\u001b[38;5;28;01mimport\u001b[39;00m DataCollatorWithPadding\n\u001b[0;32m     65\u001b[0m \u001b[38;5;66;03m# @dataclass \u001b[39;00m\n\u001b[0;32m     66\u001b[0m \u001b[38;5;66;03m# class SimpleWav2Vec2BertCollator:\u001b[39;00m\n\u001b[0;32m     67\u001b[0m \u001b[38;5;66;03m#     processor: Any\u001b[39;00m\n\u001b[1;32m   (...)\u001b[0m\n\u001b[0;32m    143\u001b[0m         \n\u001b[0;32m    144\u001b[0m \u001b[38;5;66;03m#         return batch\u001b[39;00m\n\u001b[1;32m--> 146\u001b[0m data_collator \u001b[38;5;241m=\u001b[39m \u001b[43mDataCollatorWithPadding\u001b[49m\u001b[43m(\u001b[49m\u001b[43mprocessor\u001b[49m\u001b[38;5;241;43m=\u001b[39;49m\u001b[43mprocessor\u001b[49m\u001b[43m,\u001b[49m\u001b[43m \u001b[49m\u001b[43mpadding\u001b[49m\u001b[38;5;241;43m=\u001b[39;49m\u001b[38;5;28;43;01mTrue\u001b[39;49;00m\u001b[43m)\u001b[49m\n",
      "\u001b[1;31mTypeError\u001b[0m: DataCollatorWithPadding.__init__() got an unexpected keyword argument 'processor'"
     ]
    }
   ],
   "source": [
    "from dataclasses import dataclass\n",
    "from typing import Optional, Union, List, Dict, Any\n",
    "import torch\n",
    "\n",
    "# @dataclass\n",
    "# class DataCollatorCTCWithPadding:\n",
    "#     processor: Any\n",
    "#     padding: Union[bool, str] = True\n",
    "#     max_length: Optional[int] = None\n",
    "#     pad_to_multiple_of: Optional[int] = None\n",
    "\n",
    "#     def __call__(self, features: List[Dict[str, Any]]) -> Dict[str, torch.Tensor]:\n",
    "#         # -------------------------\n",
    "#         # 1. Pad input audio features\n",
    "#         # -------------------------\n",
    "#         input_features = [{\"input_features\": f[\"input_features\"]} for f in features]\n",
    "#         batch = self.processor.feature_extractor.pad(\n",
    "#             input_features,\n",
    "#             padding=self.padding,\n",
    "#             max_length=self.max_length,\n",
    "#             pad_to_multiple_of=self.pad_to_multiple_of,\n",
    "#             return_tensors=\"pt\",\n",
    "#         )\n",
    "\n",
    "#         # -------------------------\n",
    "#         # 2. Handle labels (auto-detect raw text vs token IDs)\n",
    "#         # -------------------------\n",
    "#         first_label = features[0][\"labels\"]\n",
    "\n",
    "#         if isinstance(first_label, str):\n",
    "#             # Labels are raw text → tokenize\n",
    "#             with self.processor.as_target_processor():\n",
    "#                 labels_batch = self.processor.tokenizer(\n",
    "#                     [f[\"labels\"] for f in features],\n",
    "#                     padding=self.padding,\n",
    "#                     max_length=self.max_length,\n",
    "#                     pad_to_multiple_of=self.pad_to_multiple_of,\n",
    "#                     return_tensors=\"pt\",\n",
    "#                 )\n",
    "#         else:\n",
    "#             # Labels are already token IDs\n",
    "#             label_features = [{\"input_ids\": f[\"labels\"]} for f in features]\n",
    "#             with self.processor.as_target_processor():\n",
    "#                 labels_batch = self.processor.tokenizer.pad(\n",
    "#                     label_features,\n",
    "#                     padding=self.padding,\n",
    "#                     max_length=self.max_length,\n",
    "#                     pad_to_multiple_of=self.pad_to_multiple_of,\n",
    "#                     return_tensors=\"pt\",\n",
    "#                 )\n",
    "\n",
    "#         # -------------------------\n",
    "#         # 3. Replace padding with -100 for CTC loss\n",
    "#         # -------------------------\n",
    "#         labels = labels_batch[\"input_ids\"].masked_fill(\n",
    "#             labels_batch[\"attention_mask\"].ne(1), -100\n",
    "#         )\n",
    "#         batch[\"labels\"] = labels\n",
    "\n",
    "#         return batch\n",
    "\n",
    "\n",
    "from transformers import DataCollatorWithPadding\n",
    "\n",
    "@dataclass \n",
    "class SimpleWav2Vec2BertCollator:\n",
    "    processor: Any\n",
    "    \n",
    "    def __call__(self, features: List[Dict[str, Any]]) -> Dict[str, torch.Tensor]:\n",
    "        # Extract and prepare input features\n",
    "        input_features = []\n",
    "        for f in features:\n",
    "            feature = f[\"input_features\"]\n",
    "            if not isinstance(feature, torch.Tensor):\n",
    "                feature = torch.tensor(feature, dtype=torch.float32)\n",
    "            if feature.dim() > 1:\n",
    "                feature = feature.squeeze()\n",
    "            input_features.append(feature)\n",
    "        \n",
    "        # Manual padding for input features\n",
    "        max_length = max(len(f) for f in input_features)\n",
    "        padded_features = []\n",
    "        attention_masks = []\n",
    "        \n",
    "        for feature in input_features:\n",
    "            # Pad feature\n",
    "            pad_length = max_length - len(feature)\n",
    "            if pad_length > 0:\n",
    "                padded_feature = torch.cat([feature, torch.zeros(pad_length)])\n",
    "            else:\n",
    "                padded_feature = feature\n",
    "            padded_features.append(padded_feature)\n",
    "            \n",
    "            # Create attention mask\n",
    "            mask = torch.ones(len(feature))\n",
    "            if pad_length > 0:\n",
    "                mask = torch.cat([mask, torch.zeros(pad_length)])\n",
    "            attention_masks.append(mask)\n",
    "        \n",
    "        batch = {\n",
    "            \"input_features\": torch.stack(padded_features),\n",
    "            \"attention_mask\": torch.stack(attention_masks).long()\n",
    "        }\n",
    "        \n",
    "        # Handle labels\n",
    "        labels = [f[\"labels\"] for f in features]\n",
    "        if isinstance(labels[0], str):\n",
    "            with self.processor.as_target_processor():\n",
    "                labels_batch = self.processor.tokenizer(\n",
    "                    labels,\n",
    "                    padding=True,\n",
    "                    return_tensors=\"pt\",\n",
    "                    truncation=True,\n",
    "                )\n",
    "        else:\n",
    "            # Handle pre-tokenized labels\n",
    "            max_label_length = max(len(label) for label in labels)\n",
    "            padded_labels = []\n",
    "            for label in labels:\n",
    "                if isinstance(label, list):\n",
    "                    label = torch.tensor(label, dtype=torch.long)\n",
    "                pad_length = max_label_length - len(label)\n",
    "                if pad_length > 0:\n",
    "                    padded_label = torch.cat([label, torch.full((pad_length,), self.processor.tokenizer.pad_token_id)])\n",
    "                else:\n",
    "                    padded_label = label\n",
    "                padded_labels.append(padded_label)\n",
    "            \n",
    "            labels_batch = {\n",
    "                \"input_ids\": torch.stack(padded_labels),\n",
    "                \"attention_mask\": torch.ones_like(torch.stack(padded_labels))\n",
    "            }\n",
    "            \n",
    "            # Update attention mask for actual tokens\n",
    "            for i, original_label in enumerate(labels):\n",
    "                labels_batch[\"attention_mask\"][i, len(original_label):] = 0\n",
    "        \n",
    "        # Replace padding with -100\n",
    "        labels = labels_batch[\"input_ids\"].masked_fill(\n",
    "            labels_batch[\"attention_mask\"].ne(1), -100\n",
    "        )\n",
    "        batch[\"labels\"] = labels\n",
    "        \n",
    "        return batch"
   ]
  },
  {
   "cell_type": "code",
   "execution_count": null,
   "id": "2f960aa0",
   "metadata": {},
   "outputs": [
    {
     "ename": "ImportError",
     "evalue": "cannot import name 'DataCollatorCTCWithPadding' from 'transformers' (c:\\Users\\EDWIN\\OneDrive\\Documents\\GitHub\\BhasaAnuvaad-multilingual-ASR\\.venv\\lib\\site-packages\\transformers\\__init__.py)",
     "output_type": "error",
     "traceback": [
      "\u001b[1;31m---------------------------------------------------------------------------\u001b[0m",
      "\u001b[1;31mImportError\u001b[0m                               Traceback (most recent call last)",
      "Cell \u001b[1;32mIn[85], line 5\u001b[0m\n\u001b[0;32m      1\u001b[0m \u001b[38;5;66;03m# # data_collator = DataCollatorCTCWithPadding(processor=processor)\u001b[39;00m\n\u001b[0;32m      2\u001b[0m \n\u001b[0;32m      3\u001b[0m \u001b[38;5;66;03m# data_collator = SimpleDataCollatorCTCWithPadding(processor = processor , padding = True)\u001b[39;00m\n\u001b[1;32m----> 5\u001b[0m \u001b[38;5;28;01mfrom\u001b[39;00m\u001b[38;5;250m \u001b[39m\u001b[38;5;21;01mtransformers\u001b[39;00m\u001b[38;5;250m \u001b[39m\u001b[38;5;28;01mimport\u001b[39;00m DataCollatorCTCWithPadding\n\u001b[0;32m      7\u001b[0m data_collator \u001b[38;5;241m=\u001b[39m DataCollatorCTCWithPadding(processor\u001b[38;5;241m=\u001b[39mprocessor, padding\u001b[38;5;241m=\u001b[39m\u001b[38;5;28;01mTrue\u001b[39;00m)\n",
      "\u001b[1;31mImportError\u001b[0m: cannot import name 'DataCollatorCTCWithPadding' from 'transformers' (c:\\Users\\EDWIN\\OneDrive\\Documents\\GitHub\\BhasaAnuvaad-multilingual-ASR\\.venv\\lib\\site-packages\\transformers\\__init__.py)"
     ]
    }
   ],
   "source": [
    "# # data_collator = DataCollatorCTCWithPadding(processor=processor)\n",
    "\n",
    "# data_collator = SimpleDataCollatorCTCWithPadding(processor = processor , padding = True)\n",
    "\n",
    "data_collator = DataCollatorCTCWithPadding(processor=processor, padding=\"longest\")\n"
   ]
  },
  {
   "cell_type": "code",
   "execution_count": 70,
   "id": "89d41303",
   "metadata": {},
   "outputs": [],
   "source": [
    "import evaluate\n",
    "\n",
    "wer_metric = evaluate.load('wer')"
   ]
  },
  {
   "cell_type": "code",
   "execution_count": 71,
   "id": "35742bd1",
   "metadata": {},
   "outputs": [],
   "source": [
    "def compute_metrics(pred):\n",
    "    pred_logits = pred.predictions\n",
    "    pred_ids = np.argmax(pred_logits, axis=-1)\n",
    "\n",
    "    pred.label_ids[pred.label_ids == -100] = processor.tokenizer.pad_token_id\n",
    "\n",
    "    pred_str = processor.batch_decode(pred_ids)\n",
    "    # we do not want to group tokens when computing the metrics\n",
    "    label_str = processor.batch_decode(pred.label_ids, group_tokens=False)\n",
    "\n",
    "    wer = wer_metric.compute(predictions=pred_str, references=label_str)\n",
    "\n",
    "    return {\"wer\": wer}\n"
   ]
  },
  {
   "cell_type": "code",
   "execution_count": 72,
   "id": "5de39cc3",
   "metadata": {},
   "outputs": [
    {
     "name": "stderr",
     "output_type": "stream",
     "text": [
      "Some weights of Wav2Vec2BertForCTC were not initialized from the model checkpoint at facebook/w2v-bert-2.0 and are newly initialized: ['lm_head.bias', 'lm_head.weight', 'wav2vec2_bert.adapter.layers.0.ffn.intermediate_dense.bias', 'wav2vec2_bert.adapter.layers.0.ffn.intermediate_dense.weight', 'wav2vec2_bert.adapter.layers.0.ffn.output_dense.bias', 'wav2vec2_bert.adapter.layers.0.ffn.output_dense.weight', 'wav2vec2_bert.adapter.layers.0.ffn_layer_norm.bias', 'wav2vec2_bert.adapter.layers.0.ffn_layer_norm.weight', 'wav2vec2_bert.adapter.layers.0.residual_conv.bias', 'wav2vec2_bert.adapter.layers.0.residual_conv.weight', 'wav2vec2_bert.adapter.layers.0.residual_layer_norm.bias', 'wav2vec2_bert.adapter.layers.0.residual_layer_norm.weight', 'wav2vec2_bert.adapter.layers.0.self_attn.linear_k.bias', 'wav2vec2_bert.adapter.layers.0.self_attn.linear_k.weight', 'wav2vec2_bert.adapter.layers.0.self_attn.linear_out.bias', 'wav2vec2_bert.adapter.layers.0.self_attn.linear_out.weight', 'wav2vec2_bert.adapter.layers.0.self_attn.linear_q.bias', 'wav2vec2_bert.adapter.layers.0.self_attn.linear_q.weight', 'wav2vec2_bert.adapter.layers.0.self_attn.linear_v.bias', 'wav2vec2_bert.adapter.layers.0.self_attn.linear_v.weight', 'wav2vec2_bert.adapter.layers.0.self_attn_conv.bias', 'wav2vec2_bert.adapter.layers.0.self_attn_conv.weight', 'wav2vec2_bert.adapter.layers.0.self_attn_layer_norm.bias', 'wav2vec2_bert.adapter.layers.0.self_attn_layer_norm.weight']\n",
      "You should probably TRAIN this model on a down-stream task to be able to use it for predictions and inference.\n"
     ]
    }
   ],
   "source": [
    "from transformers import Wav2Vec2BertForCTC\n",
    "\n",
    "model = Wav2Vec2BertForCTC.from_pretrained(\n",
    "    \"facebook/w2v-bert-2.0\",\n",
    "    attention_dropout=0.0,\n",
    "    hidden_dropout=0.0,\n",
    "    feat_proj_dropout=0.0,\n",
    "    mask_time_prob=0.0,\n",
    "    layerdrop=0.0,\n",
    "    ctc_loss_reduction=\"mean\",\n",
    "    add_adapter=True,\n",
    "    pad_token_id=processor.tokenizer.pad_token_id,\n",
    "    vocab_size=len(processor.tokenizer),\n",
    ")\n"
   ]
  },
  {
   "cell_type": "code",
   "execution_count": 73,
   "id": "fdd9abd0",
   "metadata": {},
   "outputs": [],
   "source": [
    "from transformers import TrainingArguments\n",
    "\n",
    "training_args = TrainingArguments(\n",
    "  output_dir=repo,\n",
    "  group_by_length=True,\n",
    "  per_device_train_batch_size=16,\n",
    "  gradient_accumulation_steps=2,\n",
    "  num_train_epochs=30,\n",
    "  gradient_checkpointing=True,\n",
    "  fp16=True,\n",
    "  save_steps=600,\n",
    "  eval_steps=300,\n",
    "  logging_steps=300,\n",
    "  learning_rate=5e-5,\n",
    "  warmup_steps=500,\n",
    "  save_total_limit=2,\n",
    "  push_to_hub=True,\n",
    ")\n"
   ]
  },
  {
   "cell_type": "code",
   "execution_count": 78,
   "id": "3a55e2e8",
   "metadata": {},
   "outputs": [
    {
     "name": "stderr",
     "output_type": "stream",
     "text": [
      "C:\\Users\\EDWIN\\AppData\\Local\\Temp\\ipykernel_37796\\2066899627.py:3: FutureWarning: `tokenizer` is deprecated and will be removed in version 5.0.0 for `Trainer.__init__`. Use `processing_class` instead.\n",
      "  trainer = Trainer(\n"
     ]
    }
   ],
   "source": [
    "from transformers import Trainer\n",
    "\n",
    "trainer = Trainer(\n",
    "    model=model,\n",
    "    data_collator=data_collator,\n",
    "    args=training_args,\n",
    "    compute_metrics=compute_metrics,\n",
    "    train_dataset=common_voice_train,\n",
    "    eval_dataset=common_voice_test,\n",
    "    tokenizer=processor.feature_extractor,\n",
    ")\n"
   ]
  },
  {
   "cell_type": "code",
   "execution_count": 79,
   "id": "6700e39d",
   "metadata": {},
   "outputs": [
    {
     "ename": "ValueError",
     "evalue": "Unable to create tensor, you should probably activate padding with 'padding=True' to have batched tensors with the same length.",
     "output_type": "error",
     "traceback": [
      "\u001b[1;31m---------------------------------------------------------------------------\u001b[0m",
      "\u001b[1;31mValueError\u001b[0m                                Traceback (most recent call last)",
      "File \u001b[1;32mc:\\Users\\EDWIN\\OneDrive\\Documents\\GitHub\\BhasaAnuvaad-multilingual-ASR\\.venv\\lib\\site-packages\\transformers\\feature_extraction_utils.py:189\u001b[0m, in \u001b[0;36mBatchFeature.convert_to_tensors\u001b[1;34m(self, tensor_type)\u001b[0m\n\u001b[0;32m    188\u001b[0m \u001b[38;5;28;01mif\u001b[39;00m \u001b[38;5;129;01mnot\u001b[39;00m is_tensor(value):\n\u001b[1;32m--> 189\u001b[0m     tensor \u001b[38;5;241m=\u001b[39m \u001b[43mas_tensor\u001b[49m\u001b[43m(\u001b[49m\u001b[43mvalue\u001b[49m\u001b[43m)\u001b[49m\n\u001b[0;32m    191\u001b[0m     \u001b[38;5;28mself\u001b[39m[key] \u001b[38;5;241m=\u001b[39m tensor\n",
      "File \u001b[1;32mc:\\Users\\EDWIN\\OneDrive\\Documents\\GitHub\\BhasaAnuvaad-multilingual-ASR\\.venv\\lib\\site-packages\\transformers\\feature_extraction_utils.py:134\u001b[0m, in \u001b[0;36mBatchFeature._get_is_as_tensor_fns.<locals>.as_tensor\u001b[1;34m(value)\u001b[0m\n\u001b[0;32m    133\u001b[0m \u001b[38;5;28;01mif\u001b[39;00m \u001b[38;5;28misinstance\u001b[39m(value[\u001b[38;5;241m0\u001b[39m], np\u001b[38;5;241m.\u001b[39mndarray):\n\u001b[1;32m--> 134\u001b[0m     value \u001b[38;5;241m=\u001b[39m \u001b[43mnp\u001b[49m\u001b[38;5;241;43m.\u001b[39;49m\u001b[43marray\u001b[49m\u001b[43m(\u001b[49m\u001b[43mvalue\u001b[49m\u001b[43m)\u001b[49m\n\u001b[0;32m    135\u001b[0m \u001b[38;5;28;01melif\u001b[39;00m (\n\u001b[0;32m    136\u001b[0m     \u001b[38;5;28misinstance\u001b[39m(value[\u001b[38;5;241m0\u001b[39m], (\u001b[38;5;28mlist\u001b[39m, \u001b[38;5;28mtuple\u001b[39m))\n\u001b[0;32m    137\u001b[0m     \u001b[38;5;129;01mand\u001b[39;00m \u001b[38;5;28mlen\u001b[39m(value[\u001b[38;5;241m0\u001b[39m]) \u001b[38;5;241m>\u001b[39m \u001b[38;5;241m0\u001b[39m\n\u001b[0;32m    138\u001b[0m     \u001b[38;5;129;01mand\u001b[39;00m \u001b[38;5;28misinstance\u001b[39m(value[\u001b[38;5;241m0\u001b[39m][\u001b[38;5;241m0\u001b[39m], np\u001b[38;5;241m.\u001b[39mndarray)\n\u001b[0;32m    139\u001b[0m ):\n",
      "\u001b[1;31mValueError\u001b[0m: setting an array element with a sequence. The requested array has an inhomogeneous shape after 2 dimensions. The detected shape was (16, 1) + inhomogeneous part.",
      "\nDuring handling of the above exception, another exception occurred:\n",
      "\u001b[1;31mValueError\u001b[0m                                Traceback (most recent call last)",
      "Cell \u001b[1;32mIn[79], line 1\u001b[0m\n\u001b[1;32m----> 1\u001b[0m \u001b[43mtrainer\u001b[49m\u001b[38;5;241;43m.\u001b[39;49m\u001b[43mtrain\u001b[49m\u001b[43m(\u001b[49m\u001b[43m)\u001b[49m\n",
      "File \u001b[1;32mc:\\Users\\EDWIN\\OneDrive\\Documents\\GitHub\\BhasaAnuvaad-multilingual-ASR\\.venv\\lib\\site-packages\\transformers\\trainer.py:2229\u001b[0m, in \u001b[0;36mTrainer.train\u001b[1;34m(self, resume_from_checkpoint, trial, ignore_keys_for_eval, **kwargs)\u001b[0m\n\u001b[0;32m   2226\u001b[0m \u001b[38;5;28;01mtry\u001b[39;00m:\n\u001b[0;32m   2227\u001b[0m     \u001b[38;5;66;03m# Disable progress bars when uploading models during checkpoints to avoid polluting stdout\u001b[39;00m\n\u001b[0;32m   2228\u001b[0m     hf_hub_utils\u001b[38;5;241m.\u001b[39mdisable_progress_bars()\n\u001b[1;32m-> 2229\u001b[0m     \u001b[38;5;28;01mreturn\u001b[39;00m \u001b[43minner_training_loop\u001b[49m\u001b[43m(\u001b[49m\n\u001b[0;32m   2230\u001b[0m \u001b[43m        \u001b[49m\u001b[43margs\u001b[49m\u001b[38;5;241;43m=\u001b[39;49m\u001b[43margs\u001b[49m\u001b[43m,\u001b[49m\n\u001b[0;32m   2231\u001b[0m \u001b[43m        \u001b[49m\u001b[43mresume_from_checkpoint\u001b[49m\u001b[38;5;241;43m=\u001b[39;49m\u001b[43mresume_from_checkpoint\u001b[49m\u001b[43m,\u001b[49m\n\u001b[0;32m   2232\u001b[0m \u001b[43m        \u001b[49m\u001b[43mtrial\u001b[49m\u001b[38;5;241;43m=\u001b[39;49m\u001b[43mtrial\u001b[49m\u001b[43m,\u001b[49m\n\u001b[0;32m   2233\u001b[0m \u001b[43m        \u001b[49m\u001b[43mignore_keys_for_eval\u001b[49m\u001b[38;5;241;43m=\u001b[39;49m\u001b[43mignore_keys_for_eval\u001b[49m\u001b[43m,\u001b[49m\n\u001b[0;32m   2234\u001b[0m \u001b[43m    \u001b[49m\u001b[43m)\u001b[49m\n\u001b[0;32m   2235\u001b[0m \u001b[38;5;28;01mfinally\u001b[39;00m:\n\u001b[0;32m   2236\u001b[0m     hf_hub_utils\u001b[38;5;241m.\u001b[39menable_progress_bars()\n",
      "File \u001b[1;32mc:\\Users\\EDWIN\\OneDrive\\Documents\\GitHub\\BhasaAnuvaad-multilingual-ASR\\.venv\\lib\\site-packages\\transformers\\trainer.py:2533\u001b[0m, in \u001b[0;36mTrainer._inner_training_loop\u001b[1;34m(self, batch_size, args, resume_from_checkpoint, trial, ignore_keys_for_eval)\u001b[0m\n\u001b[0;32m   2531\u001b[0m update_step \u001b[38;5;241m+\u001b[39m\u001b[38;5;241m=\u001b[39m \u001b[38;5;241m1\u001b[39m\n\u001b[0;32m   2532\u001b[0m num_batches \u001b[38;5;241m=\u001b[39m args\u001b[38;5;241m.\u001b[39mgradient_accumulation_steps \u001b[38;5;28;01mif\u001b[39;00m update_step \u001b[38;5;241m!=\u001b[39m (total_updates \u001b[38;5;241m-\u001b[39m \u001b[38;5;241m1\u001b[39m) \u001b[38;5;28;01melse\u001b[39;00m remainder\n\u001b[1;32m-> 2533\u001b[0m batch_samples, num_items_in_batch \u001b[38;5;241m=\u001b[39m \u001b[38;5;28;43mself\u001b[39;49m\u001b[38;5;241;43m.\u001b[39;49m\u001b[43mget_batch_samples\u001b[49m\u001b[43m(\u001b[49m\u001b[43mepoch_iterator\u001b[49m\u001b[43m,\u001b[49m\u001b[43m \u001b[49m\u001b[43mnum_batches\u001b[49m\u001b[43m,\u001b[49m\u001b[43m \u001b[49m\u001b[43margs\u001b[49m\u001b[38;5;241;43m.\u001b[39;49m\u001b[43mdevice\u001b[49m\u001b[43m)\u001b[49m\n\u001b[0;32m   2534\u001b[0m \u001b[38;5;66;03m# Store the number of batches for current gradient accumulation\u001b[39;00m\n\u001b[0;32m   2535\u001b[0m \u001b[38;5;66;03m# This is used to correctly scale the loss when the last accumulation step has fewer batches\u001b[39;00m\n\u001b[0;32m   2536\u001b[0m \u001b[38;5;28mself\u001b[39m\u001b[38;5;241m.\u001b[39mcurrent_gradient_accumulation_steps \u001b[38;5;241m=\u001b[39m \u001b[38;5;28mlen\u001b[39m(batch_samples)\n",
      "File \u001b[1;32mc:\\Users\\EDWIN\\OneDrive\\Documents\\GitHub\\BhasaAnuvaad-multilingual-ASR\\.venv\\lib\\site-packages\\transformers\\trainer.py:5355\u001b[0m, in \u001b[0;36mTrainer.get_batch_samples\u001b[1;34m(self, epoch_iterator, num_batches, device)\u001b[0m\n\u001b[0;32m   5353\u001b[0m \u001b[38;5;28;01mfor\u001b[39;00m _ \u001b[38;5;129;01min\u001b[39;00m \u001b[38;5;28mrange\u001b[39m(num_batches):\n\u001b[0;32m   5354\u001b[0m     \u001b[38;5;28;01mtry\u001b[39;00m:\n\u001b[1;32m-> 5355\u001b[0m         batch_samples\u001b[38;5;241m.\u001b[39mappend(\u001b[38;5;28;43mnext\u001b[39;49m\u001b[43m(\u001b[49m\u001b[43mepoch_iterator\u001b[49m\u001b[43m)\u001b[49m)\n\u001b[0;32m   5356\u001b[0m     \u001b[38;5;28;01mexcept\u001b[39;00m \u001b[38;5;167;01mStopIteration\u001b[39;00m:\n\u001b[0;32m   5357\u001b[0m         \u001b[38;5;28;01mbreak\u001b[39;00m\n",
      "File \u001b[1;32mc:\\Users\\EDWIN\\OneDrive\\Documents\\GitHub\\BhasaAnuvaad-multilingual-ASR\\.venv\\lib\\site-packages\\accelerate\\data_loader.py:567\u001b[0m, in \u001b[0;36mDataLoaderShard.__iter__\u001b[1;34m(self)\u001b[0m\n\u001b[0;32m    565\u001b[0m \u001b[38;5;66;03m# We iterate one batch ahead to check when we are at the end\u001b[39;00m\n\u001b[0;32m    566\u001b[0m \u001b[38;5;28;01mtry\u001b[39;00m:\n\u001b[1;32m--> 567\u001b[0m     current_batch \u001b[38;5;241m=\u001b[39m \u001b[38;5;28;43mnext\u001b[39;49m\u001b[43m(\u001b[49m\u001b[43mdataloader_iter\u001b[49m\u001b[43m)\u001b[49m\n\u001b[0;32m    568\u001b[0m \u001b[38;5;28;01mexcept\u001b[39;00m \u001b[38;5;167;01mStopIteration\u001b[39;00m:\n\u001b[0;32m    569\u001b[0m     \u001b[38;5;28mself\u001b[39m\u001b[38;5;241m.\u001b[39mend()\n",
      "File \u001b[1;32mc:\\Users\\EDWIN\\OneDrive\\Documents\\GitHub\\BhasaAnuvaad-multilingual-ASR\\.venv\\lib\\site-packages\\torch\\utils\\data\\dataloader.py:734\u001b[0m, in \u001b[0;36m_BaseDataLoaderIter.__next__\u001b[1;34m(self)\u001b[0m\n\u001b[0;32m    731\u001b[0m \u001b[38;5;28;01mif\u001b[39;00m \u001b[38;5;28mself\u001b[39m\u001b[38;5;241m.\u001b[39m_sampler_iter \u001b[38;5;129;01mis\u001b[39;00m \u001b[38;5;28;01mNone\u001b[39;00m:\n\u001b[0;32m    732\u001b[0m     \u001b[38;5;66;03m# TODO(https://github.com/pytorch/pytorch/issues/76750)\u001b[39;00m\n\u001b[0;32m    733\u001b[0m     \u001b[38;5;28mself\u001b[39m\u001b[38;5;241m.\u001b[39m_reset()  \u001b[38;5;66;03m# type: ignore[call-arg]\u001b[39;00m\n\u001b[1;32m--> 734\u001b[0m data \u001b[38;5;241m=\u001b[39m \u001b[38;5;28;43mself\u001b[39;49m\u001b[38;5;241;43m.\u001b[39;49m\u001b[43m_next_data\u001b[49m\u001b[43m(\u001b[49m\u001b[43m)\u001b[49m\n\u001b[0;32m    735\u001b[0m \u001b[38;5;28mself\u001b[39m\u001b[38;5;241m.\u001b[39m_num_yielded \u001b[38;5;241m+\u001b[39m\u001b[38;5;241m=\u001b[39m \u001b[38;5;241m1\u001b[39m\n\u001b[0;32m    736\u001b[0m \u001b[38;5;28;01mif\u001b[39;00m (\n\u001b[0;32m    737\u001b[0m     \u001b[38;5;28mself\u001b[39m\u001b[38;5;241m.\u001b[39m_dataset_kind \u001b[38;5;241m==\u001b[39m _DatasetKind\u001b[38;5;241m.\u001b[39mIterable\n\u001b[0;32m    738\u001b[0m     \u001b[38;5;129;01mand\u001b[39;00m \u001b[38;5;28mself\u001b[39m\u001b[38;5;241m.\u001b[39m_IterableDataset_len_called \u001b[38;5;129;01mis\u001b[39;00m \u001b[38;5;129;01mnot\u001b[39;00m \u001b[38;5;28;01mNone\u001b[39;00m\n\u001b[0;32m    739\u001b[0m     \u001b[38;5;129;01mand\u001b[39;00m \u001b[38;5;28mself\u001b[39m\u001b[38;5;241m.\u001b[39m_num_yielded \u001b[38;5;241m>\u001b[39m \u001b[38;5;28mself\u001b[39m\u001b[38;5;241m.\u001b[39m_IterableDataset_len_called\n\u001b[0;32m    740\u001b[0m ):\n",
      "File \u001b[1;32mc:\\Users\\EDWIN\\OneDrive\\Documents\\GitHub\\BhasaAnuvaad-multilingual-ASR\\.venv\\lib\\site-packages\\torch\\utils\\data\\dataloader.py:790\u001b[0m, in \u001b[0;36m_SingleProcessDataLoaderIter._next_data\u001b[1;34m(self)\u001b[0m\n\u001b[0;32m    788\u001b[0m \u001b[38;5;28;01mdef\u001b[39;00m\u001b[38;5;250m \u001b[39m\u001b[38;5;21m_next_data\u001b[39m(\u001b[38;5;28mself\u001b[39m):\n\u001b[0;32m    789\u001b[0m     index \u001b[38;5;241m=\u001b[39m \u001b[38;5;28mself\u001b[39m\u001b[38;5;241m.\u001b[39m_next_index()  \u001b[38;5;66;03m# may raise StopIteration\u001b[39;00m\n\u001b[1;32m--> 790\u001b[0m     data \u001b[38;5;241m=\u001b[39m \u001b[38;5;28;43mself\u001b[39;49m\u001b[38;5;241;43m.\u001b[39;49m\u001b[43m_dataset_fetcher\u001b[49m\u001b[38;5;241;43m.\u001b[39;49m\u001b[43mfetch\u001b[49m\u001b[43m(\u001b[49m\u001b[43mindex\u001b[49m\u001b[43m)\u001b[49m  \u001b[38;5;66;03m# may raise StopIteration\u001b[39;00m\n\u001b[0;32m    791\u001b[0m     \u001b[38;5;28;01mif\u001b[39;00m \u001b[38;5;28mself\u001b[39m\u001b[38;5;241m.\u001b[39m_pin_memory:\n\u001b[0;32m    792\u001b[0m         data \u001b[38;5;241m=\u001b[39m _utils\u001b[38;5;241m.\u001b[39mpin_memory\u001b[38;5;241m.\u001b[39mpin_memory(data, \u001b[38;5;28mself\u001b[39m\u001b[38;5;241m.\u001b[39m_pin_memory_device)\n",
      "File \u001b[1;32mc:\\Users\\EDWIN\\OneDrive\\Documents\\GitHub\\BhasaAnuvaad-multilingual-ASR\\.venv\\lib\\site-packages\\torch\\utils\\data\\_utils\\fetch.py:55\u001b[0m, in \u001b[0;36m_MapDatasetFetcher.fetch\u001b[1;34m(self, possibly_batched_index)\u001b[0m\n\u001b[0;32m     53\u001b[0m \u001b[38;5;28;01melse\u001b[39;00m:\n\u001b[0;32m     54\u001b[0m     data \u001b[38;5;241m=\u001b[39m \u001b[38;5;28mself\u001b[39m\u001b[38;5;241m.\u001b[39mdataset[possibly_batched_index]\n\u001b[1;32m---> 55\u001b[0m \u001b[38;5;28;01mreturn\u001b[39;00m \u001b[38;5;28;43mself\u001b[39;49m\u001b[38;5;241;43m.\u001b[39;49m\u001b[43mcollate_fn\u001b[49m\u001b[43m(\u001b[49m\u001b[43mdata\u001b[49m\u001b[43m)\u001b[49m\n",
      "Cell \u001b[1;32mIn[68], line 74\u001b[0m, in \u001b[0;36mSimpleDataCollatorCTCWithPadding.__call__\u001b[1;34m(self, features)\u001b[0m\n\u001b[0;32m     71\u001b[0m labels \u001b[38;5;241m=\u001b[39m [f[\u001b[38;5;124m\"\u001b[39m\u001b[38;5;124mlabels\u001b[39m\u001b[38;5;124m\"\u001b[39m] \u001b[38;5;28;01mfor\u001b[39;00m f \u001b[38;5;129;01min\u001b[39;00m features]\n\u001b[0;32m     73\u001b[0m \u001b[38;5;66;03m# Process input features\u001b[39;00m\n\u001b[1;32m---> 74\u001b[0m batch \u001b[38;5;241m=\u001b[39m \u001b[38;5;28;43mself\u001b[39;49m\u001b[38;5;241;43m.\u001b[39;49m\u001b[43mprocessor\u001b[49m\u001b[38;5;241;43m.\u001b[39;49m\u001b[43mfeature_extractor\u001b[49m\u001b[38;5;241;43m.\u001b[39;49m\u001b[43mpad\u001b[49m\u001b[43m(\u001b[49m\n\u001b[0;32m     75\u001b[0m \u001b[43m    \u001b[49m\u001b[43minput_features\u001b[49m\u001b[43m,\u001b[49m\n\u001b[0;32m     76\u001b[0m \u001b[43m    \u001b[49m\u001b[43mpadding\u001b[49m\u001b[38;5;241;43m=\u001b[39;49m\u001b[38;5;28;43mself\u001b[39;49m\u001b[38;5;241;43m.\u001b[39;49m\u001b[43mpadding\u001b[49m\u001b[43m,\u001b[49m\n\u001b[0;32m     77\u001b[0m \u001b[43m    \u001b[49m\u001b[43mreturn_tensors\u001b[49m\u001b[38;5;241;43m=\u001b[39;49m\u001b[38;5;124;43m\"\u001b[39;49m\u001b[38;5;124;43mpt\u001b[39;49m\u001b[38;5;124;43m\"\u001b[39;49m\u001b[43m,\u001b[49m\n\u001b[0;32m     78\u001b[0m \u001b[43m\u001b[49m\u001b[43m)\u001b[49m\n\u001b[0;32m     80\u001b[0m \u001b[38;5;66;03m# Process labels\u001b[39;00m\n\u001b[0;32m     81\u001b[0m \u001b[38;5;28;01mif\u001b[39;00m \u001b[38;5;28misinstance\u001b[39m(labels[\u001b[38;5;241m0\u001b[39m], \u001b[38;5;28mstr\u001b[39m):\n\u001b[0;32m     82\u001b[0m     \u001b[38;5;66;03m# Text labels - tokenize them\u001b[39;00m\n",
      "File \u001b[1;32mc:\\Users\\EDWIN\\OneDrive\\Documents\\GitHub\\BhasaAnuvaad-multilingual-ASR\\.venv\\lib\\site-packages\\transformers\\feature_extraction_sequence_utils.py:224\u001b[0m, in \u001b[0;36mSequenceFeatureExtractor.pad\u001b[1;34m(self, processed_features, padding, max_length, truncation, pad_to_multiple_of, return_attention_mask, return_tensors)\u001b[0m\n\u001b[0;32m    221\u001b[0m             value \u001b[38;5;241m=\u001b[39m value\u001b[38;5;241m.\u001b[39mastype(np\u001b[38;5;241m.\u001b[39mfloat32)\n\u001b[0;32m    222\u001b[0m         batch_outputs[key]\u001b[38;5;241m.\u001b[39mappend(value)\n\u001b[1;32m--> 224\u001b[0m \u001b[38;5;28;01mreturn\u001b[39;00m \u001b[43mBatchFeature\u001b[49m\u001b[43m(\u001b[49m\u001b[43mbatch_outputs\u001b[49m\u001b[43m,\u001b[49m\u001b[43m \u001b[49m\u001b[43mtensor_type\u001b[49m\u001b[38;5;241;43m=\u001b[39;49m\u001b[43mreturn_tensors\u001b[49m\u001b[43m)\u001b[49m\n",
      "File \u001b[1;32mc:\\Users\\EDWIN\\OneDrive\\Documents\\GitHub\\BhasaAnuvaad-multilingual-ASR\\.venv\\lib\\site-packages\\transformers\\feature_extraction_utils.py:79\u001b[0m, in \u001b[0;36mBatchFeature.__init__\u001b[1;34m(self, data, tensor_type)\u001b[0m\n\u001b[0;32m     77\u001b[0m \u001b[38;5;28;01mdef\u001b[39;00m\u001b[38;5;250m \u001b[39m\u001b[38;5;21m__init__\u001b[39m(\u001b[38;5;28mself\u001b[39m, data: Optional[\u001b[38;5;28mdict\u001b[39m[\u001b[38;5;28mstr\u001b[39m, Any]] \u001b[38;5;241m=\u001b[39m \u001b[38;5;28;01mNone\u001b[39;00m, tensor_type: Union[\u001b[38;5;28;01mNone\u001b[39;00m, \u001b[38;5;28mstr\u001b[39m, TensorType] \u001b[38;5;241m=\u001b[39m \u001b[38;5;28;01mNone\u001b[39;00m):\n\u001b[0;32m     78\u001b[0m     \u001b[38;5;28msuper\u001b[39m()\u001b[38;5;241m.\u001b[39m\u001b[38;5;21m__init__\u001b[39m(data)\n\u001b[1;32m---> 79\u001b[0m     \u001b[38;5;28;43mself\u001b[39;49m\u001b[38;5;241;43m.\u001b[39;49m\u001b[43mconvert_to_tensors\u001b[49m\u001b[43m(\u001b[49m\u001b[43mtensor_type\u001b[49m\u001b[38;5;241;43m=\u001b[39;49m\u001b[43mtensor_type\u001b[49m\u001b[43m)\u001b[49m\n",
      "File \u001b[1;32mc:\\Users\\EDWIN\\OneDrive\\Documents\\GitHub\\BhasaAnuvaad-multilingual-ASR\\.venv\\lib\\site-packages\\transformers\\feature_extraction_utils.py:195\u001b[0m, in \u001b[0;36mBatchFeature.convert_to_tensors\u001b[1;34m(self, tensor_type)\u001b[0m\n\u001b[0;32m    193\u001b[0m         \u001b[38;5;28;01mif\u001b[39;00m key \u001b[38;5;241m==\u001b[39m \u001b[38;5;124m\"\u001b[39m\u001b[38;5;124moverflowing_values\u001b[39m\u001b[38;5;124m\"\u001b[39m:\n\u001b[0;32m    194\u001b[0m             \u001b[38;5;28;01mraise\u001b[39;00m \u001b[38;5;167;01mValueError\u001b[39;00m(\u001b[38;5;124m\"\u001b[39m\u001b[38;5;124mUnable to create tensor returning overflowing values of different lengths. \u001b[39m\u001b[38;5;124m\"\u001b[39m)\n\u001b[1;32m--> 195\u001b[0m         \u001b[38;5;28;01mraise\u001b[39;00m \u001b[38;5;167;01mValueError\u001b[39;00m(\n\u001b[0;32m    196\u001b[0m             \u001b[38;5;124m\"\u001b[39m\u001b[38;5;124mUnable to create tensor, you should probably activate padding \u001b[39m\u001b[38;5;124m\"\u001b[39m\n\u001b[0;32m    197\u001b[0m             \u001b[38;5;124m\"\u001b[39m\u001b[38;5;124mwith \u001b[39m\u001b[38;5;124m'\u001b[39m\u001b[38;5;124mpadding=True\u001b[39m\u001b[38;5;124m'\u001b[39m\u001b[38;5;124m to have batched tensors with the same length.\u001b[39m\u001b[38;5;124m\"\u001b[39m\n\u001b[0;32m    198\u001b[0m         )\n\u001b[0;32m    200\u001b[0m \u001b[38;5;28;01mreturn\u001b[39;00m \u001b[38;5;28mself\u001b[39m\n",
      "\u001b[1;31mValueError\u001b[0m: Unable to create tensor, you should probably activate padding with 'padding=True' to have batched tensors with the same length."
     ]
    }
   ],
   "source": [
    "trainer.train()"
   ]
  },
  {
   "cell_type": "code",
   "execution_count": null,
   "id": "d460ccdc",
   "metadata": {},
   "outputs": [],
   "source": [
    "trainer.push_to_hub()"
   ]
  }
 ],
 "metadata": {
  "kernelspec": {
   "display_name": ".venv (3.10.7)",
   "language": "python",
   "name": "python3"
  },
  "language_info": {
   "codemirror_mode": {
    "name": "ipython",
    "version": 3
   },
   "file_extension": ".py",
   "mimetype": "text/x-python",
   "name": "python",
   "nbconvert_exporter": "python",
   "pygments_lexer": "ipython3",
   "version": "3.10.7"
  }
 },
 "nbformat": 4,
 "nbformat_minor": 5
}
