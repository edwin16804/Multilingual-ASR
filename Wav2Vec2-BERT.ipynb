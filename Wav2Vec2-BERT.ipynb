{
 "cells": [
  {
   "cell_type": "code",
   "execution_count": 1,
   "id": "dd29578c",
   "metadata": {},
   "outputs": [
    {
     "data": {
      "text/plain": [
       "True"
      ]
     },
     "execution_count": 1,
     "metadata": {},
     "output_type": "execute_result"
    }
   ],
   "source": [
    "import torch\n",
    "torch.cuda.is_available()"
   ]
  },
  {
   "cell_type": "code",
   "execution_count": 5,
   "id": "52538e2f",
   "metadata": {},
   "outputs": [
    {
     "name": "stdout",
     "output_type": "stream",
     "text": [
      "[{'chunked_audio_filepath': {'path': '0.wav', 'array': array([0.07919721, 0.08388584, 0.06837885, ..., 0.00232932, 0.00680739,\n",
      "       0.0119831 ]), 'sampling_rate': 16000}, 'text': 'नमस्कार दोस्तों', 'pred_text': 'नमस्कार दोस्', 'audio_filepath': '/data/speech-translation/spoken_output/spoken_tutorial_output1/final_audios/hindi/ErYsrwDsz3w.hi.wav', 'start_time': 0.24, 'duration': 0.64, 'alignment_score': 0.8888888888888888, 'video_id': 'ErYsrwDsz3w', 'en_mining_score': 0.5386533141136169, 'en_text': 'Thank you.'}, {'chunked_audio_filepath': {'path': '1.wav', 'array': array([ 1.67514216e-02, -1.63080986e-03, -1.73578300e-02, ...,\n",
      "       -7.43982237e-05, -5.72862555e-05, -2.06211262e-05]), 'sampling_rate': 16000}, 'text': 'एक्सेसिंग पीसेस ओएफ अरेज अरैज़ के टुकड़ों को एक्सेस करने पर इस ट्यूटोरियल में आपका स्वागत है', 'pred_text': 'तों एक्सेसिंग पीस ऑफ़ अरेज पर इस ट्यूटोरियल में आपका स्वागत है', 'audio_filepath': '/data/speech-translation/spoken_output/spoken_tutorial_output1/final_audios/hindi/ErYsrwDsz3w.hi.wav', 'start_time': 0.88, 'duration': 4.56, 'alignment_score': 0.7337662337662338, 'video_id': 'ErYsrwDsz3w', 'en_mining_score': 0.4935801327228546, 'en_text': 'Hello friends and Welcome to the tutorial on Accessing pieces of arrays'}, {'chunked_audio_filepath': {'path': '2.wav', 'array': array([ 0.00054478,  0.007154  ,  0.00802243, ..., -0.10325258,\n",
      "       -0.08770276, -0.04888857]), 'sampling_rate': 16000}, 'text': 'इस ट्यूटोरियल के अंत में आप दोनों वन डायमेंशनल और मल्टी डायमेंशनल अरैज़ के प्रत्येक एलिमेंट्स को एक्सेस और बदलने में अरैज़ के रोज़ और कॉलम्स को एक्सेस और बदलने में', 'pred_text': 'इस ट्यूटोरियल के अंत में आप दोनों वन डाइमेंशनल और मल्टी डइमेंशनल अरेस के प्रतेक एलिमेंट्स को एक्सेस और बदलने एलेस को रोज और कॉलम्स को एक्सेस और बदलने में', 'audio_filepath': '/data/speech-translation/spoken_output/spoken_tutorial_output1/final_audios/hindi/ErYsrwDsz3w.hi.wav', 'start_time': 5.76, 'duration': 12.48, 'alignment_score': 0.939873417721519, 'video_id': 'ErYsrwDsz3w', 'en_mining_score': 0.5374640226364136, 'en_text': 'At the end of this tutorial, you will be able to, Access and change individual elements of arrays, both one dimensional and multi dimensional'}, {'chunked_audio_filepath': {'path': '3.wav', 'array': array([-2.49248751e-06, -4.51275764e-06, -2.29444618e-06, ...,\n",
      "       -1.10344207e-02,  5.18154819e-03,  6.41898811e-03]), 'sampling_rate': 16000}, 'text': 'स्लाइसिंग और स्ट्राइडिंग का इस्तेमाल करके एक अरै को एक्सेस और उसके टुकड़ों को बदलने में', 'pred_text': 'स्लाइसिंग और स्लाइडिंग का इस्तेमाल करके एक अरे को एक्सेस और उसके टुकड़ों को बदलने में', 'audio_filepath': '/data/speech-translation/spoken_output/spoken_tutorial_output1/final_audios/hindi/ErYsrwDsz3w.hi.wav', 'start_time': 18.4, 'duration': 6.16, 'alignment_score': 0.9767441860465116, 'video_id': 'ErYsrwDsz3w', 'en_mining_score': 0.5184910297393799, 'en_text': 'Access and change other chunks from an array, using slicing and striding'}, {'chunked_audio_filepath': {'path': '4.wav', 'array': array([-9.86986905e-02, -1.41832098e-01, -1.35708705e-01, ...,\n",
      "        1.04781730e-11, -9.53171136e-12, -1.93194974e-11]), 'sampling_rate': 16000}, 'text': 'और सरल अरै परिचालनों का इस्तेमाल करके अरैज़ में चित्र रीड करने में और उनपर संसाधन करने में सक्षम होंगे इस ट्यूटोरियल को शुरू करने से पहले हम आपको सलाह देते हैं कि अरैज़ के साथ शुरुआत पर ट्यूटोरियल को पूर्ण करें', 'pred_text': 'और सरल अरे परिचालनों को इस्तेमाल करके अरेज में चित्र रीड करने में और उनप संसाधन करने में सक्षम होंगे इस ट्यूटोरियल को शुरू करने ऐ पहले हम आपको सलाह देते है की अरेज के साथ शुरुआत आ टटल को पूर्ण करे', 'audio_filepath': '/data/speech-translation/spoken_output/spoken_tutorial_output1/final_audios/hindi/ErYsrwDsz3w.hi.wav', 'start_time': 25.2, 'duration': 15.76, 'alignment_score': 0.9482758620689655, 'video_id': 'ErYsrwDsz3w', 'en_mining_score': 0.3753810524940491, 'en_text': 'Before beginning this tutorial,we would suggest you to complete the tutorial on Getting started with arrays'}, {'chunked_audio_filepath': {'path': '5.wav', 'array': array([0.32525432, 0.34534577, 0.17842901, ..., 0.        , 0.        ,\n",
      "       0.        ]), 'sampling_rate': 16000}, 'text': 'अब टर्मिनल खोलें और इपिथॉन हाइपेन पाइलैब टाइप करें', 'pred_text': 'अब टर्मिनल खोलें और आई पाइथन हाइफ़न पाइलैब टाइप करें', 'audio_filepath': '/data/speech-translation/spoken_output/spoken_tutorial_output1/final_audios/hindi/ErYsrwDsz3w.hi.wav', 'start_time': 41.12, 'duration': 5.2, 'alignment_score': 0.9215686274509804, 'video_id': 'ErYsrwDsz3w', 'en_mining_score': 0.5973186492919922, 'en_text': 'Now open the terminal and type ipython hypen pylab Let us begin with the help of an example'}, {'chunked_audio_filepath': {'path': '6.wav', 'array': array([-1.37056336e-02,  2.32147835e-02, -3.87857109e-02, ...,\n",
      "       -2.89007623e-10, -8.70851391e-10, -6.46220966e-10]), 'sampling_rate': 16000}, 'text': 'एक उदाहरण के साथ शुरू करते हैं', 'pred_text': 'एक उदाहरण के साथ शुरू करते हैं', 'audio_filepath': '/data/speech-translation/spoken_output/spoken_tutorial_output1/final_audios/hindi/ErYsrwDsz3w.hi.wav', 'start_time': 50.24, 'duration': 2.08, 'alignment_score': 1.0, 'video_id': 'ErYsrwDsz3w', 'en_mining_score': 0.4258713126182556, 'en_text': 'Let us begin with the most elementary thing, accessing individual elements'}, {'chunked_audio_filepath': {'path': '7.wav', 'array': array([-2.03708828e-06, -2.69650377e-06,  9.34952993e-07, ...,\n",
      "        0.00000000e+00,  0.00000000e+00,  0.00000000e+00]), 'sampling_rate': 16000}, 'text': 'मानते हैं नमूने अरैज़ के रूप में हमारे पास दो अरैज़ आ और सी है जिन्हें हम इस ट्यूटोरियल में इस्तेमाल करेंगे', 'pred_text': 'मानते हैं नमूने अरेज के रूप में हमारे पास दो अरेज ए और सी है जिन्हें हम इंस्टीट्यूरल में इस्तेमाल करेंगे', 'audio_filepath': '/data/speech-translation/spoken_output/spoken_tutorial_output1/final_audios/hindi/ErYsrwDsz3w.hi.wav', 'start_time': 54.08, 'duration': 8.72, 'alignment_score': 0.9383886255924171, 'video_id': 'ErYsrwDsz3w', 'en_mining_score': 0.6112973690032959, 'en_text': 'Let us have two arrays, A and C, as the sample arrays that we will use to work through this tutorial'}, {'chunked_audio_filepath': {'path': '8.wav', 'array': array([-4.26695962e-03, -3.88036831e-04,  2.28990614e-03, ...,\n",
      "       -2.94858523e-07,  9.48062961e-08,  1.19341195e-07]), 'sampling_rate': 16000}, 'text': 'सबसे सरल चीज़ एलिमेंट्स को एक्सेस करने के साथ शुरू करते हैं', 'pred_text': 'सबसे सरल चीज एलिमेंट्स को एक्सेस करने के साथ शुरू करते हैं', 'audio_filepath': '/data/speech-translation/spoken_output/spoken_tutorial_output1/final_audios/hindi/ErYsrwDsz3w.hi.wav', 'start_time': 68.48, 'duration': 3.84, 'alignment_score': 0.9914529914529915, 'video_id': 'ErYsrwDsz3w', 'en_mining_score': 0.7080143690109253, 'en_text': 'Let us begin with the most elementary thing, accessing individual elements'}, {'chunked_audio_filepath': {'path': '9.wav', 'array': array([ 0.26340777,  0.1748497 , -0.12109745, ...,  0.        ,\n",
      "        0.        ,  0.        ]), 'sampling_rate': 16000}, 'text': 'साथ ही इसे पहले वन डायमेंशनल अरै आ के साथ शुरू करें और फिर वही टू डायमेंशनल अरै के साथ करें', 'pred_text': 'साथ ही इस पहले वन डइमेंशनल अरे एक के साथ सुरू करे फिर वही टू डाायमेंशनल एरे के साथ करें', 'audio_filepath': '/data/speech-translation/spoken_output/spoken_tutorial_output1/final_audios/hindi/ErYsrwDsz3w.hi.wav', 'start_time': 74.4, 'duration': 7.76, 'alignment_score': 0.9213483146067416, 'video_id': 'ErYsrwDsz3w', 'en_mining_score': 0.7900927662849426, 'en_text': 'Also, let us first do it with the one dimensional array A, and then do the same thing with the two dimensional array'}, {'chunked_audio_filepath': {'path': '10.wav', 'array': array([ 8.89052749e-02,  1.90580174e-01,  2.40272254e-01, ...,\n",
      "       -1.87758758e-07, -2.36818579e-07,  9.58645607e-09]), 'sampling_rate': 16000}, 'text': 'टाइप करें आ  अराय ब्रैकेट में स्क्वैर ब्रैकेट 12 कॉमा 23 कोमा 34 कॉमा 45 कॉमा 56 सी  अराय ब्रैकेट में स्क्वैर ब्रैकेट 11 कॉमा 12 कॉमा 13 कॉमा 14 कॉमा 15 कॉमा फिर स्क्वैर ब्रैकेट में 21 टो 25 कॉमा अगला स्क्वैर ब्रैकेट में 31 टो 35 कॉमा फिर स्क्वैर ब्रैकेट में 41 टो 45 कॉमा और अंतिम है स्क्वैर ब्रैकेट 51 टो 55 फिर ब्रैकेट बंद करें और एंटर दबाएँ', 'pred_text': 'टाइप करें ए इज़ इक्वल टू अरे ब्रैकेट में स्क्वेर ब्रैकेट ट्वेल्व कोमा ट्वेंटी थ्री कोमा थर्टी फोर कोमा फोर्टी फाइव कोमा फिफ्टी सिक्स बी इज इक्वल टू अरे ब्रैकेट में स्क्वेयर ब्रैकेट इलेवेन कोमा ट्वेल्व कोमा थर्टीन कमा फोर्टीन कोमा फिफ्टीन कोमा फिर स्क्वेयर ब्रैकेट में ट्वेंटी वन टू ट्वेंटी फाइव कोमा अगला स्क्वाेयर ब्रैकेट में थर्टी वन टू थर्टी फाइव कोमा फिर स्क्वाेयर ब्रैकेट में फोर्टी वन टू फोर्टी फाइव कोमा और अंतिम है स्क्वेयर ब्रैकेट में फिफ्टी वन टू फिफ्टी फाइव फ बैकेट बंद करें और एंटर दबाएँ', 'audio_filepath': '/data/speech-translation/spoken_output/spoken_tutorial_output1/final_audios/hindi/ErYsrwDsz3w.hi.wav', 'start_time': 90.24, 'duration': 64.24, 'alignment_score': 0.7354685646500594, 'video_id': 'ErYsrwDsz3w', 'en_mining_score': 0.8415399193763733, 'en_text': 'Type A = array within bracket square bracket 12 comma 23 coma 34 comma 45 comma 56 C = array within bracket square bracket 11 comma 12 comma 13 comma 14 comma 15 comma Next in square bracket 21 to 25 comma Next one in square bracket 31 to 35 comma Next one is square bracket 41 to 45 comma And the final one is square bracket 51 to 55 then close the bracket and hit enter'}, {'chunked_audio_filepath': {'path': '11.wav', 'array': array([0.        , 0.        , 0.        , ..., 0.06415796, 0.05649801,\n",
      "       0.03214594]), 'sampling_rate': 16000}, 'text': 'अरै आ में एलिमेंट 34 को एक्सेस करने के लिए हम कहते हैं आ ओएफ 2 ध्यान दें हम स्क्वैर ब्रेकेट्स इस्तेमाल कर रहे हैं', 'pred_text': 'अरे ए में एलिमेंट थर्टी फोर को एक्सेस करने के लिए हम कहते हैं ए ऑफ़ टू ध्यान दे हम स्क्वाेयर ब्रैकेट इस्तेमाल कर रहे हैं', 'audio_filepath': '/data/speech-translation/spoken_output/spoken_tutorial_output1/final_audios/hindi/ErYsrwDsz3w.hi.wav', 'start_time': 154.88, 'duration': 9.6, 'alignment_score': 0.8969957081545065, 'video_id': 'ErYsrwDsz3w', 'en_mining_score': 0.6983581781387329, 'en_text': 'To access, the element 34 in array A, we say, A of 2, note that we are using square brackets'}, {'chunked_audio_filepath': {'path': '12.wav', 'array': array([-1.01678044e-04, -1.26959116e-04, -1.36104369e-04, ...,\n",
      "       -3.51874263e-07,  2.01304331e-07,  1.25831264e-07]), 'sampling_rate': 16000}, 'text': 'अतः टाइप करें आ स्क्वैर ब्रैकेट में 2 और एंटर दबाएँ', 'pred_text': 'अतः टाइप करें ए स्क्वेयर ब्रैकेट में टू और एंटर दबाएँ', 'audio_filepath': '/data/speech-translation/spoken_output/spoken_tutorial_output1/final_audios/hindi/ErYsrwDsz3w.hi.wav', 'start_time': 164.88, 'duration': 5.76, 'alignment_score': 0.9519230769230769, 'video_id': 'ErYsrwDsz3w', 'en_mining_score': 0.7572833299636841, 'en_text': 'So type A within square bracket2 and hit enter'}, {'chunked_audio_filepath': {'path': '13.wav', 'array': array([ 2.88867632e-05,  3.98432749e-05,  3.86640459e-05, ...,\n",
      "        4.17761694e-05,  4.58120030e-06, -3.93418450e-05]), 'sampling_rate': 16000}, 'text': 'लिस्ट्स की तरह अरैज़ में इंडेक्सिंग 0 से शुरू होती है', 'pred_text': 'लिस्ट की तरह एरेज़ में इंडेंसिंग ज़ीरो से शुरू होती है', 'audio_filepath': '/data/speech-translation/spoken_output/spoken_tutorial_output1/final_audios/hindi/ErYsrwDsz3w.hi.wav', 'start_time': 171.28, 'duration': 4.4, 'alignment_score': 0.897196261682243, 'video_id': 'ErYsrwDsz3w', 'en_mining_score': 0.6541010141372681, 'en_text': 'Like lists, indexing starts from 0 in arrays,'}, {'chunked_audio_filepath': {'path': '14.wav', 'array': array([-0.00286815, -0.00447881, -0.00473568, ..., -0.00053362,\n",
      "       -0.00060396, -0.00040873]), 'sampling_rate': 16000}, 'text': 'अतः 34 तीसरे एलिमेंट का इंडेक्स 2 है', 'pred_text': 'अतः थर्टी फोर तीसरे एलिमेंट का इंडेक्स टू है', 'audio_filepath': '/data/speech-translation/spoken_output/spoken_tutorial_output1/final_audios/hindi/ErYsrwDsz3w.hi.wav', 'start_time': 176.48, 'duration': 3.76, 'alignment_score': 0.8625, 'video_id': 'ErYsrwDsz3w', 'en_mining_score': 0.8316348195075989, 'en_text': 'So, 34, the third element have the index 2'}, {'chunked_audio_filepath': {'path': '15.wav', 'array': array([0., 0., 0., ..., 0., 0., 0.]), 'sampling_rate': 16000}, 'text': 'अब सी से एलिमेंट 34 एक्सेस करते हैं', 'pred_text': 'अब सी से एलिमेंट थर्टी फोर एक्सेस करते हैं', 'audio_filepath': '/data/speech-translation/spoken_output/spoken_tutorial_output1/final_audios/hindi/ErYsrwDsz3w.hi.wav', 'start_time': 182.16, 'duration': 3.76, 'alignment_score': 0.8831168831168831, 'video_id': 'ErYsrwDsz3w', 'en_mining_score': 0.7599127888679504, 'en_text': 'Now, let us access the element 34 from C'}, {'chunked_audio_filepath': {'path': '16.wav', 'array': array([-8.36173203e-05, -1.04951258e-04, -8.53014644e-05, ...,\n",
      "       -9.36869310e-06, -1.87397854e-05, -1.30230464e-05]), 'sampling_rate': 16000}, 'text': 'यह करने के लिए हम लिखते हैं सी ओएफ 23', 'pred_text': 'यह करने के लिए हम लिखते हैं सी ऑफ़ टू क', 'audio_filepath': '/data/speech-translation/spoken_output/spoken_tutorial_output1/final_audios/hindi/ErYsrwDsz3w.hi.wav', 'start_time': 186.16, 'duration': 3.84, 'alignment_score': 0.9078947368421053, 'video_id': 'ErYsrwDsz3w', 'en_mining_score': 0.5913142561912537, 'en_text': 'To do this, we say, C of 2,3'}, {'chunked_audio_filepath': {'path': '17.wav', 'array': array([ 3.06591664e-06, -6.29454462e-06, -2.17126890e-05, ...,\n",
      "        3.71725406e-08,  5.87818505e-08,  2.04393032e-07]), 'sampling_rate': 16000}, 'text': 'अतः टाइप करें सी स्क्वैर ब्रैकेट में 2 कॉमा 3 और एंटर दबाएँ', 'pred_text': 'अतः टाइप करें सी स्क्वेयर ब्रैकेट में टू कोमा थ्री और एंटर दबाएँ', 'audio_filepath': '/data/speech-translation/spoken_output/spoken_tutorial_output1/final_audios/hindi/ErYsrwDsz3w.hi.wav', 'start_time': 191.2, 'duration': 6.48, 'alignment_score': 0.926829268292683, 'video_id': 'ErYsrwDsz3w', 'en_mining_score': 0.7381134629249573, 'en_text': 'So type C within square bracket 1 comma 1 colon 3 and hit enter'}, {'chunked_audio_filepath': {'path': '18.wav', 'array': array([-7.39319250e-03, -3.42868455e-02, -5.95044270e-02, ...,\n",
      "        3.88300759e-05,  3.50897462e-05,  2.01143284e-05]), 'sampling_rate': 16000}, 'text': '34 तीसरे रो और चौथे कॉलम में है और चूँकि इंडेक्सिंग शून्य से शुरू होती है इसलिए रो इंडेक्स 2 है और कॉलम इंडेक्स 3 है', 'pred_text': 'थर्टी फोर तीसरे रो और चौथे कॉलम में है और चूंकि इंडेक्स शून्य से शुरू होता है इसलिए रो इंडेक्स टू है और कॉलम इंडेक्स थ्री है', 'audio_filepath': '/data/speech-translation/spoken_output/spoken_tutorial_output1/final_audios/hindi/ErYsrwDsz3w.hi.wav', 'start_time': 198.24, 'duration': 11.52, 'alignment_score': 0.9166666666666666, 'video_id': 'ErYsrwDsz3w', 'en_mining_score': 0.5376220345497131, 'en_text': 'So type C within square bracket 2 comma 3 and hit enter 34 is in the third row and the fourth column, and since indexing begins from zero, the row index is 2 and column index is 3'}, {'chunked_audio_filepath': {'path': '19.wav', 'array': array([ 0.0235343 ,  0.03725478,  0.04858904, ..., -0.06216302,\n",
      "       -0.02618834,  0.01151387]), 'sampling_rate': 16000}, 'text': 'अब हमने अरै के एक एलिमेंट को एक्सेस किया चलिए इसे बदलते हैं', 'pred_text': 'अब हमने अरे के एक एलिमेंट को एक्सेस किया चलिए इसे बदलते हैं', 'audio_filepath': '/data/speech-translation/spoken_output/spoken_tutorial_output1/final_audios/hindi/ErYsrwDsz3w.hi.wav', 'start_time': 211.2, 'duration': 4.64, 'alignment_score': 0.9915254237288136, 'video_id': 'ErYsrwDsz3w', 'en_mining_score': 0.8211347460746765, 'en_text': 'Now, that we have accessed one element of the array,let us change it'}, {'chunked_audio_filepath': {'path': '20.wav', 'array': array([0.20280319, 0.30216396, 0.30315864, ..., 0.        , 0.        ,\n",
      "       0.        ]), 'sampling_rate': 16000}, 'text': 'हम Aऔर Cदोनों में 34 को माइनस 34 में बदलेंगे', 'pred_text': 'हम ए और सी दोनों में थर्टी फोर को माइनस थर्टी फोर में बदलेगे', 'audio_filepath': '/data/speech-translation/spoken_output/spoken_tutorial_output1/final_audios/hindi/ErYsrwDsz3w.hi.wav', 'start_time': 216.4, 'duration': 4.48, 'alignment_score': 0.7692307692307692, 'video_id': 'ErYsrwDsz3w', 'en_mining_score': 0.7350277900695801, 'en_text': 'We shall change 34 to minus 34 in both A and C'}, {'chunked_audio_filepath': {'path': '21.wav', 'array': array([-4.22592479e-04, -2.70723453e-04,  4.47490747e-05, ...,\n",
      "        0.00000000e+00,  0.00000000e+00,  0.00000000e+00]), 'sampling_rate': 16000}, 'text': 'यह करने के लिए हम एलिमेंट को एक्सेस करने के बाद उसकी नयी वैल्यू निर्धारित करते हैं', 'pred_text': 'यह करने के लिए हम एलिमेंट को एक्सेस करने के बाद उसकी नई वैल्यू निर्धारित करते हैं', 'audio_filepath': '/data/speech-translation/spoken_output/spoken_tutorial_output1/final_audios/hindi/ErYsrwDsz3w.hi.wav', 'start_time': 221.04, 'duration': 6.24, 'alignment_score': 0.9877300613496932, 'video_id': 'ErYsrwDsz3w', 'en_mining_score': 0.6149613261222839, 'en_text': 'To do this, we simply assign the new value after accessing the element'}, {'chunked_audio_filepath': {'path': '22.wav', 'array': array([ 0.00000000e+00,  0.00000000e+00,  0.00000000e+00, ...,\n",
      "       -1.46369912e-05, -1.52477915e-05, -1.27981548e-05]), 'sampling_rate': 16000}, 'text': 'अतः टाइप करें आ स्क्वैर ब्रैकेट में 2  माइनस 34 और सी के लिए टाइप करें सी स्क्वैर ब्रैकेट में 2 कॉमा 3  माइनस 34 अपने ऑपरेशंस को जाँचें', 'pred_text': 'अतः टाइप करें ए स्क्वेयर ब्रैकेट में टू इज इक्वल टू माइनस थर्टी फोर और सी के लिए टाइप करें सी स्क्वेयर ब्रैकेट में टू कोॉमा थ्री इज इक्वल टू माइनस थर्टी फोर अपने ऑपरेशनस को जांचें', 'audio_filepath': '/data/speech-translation/spoken_output/spoken_tutorial_output1/final_audios/hindi/ErYsrwDsz3w.hi.wav', 'start_time': 227.84, 'duration': 20.16, 'alignment_score': 0.821656050955414, 'video_id': 'ErYsrwDsz3w', 'en_mining_score': 0.5276845693588257, 'en_text': 'So type C within square bracket 1 comma 1 colon 3 and hit enter'}, {'chunked_audio_filepath': {'path': '23.wav', 'array': array([ 4.45166677e-07,  4.62935787e-07,  5.52407869e-07, ...,\n",
      "       -7.37024844e-02, -1.07891500e-01, -7.97545090e-02]), 'sampling_rate': 16000}, 'text': 'टाइप करें आ स्क्वैर ब्रैकेट में 2 एंटर दबाएँ फिर सी स्क्वैर ब्रैकेट में 2 कॉमा 3 चूँकि अब हमने एक अकेले एलिमेंट को एक्सेस और बदल दिया', 'pred_text': 'टाइप करें स्क्वेर ब्रैकेट में टू एंटर दबाए सी स्क्वाेयर ब्रैकेट में टू कोॉमा थ्री च्यूँकी अब हमने एक अकेले एलिमेंट को एक्सेस और बदल दिया', 'audio_filepath': '/data/speech-translation/spoken_output/spoken_tutorial_output1/final_audios/hindi/ErYsrwDsz3w.hi.wav', 'start_time': 250.4, 'duration': 13.6, 'alignment_score': 0.9144981412639406, 'video_id': 'ErYsrwDsz3w', 'en_mining_score': 0.52298903465271, 'en_text': 'So type C within square bracket 1 comma 1 colon 3 and hit enter'}, {'chunked_audio_filepath': {'path': '24.wav', 'array': array([-2.25342676e-01, -1.68815926e-01, -3.63917165e-02, ...,\n",
      "       -3.19361249e-08,  3.74457727e-07, -1.37091316e-08]), 'sampling_rate': 16000}, 'text': 'एक समय में एक से अधिक एलिमेंट को एक्सेस और बदलते हैं पहले रोस और फिर कॉलम्स', 'pred_text': 'एक समय में एक से अधिक एलिमेंट को एक्सेस और बदलते हैं पहले रोज और फिर कॉलम्स', 'audio_filepath': '/data/speech-translation/spoken_output/spoken_tutorial_output1/final_audios/hindi/ErYsrwDsz3w.hi.wav', 'start_time': 264.96, 'duration': 5.92, 'alignment_score': 0.9933333333333333, 'video_id': 'ErYsrwDsz3w', 'en_mining_score': 0.4456711411476135, 'en_text': 'Access and change rows and columns of arrays'}, {'chunked_audio_filepath': {'path': '25.wav', 'array': array([ 0.00678466, -0.00203237, -0.00970672, ..., -0.00198631,\n",
      "       -0.0181828 , -0.03398594]), 'sampling_rate': 16000}, 'text': 'सी की एक रो मानिए तीसरी रो को एक्सेस करते हैं', 'pred_text': 'सी की एक रो मानिए तीसरी रो को एक्सेस करते हैं', 'audio_filepath': '/data/speech-translation/spoken_output/spoken_tutorial_output1/final_audios/hindi/ErYsrwDsz3w.hi.wav', 'start_time': 271.28, 'duration': 3.84, 'alignment_score': 1.0, 'video_id': 'ErYsrwDsz3w', 'en_mining_score': 0.5506432056427002, 'en_text': 'How do we access the last row of C'}, {'chunked_audio_filepath': {'path': '26.wav', 'array': array([0.00000000e+00, 0.00000000e+00, 0.00000000e+00, ...,\n",
      "       2.46247318e-14, 2.41316112e-14, 2.36279417e-14]), 'sampling_rate': 16000}, 'text': 'हम यह लिखकर करते हैं सी स्क्वैर ब्रैकेट में 2 और एंटर दबाएँ', 'pred_text': 'हम यह लिख कर करते सी स्क्वेयर ब्रैकेट में टू और एंटर दबाएं', 'audio_filepath': '/data/speech-translation/spoken_output/spoken_tutorial_output1/final_audios/hindi/ErYsrwDsz3w.hi.wav', 'start_time': 275.28, 'duration': 7.2, 'alignment_score': 0.9145299145299145, 'video_id': 'ErYsrwDsz3w', 'en_mining_score': 0.6528574824333191, 'en_text': 'So type A within square bracket2 and hit enter'}, {'chunked_audio_filepath': {'path': '27.wav', 'array': array([-1.05690461e-08,  9.05527653e-09,  3.85863146e-08, ...,\n",
      "        1.46754232e-04,  2.63580761e-04,  2.49219127e-04]), 'sampling_rate': 16000}, 'text': 'हम सी के अंतिम रो को एक्सेस कैसे करेंगे', 'pred_text': 'हम सी के अंतिम रप को एक्सेस कैसे करेंगे', 'audio_filepath': '/data/speech-translation/spoken_output/spoken_tutorial_output1/final_audios/hindi/ErYsrwDsz3w.hi.wav', 'start_time': 287.04, 'duration': 3.12, 'alignment_score': 0.9871794871794872, 'video_id': 'ErYsrwDsz3w', 'en_mining_score': 0.7940781116485596, 'en_text': 'How do we access the last row of C'}, {'chunked_audio_filepath': {'path': '28.wav', 'array': array([ 3.33463249e-05, -5.44755130e-06, -8.36647232e-05, ...,\n",
      "        1.45516950e-08,  4.57352023e-09,  3.74608033e-09]), 'sampling_rate': 16000}, 'text': 'हम लिख सकते हैं टाइप करें सी स्क्वैर ब्रैकेट में 4 और एंटर दबाएँ', 'pred_text': 'हम लिख सकते है के टाइप करे सी स्क्वेयर ब्रैकेट में फोल और एंटर दबाएँ', 'audio_filepath': '/data/speech-translation/spoken_output/spoken_tutorial_output1/final_audios/hindi/ErYsrwDsz3w.hi.wav', 'start_time': 290.4, 'duration': 6.72, 'alignment_score': 0.9318181818181819, 'video_id': 'ErYsrwDsz3w', 'en_mining_score': 0.6693329215049744, 'en_text': 'So type A within square bracket2 and hit enter'}, {'chunked_audio_filepath': {'path': '29.wav', 'array': array([-6.30322029e-06, -1.11101781e-05,  5.38289896e-06, ...,\n",
      "        3.27217305e-04,  3.00626969e-04,  2.12017127e-04]), 'sampling_rate': 16000}, 'text': 'या जैसे लिस्ट्स के साथ हम ऋणात्मक इंडेक्सिंग इस्तेमाल करते हैं और लिखें सी ब्रैकेट में 1 अब हम सी स्क्वैर ब्रैकेट में 1  स्क्वैर ब्रैकेट में फाइव ज़ेरोस इस्तेमाल करके और एंटर दबाकर या सी स्क्वैर ब्रैकेट में 10 इस्तेमाल करके अंतिम रो को सभी शून्यों में बदल सकते हैं', 'pred_text': 'या जैसे लिस्ट के साथ हम ुणात्मक इंडेक्सिंग इस्तेमाल करते है और लिखे स्री बैकेट में माइनस वन अब हम सी स्क्वेयर ब्रैकेट में माइनस वन इज इक्वल टू स्क्वाेयर ब्रैकेट में फाइव जीरो इस्तेमाल करके और एंटर दबाए या सी स्क्वाेयर ब्रैकेट में माइनस वन इज इक्वल टू जीरो इस्तेमाल करके अंतिम र को सभी शून्यों में बदल सकते हैं', 'audio_filepath': '/data/speech-translation/spoken_output/spoken_tutorial_output1/final_audios/hindi/ErYsrwDsz3w.hi.wav', 'start_time': 299.12, 'duration': 42.4, 'alignment_score': 0.8691099476439791, 'video_id': 'ErYsrwDsz3w', 'en_mining_score': 0.5504442453384399, 'en_text': 'Now, we could change the last row into all zeros, using either C in square bracket 1 = within square bracket five zeros and hit enter or, we can use,C within square bracket 1=0 Now, how do we access one column of C'}, {'chunked_audio_filepath': {'path': '30.wav', 'array': array([0.        , 0.        , 0.        , ..., 0.001034  , 0.00085072,\n",
      "       0.0004953 ]), 'sampling_rate': 16000}, 'text': 'अब हम सी के एक कॉलम को एक्सेस कैसे करेंगे', 'pred_text': 'अब हम सी के एक कॉलम को एक्सेस कैसे करेंगे', 'audio_filepath': '/data/speech-translation/spoken_output/spoken_tutorial_output1/final_audios/hindi/ErYsrwDsz3w.hi.wav', 'start_time': 344.88, 'duration': 3.6, 'alignment_score': 1.0, 'video_id': 'ErYsrwDsz3w', 'en_mining_score': 0.7333775162696838, 'en_text': 'How do we access the last row of C'}, {'chunked_audio_filepath': {'path': '31.wav', 'array': array([0., 0., 0., ..., 0., 0., 0.]), 'sampling_rate': 16000}, 'text': 'अलग अलग एलिमेंट्स को एक्सेस करने में निर्दिष्ट करने के लिए कॉमा के बाद कॉलम दूसरा पैरामीटर है', 'pred_text': 'अलग अलग एलिमेंट्स को एक्सेस करने में निर्दिष्ट करने के लिए कोमा के बाद कॉलम दूसरा परामीटर है', 'audio_filepath': '/data/speech-translation/spoken_output/spoken_tutorial_output1/final_audios/hindi/ErYsrwDsz3w.hi.wav', 'start_time': 349.76, 'duration': 6.96, 'alignment_score': 0.9891891891891892, 'video_id': 'ErYsrwDsz3w', 'en_mining_score': 0.43620565533638, 'en_text': 'As with accessing individual elements, the column is the second parameter to be specified'}, {'chunked_audio_filepath': {'path': '32.wav', 'array': array([-0.00047619, -0.00078012, -0.00090882, ..., -0.01668612,\n",
      "       -0.03201654, -0.02868787]), 'sampling_rate': 16000}, 'text': 'पहला पैरामीटर आ सेमी कोलोन आ कोलोन से बदल दिया गया है', 'pred_text': 'पहला पैरामीटर असेमीकॉलन कॉलन से बदल दिया गया है', 'audio_filepath': '/data/speech-translation/spoken_output/spoken_tutorial_output1/final_audios/hindi/ErYsrwDsz3w.hi.wav', 'start_time': 358.16, 'duration': 4.96, 'alignment_score': 0.91, 'video_id': 'ErYsrwDsz3w', 'en_mining_score': 0.6571100950241089, 'en_text': 'The first parameter, is replaced with a semi colon a colon'}, {'chunked_audio_filepath': {'path': '33.wav', 'array': array([-0.06923866, -0.10844913, -0.12974055, ...,  0.04303956,\n",
      "        0.05859778,  0.04869725]), 'sampling_rate': 16000}, 'text': 'यह निर्दिष्ट करता है कि हम एक विशिष्ट एलिमेंट के बजाय उसी डायमेंशन के सभी एलिमेंट्स को चाहते हैं', 'pred_text': 'यह निर्दिष्ट करता है कि हम एक विशिष्ट एलिमेंट के बजाय उसी डाायमेंशन के सभी एलिमेंट्स को चाहते हैं', 'audio_filepath': '/data/speech-translation/spoken_output/spoken_tutorial_output1/final_audios/hindi/ErYsrwDsz3w.hi.wav', 'start_time': 364.08, 'duration': 7.76, 'alignment_score': 0.9948186528497409, 'video_id': 'ErYsrwDsz3w', 'en_mining_score': 0.6262348890304565, 'en_text': 'This specifies that we want all the elements of that dimension, instead of just one particular element'}, {'chunked_audio_filepath': {'path': '34.wav', 'array': array([-4.39122999e-07, -5.02273394e-07, -3.96282275e-07, ...,\n",
      "        0.00000000e+00,  0.00000000e+00,  0.00000000e+00]), 'sampling_rate': 16000}, 'text': 'हम तीसरे कॉलम को यह टाइप करके एक्सेस कर सकते हैं सी स्क्वैर ब्रैकेट में कोलोन कॉमा 2 और एंटर दबाएँ', 'pred_text': 'हम तीसरे कॉलम को यह टाइप करके एक्सेस कर सकते हैं सी स्क्वाेयर ब्रैकेट में कोलन कोमाटू और एंटर दबाए', 'audio_filepath': '/data/speech-translation/spoken_output/spoken_tutorial_output1/final_audios/hindi/ErYsrwDsz3w.hi.wav', 'start_time': 372.08, 'duration': 9.12, 'alignment_score': 0.9591836734693877, 'video_id': 'ErYsrwDsz3w', 'en_mining_score': 0.5955414772033691, 'en_text': 'We access the third column by saying,type C within square bracket colon comma 2 and hit enter Pause the video here,try out the following exercise'}, {'chunked_audio_filepath': {'path': '35.wav', 'array': array([ 2.69086013e-05,  2.11229708e-05,  7.21650667e-06, ...,\n",
      "       -3.03759680e-06, -2.95990662e-06, -1.68062832e-06]), 'sampling_rate': 16000}, 'text': 'यहाँ विडियो रोकें निम्न अभ्यास की कोशिश करें', 'pred_text': 'यह वीडियो रोके और निम्न अभ्यास की कोशिश करें', 'audio_filepath': '/data/speech-translation/spoken_output/spoken_tutorial_output1/final_audios/hindi/ErYsrwDsz3w.hi.wav', 'start_time': 384.08, 'duration': 3.36, 'alignment_score': 0.9318181818181819, 'video_id': 'ErYsrwDsz3w', 'en_mining_score': 0.42438367009162903, 'en_text': 'So type A within square bracket colon and hit enter Now pause the video here,try out the following exercise and resume the video'}, {'chunked_audio_filepath': {'path': '36.wav', 'array': array([3.17507866e-03, 3.73725290e-03, 2.94264266e-03, ...,\n",
      "       3.03617635e-05, 2.48796696e-05, 1.88410577e-05]), 'sampling_rate': 16000}, 'text': 'सी के अंतिम कॉलम को शून्यों में बदलें', 'pred_text': 'ी के अंतिम कॉलम को शून्यो में बदले', 'audio_filepath': '/data/speech-translation/spoken_output/spoken_tutorial_output1/final_audios/hindi/ErYsrwDsz3w.hi.wav', 'start_time': 394.48, 'duration': 2.64, 'alignment_score': 0.9577464788732395, 'video_id': 'ErYsrwDsz3w', 'en_mining_score': 0.8505474328994751, 'en_text': 'Change the last column of C to zeros'}, {'chunked_audio_filepath': {'path': '37.wav', 'array': array([0.00000000e+00, 0.00000000e+00, 0.00000000e+00, ...,\n",
      "       1.22229364e-12, 2.72213090e-12, 6.26103498e-13]), 'sampling_rate': 16000}, 'text': 'हल के लिए टर्मिनल पर जाएँ', 'pred_text': 'हल के लिए टर्मिनल पर जाए', 'audio_filepath': '/data/speech-translation/spoken_output/spoken_tutorial_output1/final_audios/hindi/ErYsrwDsz3w.hi.wav', 'start_time': 398.96, 'duration': 2.4, 'alignment_score': 0.9795918367346939, 'video_id': 'ErYsrwDsz3w', 'en_mining_score': 0.6555336117744446, 'en_text': 'Now switch to the terminal for solution'}, {'chunked_audio_filepath': {'path': '38.wav', 'array': array([0., 0., 0., ..., 0., 0., 0.]), 'sampling_rate': 16000}, 'text': 'सी के अंतिम पूरे कॉलम को शून्यों में बदलने के लिए हम लिखते हैं सी स्क्वैर ब्रैकेट में कोलोन कॉमा माइनस 1  0 और एंटर दबाएँ', 'pred_text': 'सी के अंतिम परे कॉलम को शुन्यो में बदलने के लिए हम लिखते हैं सी स्क्वेयर ब्रैकेट में कोॉलन कॉमा माइनस वन इज़ इक्वल टू ज़ीरो और एंटर दबाएं', 'audio_filepath': '/data/speech-translation/spoken_output/spoken_tutorial_output1/final_audios/hindi/ErYsrwDsz3w.hi.wav', 'start_time': 403.92, 'duration': 16.48, 'alignment_score': 0.8953488372093024, 'video_id': 'ErYsrwDsz3w', 'en_mining_score': 0.5432034134864807, 'en_text': 'So type C within square bracket 1 comma 1 colon 3 and hit enter'}, {'chunked_audio_filepath': {'path': '39.wav', 'array': array([ 0.        ,  0.        ,  0.        , ..., -0.01984764,\n",
      "       -0.01584416, -0.00754464]), 'sampling_rate': 16000}, 'text': 'चूँकि आ वन डायमेंशनल है आ के रोस और कॉलम्स अधिक अर्थ नहीं बनाते हैं', 'pred_text': 'क्योंकि ए वन डायमेंशनल है ए के रोज और कॉलम्स अधिक अर्थ नहीं बनाते हैं', 'audio_filepath': '/data/speech-translation/spoken_output/spoken_tutorial_output1/final_audios/hindi/ErYsrwDsz3w.hi.wav', 'start_time': 421.36, 'duration': 6.88, 'alignment_score': 0.9411764705882353, 'video_id': 'ErYsrwDsz3w', 'en_mining_score': 0.3316595256328583, 'en_text': 'It has just one row and A of colon gives the whole of A'}, {'chunked_audio_filepath': {'path': '40.wav', 'array': array([-8.17227556e-05, -1.13920200e-04, -1.29375141e-04, ...,\n",
      "        2.59333551e-02,  2.22493298e-02,  1.33199273e-02]), 'sampling_rate': 16000}, 'text': 'इसके पास केवल एक रो है और आ ओएफ कोलोन पूरा आ देता है', 'pred_text': 'इसके पास केवल एक रो है और ए ऑफ कॉलन पूरा ए देता है', 'audio_filepath': '/data/speech-translation/spoken_output/spoken_tutorial_output1/final_audios/hindi/ErYsrwDsz3w.hi.wav', 'start_time': 428.48, 'duration': 5.68, 'alignment_score': 0.9411764705882353, 'video_id': 'ErYsrwDsz3w', 'en_mining_score': 0.5648898482322693, 'en_text': 'It has just one row and A of colon gives the whole of A'}, {'chunked_audio_filepath': {'path': '41.wav', 'array': array([-1.87558101e-06,  1.58337025e-06,  2.59699277e-06, ...,\n",
      "        0.00000000e+00,  0.00000000e+00,  0.00000000e+00]), 'sampling_rate': 16000}, 'text': 'अतः टाइप करें आ स्क्वैर ब्रैकेट में कोलोन और एंटर दबाएँ', 'pred_text': 'अतः टाइप करें ए स्क्वेयर ब्रैकेट में कॉलन और एंटर दबाएँ', 'audio_filepath': '/data/speech-translation/spoken_output/spoken_tutorial_output1/final_audios/hindi/ErYsrwDsz3w.hi.wav', 'start_time': 434.56, 'duration': 5.52, 'alignment_score': 0.9545454545454546, 'video_id': 'ErYsrwDsz3w', 'en_mining_score': 0.6655471324920654, 'en_text': 'So type A within square bracket2 and hit enter'}, {'chunked_audio_filepath': {'path': '42.wav', 'array': array([0., 0., 0., ..., 0., 0., 0.]), 'sampling_rate': 16000}, 'text': 'अब यहाँ विडियो रोकें निम्न अभ्यास की कोशिश करें और विडियो पुनः चलायें', 'pred_text': 'अब यहाँ वडियो रोके निम्न अभ्यास की कोशिश करें और वीडियो पुनः चलाएं', 'audio_filepath': '/data/speech-translation/spoken_output/spoken_tutorial_output1/final_audios/hindi/ErYsrwDsz3w.hi.wav', 'start_time': 440.48, 'duration': 5.36, 'alignment_score': 0.962962962962963, 'video_id': 'ErYsrwDsz3w', 'en_mining_score': 0.43672531843185425, 'en_text': 'So type A within square bracket colon and hit enter Now pause the video here,try out the following exercise and resume the video'}, {'chunked_audio_filepath': {'path': '43.wav', 'array': array([0.06303301, 0.09167252, 0.10915495, ..., 0.        , 0.        ,\n",
      "       0.        ]), 'sampling_rate': 16000}, 'text': 'आ को 11 12 13 14 15 में बदलें', 'pred_text': 'एको इलेवन ट्वेल्व थर्टीन फोर्टीन फिफ्टीन में बदले', 'audio_filepath': '/data/speech-translation/spoken_output/spoken_tutorial_output1/final_audios/hindi/ErYsrwDsz3w.hi.wav', 'start_time': 449.68, 'duration': 5.36, 'alignment_score': 0.5512820512820513, 'video_id': 'ErYsrwDsz3w', 'en_mining_score': 0.4043320119380951, 'en_text': 'Then, obtain the elements [11, 21, 31, 41] from C'}, {'chunked_audio_filepath': {'path': '44.wav', 'array': array([-0.01854978, -0.05119492, -0.06829453, ...,  0.        ,\n",
      "        0.        ,  0.        ]), 'sampling_rate': 16000}, 'text': 'इसके हल के लिए टर्मिनल पर जाएँ', 'pred_text': 'इसके हल के लिए टर्मिनल प जााय', 'audio_filepath': '/data/speech-translation/spoken_output/spoken_tutorial_output1/final_audios/hindi/ErYsrwDsz3w.hi.wav', 'start_time': 457.68, 'duration': 2.4, 'alignment_score': 0.9491525423728814, 'video_id': 'ErYsrwDsz3w', 'en_mining_score': 0.6245303153991699, 'en_text': 'Now switch to the terminal'}, {'chunked_audio_filepath': {'path': '45.wav', 'array': array([0., 0., 0., ..., 0., 0., 0.]), 'sampling_rate': 16000}, 'text': 'आ को बदलने के लिए हम लिखते हैं आ स्क्वैर ब्रैकेट में कोलोन  स्क्वैर ब्रैकेट में 11 कॉमा 12 कॉमा 13 कॉमा 14 कॉमा 15 और एंटर दबाएँ', 'pred_text': 'ए को बदलने के लिए हम लिखते हैं ए स्क्वेयर ब्रैकेट में कॉलन इ इक्वल टू स्क्वेर ब्रैकेट में इलेवेन कोॉमा ट्वेल्व कोमा थर्टीन कॉमा फोर्टीन कोमा फिफ्टीन और एंटर दबाए', 'audio_filepath': '/data/speech-translation/spoken_output/spoken_tutorial_output1/final_audios/hindi/ErYsrwDsz3w.hi.wav', 'start_time': 461.44, 'duration': 20.64, 'alignment_score': 0.8131487889273357, 'video_id': 'ErYsrwDsz3w', 'en_mining_score': 0.5875712037086487, 'en_text': 'So type C within square bracket 1 comma 1 colon 3 and hit enter'}, {'chunked_audio_filepath': {'path': '46.wav', 'array': array([ 0.12847085,  0.11800954,  0.06472629, ...,  0.00063839,\n",
      "       -0.00060648, -0.0005362 ]), 'sampling_rate': 16000}, 'text': 'अब हम जानते हैं कि एक अरै की रोस और कॉलम्स को एक्सेस कैसे करें', 'pred_text': 'अब हम जानते है की एक अरे की रोज और कॉलमस को एक्सेस कैसे करें', 'audio_filepath': '/data/speech-translation/spoken_output/spoken_tutorial_output1/final_audios/hindi/ErYsrwDsz3w.hi.wav', 'start_time': 484.72, 'duration': 5.36, 'alignment_score': 0.9590163934426229, 'video_id': 'ErYsrwDsz3w', 'en_mining_score': 0.5959752798080444, 'en_text': 'Access and change rows and columns of arrays'}, {'chunked_audio_filepath': {'path': '47.wav', 'array': array([-0.00972165,  0.02586186,  0.05385191, ...,  0.        ,\n",
      "        0.        ,  0.        ]), 'sampling_rate': 16000}, 'text': 'हम एक अरै के अन्य टुकड़ों को एक्सेस करना सीखेंगे', 'pred_text': 'हम एक अरे के अन्य टुकड़ों को एक्सेस करना सीखेंगे', 'audio_filepath': '/data/speech-translation/spoken_output/spoken_tutorial_output1/final_audios/hindi/ErYsrwDsz3w.hi.wav', 'start_time': 490.48, 'duration': 3.6, 'alignment_score': 0.9895833333333334, 'video_id': 'ErYsrwDsz3w', 'en_mining_score': 0.5223396420478821, 'en_text': 'To do this, we need to access, a few of the rows and a few of the columns of the array'}, {'chunked_audio_filepath': {'path': '48.wav', 'array': array([8.54039286e-07, 1.11310919e-06, 5.50447112e-06, ...,\n",
      "       0.00000000e+00, 0.00000000e+00, 0.00000000e+00]), 'sampling_rate': 16000}, 'text': 'इस उद्देश्य के लिए हम इमेज अरैज़ इस्तेमाल करेंगे', 'pred_text': 'इस उद्देश्य के लिए हम इमेज अरेज इस्तेमाल करेंगे', 'audio_filepath': '/data/speech-translation/spoken_output/spoken_tutorial_output1/final_audios/hindi/ErYsrwDsz3w.hi.wav', 'start_time': 494.16, 'duration': 3.84, 'alignment_score': 0.9789473684210527, 'video_id': 'ErYsrwDsz3w', 'en_mining_score': 0.7307538986206055, 'en_text': 'For this purpose, we will be using image arrays'}, {'chunked_audio_filepath': {'path': '49.wav', 'array': array([-5.18389279e-05, -3.95569223e-05, -2.55517716e-05, ...,\n",
      "        1.47367772e-02,  1.75394285e-02,  1.29619148e-02]), 'sampling_rate': 16000}, 'text': 'अरै में एक इमेज को रीड करने के लिए हम इमरीड कमांड इस्तेमाल करते हैं', 'pred_text': 'अरे मैं एक इमेज को रीड करने के लिए हम आई एम रीड कमांड इस्तेमाल करते हैं', 'audio_filepath': '/data/speech-translation/spoken_output/spoken_tutorial_output1/final_audios/hindi/ErYsrwDsz3w.hi.wav', 'start_time': 498.4, 'duration': 6.32, 'alignment_score': 0.9492753623188406, 'video_id': 'ErYsrwDsz3w', 'en_mining_score': 0.7775964140892029, 'en_text': 'To read an image into an array, we use the imread command'}, {'chunked_audio_filepath': {'path': '50.wav', 'array': array([ 1.11289919e-04,  2.06916047e-05, -6.94344344e-05, ...,\n",
      "       -4.36541825e-08, -2.59136499e-07, -1.63530075e-07]), 'sampling_rate': 16000}, 'text': 'हम इमेज स्क्वेयर्स डॉट पंग प्रेजेंट इन स्लैश होम स्लैश फोसे इस्तेमाल करेंगे', 'pred_text': 'हम ईमेज स्क्वेड डॉट टी एन जी प्रेजेंट इन स्लैश होम स्लैश फ़ॉर सी इस्तेमाल करेंगे', 'audio_filepath': '/data/speech-translation/spoken_output/spoken_tutorial_output1/final_audios/hindi/ErYsrwDsz3w.hi.wav', 'start_time': 504.96, 'duration': 6.64, 'alignment_score': 0.8838709677419355, 'video_id': 'ErYsrwDsz3w', 'en_mining_score': 0.655590295791626, 'en_text': 'We shall use the image squares dot png present in slash home slash fossee'}, {'chunked_audio_filepath': {'path': '51.wav', 'array': array([0.27856532, 0.33799484, 0.34427181, ..., 0.        , 0.        ,\n",
      "       0.        ]), 'sampling_rate': 16000}, 'text': 'हम पहले ओएस में उस पाथ में जायेंगे और देखेंगे इमेज में क्या है', 'pred_text': 'हम पहले ओएस में उस पात में जाएंगे और देखेंगे इमेज में क्या है', 'audio_filepath': '/data/speech-translation/spoken_output/spoken_tutorial_output1/final_audios/hindi/ErYsrwDsz3w.hi.wav', 'start_time': 512.96, 'duration': 5.28, 'alignment_score': 0.975609756097561, 'video_id': 'ErYsrwDsz3w', 'en_mining_score': 0.7409486174583435, 'en_text': 'We first navigate to that path in the OS and see what the image contains'}, {'chunked_audio_filepath': {'path': '52.wav', 'array': array([-0.01852342, -0.01919203, -0.01149531, ...,  0.        ,\n",
      "        0.        ,  0.        ]), 'sampling_rate': 16000}, 'text': 'अब डेटा को अरै आई arrayमें स्क्वेयर्स डॉट पंग में रीड करते हैं', 'pred_text': 'अप डेटा को अरे आई अरे में स्क्वाेयर डॉट पी एन जी में रीड करते हैं', 'audio_filepath': '/data/speech-translation/spoken_output/spoken_tutorial_output1/final_audios/hindi/ErYsrwDsz3w.hi.wav', 'start_time': 521.52, 'duration': 5.6, 'alignment_score': 0.8661417322834646, 'video_id': 'ErYsrwDsz3w', 'en_mining_score': 0.5265430212020874, 'en_text': 'Let us now read the data in squares dot png into the array I'}, {'chunked_audio_filepath': {'path': '53.wav', 'array': array([ 1.25526801e-01,  6.03601485e-02, -1.58605829e-01, ...,\n",
      "       -1.77642107e-07,  1.75391889e-07,  1.04925647e-07]), 'sampling_rate': 16000}, 'text': 'टाइप करें Iimread ब्रैकेट में सिंगल क्वोट स्लैश होम स्लैश फॉसी स्लैश स्क्वेयर्स डॉट पंग हम इमशो कमांड का इस्तेमाल करके इमेज का कंटेंट्स देख सकते हैं', 'pred_text': 'टाइप करें आई इ इक्वल टू आई एम रीड ब्रैकेट में सिंगल कोट फलैश होम फ्लैश फॉसी डॉ प एनजी हम आई एम शो कमांड का इस्तेमाल करके इमेज का कंन्टेट देख सकते है', 'audio_filepath': '/data/speech-translation/spoken_output/spoken_tutorial_output1/final_audios/hindi/ErYsrwDsz3w.hi.wav', 'start_time': 527.84, 'duration': 23.2, 'alignment_score': 0.8040540540540541, 'video_id': 'ErYsrwDsz3w', 'en_mining_score': 0.6873407959938049, 'en_text': 'Type I=imread within bracket in single quote slash home slash fossee slash squares dot png We can see the contents of the image, using the command imshow'}, {'chunked_audio_filepath': {'path': '54.wav', 'array': array([-3.71859372e-01, -5.03671050e-01, -4.01204258e-01, ...,\n",
      "       -1.02219064e-14, -1.01413950e-14, -1.00591312e-14]), 'sampling_rate': 16000}, 'text': 'आई में क्या रीड हुआ है यह देखने के लिए हम लिखते हैं इमशो ब्रैकेट में आई', 'pred_text': 'आई में क्या रीड हुआ है यह देखने के लिए हम लिखते है आई एंड शो ब्रैकेट में आई', 'audio_filepath': '/data/speech-translation/spoken_output/spoken_tutorial_output1/final_audios/hindi/ErYsrwDsz3w.hi.wav', 'start_time': 551.44, 'duration': 6.96, 'alignment_score': 0.952054794520548, 'video_id': 'ErYsrwDsz3w', 'en_mining_score': 0.451631635427475, 'en_text': 'We say, imshow within bracket I to see what has been read into I'}, {'chunked_audio_filepath': {'path': '55.wav', 'array': array([0.00736794, 0.02669   , 0.0604082 , ..., 0.        , 0.        ,\n",
      "       0.        ]), 'sampling_rate': 16000}, 'text': 'अतः टाइप करें इमशो ब्रैकेट में आई और एंटर दबाएँ', 'pred_text': 'अत टाइप करें आई एम शो ब्रैकेट में आई और एंटर दय', 'audio_filepath': '/data/speech-translation/spoken_output/spoken_tutorial_output1/final_audios/hindi/ErYsrwDsz3w.hi.wav', 'start_time': 558.72, 'duration': 5.36, 'alignment_score': 0.8936170212765957, 'video_id': 'ErYsrwDsz3w', 'en_mining_score': 0.5743932723999023, 'en_text': 'So type A within square bracket2 and hit enter'}, {'chunked_audio_filepath': {'path': '56.wav', 'array': array([-0.19591174, -0.17472763, -0.08182266, ...,  0.        ,\n",
      "        0.        ,  0.        ]), 'sampling_rate': 16000}, 'text': 'हम सफेद और काला नहीं देख सकते क्योंकि पाइलैब ने सफेद और काले को अन्य रंगों में मैप कर दिया है', 'pred_text': 'हम सफ़ेद और काला नहीं देख सकते क्योंकी पायलट ने सफ़ेद और काले को अन्य रंगों में मैप कर दिया है', 'audio_filepath': '/data/speech-translation/spoken_output/spoken_tutorial_output1/final_audios/hindi/ErYsrwDsz3w.hi.wav', 'start_time': 565.2, 'duration': 7.2, 'alignment_score': 0.9679144385026738, 'video_id': 'ErYsrwDsz3w', 'en_mining_score': 0.338424414396286, 'en_text': 'So type imshow within bracket I and hit enter We do not see white and black because, pylab has mapped white and black to different colours'}, {'chunked_audio_filepath': {'path': '57.wav', 'array': array([ 0.00308134, -0.00693714, -0.01835367, ...,  0.        ,\n",
      "        0.        ,  0.        ]), 'sampling_rate': 16000}, 'text': 'इसे हम अन्य कलर मैप का इस्तेमाल करके बदल सकते हैं', 'pred_text': 'इसे हम अन्य कलर मैप का इस्तेमाल करके बदल सकते है', 'audio_filepath': '/data/speech-translation/spoken_output/spoken_tutorial_output1/final_audios/hindi/ErYsrwDsz3w.hi.wav', 'start_time': 572.8, 'duration': 3.44, 'alignment_score': 0.9896907216494846, 'video_id': 'ErYsrwDsz3w', 'en_mining_score': 0.8155329823493958, 'en_text': 'This can be changed by using a different color map'}, {'chunked_audio_filepath': {'path': '58.wav', 'array': array([ 2.81253306e-05,  1.89608327e-05, -1.05438403e-06, ...,\n",
      "        0.00000000e+00,  0.00000000e+00,  0.00000000e+00]), 'sampling_rate': 16000}, 'text': 'यह देखने के लिए कि आई वाकई में केवल एक अरै है हम लिखते हैं प्रोम्प्ट पर आई अतः टाइप करें आई हम देखते हैं कि एक अरै प्रदर्शित होती है', 'pred_text': 'यह देखने के लिए की वाकई में केवल एक अरे है हम लिखते है प्रॉमट पर आई अतः टाइप करें आई हम देखते हैं की एक अरे प्रदर्शित होती है', 'audio_filepath': '/data/speech-translation/spoken_output/spoken_tutorial_output1/final_audios/hindi/ErYsrwDsz3w.hi.wav', 'start_time': 576.56, 'duration': 12.08, 'alignment_score': 0.9533073929961089, 'video_id': 'ErYsrwDsz3w', 'en_mining_score': 0.7678420543670654, 'en_text': 'To see that I is really, just an array, we say, I, at the prompt,so type I We see that an array is displayed'}, {'chunked_audio_filepath': {'path': '59.wav', 'array': array([ 3.36871426e-06, -6.33321906e-06, -1.52543362e-05, ...,\n",
      "        0.00000000e+00,  0.00000000e+00,  0.00000000e+00]), 'sampling_rate': 16000}, 'text': 'किसी भी अरै का डायमेंशन जाँचने के लिए हम डॉटशेप फंक्शन इस्तेमाल कर सकते हैं', 'pred_text': 'किसी भी अरे का डायमेंशन जाँचने के लिए हम डॉट शेप फंक्शन इस्तेमाल कर सकते हैं', 'audio_filepath': '/data/speech-translation/spoken_output/spoken_tutorial_output1/final_audios/hindi/ErYsrwDsz3w.hi.wav', 'start_time': 588.8, 'duration': 5.76, 'alignment_score': 0.9867549668874173, 'video_id': 'ErYsrwDsz3w', 'en_mining_score': 0.8036125302314758, 'en_text': 'To check the dimensions of any array, we can use dotshape function'}, {'chunked_audio_filepath': {'path': '60.wav', 'array': array([0.09810933, 0.09593169, 0.00218754, ..., 0.        , 0.        ,\n",
      "       0.        ]), 'sampling_rate': 16000}, 'text': 'अतः टाइप करें आई डॉट शेप जैसा कि हम देख सकते हैं हमें इमेज की डायमेन्शन्स मिल गयी है', 'pred_text': 'अतः टाइप करें आई डॉट शेप जैसेा की हम देख सकते है हमें इमेज की डाायमेंशन्स मिल गयी है', 'audio_filepath': '/data/speech-translation/spoken_output/spoken_tutorial_output1/final_audios/hindi/ErYsrwDsz3w.hi.wav', 'start_time': 594.72, 'duration': 8.72, 'alignment_score': 0.9642857142857143, 'video_id': 'ErYsrwDsz3w', 'en_mining_score': 0.7797783613204956, 'en_text': 'So type I dot shape As we can see,we got the dimensions of the image'}, {'chunked_audio_filepath': {'path': '61.wav', 'array': array([-0.03313752, -0.10420762, -0.12249971, ...,  0.        ,\n",
      "        0.        ,  0.        ]), 'sampling_rate': 16000}, 'text': 'इमेजsquares डॉट png की डायमेंशन 300एक्स300 है', 'pred_text': 'इमेज स्क्वेयर डॉट पी एन जी की डायमेंशन थ्री हंड्रेड इन्टू थ्री हंड्रेड है', 'audio_filepath': '/data/speech-translation/spoken_output/spoken_tutorial_output1/final_audios/hindi/ErYsrwDsz3w.hi.wav', 'start_time': 603.68, 'duration': 6.8, 'alignment_score': 0.6016949152542372, 'video_id': 'ErYsrwDsz3w', 'en_mining_score': 0.5339261293411255, 'en_text': 'The image,``squares dot png`` has the dimensions of 300x300'}, {'chunked_audio_filepath': {'path': '62.wav', 'array': array([0.25779599, 0.32541871, 0.37041301, ..., 0.        , 0.        ,\n",
      "       0.        ]), 'sampling_rate': 16000}, 'text': 'ट्यूटोरियल के इस भाग का उद्देश्य होगा इमेज का ऊपरी बायाँ चतुर्थ भाग पाना', 'pred_text': 'ट्यूटोरियल के इस भाग का उद्देश्य होगा इमेज का ऊपरी बाया चतुर्थ भाग पाना', 'audio_filepath': '/data/speech-translation/spoken_output/spoken_tutorial_output1/final_audios/hindi/ErYsrwDsz3w.hi.wav', 'start_time': 610.8, 'duration': 5.68, 'alignment_score': 0.993006993006993, 'video_id': 'ErYsrwDsz3w', 'en_mining_score': 0.7516075968742371, 'en_text': 'Our goal for this part of the tutorial would be to get the top left quadrant of the image'}, {'chunked_audio_filepath': {'path': '63.wav', 'array': array([-6.46470413e-02, -2.19424218e-02,  5.60867637e-02, ...,\n",
      "       -1.05956535e-10, -1.29994756e-11,  3.23834674e-11]), 'sampling_rate': 16000}, 'text': 'यह करने के लिए हमें अरै के कुछ रोस और कुछ कॉलम्स को एक्सेस करने की आवश्यकता है', 'pred_text': 'यह करने के लिए हमें अरे के कुछ रोलस और कुछ कॉलम्स को एक्सेस करने की आवश्यकता है', 'audio_filepath': '/data/speech-translation/spoken_output/spoken_tutorial_output1/final_audios/hindi/ErYsrwDsz3w.hi.wav', 'start_time': 616.88, 'duration': 6.4, 'alignment_score': 0.9872611464968153, 'video_id': 'ErYsrwDsz3w', 'en_mining_score': 0.7078985571861267, 'en_text': 'To do this, we need to access, a few of the rows and a few of the columns of the array'}, {'chunked_audio_filepath': {'path': '64.wav', 'array': array([-0.1503486 , -0.10452804, -0.10415801, ...,  0.        ,\n",
      "        0.        ,  0.        ]), 'sampling_rate': 16000}, 'text': 'सी के तीसरे कॉलम को एक्सेस करने के लिए हम कहते हैं सी स्क्वैर ब्रैकेट में कोलोन डॉट 2 सारतः  हम सी के तीसरे कॉलम की सभी रोस को एक्सेस कर रहे हैं', 'pred_text': 'सी के तीसरे कॉलम को एक्सेस करने के लिए हम केहते हैं सी स्क्वेयर ब्रैकेट में कॉलन डॉट टू सारतः हम सी के तीसरे कॉलम की सभी रोज़ को एक्सेस कर रहे हैं', 'audio_filepath': '/data/speech-translation/spoken_output/spoken_tutorial_output1/final_audios/hindi/ErYsrwDsz3w.hi.wav', 'start_time': 624.0, 'duration': 13.52, 'alignment_score': 0.9655172413793104, 'video_id': 'ErYsrwDsz3w', 'en_mining_score': 0.6963460445404053, 'en_text': 'To access, the third column of C, we said, C with square brackets colon dot 2 Essentially, we are accessing all the rows in column three of C'}, {'chunked_audio_filepath': {'path': '65.wav', 'array': array([-0.00343024, -0.00035525,  0.0043    , ...,  0.        ,\n",
      "        0.        ,  0.        ]), 'sampling_rate': 16000}, 'text': 'अब इसे सी के तीसरे कॉलम की पहली तीन रोस को एक्सेस करने के लिए बदलते हैं', 'pred_text': 'अब इसे सी के तीसरे कॉलम की पहली तीन रोज़ को एक्सेस करने के लिए बदलते हैं', 'audio_filepath': '/data/speech-translation/spoken_output/spoken_tutorial_output1/final_audios/hindi/ErYsrwDsz3w.hi.wav', 'start_time': 639.68, 'duration': 5.52, 'alignment_score': 0.986013986013986, 'video_id': 'ErYsrwDsz3w', 'en_mining_score': 0.6314455270767212, 'en_text': 'Now, let us modify this to access only the first three rows, of column three of C'}, {'chunked_audio_filepath': {'path': '66.wav', 'array': array([0.05974358, 0.07271472, 0.06350067, ..., 0.00283462, 0.00341739,\n",
      "       0.00282527]), 'sampling_rate': 16000}, 'text': 'हम लिखते हैं सी स्क्वैर ब्रैकेट में 0 कोलोन 3 कॉमा 2 इंडेक्स्ड 0 टो 3 से रोस के एलिमेंट्स देता है 3 सम्मिलित नहीं है और कोलम्न इंडेक्स्ड 2', 'pred_text': 'हम लिखते हैं सी स्क्वेयर ब्रैकेट में जीरो कॉलन थ्री कमाटू इंडेक्स् जीरो टू थ्री से रोज को एलिमेंट देता है थ्री सम्मिलित नहीं है और कॉलम इंडेक्स टू', 'audio_filepath': '/data/speech-translation/spoken_output/spoken_tutorial_output1/final_audios/hindi/ErYsrwDsz3w.hi.wav', 'start_time': 645.84, 'duration': 19.52, 'alignment_score': 0.8591549295774648, 'video_id': 'ErYsrwDsz3w', 'en_mining_score': 0.650564432144165, 'en_text': 'We say, C within square bracket 0 colon 3 comma 2 gives, the elements of rows indexed from 0 to 3, 3 not included and column indexed 2'}, {'chunked_audio_filepath': {'path': '67.wav', 'array': array([-3.58597617e-06, -6.66043843e-06, -4.51678261e-06, ...,\n",
      "        0.00000000e+00,  0.00000000e+00,  0.00000000e+00]), 'sampling_rate': 16000}, 'text': 'ध्यान दें स्लाइस जो हमें मिला है उसमें कोलन से पहले इंडेक्स को सम्मिलित किया है और उसके बाद के इंडेक्स को नहीं सम्मिलित किया है', 'pred_text': 'ध्यान दें स््लाइसिंग जो हमें मिला है उसमें कॉलन से पहले इंडेक्स को सम्मिलित किया है और उसके बाद के इंडेक्स को नहीं सम्मिलित किया है', 'audio_filepath': '/data/speech-translation/spoken_output/spoken_tutorial_output1/final_audios/hindi/ErYsrwDsz3w.hi.wav', 'start_time': 665.68, 'duration': 9.6, 'alignment_score': 0.9806201550387597, 'video_id': 'ErYsrwDsz3w', 'en_mining_score': 0.5012052059173584, 'en_text': 'Note that, the index before the colon is included and the index after it is not included in the slice that we have obtained'}, {'chunked_audio_filepath': {'path': '68.wav', 'array': array([-5.47462259e-04,  8.52708472e-05,  4.94859880e-04, ...,\n",
      "        0.00000000e+00,  0.00000000e+00,  0.00000000e+00]), 'sampling_rate': 16000}, 'text': 'यह काफी रेंज फंक्शन जैसा है जहाँ रंगे एक लिस्ट देता है जिसमें ऊपरी सीमा या स्टॉप वैल्यू सम्मिलित नहीं है', 'pred_text': 'यह काफी रेंज फंक्शन जैसा है जहाँ रेंज एक लिस्ट देता है जिसमें ऊपरी सीमा या स्टॉप वैल्यू सम्मिलित नहीं है', 'audio_filepath': '/data/speech-translation/spoken_output/spoken_tutorial_output1/final_audios/hindi/ErYsrwDsz3w.hi.wav', 'start_time': 675.68, 'duration': 9.04, 'alignment_score': 0.9855769230769231, 'video_id': 'ErYsrwDsz3w', 'en_mining_score': 0.7856418490409851, 'en_text': 'This is very similar to the range function, where range returns a list, in which the upper limit or stop value is not included'}, {'chunked_audio_filepath': {'path': '69.wav', 'array': array([ 0.00178125, -0.00262197, -0.00892606, ...,  0.        ,\n",
      "        0.        ,  0.        ]), 'sampling_rate': 16000}, 'text': 'अतः टाइप करें सी स्क्वैर ब्रैकेट में 0 कोलोन 3 कॉमा 2 और एंटर दबाएँ', 'pred_text': 'अतः टाइप करें सी स्क्वाेयर ब्रैकेट में जीरो कॉलन थ्री कोमाटू और एंटर दबाए', 'audio_filepath': '/data/speech-translation/spoken_output/spoken_tutorial_output1/final_audios/hindi/ErYsrwDsz3w.hi.wav', 'start_time': 685.76, 'duration': 7.68, 'alignment_score': 0.8785714285714286, 'video_id': 'ErYsrwDsz3w', 'en_mining_score': 0.7429708242416382, 'en_text': 'So type C within square bracket 1 comma 1 colon 3 and hit enter'}, {'chunked_audio_filepath': {'path': '70.wav', 'array': array([ 1.65701067e-07, -7.91414664e-07, -1.22326060e-06, ...,\n",
      "        0.00000000e+00,  0.00000000e+00,  0.00000000e+00]), 'sampling_rate': 16000}, 'text': 'अब यदि हम इंडेक्स 2 की रो को और इंडेक्स 0 से 2सम्मिलित कॉलम्स को एक्सेस करना चाहते हैं हम लिखते हैं अतः टाइप करें सी स्क्वैर ब्रैकेट में 2 कॉमा 0 कोलोन 3 और एंटर दबाएँ', 'pred_text': 'अब यदि हम इंडेक्स टू की रोको और इंडेक्स जीरो से टू कॉलम्स को एक्सेस करना चाहते हैं हम लिखते हैं अतः टाइप करें सी स्क्वेयर ब्रैकेट में टू कोॉमा ज़ीरो कॉलन थ्री और एंटर दबय', 'audio_filepath': '/data/speech-translation/spoken_output/spoken_tutorial_output1/final_audios/hindi/ErYsrwDsz3w.hi.wav', 'start_time': 696.56, 'duration': 23.28, 'alignment_score': 0.8991097922848664, 'video_id': 'ErYsrwDsz3w', 'en_mining_score': 0.5347694158554077, 'en_text': 'Let us access one row of C, say the third row We do it by saying,C in square bracket 2 and hit enter'}, {'chunked_audio_filepath': {'path': '71.wav', 'array': array([2.41545564e-07, 1.61752922e-07, 3.79708638e-08, ...,\n",
      "       0.00000000e+00, 0.00000000e+00, 0.00000000e+00]), 'sampling_rate': 16000}, 'text': 'यहाँ विडियो रोकें अभ्यास की कोशिश करें और विडियो पुनः चलायें', 'pred_text': 'यहां वीडियो रोके अभ्यास की कोशिश करे और वडियो पुनः चलाए', 'audio_filepath': '/data/speech-translation/spoken_output/spoken_tutorial_output1/final_audios/hindi/ErYsrwDsz3w.hi.wav', 'start_time': 721.52, 'duration': 5.04, 'alignment_score': 0.9304347826086956, 'video_id': 'ErYsrwDsz3w', 'en_mining_score': 0.39807432889938354, 'en_text': 'So type A within square bracket colon and hit enter Now pause the video here,try out the following exercise and resume the video'}, {'chunked_audio_filepath': {'path': '72.wav', 'array': array([-0.00734281,  0.00739055,  0.01310103, ...,  0.        ,\n",
      "        0.        ,  0.        ]), 'sampling_rate': 16000}, 'text': 'पहले सी से 22 23 एलिमेंट्स को प्राप्त करें', 'pred_text': 'पहले सी से ट्वेंटी टू ट्वेंटी थ्री एलिमेंट्स को प्राप्त करें', 'audio_filepath': '/data/speech-translation/spoken_output/spoken_tutorial_output1/final_audios/hindi/ErYsrwDsz3w.hi.wav', 'start_time': 728.8, 'duration': 5.28, 'alignment_score': 0.7843137254901961, 'video_id': 'ErYsrwDsz3w', 'en_mining_score': 0.5975320935249329, 'en_text': 'First, obtain the elements [22, 23] from C'}, {'chunked_audio_filepath': {'path': '73.wav', 'array': array([-0.02624014, -0.04728916, -0.06609929, ...,  0.        ,\n",
      "        0.        ,  0.        ]), 'sampling_rate': 16000}, 'text': 'फिर सी से एलिमेंट्स 11 21 31 41 प्राप्त करें', 'pred_text': 'फिर सी से एलिमेंट लेलेवन ट्वेंटी वन थर्टी वन फोर्टी वन प्राप्त करें', 'audio_filepath': '/data/speech-translation/spoken_output/spoken_tutorial_output1/final_audios/hindi/ErYsrwDsz3w.hi.wav', 'start_time': 736.32, 'duration': 6.16, 'alignment_score': 0.7117117117117118, 'video_id': 'ErYsrwDsz3w', 'en_mining_score': 0.5921807289123535, 'en_text': 'Then, obtain the elements [11, 21, 31, 41] from C'}, {'chunked_audio_filepath': {'path': '74.wav', 'array': array([-0.02127559, -0.06156192, -0.0996516 , ...,  0.        ,\n",
      "        0.        ,  0.        ]), 'sampling_rate': 16000}, 'text': 'और फिर तीसरा और अंतिम एलिमेंट्स 2131 41 0 प्राप्त करें', 'pred_text': 'और फिर तीसरा और अंतिम एलिमेंट ट्वेंटी वन थर्टी वन फोर्टी वन जीरो प्राप्त करें', 'audio_filepath': '/data/speech-translation/spoken_output/spoken_tutorial_output1/final_audios/hindi/ErYsrwDsz3w.hi.wav', 'start_time': 743.12, 'duration': 6.32, 'alignment_score': 0.7633587786259541, 'video_id': 'ErYsrwDsz3w', 'en_mining_score': 0.628370463848114, 'en_text': 'And then the third one and Final one, obtain the elements [21,31, 41, 0]'}, {'chunked_audio_filepath': {'path': '75.wav', 'array': array([-0.24604738, -0.2523008 , -0.1513584 , ...,  0.        ,\n",
      "        0.        ,  0.        ]), 'sampling_rate': 16000}, 'text': 'अब टर्मिनल पर जाएँ', 'pred_text': 'आप टर्मिनल पर जाएं', 'audio_filepath': '/data/speech-translation/spoken_output/spoken_tutorial_output1/final_audios/hindi/ErYsrwDsz3w.hi.wav', 'start_time': 751.68, 'duration': 1.6, 'alignment_score': 0.9166666666666666, 'video_id': 'ErYsrwDsz3w', 'en_mining_score': 0.8115728497505188, 'en_text': 'Now switch to the terminal'}, {'chunked_audio_filepath': {'path': '76.wav', 'array': array([0.01620139, 0.01858821, 0.01922756, ..., 0.        , 0.        ,\n",
      "       0.        ]), 'sampling_rate': 16000}, 'text': 'अतः टाइप करें सी स्क्वैर ब्रैकेट में 1 कॉमा 1 कोलोन 3 और एंटर दबाएँ', 'pred_text': 'अतः टाइप करें सी स्क्वेयर ब्रैकेट में वन कॉमा वन कॉलन थ्री और एंटर दबाएं', 'audio_filepath': '/data/speech-translation/spoken_output/spoken_tutorial_output1/final_audios/hindi/ErYsrwDsz3w.hi.wav', 'start_time': 757.84, 'duration': 7.6, 'alignment_score': 0.9064748201438849, 'video_id': 'ErYsrwDsz3w', 'en_mining_score': 0.8472408056259155, 'en_text': 'So type C within square bracket 1 comma 1 colon 3 and hit enter'}, {'chunked_audio_filepath': {'path': '77.wav', 'array': array([-0.1029341 , -0.12611437, -0.11154008, ...,  0.        ,\n",
      "        0.        ,  0.        ]), 'sampling_rate': 16000}, 'text': 'सी 1 1 इस टो 3 एलिमेंट्स 22 23 देता है', 'pred_text': 'सी वन कॉमावन इसज टू थ्री एलिमेंट्स ट्वेंटी टू ट्वेंटी थ्री देता है', 'audio_filepath': '/data/speech-translation/spoken_output/spoken_tutorial_output1/final_audios/hindi/ErYsrwDsz3w.hi.wav', 'start_time': 766.8, 'duration': 8.24, 'alignment_score': 0.6538461538461539, 'video_id': 'ErYsrwDsz3w', 'en_mining_score': 0.5964165329933167, 'en_text': 'C[1, 1 is to 3] gives the elements [22, 23]'}, {'chunked_audio_filepath': {'path': '78.wav', 'array': array([0.51121658, 0.724814  , 0.75880146, ..., 0.        , 0.        ,\n",
      "       0.        ]), 'sampling_rate': 16000}, 'text': 'सी स्क्वैर ब्रैकेट में 0 कोलोन 4 कॉमा 0 एलिमेंट्स 11 21 31 41 देता है', 'pred_text': 'सी स्क्वाेयर ब्रैकेट में जीरो कॉलिन फोर कोमा जीरो एलिमेंटस इलेवन ट्वेंटी वन थर्टी वन फोर्टी वन देता है', 'audio_filepath': '/data/speech-translation/spoken_output/spoken_tutorial_output1/final_audios/hindi/ErYsrwDsz3w.hi.wav', 'start_time': 776.96, 'duration': 10.8, 'alignment_score': 0.7134502923976609, 'video_id': 'ErYsrwDsz3w', 'en_mining_score': 0.7254725098609924, 'en_text': 'C within square bracket 0 colon 4 comma 0 gives the elements [11, 21, 31, 41]'}, {'chunked_audio_filepath': {'path': '79.wav', 'array': array([-0.04417169, -0.01753321,  0.00650463, ...,  0.        ,\n",
      "        0.        ,  0.        ]), 'sampling_rate': 16000}, 'text': 'सी 1 कोलोन 5 0 एलिमेंट्स 21 31 41 0 देता है', 'pred_text': 'सी वन कॉलन फाइव कॉमस जीरो एलिमेंट ट्वेंटी वन थर्टी वन फोटी वन जीरो देता है', 'audio_filepath': '/data/speech-translation/spoken_output/spoken_tutorial_output1/final_audios/hindi/ErYsrwDsz3w.hi.wav', 'start_time': 793.92, 'duration': 8.0, 'alignment_score': 0.6153846153846154, 'video_id': 'ErYsrwDsz3w', 'en_mining_score': 0.6339172124862671, 'en_text': 'C[1 colon 5, 0] gives the elements [21, 31, 41, 0]'}, {'chunked_audio_filepath': {'path': '80.wav', 'array': array([-0.023629  , -0.02547153,  0.00113002, ..., -0.00117207,\n",
      "       -0.00091067, -0.00068422]), 'sampling_rate': 16000}, 'text': 'ध्यान दें जब रेंजेस निर्धारित कर रहे हों तो यदि आप शुरू से शुरुआत कर रहे हैं या अंत तक जा रहे हैं तो अनुरूपी एलिमेंट बहिष्कृत हो सकते हैं', 'pred_text': 'ध्यान दें जब रेंजेज निर्धारित कर रहे हो तो यदि आप शुरू से शुरुआत कर रहे हो या अंत तक जा रहे हैं तो अनुरूपी एलिमेंट बहिष्कृत हो सकते है', 'audio_filepath': '/data/speech-translation/spoken_output/spoken_tutorial_output1/final_audios/hindi/ErYsrwDsz3w.hi.wav', 'start_time': 802.4, 'duration': 9.92, 'alignment_score': 0.981549815498155, 'video_id': 'ErYsrwDsz3w', 'en_mining_score': 0.7261072993278503, 'en_text': 'Note that when specifying ranges, if you are starting from the beginning or going up to the end, the corresponding element may be dropped'}, {'chunked_audio_filepath': {'path': '81.wav', 'array': array([-0.0004603 , -0.00021885,  0.00112323, ...,  0.        ,\n",
      "        0.        ,  0.        ]), 'sampling_rate': 16000}, 'text': 'अतः पिछले उदाहरण में 11 21 31 41 पाने के लिए हम केवल कह सकते थे', 'pred_text': 'अतः पिछले उदाहरण में एलेवन ट्वेंटी वन थर्टी वन फोर्टी वन पाने के लिए हम केवल कह सकते थे', 'audio_filepath': '/data/speech-translation/spoken_output/spoken_tutorial_output1/final_audios/hindi/ErYsrwDsz3w.hi.wav', 'start_time': 812.48, 'duration': 6.64, 'alignment_score': 0.7866666666666666, 'video_id': 'ErYsrwDsz3w', 'en_mining_score': 0.48377013206481934, 'en_text': 'Then, obtain the elements [11, 21, 31, 41] from C'}, {'chunked_audio_filepath': {'path': '82.wav', 'array': array([-0.0298833 , -0.03534171, -0.02799404, ...,  0.        ,\n",
      "        0.        ,  0.        ]), 'sampling_rate': 16000}, 'text': 'अतः टाइप करें सी स्क्वैर ब्रैकेट में 1 कोलोन 5 कॉमा 0 और एंटर दबाएँ', 'pred_text': 'अतः टाइप करें सी स्क्वाेयर ब्रैकेट में वऑन कॉलन फाइव कोमा जीरो और एंटर दबाएं', 'audio_filepath': '/data/speech-translation/spoken_output/spoken_tutorial_output1/final_audios/hindi/ErYsrwDsz3w.hi.wav', 'start_time': 819.36, 'duration': 7.6, 'alignment_score': 0.8741258741258742, 'video_id': 'ErYsrwDsz3w', 'en_mining_score': 0.7493640184402466, 'en_text': 'So type C within square bracket 1 comma 1 colon 3 and hit enter'}, {'chunked_audio_filepath': {'path': '83.wav', 'array': array([0., 0., 0., ..., 0., 0., 0.]), 'sampling_rate': 16000}, 'text': 'हमें एलिमेंट्स 21 31 41 0 मिलते हैं', 'pred_text': 'हमें एलिमेंट्स ट्वेंटी वन थर्टी वन फोर्टी वन जीरो मिलते हैं', 'audio_filepath': '/data/speech-translation/spoken_output/spoken_tutorial_output1/final_audios/hindi/ErYsrwDsz3w.hi.wav', 'start_time': 829.52, 'duration': 4.88, 'alignment_score': 0.6702127659574468, 'video_id': 'ErYsrwDsz3w', 'en_mining_score': 0.7316605448722839, 'en_text': 'We get the elements [21, 31, 41, 0]'}, {'chunked_audio_filepath': {'path': '84.wav', 'array': array([ 1.04942592e-02, -1.62197292e-01, -2.24739507e-01, ...,\n",
      "       -2.71766574e-08, -1.57427600e-08, -1.14645387e-08]), 'sampling_rate': 16000}, 'text': 'यदि हम दोनों इन्डेक्सेस छोड़ दें तो जैसा कि हम पहले से ही जानते हैं हमें स्लाईस अंत से अंत तक मिलता है', 'pred_text': 'यदि हम दोनों इंडेक्सेस को छोड़ दे तो जैसा की हम पहले से ही जानते हैं हमें स्लाइड अंत से अंत तक मिलता है', 'audio_filepath': '/data/speech-translation/spoken_output/spoken_tutorial_output1/final_audios/hindi/ErYsrwDsz3w.hi.wav', 'start_time': 834.64, 'duration': 8.16, 'alignment_score': 0.9560975609756097, 'video_id': 'ErYsrwDsz3w', 'en_mining_score': 0.6548192501068115, 'en_text': 'If we skip both the indexes, we get the slice from end to end, as we already know'}, {'chunked_audio_filepath': {'path': '85.wav', 'array': array([-1.41934037e-01, -1.59822986e-01, -1.18972354e-01, ...,\n",
      "       -2.35031479e-07,  2.34021741e-07, -2.94243250e-07]), 'sampling_rate': 16000}, 'text': 'अतः टाइप करें सी स्क्वैर ब्रैकेट में कोलोन 4 कॉमा 0 और एंटर दबाएँ', 'pred_text': 'अतः टाइप करें सी स्क्वाेयर ब्रैकेट में कॉलन फोर कोमा जीरो और एंटर दबाएँ', 'audio_filepath': '/data/speech-translation/spoken_output/spoken_tutorial_output1/final_audios/hindi/ErYsrwDsz3w.hi.wav', 'start_time': 842.96, 'duration': 6.72, 'alignment_score': 0.9044117647058824, 'video_id': 'ErYsrwDsz3w', 'en_mining_score': 0.7110437750816345, 'en_text': 'So type C within square bracket 1 comma 1 colon 3 and hit enter'}, {'chunked_audio_filepath': {'path': '86.wav', 'array': array([-0.19661771, -0.17361207, -0.00621326, ...,  0.08642585,\n",
      "        0.07132412,  0.04187355]), 'sampling_rate': 16000}, 'text': 'और अगला टाइप करें सी स्क्वैर ब्रैकेट में 1 कोलोन कॉमा 0 और एंटर दबाएँ', 'pred_text': 'और अगला टाइप करें प्री स्क्वेयर ब्रैकेट में ऑन कॉलन कॉमा जीरो और एंटर द', 'audio_filepath': '/data/speech-translation/spoken_output/spoken_tutorial_output1/final_audios/hindi/ErYsrwDsz3w.hi.wav', 'start_time': 849.84, 'duration': 5.84, 'alignment_score': 0.8785714285714286, 'video_id': 'ErYsrwDsz3w', 'en_mining_score': 0.7015865445137024, 'en_text': 'So type C within square bracket 1 comma 1 colon 3 and hit enter'}, {'chunked_audio_filepath': {'path': '87.wav', 'array': array([ 1.36515787e-02,  1.53151965e-02,  1.13680987e-02, ...,\n",
      "       -8.80100924e-05, -8.10648271e-05, -4.63202960e-05]), 'sampling_rate': 16000}, 'text': 'अब यहाँ विडियो रोकें निम्न अभ्यास की कोशिश करें और विडियो पुनः चलायें', 'pred_text': 'बाएँ विडियो रोकेके निम्न अभ्यास की कोशिश करें और विडियो पुनः चलाए', 'audio_filepath': '/data/speech-translation/spoken_output/spoken_tutorial_output1/final_audios/hindi/ErYsrwDsz3w.hi.wav', 'start_time': 855.68, 'duration': 4.96, 'alignment_score': 0.9253731343283582, 'video_id': 'ErYsrwDsz3w', 'en_mining_score': 0.43672531843185425, 'en_text': 'So type A within square bracket colon and hit enter Now pause the video here,try out the following exercise and resume the video'}, {'chunked_audio_filepath': {'path': '88.wav', 'array': array([-0.01026355, -0.01524722, -0.01489767, ...,  0.        ,\n",
      "        0.        ,  0.        ]), 'sampling_rate': 16000}, 'text': 'सी से एलिमेंट्स 23 24 कॉमा 33 34 प्राप्त करें', 'pred_text': 'तीसरे एलिमेंट्स ट्वेंटी थ्री ट्वेंटी फोर कमा थर्टी थ्री माइनस थर्टी फोर प्राप्त करते', 'audio_filepath': '/data/speech-translation/spoken_output/spoken_tutorial_output1/final_audios/hindi/ErYsrwDsz3w.hi.wav', 'start_time': 860.72, 'duration': 7.28, 'alignment_score': 0.5891472868217054, 'video_id': 'ErYsrwDsz3w', 'en_mining_score': 0.544463574886322, 'en_text': 'Obtain the elements [[23, 24] comma [33, 34]] from C'}, {'chunked_audio_filepath': {'path': '89.wav', 'array': array([0., 0., 0., ..., 0., 0., 0.]), 'sampling_rate': 16000}, 'text': 'अब हल के लिए टर्मिनल पर जाएँ', 'pred_text': 'अब हल्के लिए टर्मिनल पर जाएं', 'audio_filepath': '/data/speech-translation/spoken_output/spoken_tutorial_output1/final_audios/hindi/ErYsrwDsz3w.hi.wav', 'start_time': 868.4, 'duration': 2.4, 'alignment_score': 0.9642857142857143, 'video_id': 'ErYsrwDsz3w', 'en_mining_score': 0.7029272317886353, 'en_text': 'Now switch to the terminal for solution'}, {'chunked_audio_filepath': {'path': '90.wav', 'array': array([0., 0., 0., ..., 0., 0., 0.]), 'sampling_rate': 16000}, 'text': 'कमांड टाइप करें सी स्क्वैर ब्रैकेट में 1 कोलोन 3 कॉमा 2 कोलोन 4 हमें अपेक्षित एलिमेंट्स देगा', 'pred_text': 'कमांड टाइप करें सी स्क्वेयर ब्रैकेट में वन कॉलन थ्री कॉमाटू कॉल फर हमेंेक्षितलमें', 'audio_filepath': '/data/speech-translation/spoken_output/spoken_tutorial_output1/final_audios/hindi/ErYsrwDsz3w.hi.wav', 'start_time': 871.52, 'duration': 10.48, 'alignment_score': 0.8208092485549133, 'video_id': 'ErYsrwDsz3w', 'en_mining_score': 0.8699821829795837, 'en_text': 'Type the command C within square bracket 1 colon 3 comma 2 colon 4 will give us the required elements'}, {'chunked_audio_filepath': {'path': '91.wav', 'array': array([-3.01145250e-03, -1.81190018e-02, -2.24252325e-02, ...,\n",
      "       -8.74178804e-05, -4.45747937e-05, -3.93354821e-05]), 'sampling_rate': 16000}, 'text': 'अब हम चित्र का ऊपरी बायाँ भाग प्राप्त करना चाहते हैं', 'pred_text': 'अब हम चित्र का उऊपरी बाया भाग प्राप्त करना चाहते हैं', 'audio_filepath': '/data/speech-translation/spoken_output/spoken_tutorial_output1/final_audios/hindi/ErYsrwDsz3w.hi.wav', 'start_time': 883.84, 'duration': 3.6, 'alignment_score': 0.9807692307692307, 'video_id': 'ErYsrwDsz3w', 'en_mining_score': 0.7151015996932983, 'en_text': 'Now, we wish to obtain the top left quarter of the image'}, {'chunked_audio_filepath': {'path': '92.wav', 'array': array([-0.0041784 , -0.00794102, -0.00083356, ..., -0.00012007,\n",
      "       -0.00013846, -0.00013919]), 'sampling_rate': 16000}, 'text': 'इसे करने के लिए हम क्या करेंगे', 'pred_text': 'इसे करने के लिए हम क्या करेंगे', 'audio_filepath': '/data/speech-translation/spoken_output/spoken_tutorial_output1/final_audios/hindi/ErYsrwDsz3w.hi.wav', 'start_time': 889.76, 'duration': 1.84, 'alignment_score': 1.0, 'video_id': 'ErYsrwDsz3w', 'en_mining_score': 0.6397184133529663, 'en_text': 'How do we go about doing it'}, {'chunked_audio_filepath': {'path': '93.wav', 'array': array([ 0.        ,  0.        ,  0.        , ..., -0.0002001 ,\n",
      "       -0.00021773, -0.00016866]), 'sampling_rate': 16000}, 'text': 'चूँकि हम जानते हैं चित्र का आकार 300 है हम जानते हैं कि हमें पहली 150 रोस और पहली 150 कॉलम्स प्राप्त करने की आवश्यकता है', 'pred_text': 'क्यूकी हम जानते हैं चित्र का आकार थ्री हंड्रेड है हम जानते हैं कि हमें पहली वन फिफ्टी रोज़ और पहली वन फ़िफ्टी कॉलम्स प्राप्त करने की आवश्यकता है', 'audio_filepath': '/data/speech-translation/spoken_output/spoken_tutorial_output1/final_audios/hindi/ErYsrwDsz3w.hi.wav', 'start_time': 892.0, 'duration': 10.56, 'alignment_score': 0.8560606060606061, 'video_id': 'ErYsrwDsz3w', 'en_mining_score': 0.8126049637794495, 'en_text': 'Since, we know the shape of the image is 300, we know that we need to get the first 150 rows and the first 150 columns'}, {'chunked_audio_filepath': {'path': '94.wav', 'array': array([ 0.00329513, -0.00979964, -0.0252083 , ..., -0.00122634,\n",
      "       -0.00145051, -0.00114391]), 'sampling_rate': 16000}, 'text': 'Icolon 150 कॉमा कोलोन 150 हमें चित्र का ऊपरी बायाँ कोना देता है', 'pred_text': 'आई कॉलन वन फिफ्टी कॉमा कॉलन च्र', 'audio_filepath': '/data/speech-translation/spoken_output/spoken_tutorial_output1/final_audios/hindi/ErYsrwDsz3w.hi.wav', 'start_time': 903.68, 'duration': 7.12, 'alignment_score': 0.4893617021276596, 'video_id': 'ErYsrwDsz3w', 'en_mining_score': 0.7619982957839966, 'en_text': 'I[colon 150 comma colon 150] gives us the top left corner of the image'}, {'chunked_audio_filepath': {'path': '95.wav', 'array': array([-4.86118915e-06,  5.74957885e-05,  2.65292401e-05, ...,\n",
      "        0.00000000e+00,  0.00000000e+00,  0.00000000e+00]), 'sampling_rate': 16000}, 'text': 'अतः टाइप करें आई स्क्वैर ब्रैकेट में कोलोन 150 कॉमा कोलोन 150 और एंटर दबाएँ', 'pred_text': 'अतः टाइप करें स्क्वेयर ब्रैकेट में कॉलन वन फिफ्टी कॉमा कॉलन वन फिफ्टी और एंटर दबय', 'audio_filepath': '/data/speech-translation/spoken_output/spoken_tutorial_output1/final_audios/hindi/ErYsrwDsz3w.hi.wav', 'start_time': 911.68, 'duration': 12.0, 'alignment_score': 0.8205128205128205, 'video_id': 'ErYsrwDsz3w', 'en_mining_score': 0.6688886880874634, 'en_text': 'So type C within square bracket 1 comma 1 colon 3 and hit enter'}, {'chunked_audio_filepath': {'path': '96.wav', 'array': array([-0.00331197,  0.00418151,  0.01127432, ...,  0.0042739 ,\n",
      "        0.00110696, -0.00068397]), 'sampling_rate': 16000}, 'text': 'चित्र के रूप में जो फॉर्म में जो हमने स्लाईस प्राप्त किया उसे देखने के लिए हम इमशो कमांड इस्तेमाल करते हैं', 'pred_text': 'चित्र के रूप में जो फॉर्म में जो हमने स्लाइसिंग प्राप्त किया उसे देखने के लिए हम आय एन शो कमांड का इस्तेमाल करते हैं', 'audio_filepath': '/data/speech-translation/spoken_output/spoken_tutorial_output1/final_audios/hindi/ErYsrwDsz3w.hi.wav', 'start_time': 926.56, 'duration': 8.64, 'alignment_score': 0.9414414414414415, 'video_id': 'ErYsrwDsz3w', 'en_mining_score': 0.5060036182403564, 'en_text': 'To read an image into an array, we use the imread command'}, {'chunked_audio_filepath': {'path': '97.wav', 'array': array([0., 0., 0., ..., 0., 0., 0.]), 'sampling_rate': 16000}, 'text': 'अतः टाइप करें इमशो स्क्वैर ब्रैकेट में आई स्क्वैर ब्रैकेट में कोलोन 150 कॉमा कोलोन 150 और एंटर दबाएँ', 'pred_text': 'अतः टाइप करें आई एम शो ट्वेल बैकेट में आई स्क्वेयर ब्रैकेट में कॉलन वन फिफ्टी कोॉमा कॉलन वन फिफ्टी और एंटर दबाएँ', 'audio_filepath': '/data/speech-translation/spoken_output/spoken_tutorial_output1/final_audios/hindi/ErYsrwDsz3w.hi.wav', 'start_time': 935.52, 'duration': 18.72, 'alignment_score': 0.8349056603773585, 'video_id': 'ErYsrwDsz3w', 'en_mining_score': 0.5888974666595459, 'en_text': 'So type C within square bracket 1 comma 1 colon 3 and hit enter'}, {'chunked_audio_filepath': {'path': '98.wav', 'array': array([ 0.07701312,  0.11960908,  0.13784932, ..., -0.00567582,\n",
      "       -0.0046539 , -0.00281004]), 'sampling_rate': 16000}, 'text': 'अभ्यास जिसे हम अभी करने जा रहे हैं उसके साथ स्क्वैर को चित्र के बीच में प्राप्त करें', 'pred_text': 'अभ्यास जिसे हम अभी करने जा रहे हैं उसके साथ स्क्वाेयर को चित्र के बीच में प्राप्त करें', 'audio_filepath': '/data/speech-translation/spoken_output/spoken_tutorial_output1/final_audios/hindi/ErYsrwDsz3w.hi.wav', 'start_time': 958.48, 'duration': 6.24, 'alignment_score': 0.9823529411764705, 'video_id': 'ErYsrwDsz3w', 'en_mining_score': 0.44548913836479187, 'en_text': 'Hence, we get the centre of the image'}, {'chunked_audio_filepath': {'path': '99.wav', 'array': array([ 3.75418495e-07, -9.08283619e-06,  1.18721437e-05, ...,\n",
      "       -2.35441000e-09,  3.12211368e-11,  1.21769239e-09]), 'sampling_rate': 16000}, 'text': 'अतः कृपया यहाँ विडियो रोकें', 'pred_text': 'अतः कृपया यहाँ वीडियो रोकेें', 'audio_filepath': '/data/speech-translation/spoken_output/spoken_tutorial_output1/final_audios/hindi/ErYsrwDsz3w.hi.wav', 'start_time': 966.16, 'duration': 2.48, 'alignment_score': 0.9636363636363636, 'video_id': 'ErYsrwDsz3w', 'en_mining_score': 0.3695226311683655, 'en_text': 'This brings us to the end of this tutorial'}]\n"
     ]
    }
   ],
   "source": [
    "from datasets import load_dataset\n",
    "from itertools import islice\n",
    "\n",
    "# Load in streaming mode\n",
    "dataset_stream = load_dataset(\n",
    "    \"ai4bharat/Spoken-Tutorial\", \n",
    "    \"indic2en\", \n",
    "    split=\"hindi\", \n",
    "    streaming=True\n",
    ")\n",
    "\n",
    "# Take first 100 samples using islice (efficient)\n",
    "first_100_samples = list(islice(dataset_stream, 100))\n",
    "\n",
    "# Check the first sample\n",
    "print(first_100_samples)\n"
   ]
  },
  {
   "cell_type": "code",
   "execution_count": 6,
   "id": "d1daa648",
   "metadata": {},
   "outputs": [
    {
     "name": "stderr",
     "output_type": "stream",
     "text": [
      "c:\\Users\\EDWIN\\OneDrive\\Documents\\GitHub\\BhasaAnuvaad-multilingual-ASR\\.venv\\lib\\site-packages\\huggingface_hub\\file_download.py:143: UserWarning: `huggingface_hub` cache-system uses symlinks by default to efficiently store duplicated files but your machine does not support them in C:\\Users\\EDWIN\\.cache\\huggingface\\hub\\datasets--ai4bharat--Spoken-Tutorial. Caching files will still work but in a degraded version that might require more space on your disk. This warning can be disabled by setting the `HF_HUB_DISABLE_SYMLINKS_WARNING` environment variable. For more details, see https://huggingface.co/docs/huggingface_hub/how-to-cache#limitations.\n",
      "To support symlinks on Windows, you either need to activate Developer Mode or to run Python as an administrator. In order to activate developer mode, see this article: https://docs.microsoft.com/en-us/windows/apps/get-started/enable-your-device-for-development\n",
      "  warnings.warn(message)\n",
      "Generating assamese split: 100%|██████████| 12274/12274 [00:01<00:00, 6944.36 examples/s]\n",
      "Generating bengali split: 100%|██████████| 30197/30197 [00:01<00:00, 19243.17 examples/s]\n",
      "Generating gujarati split: 100%|██████████| 34647/34647 [00:01<00:00, 18392.10 examples/s]\n",
      "Generating hindi split: 100%|██████████| 36613/36613 [00:01<00:00, 21304.86 examples/s]\n",
      "Generating kannada split: 100%|██████████| 15066/15066 [00:00<00:00, 22680.69 examples/s]\n",
      "Generating malayalam split: 100%|██████████| 13700/13700 [00:00<00:00, 18759.48 examples/s]\n",
      "Generating marathi split: 100%|██████████| 42211/42211 [00:02<00:00, 17861.17 examples/s]\n",
      "Generating odia split: 100%|██████████| 3317/3317 [00:00<00:00, 10320.54 examples/s]\n",
      "Generating punjabi split: 100%|██████████| 8864/8864 [00:00<00:00, 11157.24 examples/s]\n",
      "Generating sanskrit split: 100%|██████████| 7800/7800 [00:00<00:00, 9504.28 examples/s] \n",
      "Generating nepali split: 100%|██████████| 1088/1088 [00:02<00:00, 448.00 examples/s]\n",
      "Generating tamil split: 100%|██████████| 35702/35702 [00:11<00:00, 3163.44 examples/s]\n",
      "Generating telugu split: 100%|██████████| 6257/6257 [00:00<00:00, 7083.90 examples/s]\n"
     ]
    },
    {
     "name": "stdout",
     "output_type": "stream",
     "text": [
      "{'chunked_audio_filepath': {'path': '0.wav', 'array': array([0.07919721, 0.08388584, 0.06837885, ..., 0.00232932, 0.00680739,\n",
      "       0.0119831 ]), 'sampling_rate': 16000}, 'text': 'नमस्कार दोस्तों', 'pred_text': 'नमस्कार दोस्', 'audio_filepath': '/data/speech-translation/spoken_output/spoken_tutorial_output1/final_audios/hindi/ErYsrwDsz3w.hi.wav', 'start_time': 0.24, 'duration': 0.64, 'alignment_score': 0.8888888888888888, 'video_id': 'ErYsrwDsz3w', 'en_mining_score': 0.5386533141136169, 'en_text': 'Thank you.'}\n"
     ]
    }
   ],
   "source": [
    "from datasets import load_dataset\n",
    "\n",
    "# Load only the Hindi split from the indic2en config\n",
    "dataset = load_dataset(\n",
    "    \"ai4bharat/Spoken-Tutorial\",\n",
    "    \"indic2en\",\n",
    "    split=\"hindi\"   # loads Hindi subset into local cache\n",
    ")\n",
    "\n",
    "# Take the first 100 samples\n",
    "first_100 = dataset.select(range(100))\n",
    "\n",
    "print(first_100[0])   # Inspect first sample\n"
   ]
  },
  {
   "cell_type": "code",
   "execution_count": 44,
   "id": "3d65f9e8",
   "metadata": {},
   "outputs": [
    {
     "name": "stderr",
     "output_type": "stream",
     "text": [
      "c:\\Users\\EDWIN\\OneDrive\\Documents\\GitHub\\BhasaAnuvaad-multilingual-ASR\\.venv\\lib\\site-packages\\huggingface_hub\\file_download.py:143: UserWarning: `huggingface_hub` cache-system uses symlinks by default to efficiently store duplicated files but your machine does not support them in C:\\Users\\EDWIN\\.cache\\huggingface\\hub\\datasets--mozilla-foundation--common_voice_16_0. Caching files will still work but in a degraded version that might require more space on your disk. This warning can be disabled by setting the `HF_HUB_DISABLE_SYMLINKS_WARNING` environment variable. For more details, see https://huggingface.co/docs/huggingface_hub/how-to-cache#limitations.\n",
      "To support symlinks on Windows, you either need to activate Developer Mode or to run Python as an administrator. In order to activate developer mode, see this article: https://docs.microsoft.com/en-us/windows/apps/get-started/enable-your-device-for-development\n",
      "  warnings.warn(message)\n",
      "c:\\Users\\EDWIN\\OneDrive\\Documents\\GitHub\\BhasaAnuvaad-multilingual-ASR\\.venv\\lib\\site-packages\\huggingface_hub\\file_download.py:143: UserWarning: `huggingface_hub` cache-system uses symlinks by default to efficiently store duplicated files but your machine does not support them in C:\\Users\\EDWIN\\.cache\\huggingface\\hub\\datasets--reach-vb--common_voice_16_0. Caching files will still work but in a degraded version that might require more space on your disk. This warning can be disabled by setting the `HF_HUB_DISABLE_SYMLINKS_WARNING` environment variable. For more details, see https://huggingface.co/docs/huggingface_hub/how-to-cache#limitations.\n",
      "To support symlinks on Windows, you either need to activate Developer Mode or to run Python as an administrator. In order to activate developer mode, see this article: https://docs.microsoft.com/en-us/windows/apps/get-started/enable-your-device-for-development\n",
      "  warnings.warn(message)\n",
      "Xet Storage is enabled for this repo, but the 'hf_xet' package is not installed. Falling back to regular HTTP download. For better performance, install the package with: `pip install huggingface_hub[hf_xet]` or `pip install hf_xet`\n",
      "Xet Storage is enabled for this repo, but the 'hf_xet' package is not installed. Falling back to regular HTTP download. For better performance, install the package with: `pip install huggingface_hub[hf_xet]` or `pip install hf_xet`\n",
      "Xet Storage is enabled for this repo, but the 'hf_xet' package is not installed. Falling back to regular HTTP download. For better performance, install the package with: `pip install huggingface_hub[hf_xet]` or `pip install hf_xet`\n",
      "Xet Storage is enabled for this repo, but the 'hf_xet' package is not installed. Falling back to regular HTTP download. For better performance, install the package with: `pip install huggingface_hub[hf_xet]` or `pip install hf_xet`\n",
      "Xet Storage is enabled for this repo, but the 'hf_xet' package is not installed. Falling back to regular HTTP download. For better performance, install the package with: `pip install huggingface_hub[hf_xet]` or `pip install hf_xet`\n",
      "Reading metadata...: 4661it [00:00, 101262.57it/s]les/s]\n",
      "Generating train split: 4661 examples [00:02, 2323.80 examples/s]\n",
      "Reading metadata...: 2423it [00:00, 129393.17it/s]examples/s]\n",
      "Generating validation split: 2423 examples [00:01, 2357.55 examples/s]\n",
      "Reading metadata...: 3107it [00:00, 131238.32it/s]es/s]\n",
      "Generating test split: 3107 examples [00:01, 2293.80 examples/s]\n",
      "Reading metadata...: 3738it [00:00, 123533.93it/s]les/s]\n",
      "Generating other split: 3738 examples [00:01, 2326.31 examples/s]\n",
      "Reading metadata...: 765it [00:00, 107940.61it/s]? examples/s]\n",
      "Generating invalidated split: 765 examples [00:00, 2207.70 examples/s]\n"
     ]
    }
   ],
   "source": [
    "from datasets import load_dataset\n",
    "\n",
    "common_voice_train = load_dataset(\n",
    "    \"mozilla-foundation/common_voice_16_0\",\n",
    "    \"hi\",\n",
    "    split=\"train+validation\",\n",
    "    trust_remote_code=True\n",
    ")\n",
    "common_voice_test = load_dataset(\n",
    "    \"mozilla-foundation/common_voice_16_0\",\n",
    "    \"hi\",\n",
    "    split=\"test\",\n",
    "    trust_remote_code=True\n",
    ")\n"
   ]
  },
  {
   "cell_type": "code",
   "execution_count": null,
   "id": "332ae371",
   "metadata": {},
   "outputs": [],
   "source": [
    "# common_voice_train = common_voice_train.remove_columns([\"accent\", \"age\", \"client_id\", \"down_votes\", \"gender\", \"locale\", \"segment\", \"up_votes\" , \"variant\"])\n",
    "# common_voice_test = common_voice_test.remove_columns([\"accent\", \"age\", \"client_id\", \"down_votes\", \"gender\", \"locale\", \"segment\", \"up_votes\" , \"variant\"])"
   ]
  },
  {
   "cell_type": "code",
   "execution_count": null,
   "id": "701397f4",
   "metadata": {},
   "outputs": [],
   "source": [
    "# common_voice_train = common_voice_train.remove_columns([\"variant\"])\n",
    "# common_voice_test = common_voice_test.remove_columns([\"variant\"])"
   ]
  },
  {
   "cell_type": "code",
   "execution_count": 50,
   "id": "e02217df",
   "metadata": {},
   "outputs": [
    {
     "data": {
      "text/plain": [
       "{'path': 'C:\\\\Users\\\\EDWIN\\\\.cache\\\\huggingface\\\\datasets\\\\downloads\\\\extracted\\\\2c6cd998a8800b56f2fb15d7259927dbca1bd0fa2f05133309cf0f10257b5443\\\\hi_train_0/common_voice_hi_26008353.mp3',\n",
       " 'audio': {'path': 'C:\\\\Users\\\\EDWIN\\\\.cache\\\\huggingface\\\\datasets\\\\downloads\\\\extracted\\\\2c6cd998a8800b56f2fb15d7259927dbca1bd0fa2f05133309cf0f10257b5443\\\\hi_train_0/common_voice_hi_26008353.mp3',\n",
       "  'array': array([ 6.46234854e-26, -1.35709319e-25, -8.07793567e-26, ...,\n",
       "          1.06425944e-07,  4.46417090e-08,  2.61451660e-09]),\n",
       "  'sampling_rate': 48000},\n",
       " 'sentence': 'हमने उसका जन्मदिन मनाया।'}"
      ]
     },
     "execution_count": 50,
     "metadata": {},
     "output_type": "execute_result"
    }
   ],
   "source": [
    "common_voice_train[0]"
   ]
  },
  {
   "cell_type": "markdown",
   "id": "a43e4cea",
   "metadata": {},
   "source": [
    "#### Displaying a random subset of the dataset"
   ]
  },
  {
   "cell_type": "code",
   "execution_count": 51,
   "id": "0a71f7c4",
   "metadata": {},
   "outputs": [],
   "source": [
    "from datasets import ClassLabel\n",
    "import random\n",
    "import pandas as pd\n",
    "from IPython.display import display, HTML\n",
    "\n",
    "def show_random_elements(dataset, num_examples=10):\n",
    "    assert num_examples <= len(dataset)\n",
    "    picks = []\n",
    "    for _ in range(num_examples):\n",
    "        pick = random.randint(0, len(dataset)-1)\n",
    "        while pick in picks:\n",
    "            pick = random.randint(0, len(dataset)-1)\n",
    "        picks.append(pick)\n",
    "    \n",
    "    df = pd.DataFrame(dataset[picks])\n",
    "    display(HTML(df.to_html()))"
   ]
  },
  {
   "cell_type": "code",
   "execution_count": 52,
   "id": "5a900916",
   "metadata": {},
   "outputs": [
    {
     "data": {
      "text/html": [
       "<table border=\"1\" class=\"dataframe\">\n",
       "  <thead>\n",
       "    <tr style=\"text-align: right;\">\n",
       "      <th></th>\n",
       "      <th>sentence</th>\n",
       "    </tr>\n",
       "  </thead>\n",
       "  <tbody>\n",
       "    <tr>\n",
       "      <th>0</th>\n",
       "      <td>मुजफ्फरपुर: सोनिया, राहुल के खिलाफ शिकायत दर्ज</td>\n",
       "    </tr>\n",
       "    <tr>\n",
       "      <th>1</th>\n",
       "      <td>तुम राज़ रख सकते हो क्या?</td>\n",
       "    </tr>\n",
       "    <tr>\n",
       "      <th>2</th>\n",
       "      <td>दिग्विजय की सभा में आपस में भिड़े कांग्रेसी</td>\n",
       "    </tr>\n",
       "    <tr>\n",
       "      <th>3</th>\n",
       "      <td>कल रात खूब रही, है ना?</td>\n",
       "    </tr>\n",
       "    <tr>\n",
       "      <th>4</th>\n",
       "      <td>मिलिए असल जिंदगी के 'गौरव' से, जिनकी वजह से शाहरुख ने बनाई 'फैन'</td>\n",
       "    </tr>\n",
       "    <tr>\n",
       "      <th>5</th>\n",
       "      <td>चैपल के कहने पर धोनी क्यों छोड़ें कप्तानी?</td>\n",
       "    </tr>\n",
       "    <tr>\n",
       "      <th>6</th>\n",
       "      <td>यह घड़ी मुझे मेरे चाचा ने दी थी।</td>\n",
       "    </tr>\n",
       "    <tr>\n",
       "      <th>7</th>\n",
       "      <td>वाशिंगटन पहुंचकर बड़ा ऐलान करेंगे डोनाल्ड ट्रंप, लेकिन क्या?</td>\n",
       "    </tr>\n",
       "    <tr>\n",
       "      <th>8</th>\n",
       "      <td>नोटबंदी: पुरानी दिल्ली के गोलचा सिनेमा में लगा ताला</td>\n",
       "    </tr>\n",
       "    <tr>\n",
       "      <th>9</th>\n",
       "      <td>चाय भारत में बहुत उगाई जाती है।</td>\n",
       "    </tr>\n",
       "  </tbody>\n",
       "</table>"
      ],
      "text/plain": [
       "<IPython.core.display.HTML object>"
      ]
     },
     "metadata": {},
     "output_type": "display_data"
    }
   ],
   "source": [
    "show_random_elements(common_voice_train.remove_columns([\"path\", \"audio\"]), num_examples=10)"
   ]
  },
  {
   "cell_type": "markdown",
   "id": "567ca951",
   "metadata": {},
   "source": [
    "### Creating Wav2Vec2CTCTokenizer"
   ]
  },
  {
   "cell_type": "markdown",
   "id": "4dc0da84",
   "metadata": {},
   "source": [
    "#### Cleaning the transcripts\n",
    "- We dont need special characters like ',' , '|' , '?' for training a speech model"
   ]
  },
  {
   "cell_type": "code",
   "execution_count": 53,
   "id": "7ead4186",
   "metadata": {},
   "outputs": [],
   "source": [
    "import re\n",
    "chars = '[\\,\\?\\.\\!\\-\\;\\:\\\"\\“\\%\\‘\\”\\�\\|]'\n",
    "def remove_special_chars(batch):\n",
    "    batch['sentence'] = re.sub(chars , '' , batch['sentence']).lower() + ' '\n",
    "    return batch"
   ]
  },
  {
   "cell_type": "code",
   "execution_count": 54,
   "id": "360427f3",
   "metadata": {},
   "outputs": [
    {
     "name": "stderr",
     "output_type": "stream",
     "text": [
      "Map: 100%|██████████| 7084/7084 [00:00<00:00, 15633.35 examples/s]\n",
      "Map: 100%|██████████| 3107/3107 [00:00<00:00, 16307.79 examples/s]\n"
     ]
    }
   ],
   "source": [
    "common_voice_train = common_voice_train.map(remove_special_chars)\n",
    "common_voice_test = common_voice_test.map(remove_special_chars)"
   ]
  },
  {
   "cell_type": "code",
   "execution_count": 55,
   "id": "1110e89c",
   "metadata": {},
   "outputs": [
    {
     "data": {
      "text/html": [
       "<table border=\"1\" class=\"dataframe\">\n",
       "  <thead>\n",
       "    <tr style=\"text-align: right;\">\n",
       "      <th></th>\n",
       "      <th>sentence</th>\n",
       "    </tr>\n",
       "  </thead>\n",
       "  <tbody>\n",
       "    <tr>\n",
       "      <th>0</th>\n",
       "      <td>कुत्तेबिल्लियों की तरह लड़ रही है भाजपा अय्यर</td>\n",
       "    </tr>\n",
       "    <tr>\n",
       "      <th>1</th>\n",
       "      <td>आतंकवाद के खिलाफ सख्त रुख अपनाने की जरूरत कयानी</td>\n",
       "    </tr>\n",
       "    <tr>\n",
       "      <th>2</th>\n",
       "      <td>मैं बात नहीं कर सकता।</td>\n",
       "    </tr>\n",
       "    <tr>\n",
       "      <th>3</th>\n",
       "      <td>जीएसटी के जाल में फंसेगी एक पर एक मुफ्त’ की पेशकश भी</td>\n",
       "    </tr>\n",
       "    <tr>\n",
       "      <th>4</th>\n",
       "      <td>वह मुझसे तीन साल बड़ी है।</td>\n",
       "    </tr>\n",
       "    <tr>\n",
       "      <th>5</th>\n",
       "      <td>ये महबूबा केंद्र की एनडीए सरकार का शुक्रिया क्यों अदा कर रही हैं</td>\n",
       "    </tr>\n",
       "    <tr>\n",
       "      <th>6</th>\n",
       "      <td>मां की बेटी</td>\n",
       "    </tr>\n",
       "    <tr>\n",
       "      <th>7</th>\n",
       "      <td>मोदी के विकास से नहीं अंदरूनी कलह से हारी कांग्रेस शंकर सिंह वाघेला</td>\n",
       "    </tr>\n",
       "    <tr>\n",
       "      <th>8</th>\n",
       "      <td>बहाना बनाने वाले मर्दों को जरूर देखनी चाहिए जकरबर्ग की ये तस्वीर</td>\n",
       "    </tr>\n",
       "    <tr>\n",
       "      <th>9</th>\n",
       "      <td>वो बड़ी फिल्में जो कभी रिलीज ही नहीं हुईं</td>\n",
       "    </tr>\n",
       "  </tbody>\n",
       "</table>"
      ],
      "text/plain": [
       "<IPython.core.display.HTML object>"
      ]
     },
     "metadata": {},
     "output_type": "display_data"
    }
   ],
   "source": [
    "show_random_elements(common_voice_train.remove_columns(['path' , 'audio']))"
   ]
  },
  {
   "cell_type": "markdown",
   "id": "32590756",
   "metadata": {},
   "source": [
    "#### Vocabulary Creation\n",
    "- extracting all the unique and useful tokens for speech recognition "
   ]
  },
  {
   "cell_type": "code",
   "execution_count": 56,
   "id": "4aa48245",
   "metadata": {},
   "outputs": [],
   "source": [
    "def extract_all_chars(batch):\n",
    "  all_text = \" \".join(batch[\"sentence\"])\n",
    "  vocab = list(set(all_text))\n",
    "  return {\"vocab\": [vocab], \"all_text\": [all_text]}"
   ]
  },
  {
   "cell_type": "code",
   "execution_count": 57,
   "id": "2ce2ce27",
   "metadata": {},
   "outputs": [
    {
     "name": "stderr",
     "output_type": "stream",
     "text": [
      "Map: 100%|██████████| 7084/7084 [00:00<00:00, 222380.26 examples/s]\n",
      "Map: 100%|██████████| 3107/3107 [00:00<00:00, 171967.57 examples/s]\n"
     ]
    }
   ],
   "source": [
    "vocab_train = common_voice_train.map(\n",
    "  extract_all_chars, batched=True, \n",
    "  batch_size=-1, keep_in_memory=True, \n",
    "  remove_columns=common_voice_train.column_names\n",
    ")\n",
    "vocab_test = common_voice_test.map(\n",
    "  extract_all_chars, batched=True, \n",
    "  batch_size=-1, keep_in_memory=True, \n",
    "  remove_columns=common_voice_test.column_names\n",
    ")"
   ]
  },
  {
   "cell_type": "code",
   "execution_count": 61,
   "id": "d1e3a7c5",
   "metadata": {},
   "outputs": [],
   "source": [
    "vocab_list = list(set(vocab_train[\"vocab\"][0]) | set(vocab_test[\"vocab\"][0]))"
   ]
  },
  {
   "cell_type": "code",
   "execution_count": 62,
   "id": "1a8583f9",
   "metadata": {},
   "outputs": [
    {
     "data": {
      "text/plain": [
       "{'m': 0,\n",
       " '।': 1,\n",
       " 'ख़': 2,\n",
       " 'व': 3,\n",
       " 'ए': 4,\n",
       " 'इ': 5,\n",
       " 'ई': 6,\n",
       " 'ओ': 7,\n",
       " 'i': 8,\n",
       " 'r': 9,\n",
       " 'ष': 10,\n",
       " 'औ': 11,\n",
       " 'z': 12,\n",
       " 'ञ': 13,\n",
       " 'ऋ': 14,\n",
       " 'v': 15,\n",
       " 'छ': 16,\n",
       " 'q': 17,\n",
       " 'ि': 18,\n",
       " '’': 19,\n",
       " 'ब': 20,\n",
       " 'ण': 21,\n",
       " \"'\": 22,\n",
       " 'ं': 23,\n",
       " 'उ': 24,\n",
       " 'ु': 25,\n",
       " 'स': 26,\n",
       " 'ज': 27,\n",
       " '–': 28,\n",
       " 'भ': 29,\n",
       " 'च': 30,\n",
       " 'a': 31,\n",
       " ' ': 32,\n",
       " 'c': 33,\n",
       " '़': 34,\n",
       " 'अ': 35,\n",
       " 'झ': 36,\n",
       " 'ॉ': 37,\n",
       " 'd': 38,\n",
       " 'ढ़': 39,\n",
       " '्': 40,\n",
       " 'ग': 41,\n",
       " 'न': 42,\n",
       " 'o': 43,\n",
       " 'ू': 44,\n",
       " 'h': 45,\n",
       " 'f': 46,\n",
       " 'u': 47,\n",
       " 'ऐ': 48,\n",
       " 'क': 49,\n",
       " 'थ': 50,\n",
       " 'ा': 51,\n",
       " 'ड़': 52,\n",
       " 'ढ': 53,\n",
       " 'ौ': 54,\n",
       " 'र': 55,\n",
       " 'ह': 56,\n",
       " 'त': 57,\n",
       " 'w': 58,\n",
       " 't': 59,\n",
       " 'ज़': 60,\n",
       " 'ल': 61,\n",
       " 'म': 62,\n",
       " 'y': 63,\n",
       " 'आ': 64,\n",
       " 'p': 65,\n",
       " 'ै': 66,\n",
       " 'ी': 67,\n",
       " 'ः': 68,\n",
       " 'ऑ': 69,\n",
       " 'l': 70,\n",
       " 'ृ': 71,\n",
       " 'क़': 72,\n",
       " 'य': 73,\n",
       " 'e': 74,\n",
       " 'ँ': 75,\n",
       " 'ठ': 76,\n",
       " 'ट': 77,\n",
       " 'k': 78,\n",
       " 'घ': 79,\n",
       " 'फ': 80,\n",
       " 'ो': 81,\n",
       " 'ॅ': 82,\n",
       " 'ऊ': 83,\n",
       " 'n': 84,\n",
       " 'b': 85,\n",
       " 'j': 86,\n",
       " 'ध': 87,\n",
       " 'ग़': 88,\n",
       " 'द': 89,\n",
       " 'ड': 90,\n",
       " 'प': 91,\n",
       " 'फ़': 92,\n",
       " 'े': 93,\n",
       " 's': 94,\n",
       " 'श': 95,\n",
       " 'g': 96,\n",
       " 'ख': 97,\n",
       " 'x': 98,\n",
       " '&': 99}"
      ]
     },
     "execution_count": 62,
     "metadata": {},
     "output_type": "execute_result"
    }
   ],
   "source": [
    "vocab_dict = {v: k for k, v in enumerate(vocab_list)}\n",
    "vocab_dict"
   ]
  },
  {
   "cell_type": "code",
   "execution_count": null,
   "id": "2ad5d181",
   "metadata": {},
   "outputs": [],
   "source": [
    "# vocab_dict[\"|\"] = vocab_dict[\" \"]\n",
    "# del vocab_dict[\" \"] \n",
    "\n",
    "# vocab_dict[\"[UNK]\"] = len(vocab_dict)\n",
    "# vocab_dict[\"[PAD]\"] = len(vocab_dict)"
   ]
  },
  {
   "cell_type": "code",
   "execution_count": 64,
   "id": "f0942c96",
   "metadata": {},
   "outputs": [
    {
     "name": "stdout",
     "output_type": "stream",
     "text": [
      "Number of tokens: 102\n"
     ]
    }
   ],
   "source": [
    "print(f\"Number of tokens: {len(vocab_dict)}\")"
   ]
  },
  {
   "cell_type": "code",
   "execution_count": 65,
   "id": "35ae2561",
   "metadata": {},
   "outputs": [],
   "source": [
    "# save the vocabulary as a json file\n",
    "\n",
    "import json\n",
    "\n",
    "with open(\"vocab.json\", 'w') as vocab_file:\n",
    "    json.dump(vocab_dict , vocab_file)"
   ]
  },
  {
   "cell_type": "code",
   "execution_count": 66,
   "id": "5f6b871b",
   "metadata": {},
   "outputs": [
    {
     "data": {
      "application/json": {
       "&": 99,
       "'": 22,
       "[PAD]": 101,
       "[UNK]": 100,
       "a": 31,
       "b": 85,
       "c": 33,
       "d": 38,
       "e": 74,
       "f": 46,
       "g": 96,
       "h": 45,
       "i": 8,
       "j": 86,
       "k": 78,
       "l": 70,
       "m": 0,
       "n": 84,
       "o": 43,
       "p": 65,
       "q": 17,
       "r": 9,
       "s": 94,
       "t": 59,
       "u": 47,
       "v": 15,
       "w": 58,
       "x": 98,
       "y": 63,
       "z": 12,
       "|": 32,
       "ँ": 75,
       "ं": 23,
       "ः": 68,
       "अ": 35,
       "आ": 64,
       "इ": 5,
       "ई": 6,
       "उ": 24,
       "ऊ": 83,
       "ऋ": 14,
       "ए": 4,
       "ऐ": 48,
       "ऑ": 69,
       "ओ": 7,
       "औ": 11,
       "क": 49,
       "ख": 97,
       "ग": 41,
       "घ": 79,
       "च": 30,
       "छ": 16,
       "ज": 27,
       "झ": 36,
       "ञ": 13,
       "ट": 77,
       "ठ": 76,
       "ड": 90,
       "ढ": 53,
       "ण": 21,
       "त": 57,
       "थ": 50,
       "द": 89,
       "ध": 87,
       "न": 42,
       "प": 91,
       "फ": 80,
       "ब": 20,
       "भ": 29,
       "म": 62,
       "य": 73,
       "र": 55,
       "ल": 61,
       "व": 3,
       "श": 95,
       "ष": 10,
       "स": 26,
       "ह": 56,
       "़": 34,
       "ा": 51,
       "ि": 18,
       "ी": 67,
       "ु": 25,
       "ू": 44,
       "ृ": 71,
       "ॅ": 82,
       "े": 93,
       "ै": 66,
       "ॉ": 37,
       "ो": 81,
       "ौ": 54,
       "्": 40,
       "क़": 72,
       "ख़": 2,
       "ग़": 88,
       "ज़": 60,
       "ड़": 52,
       "ढ़": 39,
       "फ़": 92,
       "।": 1,
       "–": 28,
       "’": 19
      },
      "text/plain": [
       "<IPython.core.display.JSON object>"
      ]
     },
     "execution_count": 66,
     "metadata": {
      "application/json": {
       "expanded": false,
       "root": "root"
      }
     },
     "output_type": "execute_result"
    }
   ],
   "source": [
    "from IPython.display import JSON\n",
    "import json\n",
    "\n",
    "with open(\"vocab.json\", \"r\", encoding=\"utf-8\") as f:\n",
    "    data = json.load(f)\n",
    "\n",
    "JSON(data) \n"
   ]
  },
  {
   "cell_type": "code",
   "execution_count": 69,
   "id": "183b387f",
   "metadata": {},
   "outputs": [
    {
     "data": {
      "text/plain": [
       "Wav2Vec2CTCTokenizer(name_or_path='./', vocab_size=102, model_max_length=1000000000000000019884624838656, is_fast=False, padding_side='right', truncation_side='right', special_tokens={'bos_token': '<s>', 'eos_token': '</s>', 'unk_token': '[UNK]', 'pad_token': '[PAD]'}, clean_up_tokenization_spaces=False, added_tokens_decoder={\n",
       "\t100: AddedToken(\"[UNK]\", rstrip=True, lstrip=True, single_word=False, normalized=False, special=False),\n",
       "\t101: AddedToken(\"[PAD]\", rstrip=True, lstrip=True, single_word=False, normalized=False, special=False),\n",
       "\t102: AddedToken(\"<s>\", rstrip=False, lstrip=False, single_word=False, normalized=False, special=True),\n",
       "\t103: AddedToken(\"</s>\", rstrip=False, lstrip=False, single_word=False, normalized=False, special=True),\n",
       "}\n",
       ")"
      ]
     },
     "execution_count": 69,
     "metadata": {},
     "output_type": "execute_result"
    }
   ],
   "source": [
    "from transformers import Wav2Vec2CTCTokenizer\n",
    "\n",
    "tokenizer = Wav2Vec2CTCTokenizer.from_pretrained(\"./\", unk_token=\"[UNK]\", pad_token=\"[PAD]\", word_delimiter_token=\"|\")\n",
    "tokenizer"
   ]
  },
  {
   "cell_type": "code",
   "execution_count": 70,
   "id": "57446071",
   "metadata": {},
   "outputs": [
    {
     "data": {
      "text/plain": [
       "CommitInfo(commit_url='https://huggingface.co/Ed-168/Fine-tuned-wav2vec2-BERT-indian-languages/commit/050b9bc9d5ecef7a54383bb6dd299e1c2cbcfcd6', commit_message='Upload tokenizer', commit_description='', oid='050b9bc9d5ecef7a54383bb6dd299e1c2cbcfcd6', pr_url=None, repo_url=RepoUrl('https://huggingface.co/Ed-168/Fine-tuned-wav2vec2-BERT-indian-languages', endpoint='https://huggingface.co', repo_type='model', repo_id='Ed-168/Fine-tuned-wav2vec2-BERT-indian-languages'), pr_revision=None, pr_num=None)"
      ]
     },
     "execution_count": 70,
     "metadata": {},
     "output_type": "execute_result"
    }
   ],
   "source": [
    "tokenizer.push_to_hub(\"Ed-168/Fine-tuned-wav2vec2-BERT-indian-languages\")"
   ]
  },
  {
   "cell_type": "code",
   "execution_count": null,
   "id": "58e5c78c",
   "metadata": {},
   "outputs": [],
   "source": []
  }
 ],
 "metadata": {
  "kernelspec": {
   "display_name": ".venv (3.10.7)",
   "language": "python",
   "name": "python3"
  },
  "language_info": {
   "codemirror_mode": {
    "name": "ipython",
    "version": 3
   },
   "file_extension": ".py",
   "mimetype": "text/x-python",
   "name": "python",
   "nbconvert_exporter": "python",
   "pygments_lexer": "ipython3",
   "version": "3.10.7"
  }
 },
 "nbformat": 4,
 "nbformat_minor": 5
}
